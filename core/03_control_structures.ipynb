{
 "cells": [
  {
   "cell_type": "markdown",
   "id": "14006867",
   "metadata": {},
   "source": [
    "# Управляющие конструкции\n",
    "---\n",
    "\n",
    "# Содержание\n",
    "\n",
    "* [Логические выражения](#Логические-выражения)\n",
    "    * [Операции сравнения](#Операции-сравнения) \n",
    "    \n",
    "* [Инструкции if](#Инструкции-if)\n",
    "\n",
    "* [Инструкции else](#Инструкции-else)\n",
    "\n",
    "* [Инструкции elif](#Инструкции-elif)\n",
    "\n",
    "* [Булева логика](#Булева-логика)\n",
    "    * [Оператор and](#Оператор-and)\n",
    "    * [Оператор or](#Оператор-or)\n",
    "    * [Оператор not](#Оператор-not)\n",
    "    \n",
    "* [Приоритет операторов](#Приоритет-операторов)\n",
    "    * [Использование нескольких условий](#Использование-нескольких-условий)\n",
    "\n",
    "* [Списки](#Списки)\n",
    "    * [Операции со списками](#Операции-со-списками)\n",
    "    * [Функции списков](#Функции-списков)\n",
    "\n",
    "* [Цикл while](#Цикл-while)\n",
    "    * [Оператор break](#Оператор-break)\n",
    "    * [Оператор continue](#Оператор-continue)\n",
    "    \n",
    "* [Цикл for](#Цикл-for)\n",
    "    * [for vs while](#for-vs-while)\n",
    "\n",
    "* [Функция range](#Функция-range)\n",
    "    * [range и цикл for](#range-и-цикл-for)\n",
    "---"
   ]
  },
  {
   "cell_type": "markdown",
   "id": "850f3a7f",
   "metadata": {},
   "source": [
    "## Логические выражения\n",
    "---\n",
    "\n",
    "Еще одним типом данных в Python является логический тип (<b>bool</b>). Логические выражения принимают только два значения: <b>True</b> (истина) и <b>False</b> (ложь).\n",
    "Они используются для сравнения значений с помощью операторов равенства <b>==</b>."
   ]
  },
  {
   "cell_type": "code",
   "execution_count": 1,
   "id": "034f3adf",
   "metadata": {
    "scrolled": true
   },
   "outputs": [
    {
     "name": "stdout",
     "output_type": "stream",
     "text": [
      "True\n"
     ]
    }
   ],
   "source": [
    "boolean = True\n",
    "print(boolean)"
   ]
  },
  {
   "cell_type": "code",
   "execution_count": 2,
   "id": "55729005",
   "metadata": {},
   "outputs": [
    {
     "name": "stdout",
     "output_type": "stream",
     "text": [
      "False\n"
     ]
    }
   ],
   "source": [
    "print(2 == 1)"
   ]
  },
  {
   "cell_type": "code",
   "execution_count": 31,
   "id": "2f7aa5f5",
   "metadata": {},
   "outputs": [
    {
     "name": "stdout",
     "output_type": "stream",
     "text": [
      "True\n"
     ]
    }
   ],
   "source": [
    "print(2.0 == 2) "
   ]
  },
  {
   "cell_type": "markdown",
   "id": "742db1b6",
   "metadata": {},
   "source": [
    ">**int** и **float** могут быть сравнены"
   ]
  },
  {
   "cell_type": "code",
   "execution_count": 6,
   "id": "f632bddd",
   "metadata": {
    "scrolled": true
   },
   "outputs": [
    {
     "name": "stdout",
     "output_type": "stream",
     "text": [
      "<class 'bool'>\n"
     ]
    }
   ],
   "source": [
    "print(type(\"str\" == \"str1_\"))"
   ]
  },
  {
   "cell_type": "markdown",
   "id": "70dc2c1a",
   "metadata": {},
   "source": [
    "> Будьте осторожны, не путайте операции присвоения (один знак равно) и сравнения (два знака равно).\n",
    "\n",
    "---\n",
    "\n",
    "### Операции сравнения\n",
    "---\n",
    "\n",
    "Еще одна операция сравнения (оператор неравенства, <b>!=</b>) возвращает значение True, если сравниваемые аргументы неравные и False, если они равные"
   ]
  },
  {
   "cell_type": "code",
   "execution_count": 7,
   "id": "79887149",
   "metadata": {},
   "outputs": [
    {
     "name": "stdout",
     "output_type": "stream",
     "text": [
      "False\n"
     ]
    }
   ],
   "source": [
    "print(1 != 1)"
   ]
  },
  {
   "cell_type": "code",
   "execution_count": 9,
   "id": "2002e947",
   "metadata": {},
   "outputs": [
    {
     "name": "stdout",
     "output_type": "stream",
     "text": [
      "True\n"
     ]
    }
   ],
   "source": [
    "print(\"Grisha\" != \"ne lox\")"
   ]
  },
  {
   "cell_type": "markdown",
   "id": "3260fe8c",
   "metadata": {},
   "source": [
    "---\n",
    "\n",
    "В Python есть также операции, которые определяют, является ли число (целое или дробное) больше или меньше другого числа. Им соответствуют операторы <b>&lt;</b> и <b>&gt;</b>."
   ]
  },
  {
   "cell_type": "code",
   "execution_count": 10,
   "id": "e64f7ad5",
   "metadata": {},
   "outputs": [
    {
     "name": "stdout",
     "output_type": "stream",
     "text": [
      "True\n"
     ]
    }
   ],
   "source": [
    "print(7 > 5)"
   ]
  },
  {
   "cell_type": "code",
   "execution_count": 11,
   "id": "ee071eb6",
   "metadata": {},
   "outputs": [
    {
     "name": "stdout",
     "output_type": "stream",
     "text": [
      "False\n"
     ]
    }
   ],
   "source": [
    "print(100. < 100)"
   ]
  },
  {
   "cell_type": "markdown",
   "id": "93f7c7a8",
   "metadata": {},
   "source": [
    "---\n",
    "\n",
    "Используются также операции больше или равно и меньше или равно: <b>&gt;=</b> и <b>&lt;=</b>.\n",
    "Они похожи на операторы больше и меньше с той разницей, что они возвращают значение True при сравнении равных чисел."
   ]
  },
  {
   "cell_type": "code",
   "execution_count": 15,
   "id": "6438930d",
   "metadata": {},
   "outputs": [
    {
     "name": "stdout",
     "output_type": "stream",
     "text": [
      "True\n"
     ]
    }
   ],
   "source": [
    "print(47 <= 47)"
   ]
  },
  {
   "cell_type": "code",
   "execution_count": 20,
   "id": "b55144f1",
   "metadata": {},
   "outputs": [
    {
     "name": "stdout",
     "output_type": "stream",
     "text": [
      "True\n"
     ]
    }
   ],
   "source": [
    "print(100.01 >= 100)"
   ]
  },
  {
   "cell_type": "markdown",
   "id": "5fcb974f",
   "metadata": {},
   "source": [
    "Операторы больше и меньше также используются для сравнения строк в лексикографическом порядке (порядок слов основан на алфавитном порядке их букв)."
   ]
  },
  {
   "cell_type": "code",
   "execution_count": 21,
   "id": "aa9648fb",
   "metadata": {},
   "outputs": [
    {
     "name": "stdout",
     "output_type": "stream",
     "text": [
      "True\n"
     ]
    }
   ],
   "source": [
    "print(\"Annie\" > \"Andy\")"
   ]
  },
  {
   "cell_type": "markdown",
   "id": "68775758",
   "metadata": {},
   "source": [
    "> Вначале сравниваются первые два символа строк \"Annie\" и \"Andy\" (\"A\" и \"A\"). Поскольку они ровны, сравниваются следующие два символа. Так как они тоже ровны, сравниваются третья буква каждой строки (\"n\" и \"d\"). Так как \"n\" имеет большее алфавитное значение, чем \"b\", \"Annie\" больше чем \"Andy\"."
   ]
  },
  {
   "cell_type": "markdown",
   "id": "22d13b56",
   "metadata": {},
   "source": [
    "## Инструкции if\n",
    "---\n",
    "\n",
    "Оператор if указывает, что код должен выполняться только при определенном условии.\n",
    "Если выражение истинно (True), то выполняются некоторые инструкции. В противном случае эти инструкции не выполняются.\n",
    "Ветвь if выглядит так:\n",
    "\n",
    "**ветвь if:  \n",
    "&nbsp;&nbsp;&nbsp;&nbsp;инструкции**\n",
    "\n",
    "Для разделения блоков кода в Python используются отступы (пустое место в начале строки). Исходя от логики программы, они могут быть обязательными. Итак, инструкции внутри ветви if оформляется отступами."
   ]
  },
  {
   "cell_type": "code",
   "execution_count": 27,
   "id": "62b7920d",
   "metadata": {},
   "outputs": [
    {
     "name": "stdout",
     "output_type": "stream",
     "text": [
      "47 greater than 46\n",
      "46\n"
     ]
    }
   ],
   "source": [
    "if 46 < 47:\n",
    "    print(\"47 greater than 46\")\n",
    "print(\"46\")"
   ]
  },
  {
   "cell_type": "markdown",
   "id": "ac197ce2",
   "metadata": {},
   "source": [
    ">Выражение позволяет определить, является ли 46 меньше 47. Так как это истинное утверждение, выполняется инструкция с отступом и выводится «47 greater than 46». Затем выполняется инструкция без отступа, которая не является частью инструкции if, и отображается «46»."
   ]
  },
  {
   "cell_type": "markdown",
   "id": "e21d5fac",
   "metadata": {},
   "source": [
    "Для выполнения более сложных сравнений, можно писать вложенные инструкции if.\n",
    "Тогда внутренняя инструкция if будет инструкцией для внешней инструкции. Это один из способов проверки нескольких условий."
   ]
  },
  {
   "cell_type": "code",
   "execution_count": 30,
   "id": "d403c532",
   "metadata": {},
   "outputs": [
    {
     "name": "stdout",
     "output_type": "stream",
     "text": [
      "9\n",
      "9 > 5\n",
      "9 <= 100\n"
     ]
    }
   ],
   "source": [
    "x = int(input())\n",
    "\n",
    "if x > 5:\n",
    "    print(f\"{x} > 5\")\n",
    "    if x <= 100:\n",
    "        print(f\"{x} <= 100\")"
   ]
  },
  {
   "cell_type": "markdown",
   "id": "c86a5b40",
   "metadata": {},
   "source": [
    "## Инструкции else\n",
    "---\n",
    "\n",
    "Инструкция if позволяет проверить условие и исполнить какое-нибудь выражение, если это условие истинно.\n",
    "Инструкция else может быть использовано для исполнения какого-нибудь выражения, если условие ложно.\n",
    "Как и в случае с инструкциями if, строки внутри ветви else должны иметь отступы."
   ]
  },
  {
   "cell_type": "code",
   "execution_count": 32,
   "id": "88099158",
   "metadata": {},
   "outputs": [
    {
     "name": "stdout",
     "output_type": "stream",
     "text": [
      "x is not positive\n"
     ]
    }
   ],
   "source": [
    "x = -1\n",
    "\n",
    "if x > 0:\n",
    "    print(\"x is positive\")\n",
    "else:\n",
    "    print(\"x is not positive\")"
   ]
  },
  {
   "cell_type": "markdown",
   "id": "19a77386",
   "metadata": {},
   "source": [
    "Каждый блок if может иметь только одну инструкцию else.\n",
    "Ветви if и else можно объединять в цепочки, чтобы проверить последовательно несколько условий."
   ]
  },
  {
   "cell_type": "code",
   "execution_count": 38,
   "id": "3921fbcf",
   "metadata": {},
   "outputs": [
    {
     "name": "stdout",
     "output_type": "stream",
     "text": [
      "not 1 2 3\n"
     ]
    }
   ],
   "source": [
    "x = 4\n",
    "\n",
    "if x == 1:\n",
    "    print(\"one\")\n",
    "else:\n",
    "    if x == 2:\n",
    "        print(\"two\")\n",
    "    else:\n",
    "        if x == 3:\n",
    "            print(\"three\")\n",
    "        else:\n",
    "            print(\"not 1 2 3\")"
   ]
  },
  {
   "cell_type": "markdown",
   "id": "ce658300",
   "metadata": {},
   "source": [
    ">Отступ определяет какой инструкции if/else принадлежит данный фрагмент кода."
   ]
  },
  {
   "cell_type": "markdown",
   "id": "a118a690",
   "metadata": {},
   "source": [
    "## Инструкции elif\n",
    "---\n",
    "\n",
    "Множество инструкций if/else делают код длинным и сложно читаемым.\n",
    "В таких случаях используется инструкция elif (кратко от else if), которая также дает возможность осуществлять многочисленные проверки и исполнять их фрагменты кода, а код при этом будет короче.  \n",
    "\n",
    "\n",
    "Пример из предыдущей части с использованием elif:"
   ]
  },
  {
   "cell_type": "code",
   "execution_count": 39,
   "id": "98667340",
   "metadata": {},
   "outputs": [
    {
     "name": "stdout",
     "output_type": "stream",
     "text": [
      "not 1 2 3\n"
     ]
    }
   ],
   "source": [
    "x = 4\n",
    "\n",
    "if x == 1:\n",
    "    print(\"one\")\n",
    "elif x == 2:\n",
    "    print(\"two\")\n",
    "elif x == 3:\n",
    "    print(\"three\")\n",
    "else:\n",
    "    print(\"not 1 2 3\")"
   ]
  },
  {
   "cell_type": "markdown",
   "id": "b4c7168a",
   "metadata": {},
   "source": [
    "Как видите, серия из if и elif условий может иметь финальный блок else, который исполнится, если никакой из условий if или elif не истинно.\n",
    "\n",
    ">Инструкция elif эквивалентна цепочке if/else. Она используется, чтобы сделать код короче, более читаемым и избежать увеличения отступов."
   ]
  },
  {
   "cell_type": "markdown",
   "id": "4dc2a3ea",
   "metadata": {},
   "source": [
    "## Булева логика\n",
    "---\n",
    "\n",
    "Булева логика используется для создания более сложных условий в инструкциях if, которые имеют больше одного условия.\n",
    "В Python используются такие булевы (логические) операторы, как and, or и not.\n",
    "\n",
    "---\n",
    "### Оператор and\n",
    "---\n",
    "\n",
    "Оператор and оценивает два аргумента; значение True возвращается только в том случае, если оба аргумента истинны (True). В противном случае возвращается False."
   ]
  },
  {
   "cell_type": "code",
   "execution_count": 48,
   "id": "72d4c793",
   "metadata": {},
   "outputs": [
    {
     "name": "stdout",
     "output_type": "stream",
     "text": [
      "True\n"
     ]
    }
   ],
   "source": [
    "print(1 == 1 and \"str\" == \"str\")"
   ]
  },
  {
   "cell_type": "code",
   "execution_count": 49,
   "id": "c8357b29",
   "metadata": {},
   "outputs": [
    {
     "name": "stdout",
     "output_type": "stream",
     "text": [
      "False\n"
     ]
    }
   ],
   "source": [
    "print(1 == 1 and 2 == 2 and 3 == 2)"
   ]
  },
  {
   "cell_type": "code",
   "execution_count": 50,
   "id": "d9d90407",
   "metadata": {},
   "outputs": [
    {
     "name": "stdout",
     "output_type": "stream",
     "text": [
      "True\n"
     ]
    }
   ],
   "source": [
    "print(1 == 1 and 2 == 2 and 3 == 3)"
   ]
  },
  {
   "cell_type": "markdown",
   "id": "d45513f2",
   "metadata": {},
   "source": [
    "### Оператор or\n",
    "---\n",
    "\n",
    "Логический оператор or также имеет два аргумента. Значение True возвращается, когда один его аргумент (или оба) истинный, и значение False, когда оба аргумента ложные."
   ]
  },
  {
   "cell_type": "code",
   "execution_count": 54,
   "id": "5e47ac6a",
   "metadata": {},
   "outputs": [
    {
     "name": "stdout",
     "output_type": "stream",
     "text": [
      "True\n"
     ]
    }
   ],
   "source": [
    "print(1 == 2 or 4 == 4)"
   ]
  },
  {
   "cell_type": "code",
   "execution_count": 55,
   "id": "bd38c58a",
   "metadata": {},
   "outputs": [
    {
     "name": "stdout",
     "output_type": "stream",
     "text": [
      "False\n"
     ]
    }
   ],
   "source": [
    "print(\"stR\" == \"str\" or 2 > 3)"
   ]
  },
  {
   "cell_type": "markdown",
   "id": "c352204f",
   "metadata": {},
   "source": [
    ">Операторы **and** и **or** не выполняют правую часть, если ответ известен по левой части. То есть оператор **and** не тронет правую часть, если слева **False**, а оператор **or**, если слева **True**"
   ]
  },
  {
   "cell_type": "markdown",
   "id": "8413b706",
   "metadata": {},
   "source": [
    "---\n",
    "### Оператор not\n",
    "---\n",
    "\n",
    "В отличие от других рассмотренных нами операторов, оператор not может иметь только один аргумент, но может его инвертировать.  \n",
    "В случае not True возвращается значение False, а в случае not False возвращается True."
   ]
  },
  {
   "cell_type": "code",
   "execution_count": 56,
   "id": "bb0ceda0",
   "metadata": {},
   "outputs": [
    {
     "name": "stdout",
     "output_type": "stream",
     "text": [
      "False\n"
     ]
    }
   ],
   "source": [
    "print(not 1 == 1)"
   ]
  },
  {
   "cell_type": "code",
   "execution_count": 57,
   "id": "9e4e0245",
   "metadata": {},
   "outputs": [
    {
     "name": "stdout",
     "output_type": "stream",
     "text": [
      "True\n"
     ]
    }
   ],
   "source": [
    "print(not (1 == 2 and 2 == 2))"
   ]
  },
  {
   "cell_type": "markdown",
   "id": "7ecb3952",
   "metadata": {},
   "source": [
    ">Используя логические операторы, можно составлять цепочку из нескольких условных инструкций в ветви if."
   ]
  },
  {
   "cell_type": "markdown",
   "id": "2319ec52",
   "metadata": {},
   "source": [
    "## Приоритет операторов\n",
    "---\n",
    "\n",
    "Приоритет операторов - очень важное понятие в программировании. Оно аналогично порядку операций в математике (умножение выполняется перед сложением и т.п.), но касается и других операций, таких какие используются в булевой логике.\n",
    "\n",
    "Ниже оператору == присвоен более высокий приоритет, чем оператору or:"
   ]
  },
  {
   "cell_type": "code",
   "execution_count": 58,
   "id": "96c33bab",
   "metadata": {},
   "outputs": [
    {
     "name": "stdout",
     "output_type": "stream",
     "text": [
      "True\n"
     ]
    }
   ],
   "source": [
    "print(False == False or True)"
   ]
  },
  {
   "cell_type": "code",
   "execution_count": 59,
   "id": "ca03b5ea",
   "metadata": {},
   "outputs": [
    {
     "name": "stdout",
     "output_type": "stream",
     "text": [
      "False\n"
     ]
    }
   ],
   "source": [
    "print(False == (False or True))"
   ]
  },
  {
   "cell_type": "markdown",
   "id": "8e10294e",
   "metadata": {},
   "source": [
    "---\n",
    "Операторы в порядке убывания приоритета:\n",
    "\n",
    "![](https://raw.githubusercontent.com/letimofeev/python_course/main/core/images/priorities.png)"
   ]
  },
  {
   "cell_type": "markdown",
   "id": "fa0e43ce",
   "metadata": {},
   "source": [
    "---\n",
    "### Использование нескольких условий\n",
    "---\n",
    "\n",
    "Вы можете логично связать несколько условий в инструкции if, используя булевы операторы.\n",
    "Например, мы можем проверить находится ли оценка между значениями 70 и 100:"
   ]
  },
  {
   "cell_type": "code",
   "execution_count": 63,
   "id": "4f617d22",
   "metadata": {},
   "outputs": [
    {
     "name": "stdout",
     "output_type": "stream",
     "text": [
      "99\n",
      "Da\n"
     ]
    }
   ],
   "source": [
    "grade = int(input())\n",
    "\n",
    "if (grade >= 70 and grade <= 100):\n",
    "    print(\"Da\")\n",
    "else:\n",
    "    print(\"Net\")"
   ]
  },
  {
   "cell_type": "markdown",
   "id": "01f8ed78",
   "metadata": {},
   "source": [
    "---\n",
    "## Списки\n",
    "---\n",
    "\n",
    "**Списки (list)** используются для хранения элементов.\n",
    "Список создается с помощью **квадратных скобок и запятых**, разделяющих элементы."
   ]
  },
  {
   "cell_type": "code",
   "execution_count": 67,
   "id": "b8d81bbf",
   "metadata": {},
   "outputs": [],
   "source": [
    "words = [\"Hello\", \"world\", \"!\"]"
   ]
  },
  {
   "cell_type": "markdown",
   "id": "9d8a81b4",
   "metadata": {},
   "source": [
    "В этом примере список words содержит в себе три элемента типа str.  \n",
    "\n",
    "Элемент списка может быть вызван с помощью его **индекса**, указанного в квадратных скобках."
   ]
  },
  {
   "cell_type": "code",
   "execution_count": 68,
   "id": "ed6dfc4b",
   "metadata": {},
   "outputs": [
    {
     "name": "stdout",
     "output_type": "stream",
     "text": [
      "Hello world !\n"
     ]
    }
   ],
   "source": [
    "words = [\"Hello\", \"world\", \"!\"]\n",
    "\n",
    "print(words[0], words[1], words[2])"
   ]
  },
  {
   "cell_type": "markdown",
   "id": "c3c0c9b0",
   "metadata": {},
   "source": [
    ">Обратите внимание, первый элемент списка имеет индекс 0, а не 1."
   ]
  },
  {
   "cell_type": "markdown",
   "id": "ecaadc41",
   "metadata": {},
   "source": [
    "Иногда нужно создать пустой список, чтобы позднее поместить туда элементы. Например, если вы создаете программу для управления очередью, то в начале очередь будет пустой, а потом в ней появятся люди - элементы списка.\n",
    "\n",
    "Чтобы создать пустой список, используйте пустые квадратные скобки."
   ]
  },
  {
   "cell_type": "code",
   "execution_count": 69,
   "id": "cd0897ee",
   "metadata": {},
   "outputs": [
    {
     "name": "stdout",
     "output_type": "stream",
     "text": [
      "[]\n"
     ]
    }
   ],
   "source": [
    "empty_list = []\n",
    "print(empty_list)"
   ]
  },
  {
   "cell_type": "markdown",
   "id": "8069e8a9",
   "metadata": {},
   "source": [
    "Как правило, список содержит элементы одного типа, но также может содержать элементы различных типов.\n",
    "Список может находиться внутри другого списка."
   ]
  },
  {
   "cell_type": "code",
   "execution_count": 72,
   "id": "f6d7b1f2",
   "metadata": {},
   "outputs": [
    {
     "name": "stdout",
     "output_type": "stream",
     "text": [
      "[1, 'string', ['str2', 'str3', -1]]\n",
      "str3\n"
     ]
    }
   ],
   "source": [
    "my_list = [1, \"string\", [\"str2\", \"str3\", -1]]\n",
    "\n",
    "print(my_list)\n",
    "print(my_list[2][1])"
   ]
  },
  {
   "cell_type": "markdown",
   "id": "47ee96be",
   "metadata": {},
   "source": [
    "Вложеннные листы могут представлять двумерную матрицу:"
   ]
  },
  {
   "cell_type": "code",
   "execution_count": 73,
   "id": "10341519",
   "metadata": {},
   "outputs": [
    {
     "name": "stdout",
     "output_type": "stream",
     "text": [
      "5\n"
     ]
    }
   ],
   "source": [
    "matrix = [\n",
    "    [1, 2, 3],\n",
    "    [4, 5, 6],\n",
    "]\n",
    "\n",
    "print(matrix[1][1])"
   ]
  },
  {
   "cell_type": "markdown",
   "id": "bb09bb2d",
   "metadata": {},
   "source": [
    "---\n",
    "Некоторые типы данных, такие как строки, могут быть проиндексированы, как списки.\n",
    "При индексации строк, каждый символ в строке будет проиндексирован, как отдельный элемент списка."
   ]
  },
  {
   "cell_type": "code",
   "execution_count": 74,
   "id": "2e70f556",
   "metadata": {},
   "outputs": [
    {
     "name": "stdout",
     "output_type": "stream",
     "text": [
      "d\n"
     ]
    }
   ],
   "source": [
    "string = \"abcdef\"\n",
    "\n",
    "print(string[3])"
   ]
  },
  {
   "cell_type": "markdown",
   "id": "b80da346",
   "metadata": {},
   "source": [
    "Попытка вызвать несуществующий элемент списка вызывает ошибку IndexError."
   ]
  },
  {
   "cell_type": "code",
   "execution_count": 75,
   "id": "059f2374",
   "metadata": {},
   "outputs": [
    {
     "ename": "IndexError",
     "evalue": "list index out of range",
     "output_type": "error",
     "traceback": [
      "\u001b[1;31m---------------------------------------------------------------------------\u001b[0m",
      "\u001b[1;31mIndexError\u001b[0m                                Traceback (most recent call last)",
      "\u001b[1;32m<ipython-input-75-4178ce95d50c>\u001b[0m in \u001b[0;36m<module>\u001b[1;34m\u001b[0m\n\u001b[0;32m      1\u001b[0m \u001b[0mmy_list\u001b[0m \u001b[1;33m=\u001b[0m \u001b[1;33m[\u001b[0m\u001b[1;36m0\u001b[0m\u001b[1;33m,\u001b[0m \u001b[1;36m1\u001b[0m\u001b[1;33m]\u001b[0m\u001b[1;33m\u001b[0m\u001b[1;33m\u001b[0m\u001b[0m\n\u001b[0;32m      2\u001b[0m \u001b[1;33m\u001b[0m\u001b[0m\n\u001b[1;32m----> 3\u001b[1;33m \u001b[0mprint\u001b[0m\u001b[1;33m(\u001b[0m\u001b[0mmy_list\u001b[0m\u001b[1;33m[\u001b[0m\u001b[1;36m3\u001b[0m\u001b[1;33m]\u001b[0m\u001b[1;33m)\u001b[0m\u001b[1;33m\u001b[0m\u001b[1;33m\u001b[0m\u001b[0m\n\u001b[0m",
      "\u001b[1;31mIndexError\u001b[0m: list index out of range"
     ]
    }
   ],
   "source": [
    "my_list = [0, 1]\n",
    "\n",
    "print(my_list[3])"
   ]
  },
  {
   "cell_type": "markdown",
   "id": "5fd99689",
   "metadata": {},
   "source": [
    "---\n",
    "### Операции со списками\n",
    "---\n",
    "\n",
    "Элемент любого индекса в списке можно переназначить."
   ]
  },
  {
   "cell_type": "code",
   "execution_count": 77,
   "id": "7eb20ba8",
   "metadata": {
    "scrolled": true
   },
   "outputs": [
    {
     "name": "stdout",
     "output_type": "stream",
     "text": [
      "[1, 2, 3, 4, 5]\n"
     ]
    }
   ],
   "source": [
    "nums = [1, 2, 3, 6, 5]\n",
    "nums[3] = 4\n",
    "\n",
    "print(nums)"
   ]
  },
  {
   "cell_type": "markdown",
   "id": "8ef000a3",
   "metadata": {},
   "source": [
    ">Вы можете переназначить один элемент списка на элемент другого типа."
   ]
  },
  {
   "cell_type": "markdown",
   "id": "a0c0f69e",
   "metadata": {},
   "source": [
    "Как и над строками, над списками можно проводить операции сложения и умножения."
   ]
  },
  {
   "cell_type": "code",
   "execution_count": 78,
   "id": "aecdb5d5",
   "metadata": {},
   "outputs": [
    {
     "name": "stdout",
     "output_type": "stream",
     "text": [
      "[1, 2, 3, 4, 5, 6]\n",
      "[1, 2, 3, 1, 2, 3, 1, 2, 3]\n"
     ]
    }
   ],
   "source": [
    "nums = [1, 2, 3]\n",
    "\n",
    "print(nums + [4, 5, 6])\n",
    "print(nums * 3)"
   ]
  },
  {
   "cell_type": "markdown",
   "id": "6d7c3e3d",
   "metadata": {},
   "source": [
    "Списки и строки во многом похожи: строки можно рассматривать как списки символов, которые не могут быть изменены."
   ]
  },
  {
   "cell_type": "markdown",
   "id": "a047fcab",
   "metadata": {},
   "source": [
    "Когда нужно проверить наличие в списке какого-либо элемента, используется оператор **in**. Ему присваивается значение True, если был найден один символ (или более одного) и False, если ни одного."
   ]
  },
  {
   "cell_type": "code",
   "execution_count": 84,
   "id": "6ad3b569",
   "metadata": {},
   "outputs": [
    {
     "name": "stdout",
     "output_type": "stream",
     "text": [
      "True\n",
      "True\n",
      "False\n"
     ]
    }
   ],
   "source": [
    "my_list = [1, 2, \"mem\", \"kek\", 3]\n",
    "\n",
    "print(1 in my_list)\n",
    "print(\"mem\" in my_list)\n",
    "print(11 in my_list)"
   ]
  },
  {
   "cell_type": "markdown",
   "id": "144caf88",
   "metadata": {},
   "source": [
    ">Оператор in также позволяет определить, является ли строка подстрокой другой строки."
   ]
  },
  {
   "cell_type": "markdown",
   "id": "8269335d",
   "metadata": {},
   "source": [
    "Для проверки того, что элемент не находится в списке, используется оператор not:"
   ]
  },
  {
   "cell_type": "code",
   "execution_count": 85,
   "id": "377a2267",
   "metadata": {},
   "outputs": [
    {
     "name": "stdout",
     "output_type": "stream",
     "text": [
      "True\n"
     ]
    }
   ],
   "source": [
    "my_list = [1, 2, 3]\n",
    "\n",
    "print(4 not in my_list)"
   ]
  },
  {
   "cell_type": "markdown",
   "id": "6bd8b509",
   "metadata": {},
   "source": [
    "---\n",
    "### Функции списков\n",
    "---\n",
    "\n",
    "Еще одна операция со списками - метод **append**. Предназначен для добавления элемента в конец списка."
   ]
  },
  {
   "cell_type": "code",
   "execution_count": 87,
   "id": "7cdb1ed7",
   "metadata": {},
   "outputs": [
    {
     "name": "stdout",
     "output_type": "stream",
     "text": [
      "[4]\n"
     ]
    }
   ],
   "source": [
    "empty_list = []\n",
    "empty_list.append(4)\n",
    "\n",
    "print(empty_list)"
   ]
  },
  {
   "cell_type": "markdown",
   "id": "e001efe5",
   "metadata": {},
   "source": [
    ">Перед append ставится точка, потому что это метод класса из списка. Методы будут рассматриваться немного позже."
   ]
  },
  {
   "cell_type": "markdown",
   "id": "ae13e717",
   "metadata": {},
   "source": [
    "Чтобы подсчитать количество элементов в списке, используйте функцию **len**."
   ]
  },
  {
   "cell_type": "code",
   "execution_count": 89,
   "id": "590cb23b",
   "metadata": {},
   "outputs": [
    {
     "name": "stdout",
     "output_type": "stream",
     "text": [
      "5\n"
     ]
    }
   ],
   "source": [
    "n = [1, 2, 3, 4, 5]\n",
    "\n",
    "print(len(n))"
   ]
  },
  {
   "cell_type": "markdown",
   "id": "fc7c72eb",
   "metadata": {},
   "source": [
    "В отличие от индексов, функция len не начинает считать с 0. Так что, в примере сверху, когда список имеет 5 элементов, len вернет значение 5.\n",
    "\n",
    ">len пишется до списка, на который он вызывается, без точки."
   ]
  },
  {
   "cell_type": "markdown",
   "id": "728d0080",
   "metadata": {},
   "source": [
    "Метод **insert** похож на append с той разницей, что он позволяет вставить новый элемент на любую позицию в списке, а не только в конец"
   ]
  },
  {
   "cell_type": "code",
   "execution_count": 90,
   "id": "000f4260",
   "metadata": {},
   "outputs": [
    {
     "name": "stdout",
     "output_type": "stream",
     "text": [
      "['Grisha', 'ne', 'lox']\n"
     ]
    }
   ],
   "source": [
    "words = [\"Grisha\", \"lox\"]\n",
    "words.insert(1, \"ne\")\n",
    "\n",
    "print(words)"
   ]
  },
  {
   "cell_type": "markdown",
   "id": "e26830e9",
   "metadata": {},
   "source": [
    ">Элементы, которые находятся после вставленного элемента, передвигаются на право."
   ]
  },
  {
   "cell_type": "markdown",
   "id": "6a727856",
   "metadata": {},
   "source": [
    "С помощью метода **index** можно найти первое упоминание элемента в списке и вывести его индекс.\n",
    "Если элемент не найден, выводится ошибка ValueError."
   ]
  },
  {
   "cell_type": "code",
   "execution_count": 91,
   "id": "585f79d5",
   "metadata": {},
   "outputs": [
    {
     "name": "stdout",
     "output_type": "stream",
     "text": [
      "0\n",
      "3\n"
     ]
    },
    {
     "ename": "ValueError",
     "evalue": "4 is not in list",
     "output_type": "error",
     "traceback": [
      "\u001b[1;31m---------------------------------------------------------------------------\u001b[0m",
      "\u001b[1;31mValueError\u001b[0m                                Traceback (most recent call last)",
      "\u001b[1;32m<ipython-input-91-f2a292633d83>\u001b[0m in \u001b[0;36m<module>\u001b[1;34m\u001b[0m\n\u001b[0;32m      3\u001b[0m \u001b[0mprint\u001b[0m\u001b[1;33m(\u001b[0m\u001b[0mmem\u001b[0m\u001b[1;33m.\u001b[0m\u001b[0mindex\u001b[0m\u001b[1;33m(\u001b[0m\u001b[1;36m1\u001b[0m\u001b[1;33m)\u001b[0m\u001b[1;33m)\u001b[0m\u001b[1;33m\u001b[0m\u001b[1;33m\u001b[0m\u001b[0m\n\u001b[0;32m      4\u001b[0m \u001b[0mprint\u001b[0m\u001b[1;33m(\u001b[0m\u001b[0mmem\u001b[0m\u001b[1;33m.\u001b[0m\u001b[0mindex\u001b[0m\u001b[1;33m(\u001b[0m\u001b[1;34m'b'\u001b[0m\u001b[1;33m)\u001b[0m\u001b[1;33m)\u001b[0m\u001b[1;33m\u001b[0m\u001b[1;33m\u001b[0m\u001b[0m\n\u001b[1;32m----> 5\u001b[1;33m \u001b[0mprint\u001b[0m\u001b[1;33m(\u001b[0m\u001b[0mmem\u001b[0m\u001b[1;33m.\u001b[0m\u001b[0mindex\u001b[0m\u001b[1;33m(\u001b[0m\u001b[1;36m4\u001b[0m\u001b[1;33m)\u001b[0m\u001b[1;33m)\u001b[0m\u001b[1;33m\u001b[0m\u001b[1;33m\u001b[0m\u001b[0m\n\u001b[0m",
      "\u001b[1;31mValueError\u001b[0m: 4 is not in list"
     ]
    }
   ],
   "source": [
    "mem = [1, 2, 'a', 'b', 3]\n",
    "\n",
    "print(mem.index(1))\n",
    "print(mem.index('b'))\n",
    "print(mem.index(4))"
   ]
  },
  {
   "cell_type": "markdown",
   "id": "438232c3",
   "metadata": {},
   "source": [
    "---\n",
    "Есть еще несколько полезных функций и методов для работы со списками. \n",
    "\n",
    "**max(list)**: возвращает элемент списка с наибольшим значением  \n",
    "\n",
    "**min(list)**: возвращает элемент списка с наименьшим значением  \n",
    "\n",
    "**list.count(obj)**: возвращает количество упоминаний элемента в списке  \n",
    "\n",
    "**list.remove(obj)**: удаляет объект из списка  \n",
    "\n",
    "**list.reverse()**: располагает элементы в обратном порядке.  \n",
    "\n",
    "---\n",
    "\n",
    ">Подробнее про методы списков https://docs.python.org/3/tutorial/datastructures.html#more-on-lists\n"
   ]
  },
  {
   "cell_type": "markdown",
   "id": "36942448",
   "metadata": {},
   "source": [
    "---\n",
    "\n",
    "## Цикл while\n",
    "---\n",
    "\n",
    "Циклы while используются для повторения фрагмента кода. В качестве примера можно представить программу, которая запрашивает ввод от пользователя, и каждый раз, когда он это делает, программа исполняет один и тот же фрагмент кода.\n",
    "\n",
    "Ниже приведен цикл while с переменной, который запрограммирован посчитать от 1 до 5; после этого цикл останавливается."
   ]
  },
  {
   "cell_type": "code",
   "execution_count": 98,
   "id": "40a00588",
   "metadata": {},
   "outputs": [
    {
     "name": "stdout",
     "output_type": "stream",
     "text": [
      "1\n",
      "2\n",
      "3\n",
      "4\n",
      "5\n",
      "End\n"
     ]
    }
   ],
   "source": [
    "i = 1\n",
    "\n",
    "while i <= 5:    # При каждом повторении значение переменной i возрастает на 1, пока не достигнет значения 5\n",
    "    print(i)     # Таким образом, функция print будет вызвана 5 раз.\n",
    "    i += 1\n",
    "\n",
    "print(\"End\")"
   ]
  },
  {
   "cell_type": "markdown",
   "id": "6abb2f1b",
   "metadata": {},
   "source": [
    ">Код в теле цикла выполняется многократно. Это называется итерацией.\n"
   ]
  },
  {
   "cell_type": "markdown",
   "id": "347858e2",
   "metadata": {},
   "source": [
    "Например вы можете использовать условный оператор if, для принятия решений.\n",
    "\n",
    "Данный код использует операторы if/else внутри цикла while чтобы определить четные и нечетные цифры в промежутке от 1 до 10."
   ]
  },
  {
   "cell_type": "code",
   "execution_count": 99,
   "id": "1cd25e6e",
   "metadata": {},
   "outputs": [
    {
     "name": "stdout",
     "output_type": "stream",
     "text": [
      "1 is odd\n",
      "2 is even\n",
      "3 is odd\n",
      "4 is even\n",
      "5 is odd\n",
      "6 is even\n",
      "7 is odd\n",
      "8 is even\n",
      "9 is odd\n"
     ]
    }
   ],
   "source": [
    "x = 1\n",
    "\n",
    "while x < 10:\n",
    "    if x % 2 == 0:\n",
    "        print(f\"{x} is even\")\n",
    "    else:\n",
    "        print(f\"{x} is odd\")\n",
    "    x += 1"
   ]
  },
  {
   "cell_type": "markdown",
   "id": "18d7a209",
   "metadata": {},
   "source": [
    ">В консоле вы можете остановить выполнение программы с помощью комбинации Ctrl+C или просто закрыть программу."
   ]
  },
  {
   "cell_type": "markdown",
   "id": "48f25efd",
   "metadata": {},
   "source": [
    "### Оператор break\n",
    "---\n",
    "\n",
    "Чтобы прервать цикл while досрочно, используйте инструкцию break.\n",
    "Например, мы можем остановить бесконечный цикл при истинности какого-нибудь выражения."
   ]
  },
  {
   "cell_type": "code",
   "execution_count": 102,
   "id": "62c9ca7d",
   "metadata": {},
   "outputs": [
    {
     "name": "stdout",
     "output_type": "stream",
     "text": [
      "1\n",
      "2\n",
      "3\n",
      "4\n",
      "break\n",
      "end\n"
     ]
    }
   ],
   "source": [
    "i = 1\n",
    "\n",
    "while True:\n",
    "    print(i)\n",
    "    i += 1\n",
    "    if i >= 5:\n",
    "        print(\"break\")\n",
    "        break\n",
    "\n",
    "print(\"end\")"
   ]
  },
  {
   "cell_type": "markdown",
   "id": "0303ccff",
   "metadata": {},
   "source": [
    "while True - легкий способ создать бесконечный цикл.\n",
    "\n",
    "Пример использования оператора break:  \n",
    "Бесконечный цикл while может быть использован для непрерывного получения данных от пользователя. Представим, вы создаете программу-калькулятор, который должен получать цифры от пользователя и складывать их до тех пор, пока пользователь не напишет \"stop\".\n",
    "В данном случае оператор break остановит бесконечный цикл, если ввод от пользователя будет равен \"stop\".\n",
    "\n",
    ">Использование инструкции break вне цикла приводит к ошибке.\n",
    "\n",
    "---"
   ]
  },
  {
   "cell_type": "code",
   "execution_count": 104,
   "id": "e1e0b2ec",
   "metadata": {},
   "outputs": [
    {
     "ename": "SyntaxError",
     "evalue": "'break' outside loop (<ipython-input-104-79600ac0f3a5>, line 2)",
     "output_type": "error",
     "traceback": [
      "\u001b[1;36m  File \u001b[1;32m\"<ipython-input-104-79600ac0f3a5>\"\u001b[1;36m, line \u001b[1;32m2\u001b[0m\n\u001b[1;33m    break\u001b[0m\n\u001b[1;37m    ^\u001b[0m\n\u001b[1;31mSyntaxError\u001b[0m\u001b[1;31m:\u001b[0m 'break' outside loop\n"
     ]
    }
   ],
   "source": [
    "if 1 == 2:\n",
    "    break"
   ]
  },
  {
   "cell_type": "markdown",
   "id": "a3a496b5",
   "metadata": {},
   "source": [
    "---\n",
    "### Оператор continue\n",
    "---\n",
    "\n",
    "В отличие от break, оператор continue не останавливает цикл, а переводит выполнение его обратно на начало. По сути инструкция continue останавливает текущую итерацию и переходит к следующей."
   ]
  },
  {
   "cell_type": "code",
   "execution_count": 105,
   "id": "011a80cc",
   "metadata": {},
   "outputs": [
    {
     "name": "stdout",
     "output_type": "stream",
     "text": [
      "1\n",
      "skip 2\n",
      "2\n",
      "3\n",
      "4\n"
     ]
    }
   ],
   "source": [
    "i = 1\n",
    "\n",
    "while i < 5:\n",
    "    print(i)\n",
    "    i += 1\n",
    "    if i == 2:\n",
    "        print(\"skip 2\")\n",
    "        continue"
   ]
  },
  {
   "cell_type": "markdown",
   "id": "6d7fdf94",
   "metadata": {},
   "source": [
    "Пример использования оператора continue:  \n",
    "Система продажи авиабилетов должна посчитать общую сумму всех проданных авиабилетов. Билеты для детей возрастом меньше 1-го года бесплатны. Программа будет использовать цикл while для итерации по списку пассажиров и суммировать их. В этом случае оператор continue даст возможность не считать билеты детей.\n",
    "\n",
    ">Использование инструкции continue вне цикла приводит к ошибке."
   ]
  },
  {
   "cell_type": "code",
   "execution_count": 106,
   "id": "13ece3f0",
   "metadata": {},
   "outputs": [
    {
     "ename": "SyntaxError",
     "evalue": "'continue' not properly in loop (<ipython-input-106-6ca52a340915>, line 1)",
     "output_type": "error",
     "traceback": [
      "\u001b[1;36m  File \u001b[1;32m\"<ipython-input-106-6ca52a340915>\"\u001b[1;36m, line \u001b[1;32m1\u001b[0m\n\u001b[1;33m    continue\u001b[0m\n\u001b[1;37m    ^\u001b[0m\n\u001b[1;31mSyntaxError\u001b[0m\u001b[1;31m:\u001b[0m 'continue' not properly in loop\n"
     ]
    }
   ],
   "source": [
    "continue"
   ]
  },
  {
   "cell_type": "markdown",
   "id": "ec3362b3",
   "metadata": {},
   "source": [
    "---\n",
    "## Цикл for\n",
    "---\n",
    "\n",
    "Циклы for предназначены для итерации по поочеродностям, таким, как списки и строки.\n",
    "\n",
    "Данный код выводит каждый элемент списка и добавляет к нему восклицательный знак:"
   ]
  },
  {
   "cell_type": "code",
   "execution_count": 107,
   "id": "c89b82ab",
   "metadata": {},
   "outputs": [
    {
     "name": "stdout",
     "output_type": "stream",
     "text": [
      "hello!\n",
      "world!\n",
      "spam!\n",
      "eggs!\n"
     ]
    }
   ],
   "source": [
    "words = [\"hello\", \"world\", \"spam\", \"eggs\"]\n",
    "\n",
    "for word in words:\n",
    "    print(word + \"!\")"
   ]
  },
  {
   "cell_type": "markdown",
   "id": "a120c941",
   "metadata": {},
   "source": [
    ">В коде переменная word представляет из себя соответствующий элемент списка words при каждой итерации. При первой итерации, значение переменной word равно \"hello\", а во второй - \"world\", и так далее."
   ]
  },
  {
   "cell_type": "markdown",
   "id": "f6c2da17",
   "metadata": {},
   "source": [
    "Цикл for может быть использован для итерации по строке:"
   ]
  },
  {
   "cell_type": "code",
   "execution_count": 109,
   "id": "d33964de",
   "metadata": {},
   "outputs": [
    {
     "name": "stdout",
     "output_type": "stream",
     "text": [
      "i\n",
      "i\n",
      "i\n"
     ]
    }
   ],
   "source": [
    "string = \"I am Grigorii\"\n",
    "\n",
    "for symbol in string:\n",
    "    if symbol == 'i':\n",
    "        print(symbol)"
   ]
  },
  {
   "cell_type": "markdown",
   "id": "62169e9a",
   "metadata": {},
   "source": [
    ">Как и в циклах while, операторы break и continue могут быть использованы в циклах for, чтобы остановить цикл или перепрыгнуть на другую итерацию."
   ]
  },
  {
   "cell_type": "markdown",
   "id": "019ea1f7",
   "metadata": {},
   "source": [
    "---\n",
    "### for vs while\n",
    "---\n",
    "\n",
    "Оба оператора for и while могут быть использованы для повторения фрагмента кода.\n",
    "\n",
    "Когда число итераций зафиксировано, более целесообразно использовать цикл for. Например, итерировать по фиксированным элементам в списке покупок.\n",
    "\n",
    "Цикл while, наоборот, нужен, когда число итераций неизвестно, и зависит от каких либо вычислений и условий внутри блока кода этого цикла.\n",
    "Например, завершение программы, когда пользователь вводит указанное слово.\n",
    "\n",
    ">Оба оператора for и while могут решить одну и ту же задачу, но for имеет более короткий и понятный синтаксис, и при прочих равных условиях является лучшим выбором, нежели while."
   ]
  },
  {
   "cell_type": "markdown",
   "id": "819897f1",
   "metadata": {},
   "source": [
    "---\n",
    "## Функция range\n",
    "---\n",
    "\n",
    "Функция range возвращает последовательность чисел.\n",
    "По умолчанию, оно начинается с 0, возрастает на 1 и останавливается **до указанного числа**.\n",
    "\n",
    "Данный код возвращает список из 10 последовательных целых чисел с приращением 1 начиная со значения 0."
   ]
  },
  {
   "cell_type": "code",
   "execution_count": 110,
   "id": "0d437c44",
   "metadata": {},
   "outputs": [
    {
     "name": "stdout",
     "output_type": "stream",
     "text": [
      "[0, 1, 2, 3, 4, 5, 6, 7, 8, 9]\n"
     ]
    }
   ],
   "source": [
    "nums = list(range(10))\n",
    "\n",
    "print(nums)"
   ]
  },
  {
   "cell_type": "code",
   "execution_count": 112,
   "id": "3e934da9",
   "metadata": {},
   "outputs": [
    {
     "data": {
      "text/plain": [
       "range"
      ]
     },
     "execution_count": 112,
     "metadata": {},
     "output_type": "execute_result"
    }
   ],
   "source": [
    "type(range(10))"
   ]
  },
  {
   "cell_type": "markdown",
   "id": "5497761b",
   "metadata": {},
   "source": [
    ">Чтобы вывести range как список, нам надо **явно конвертировать** его в список, используя функцию **list()**."
   ]
  },
  {
   "cell_type": "markdown",
   "id": "04e9bd7a",
   "metadata": {},
   "source": [
    "Если функции range присвоить один аргумент, объект будет иметь диапазон от 0 до указанного аргумента.\n",
    "Если два аргумента, то будет создан объект с диапазоном от первого аргумента до второго."
   ]
  },
  {
   "cell_type": "code",
   "execution_count": 113,
   "id": "6781dd28",
   "metadata": {},
   "outputs": [
    {
     "name": "stdout",
     "output_type": "stream",
     "text": [
      "[3, 4, 5, 6, 7]\n"
     ]
    }
   ],
   "source": [
    "nums = list(range(3, 8))\n",
    "\n",
    "print(nums)"
   ]
  },
  {
   "cell_type": "markdown",
   "id": "de3a71c6",
   "metadata": {},
   "source": [
    ">Запомните, второй аргумент **не входит в поочередность**, так что **range(3,8)** не будет включать в себя число **8**."
   ]
  },
  {
   "cell_type": "markdown",
   "id": "d2f71784",
   "metadata": {},
   "source": [
    "Функции range может присваиваться **третий аргумент**, который задает интервал числовой последовательности. Третий аргумент так же называется **шагом (step)**."
   ]
  },
  {
   "cell_type": "code",
   "execution_count": 114,
   "id": "24bab074",
   "metadata": {},
   "outputs": [
    {
     "name": "stdout",
     "output_type": "stream",
     "text": [
      "[5, 7, 9, 11, 13, 15, 17, 19]\n"
     ]
    }
   ],
   "source": [
    "nums = list(range(5, 20, 2))\n",
    "\n",
    "print(nums)"
   ]
  },
  {
   "cell_type": "markdown",
   "id": "d1986962",
   "metadata": {},
   "source": [
    ">Мы так же можем создать **убывающий** список. Для этого в качестве третьего аргумента надо использовать **отрицательное число**, например list(range(20, 5, -2))."
   ]
  },
  {
   "cell_type": "code",
   "execution_count": 116,
   "id": "eee270e7",
   "metadata": {},
   "outputs": [
    {
     "name": "stdout",
     "output_type": "stream",
     "text": [
      "[20, 18, 16, 14, 12, 10, 8, 6]\n"
     ]
    }
   ],
   "source": [
    "nums = list(range(20, 5, -2))\n",
    "\n",
    "print(nums)"
   ]
  },
  {
   "cell_type": "markdown",
   "id": "7ce18fa7",
   "metadata": {},
   "source": [
    "---\n",
    "### range и цикл for\n",
    "---\n",
    "\n",
    "Цикл for часто используется, когда нужно выполнить какой-то код определенное количество раз. Для этого циклы for и объекты комбинируются."
   ]
  },
  {
   "cell_type": "code",
   "execution_count": 117,
   "id": "07c576be",
   "metadata": {},
   "outputs": [
    {
     "name": "stdout",
     "output_type": "stream",
     "text": [
      "0\n",
      "1\n",
      "2\n",
      "3\n",
      "4\n"
     ]
    }
   ],
   "source": [
    "for i in range(5):\n",
    "    print(i)"
   ]
  },
  {
   "cell_type": "markdown",
   "id": "61002fb2",
   "metadata": {},
   "source": [
    ">**Не нужно** вызывать функцию **list** для объекта **range**, когда он используется в цикле **for**, потому что он не индексируется и список не нужно создавать."
   ]
  }
 ],
 "metadata": {
  "kernelspec": {
   "display_name": "Python 3",
   "language": "python",
   "name": "python3"
  },
  "language_info": {
   "codemirror_mode": {
    "name": "ipython",
    "version": 3
   },
   "file_extension": ".py",
   "mimetype": "text/x-python",
   "name": "python",
   "nbconvert_exporter": "python",
   "pygments_lexer": "ipython3",
   "version": "3.8.8"
  }
 },
 "nbformat": 4,
 "nbformat_minor": 5
}
