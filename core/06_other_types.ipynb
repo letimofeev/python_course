{
 "cells": [
  {
   "cell_type": "markdown",
   "id": "a4b1ab8f",
   "metadata": {},
   "source": [
    "# Другие типы объектов\n",
    "---\n",
    "\n",
    "# Содержание\n",
    "\n",
    "* [Объект None](#Объект-None)\n",
    "\n",
    "* [Словари](#Словари)\n",
    "    * [Функции словарей](#Функции-словарей)\n",
    "    \n",
    "* [Кортежи](#Кортежи)\n",
    "\n",
    "* [Множества](#Множества)\n",
    "    * [frozenset](#frozenset)\n",
    "\n",
    "* [Структура данных](#Структура-данных)\n",
    "\n",
    "* [Срезы](#Срезы)\n",
    "\n",
    "* [Списковое включение](#Списковое-включение)\n",
    "\n",
    "* [Другие полезные функции](#Другие-полезные-функции)\n",
    "    * [Функции обработки строк](#Функции-обработки-строк)\n",
    "    * [Числовые функции](#Числовые-функции)\n",
    "    * [Функции списков](#Функции-списков)\n",
    "\n",
    "---\n"
   ]
  },
  {
   "cell_type": "markdown",
   "id": "743d208c",
   "metadata": {},
   "source": [
    "## Объект None\n",
    "---\n",
    "\n",
    "Объект **None** предназначен для указания отсутствия значений.  \n",
    "В других языках программирования в этих случаях используется **null**.  \n",
    "Как и другие «пустые» значения, например, 0, [] и пустые строки, объект **None** возвращает **False** при преобразовании в логическую переменную.  \n",
    "При выводе на консоль Python он отображается как пустая строка.  "
   ]
  },
  {
   "cell_type": "code",
   "execution_count": 7,
   "id": "97b174a2",
   "metadata": {},
   "outputs": [],
   "source": [
    "None"
   ]
  },
  {
   "cell_type": "code",
   "execution_count": 1,
   "id": "2dafd321",
   "metadata": {
    "scrolled": true
   },
   "outputs": [
    {
     "data": {
      "text/plain": [
       "NoneType"
      ]
     },
     "execution_count": 1,
     "metadata": {},
     "output_type": "execute_result"
    }
   ],
   "source": [
    "type(None)"
   ]
  },
  {
   "cell_type": "code",
   "execution_count": 4,
   "id": "5597878b",
   "metadata": {},
   "outputs": [
    {
     "name": "stdout",
     "output_type": "stream",
     "text": [
      "None\n"
     ]
    }
   ],
   "source": [
    "print(None)"
   ]
  },
  {
   "cell_type": "markdown",
   "id": "d83d865a",
   "metadata": {},
   "source": [
    "---\n",
    "Объект **None** возвращается функцией, которая не запрограммирована что-либо возвращать."
   ]
  },
  {
   "cell_type": "code",
   "execution_count": 5,
   "id": "21a438c3",
   "metadata": {},
   "outputs": [
    {
     "name": "stdout",
     "output_type": "stream",
     "text": [
      "1\n",
      "None\n"
     ]
    }
   ],
   "source": [
    "x = print(1)\n",
    "\n",
    "print(x)"
   ]
  },
  {
   "cell_type": "markdown",
   "id": "ab9da17e",
   "metadata": {},
   "source": [
    "---\n",
    "Есть (формально) два способа проверить, на равенство **None**.\n",
    "\n",
    "Один из способов - с помощью ключевого слова **is**.\n",
    "\n",
    "Второй - с помощью **==**\n",
    "\n",
    ">Никогда не пользуйтесь вторым способом, так как оператор == может быть переопределен для пользовательских типов. Подробнее об этом будет позже."
   ]
  },
  {
   "cell_type": "code",
   "execution_count": 9,
   "id": "dabc6ffb",
   "metadata": {},
   "outputs": [
    {
     "name": "stdout",
     "output_type": "stream",
     "text": [
      "\n",
      "True\n"
     ]
    }
   ],
   "source": [
    "x = print()\n",
    "\n",
    "print(x is None)"
   ]
  },
  {
   "cell_type": "markdown",
   "id": "0a002406",
   "metadata": {},
   "source": [
    "---\n",
    "## Словари\n",
    "---\n",
    "\n",
    "**Словари** являются структурами данных, которые используются для хранения произвольных ключей и заданных им значений.  \n",
    "Списки, к слову, могут рассматриваться как словари с ключами в виде целых чисел в пределах заданного диапазона.  \n",
    "Словари могут быть проиндексированы таким же образом, как списки, используя **квадратные скобки** с ключами внутри них."
   ]
  },
  {
   "cell_type": "code",
   "execution_count": 11,
   "id": "1eb03baa",
   "metadata": {},
   "outputs": [
    {
     "name": "stdout",
     "output_type": "stream",
     "text": [
      "47\n",
      "21\n"
     ]
    }
   ],
   "source": [
    "ages = {\"Petya\": 47, \"Mike\": 21, \"Leonid\": 100}\n",
    "            \n",
    "print(ages[\"Petya\"])\n",
    "print(ages[\"Mike\"])"
   ]
  },
  {
   "cell_type": "code",
   "execution_count": 26,
   "id": "1486a8d8",
   "metadata": {},
   "outputs": [
    {
     "data": {
      "text/plain": [
       "dict"
      ]
     },
     "execution_count": 26,
     "metadata": {},
     "output_type": "execute_result"
    }
   ],
   "source": [
    "type(ages)"
   ]
  },
  {
   "cell_type": "markdown",
   "id": "40126434",
   "metadata": {},
   "source": [
    "---\n",
    "Каждый элемент в словаре выражен в форме **key:value**.\n",
    "\n",
    "---"
   ]
  },
  {
   "cell_type": "markdown",
   "id": "7dbca4d8",
   "metadata": {},
   "source": [
    "Попытка сослаться на ключ, которого нет в словаре, возвращает ошибку **KeyError**."
   ]
  },
  {
   "cell_type": "code",
   "execution_count": 12,
   "id": "4e12311d",
   "metadata": {},
   "outputs": [
    {
     "name": "stdout",
     "output_type": "stream",
     "text": [
      "[255, 0, 0]\n"
     ]
    },
    {
     "ename": "KeyError",
     "evalue": "'white'",
     "output_type": "error",
     "traceback": [
      "\u001b[1;31m---------------------------------------------------------------------------\u001b[0m",
      "\u001b[1;31mKeyError\u001b[0m                                  Traceback (most recent call last)",
      "\u001b[1;32m<ipython-input-12-58ed0490ef2e>\u001b[0m in \u001b[0;36m<module>\u001b[1;34m\u001b[0m\n\u001b[0;32m      6\u001b[0m \u001b[1;33m\u001b[0m\u001b[0m\n\u001b[0;32m      7\u001b[0m \u001b[0mprint\u001b[0m\u001b[1;33m(\u001b[0m\u001b[0mcolors\u001b[0m\u001b[1;33m[\u001b[0m\u001b[1;34m\"red\"\u001b[0m\u001b[1;33m]\u001b[0m\u001b[1;33m)\u001b[0m\u001b[1;33m\u001b[0m\u001b[1;33m\u001b[0m\u001b[0m\n\u001b[1;32m----> 8\u001b[1;33m \u001b[0mprint\u001b[0m\u001b[1;33m(\u001b[0m\u001b[0mcolors\u001b[0m\u001b[1;33m[\u001b[0m\u001b[1;34m\"white\"\u001b[0m\u001b[1;33m]\u001b[0m\u001b[1;33m)\u001b[0m\u001b[1;33m\u001b[0m\u001b[1;33m\u001b[0m\u001b[0m\n\u001b[0m",
      "\u001b[1;31mKeyError\u001b[0m: 'white'"
     ]
    }
   ],
   "source": [
    "colors = {\n",
    "    \"red\": [255, 0, 0],\n",
    "    \"green\": [0, 255, 0],\n",
    "    \"blue\": [0, 0, 255]\n",
    "}\n",
    "\n",
    "print(colors[\"red\"])\n",
    "print(colors[\"white\"])"
   ]
  },
  {
   "cell_type": "markdown",
   "id": "10b35c9a",
   "metadata": {},
   "source": [
    "Как видите, в словаре в качестве значений можно хранить любые типы данных.\n",
    "\n",
    "---"
   ]
  },
  {
   "cell_type": "markdown",
   "id": "b39266a2",
   "metadata": {},
   "source": [
    "Только объекты **immutable** могут быть использованы в качестве ключей словарей. Объекты **immutable** не могут быть изменены. До сих пор единственными изменяемыми объектами в этом курсе, были **списки и словари**. Попытка использовать изменяемый объект в качестве ключа словаря вызывает **TypeError**."
   ]
  },
  {
   "cell_type": "code",
   "execution_count": 13,
   "id": "3c0742b7",
   "metadata": {},
   "outputs": [
    {
     "ename": "TypeError",
     "evalue": "unhashable type: 'list'",
     "output_type": "error",
     "traceback": [
      "\u001b[1;31m---------------------------------------------------------------------------\u001b[0m",
      "\u001b[1;31mTypeError\u001b[0m                                 Traceback (most recent call last)",
      "\u001b[1;32m<ipython-input-13-64ba4125db24>\u001b[0m in \u001b[0;36m<module>\u001b[1;34m\u001b[0m\n\u001b[1;32m----> 1\u001b[1;33m error_dict = {\n\u001b[0m\u001b[0;32m      2\u001b[0m     \u001b[1;33m[\u001b[0m\u001b[1;36m1\u001b[0m\u001b[1;33m]\u001b[0m\u001b[1;33m:\u001b[0m \u001b[1;34m\"one\"\u001b[0m\u001b[1;33m\u001b[0m\u001b[1;33m\u001b[0m\u001b[0m\n\u001b[0;32m      3\u001b[0m }\n",
      "\u001b[1;31mTypeError\u001b[0m: unhashable type: 'list'"
     ]
    }
   ],
   "source": [
    "error_dict = {\n",
    "    [1]: \"one\"\n",
    "}"
   ]
  },
  {
   "cell_type": "markdown",
   "id": "af44aa36",
   "metadata": {},
   "source": [
    "---\n",
    "### Функции словарей\n",
    "---\n",
    "\n",
    "Ключам словаря, как и спискам, можно присваивать разные значения.\n",
    "Однако, в отличие от списков, новым ключам словаря также можно присваивать значения, а не только уже существующим ключам."
   ]
  },
  {
   "cell_type": "code",
   "execution_count": 14,
   "id": "f7c88fc2",
   "metadata": {},
   "outputs": [
    {
     "name": "stdout",
     "output_type": "stream",
     "text": [
      "{1: 1, 2: 4, 3: 9}\n"
     ]
    }
   ],
   "source": [
    "squares = {1: 1, 2: 4, 3: \"nine\"}\n",
    "\n",
    "squares[3] = 9\n",
    "print(squares)"
   ]
  },
  {
   "cell_type": "markdown",
   "id": "8b2c84ce",
   "metadata": {},
   "source": [
    "---\n",
    "Чтобы определить, есть ли ключ в словаре, вы можете использовать **in** и **not in**, подобно тому, как это делается со списками."
   ]
  },
  {
   "cell_type": "code",
   "execution_count": 16,
   "id": "2b23aa68",
   "metadata": {},
   "outputs": [
    {
     "name": "stdout",
     "output_type": "stream",
     "text": [
      "True\n",
      "False\n",
      "False\n"
     ]
    }
   ],
   "source": [
    "nums = {\n",
    "    1: \"one\", \n",
    "    2: \"two\",\n",
    "    3: \"three\",\n",
    "    4: \"four\",\n",
    "}\n",
    "\n",
    "print(1 in nums)\n",
    "print(\"three\" in nums)\n",
    "print(4 not in nums)"
   ]
  },
  {
   "cell_type": "markdown",
   "id": "f4df34a0",
   "metadata": {},
   "source": [
    "---\n",
    "Еще один полезный метод для работы со словарями - метод **get**. Он выполняет ту же функцию, что и индексация, но если ключ не найден в словаре он возвращает другое указанное значение (по умолчанию **None**)."
   ]
  },
  {
   "cell_type": "code",
   "execution_count": 17,
   "id": "bf1882c4",
   "metadata": {},
   "outputs": [
    {
     "name": "stdout",
     "output_type": "stream",
     "text": [
      "two\n",
      "None\n",
      "not in dict\n"
     ]
    }
   ],
   "source": [
    "nums = {\n",
    "    1: \"one\", \n",
    "    2: \"two\",\n",
    "    3: \"three\",\n",
    "    4: \"four\",\n",
    "}\n",
    "\n",
    "print(nums.get(2))\n",
    "print(nums.get(5))\n",
    "print(nums.get(6, \"not in dict\"))"
   ]
  },
  {
   "cell_type": "markdown",
   "id": "c0922b2e",
   "metadata": {},
   "source": [
    "---\n",
    "Другие методы словарей:\n",
    "\n",
    "**dict_name.clear()** - очищает словарь.\n",
    "\n",
    "**dict_name.copy()** - возвращает копию словаря.\n",
    "\n",
    "---\n",
    "classmethod **dict.fromkeys(seq[, value])** - создает словарь с ключами из seq и значением value (по умолчанию **None**).\n",
    ">Этот метод применяет не к конкретному объекту класса, а к самому классу dict. О том, что такое classmethod будет дальше\n",
    "\n",
    "---\n",
    "\n",
    "**dict_name.get(key[, default])** - возвращает значение ключа, но если его нет, не бросает исключение, а возвращает default (по умолчанию None).\n",
    "\n",
    "**dict_name.items()** - возвращает пары (ключ, значение).\n",
    "\n",
    "**dict_name.keys()** - возвращает ключи в словаре.\n",
    "\n",
    "**dict_name.pop(key[, default])** - удаляет ключ и возвращает значение. Если ключа нет, возвращает default (по умолчанию бросает исключение).\n",
    "\n",
    "**dict_name.popitem()** - удаляет и возвращает пару (ключ, значение). Если словарь пуст, бросает исключение **KeyError**. Помните, что словари неупорядочены.\n",
    "\n",
    "**dict_name.setdefault(key[, default])** - возвращает значение ключа, но если его нет, не бросает исключение, а создает ключ со значением default (по умолчанию **None**).\n",
    "\n",
    "**dict_name.update([other])** - обновляет словарь, добавляя пары (ключ, значение) из other. Существующие ключи перезаписываются. Возвращает **None** (не новый словарь!).\n",
    "\n",
    "**dict_name.values()** - возвращает значения в словаре.\n",
    "\n",
    "---\n",
    ">Подробнее про методы словарей: https://docs.python.org/3/library/stdtypes.html#dict"
   ]
  },
  {
   "cell_type": "markdown",
   "id": "0bb7b699",
   "metadata": {},
   "source": [
    "---\n",
    "## Кортежи\n",
    "---\n",
    "\n",
    "**Кортежи** очень похожи на списки, за исключением того, что они являются неизменными (они не могут быть изменены).  \n",
    "Кроме того, они создаются с помощью **круглых скобок**, а не квадратных."
   ]
  },
  {
   "cell_type": "code",
   "execution_count": 20,
   "id": "62715d41",
   "metadata": {},
   "outputs": [],
   "source": [
    "nums = (1, 2, 3, 5, 10)"
   ]
  },
  {
   "cell_type": "code",
   "execution_count": 25,
   "id": "2020623f",
   "metadata": {},
   "outputs": [
    {
     "data": {
      "text/plain": [
       "tuple"
      ]
     },
     "execution_count": 25,
     "metadata": {},
     "output_type": "execute_result"
    }
   ],
   "source": [
    "type(nums)"
   ]
  },
  {
   "cell_type": "markdown",
   "id": "c7a64d35",
   "metadata": {},
   "source": [
    "Значения в кортеже можно получать по их индексам, так как мы это делали со списками:"
   ]
  },
  {
   "cell_type": "code",
   "execution_count": 22,
   "id": "cc15ce7f",
   "metadata": {},
   "outputs": [
    {
     "data": {
      "text/plain": [
       "2"
      ]
     },
     "execution_count": 22,
     "metadata": {},
     "output_type": "execute_result"
    }
   ],
   "source": [
    "nums[1]"
   ]
  },
  {
   "cell_type": "markdown",
   "id": "48c3df82",
   "metadata": {},
   "source": [
    "---\n",
    "Попытка переназначить значение в кортеже возвращает ошибку **TypeError**."
   ]
  },
  {
   "cell_type": "code",
   "execution_count": 23,
   "id": "3aa6eae3",
   "metadata": {},
   "outputs": [
    {
     "ename": "TypeError",
     "evalue": "'tuple' object does not support item assignment",
     "output_type": "error",
     "traceback": [
      "\u001b[1;31m---------------------------------------------------------------------------\u001b[0m",
      "\u001b[1;31mTypeError\u001b[0m                                 Traceback (most recent call last)",
      "\u001b[1;32m<ipython-input-23-93fbc0982b63>\u001b[0m in \u001b[0;36m<module>\u001b[1;34m\u001b[0m\n\u001b[1;32m----> 1\u001b[1;33m \u001b[0mnums\u001b[0m\u001b[1;33m[\u001b[0m\u001b[1;36m3\u001b[0m\u001b[1;33m]\u001b[0m \u001b[1;33m=\u001b[0m \u001b[1;36m1\u001b[0m\u001b[1;33m\u001b[0m\u001b[1;33m\u001b[0m\u001b[0m\n\u001b[0m",
      "\u001b[1;31mTypeError\u001b[0m: 'tuple' object does not support item assignment"
     ]
    }
   ],
   "source": [
    "nums[3] = 1"
   ]
  },
  {
   "cell_type": "markdown",
   "id": "7f58eea6",
   "metadata": {},
   "source": [
    ">Подобно спискам и словарям, кортежи можно вкладывать друг в друга.\n",
    "\n",
    "---"
   ]
  },
  {
   "cell_type": "markdown",
   "id": "8db24e65",
   "metadata": {},
   "source": [
    "Кортежи можно создавать без использования скобок: просто разделяйте значения запятыми."
   ]
  },
  {
   "cell_type": "code",
   "execution_count": 24,
   "id": "50818008",
   "metadata": {},
   "outputs": [
    {
     "name": "stdout",
     "output_type": "stream",
     "text": [
      "(1, 2, 3)\n"
     ]
    }
   ],
   "source": [
    "nums = 1, 2, 3\n",
    "\n",
    "print(nums)"
   ]
  },
  {
   "cell_type": "markdown",
   "id": "dd8d846c",
   "metadata": {},
   "source": [
    ">Кортежи создавать быстрее, чем списки, но их нельзя изменять.\n",
    "\n",
    "---"
   ]
  },
  {
   "cell_type": "markdown",
   "id": "f5722d2c",
   "metadata": {},
   "source": [
    "## Множества \n",
    "---\n",
    "\n",
    "**Множества** - структуры данных, подобные спискам или словарям. Они создаются с помощью **фигурных скобок** или функции **set**. Некоторые их функции аналогичны функциям списков, например, используется **in** для проверки наличия в них какого-либо элемента."
   ]
  },
  {
   "cell_type": "code",
   "execution_count": 24,
   "id": "39c335a6",
   "metadata": {},
   "outputs": [
    {
     "name": "stdout",
     "output_type": "stream",
     "text": [
      "True\n",
      "False\n"
     ]
    }
   ],
   "source": [
    "nums = {1, 2, 3, 4}\n",
    "words = set([\"foo\", \"bar\", \"spam\"])\n",
    "\n",
    "print(3 in nums)\n",
    "print(\"h\" in words)"
   ]
  },
  {
   "cell_type": "markdown",
   "id": "06767ed2",
   "metadata": {},
   "source": [
    ">Чтобы создать пустое множество, используйте set(), так как скобки {} используются для создания пустого словаря.\n",
    "\n",
    "---"
   ]
  },
  {
   "cell_type": "markdown",
   "id": "6173a8ef",
   "metadata": {},
   "source": [
    "Несмотря на отличия со списками, во множествах используется несколько списковых операций. Например, **len**.  \n",
    "Множества являются неупорядоченными, то есть они не могут быть проиндексированы.  \n",
    "**Нельзя, чтобы они содержали дубликаты**.  \n",
    "Так как множества не проиндексированы, проверить их на наличие элемента быстрее, чем проверить список.  \n",
    "Вместо метода **append** для добавления нового элемента во множество используется **add**.  \n",
    "Метод **remove** удаляет определенный элемент из множества; **pop** удаляет произвольный элемент.  "
   ]
  },
  {
   "cell_type": "code",
   "execution_count": 25,
   "id": "fff41e6b",
   "metadata": {},
   "outputs": [
    {
     "name": "stdout",
     "output_type": "stream",
     "text": [
      "{1, 67, 3, 5, 11, 1212}\n"
     ]
    }
   ],
   "source": [
    "nums = {1, 2, 3, 5, 67, 1212}\n",
    "\n",
    "nums.add(11)\n",
    "nums.remove(2)\n",
    "\n",
    "print(nums)"
   ]
  },
  {
   "cell_type": "markdown",
   "id": "4f73e6f9",
   "metadata": {},
   "source": [
    ">В основном множества применяются для проверки на вхождение и устранения дубликатов.\n",
    "\n",
    "---"
   ]
  },
  {
   "cell_type": "markdown",
   "id": "dbcdd3f5",
   "metadata": {},
   "source": [
    "Над множествами можно проводить арифметические операции.  \n",
    "Оператор **объединения (|)** объединяет два множества в одно, содержащее все элементы двух множеств.  \n",
    "Оператор **пересечения &** возвращает только элементы, находящиеся в обоих множествах.  \n",
    "Оператор **разности -** возвращает элементы только с первого множества.  \n",
    "Оператор **симметрической разности ^** возвращает все элементы с обоих множеств, кроме принадлежащих одновременно обоим.  "
   ]
  },
  {
   "cell_type": "code",
   "execution_count": 26,
   "id": "5791a783",
   "metadata": {},
   "outputs": [
    {
     "name": "stdout",
     "output_type": "stream",
     "text": [
      "{1, 2, 3, 4, 5, 6, 7, 8}\n",
      "{4, 5, 6}\n",
      "{1, 2, 3}\n",
      "{8, 7}\n",
      "{1, 2, 3, 7, 8}\n"
     ]
    }
   ],
   "source": [
    "first = {1, 2, 3, 4, 5, 6}\n",
    "second = {4, 5, 6, 7, 8}\n",
    "\n",
    "print(first | second)\n",
    "print(first & second)\n",
    "print(first - second)\n",
    "print(second - first)\n",
    "print(first ^ second)"
   ]
  },
  {
   "cell_type": "markdown",
   "id": "e3d4322e",
   "metadata": {},
   "source": [
    "---\n",
    "### frozenset\n",
    "---\n",
    "\n",
    "Единственное отличие **set** от **frozenset** заключается в том, что **set** - изменяемый тип данных, а **frozenset** - нет. Примерно похожая ситуация с списками и кортежами."
   ]
  },
  {
   "cell_type": "code",
   "execution_count": 27,
   "id": "fe57a8b7",
   "metadata": {},
   "outputs": [
    {
     "ename": "AttributeError",
     "evalue": "'frozenset' object has no attribute 'add'",
     "output_type": "error",
     "traceback": [
      "\u001b[1;31m---------------------------------------------------------------------------\u001b[0m",
      "\u001b[1;31mAttributeError\u001b[0m                            Traceback (most recent call last)",
      "\u001b[1;32m<ipython-input-27-920d673c2af2>\u001b[0m in \u001b[0;36m<module>\u001b[1;34m\u001b[0m\n\u001b[0;32m      1\u001b[0m \u001b[0mmy_set\u001b[0m \u001b[1;33m=\u001b[0m \u001b[0mfrozenset\u001b[0m\u001b[1;33m(\u001b[0m\u001b[1;33m[\u001b[0m\u001b[1;36m1\u001b[0m\u001b[1;33m,\u001b[0m \u001b[1;36m2\u001b[0m\u001b[1;33m,\u001b[0m \u001b[1;36m3\u001b[0m\u001b[1;33m]\u001b[0m\u001b[1;33m)\u001b[0m\u001b[1;33m\u001b[0m\u001b[1;33m\u001b[0m\u001b[0m\n\u001b[0;32m      2\u001b[0m \u001b[1;33m\u001b[0m\u001b[0m\n\u001b[1;32m----> 3\u001b[1;33m \u001b[0mmy_set\u001b[0m\u001b[1;33m.\u001b[0m\u001b[0madd\u001b[0m\u001b[1;33m(\u001b[0m\u001b[1;36m4\u001b[0m\u001b[1;33m)\u001b[0m\u001b[1;33m\u001b[0m\u001b[1;33m\u001b[0m\u001b[0m\n\u001b[0m",
      "\u001b[1;31mAttributeError\u001b[0m: 'frozenset' object has no attribute 'add'"
     ]
    }
   ],
   "source": [
    "my_set = frozenset([1, 2, 3])\n",
    "\n",
    "my_set.add(4)"
   ]
  },
  {
   "cell_type": "markdown",
   "id": "ca54718a",
   "metadata": {},
   "source": [
    "---\n",
    ">Подробнее про методы множеств: https://docs.python.org/3/library/stdtypes.html#set\n",
    "\n",
    "---"
   ]
  },
  {
   "cell_type": "markdown",
   "id": "db3b7a98",
   "metadata": {},
   "source": [
    "## Структура данных\n",
    "---\n",
    "\n",
    "Ранее мы видели, что в Python реализованы следующие структуры данных: списки, словари, кортежи и множества. \n",
    "\n",
    "**Когда использовать словарь:** \n",
    "- когда требуется установить логическую связь пары **ключ:значение**\n",
    "- когда нужно провести быстрый поиск по данным, используя ключ\n",
    "- когда данные нужно часто изменять Помните, что словари изменяемы.\n",
    "\n",
    "**Когда использовать другие типы:** \n",
    "- используйте **списки**, когда у вас есть база данных, к которой не нужен произвольный доступ. Старайтесь создавать списки, когда вам нужна простая, итерируемая и часто модифицируемая коллекция данных.\n",
    "- используйте **множества**, когда вам нужны уникальные элементы\n",
    "- используйте **кортежи**, когда ваши данные не будут изменяться\n",
    "\n",
    "---"
   ]
  },
  {
   "cell_type": "markdown",
   "id": "aaa5d189",
   "metadata": {},
   "source": [
    "## Срезы\n",
    "---\n",
    "\n",
    "**Срезы списка** - более продвинутый способ получения значений из списка. Чтобы сделать простой срез, необходимо индексировать список, используя **два целых числа**, разделенных двоеточиями. Программа вернет новый список, содержащий все значения со старого списка в заданном диапазоне."
   ]
  },
  {
   "cell_type": "code",
   "execution_count": 29,
   "id": "4a1138cf",
   "metadata": {},
   "outputs": [
    {
     "name": "stdout",
     "output_type": "stream",
     "text": [
      "[2, 3]\n",
      "[3, 4, 5, 6, 7, 8, 9]\n",
      "[6, 7]\n",
      "[]\n"
     ]
    }
   ],
   "source": [
    "nums = [0, 1, 2, 3, 4, 5, 6, 7, 8, 9]\n",
    "\n",
    "print(nums[2:4])\n",
    "print(nums[3:11])  # если 2 число больше длины списка, вернется весь список до конца\n",
    "print(nums[6:8])\n",
    "print(nums[7:4])"
   ]
  },
  {
   "cell_type": "markdown",
   "id": "bd627d00",
   "metadata": {},
   "source": [
    ">Подобно аргументам **range**, первый индекс в срезе будет включен в результаты, а второй нет.\n",
    "\n",
    "---"
   ]
  },
  {
   "cell_type": "markdown",
   "id": "8928fb9a",
   "metadata": {},
   "source": [
    "Если первый индекс в срезе опущен, программа выбирает с начала списка.  \n",
    "Если второй в срезе опущен - программа выбирает до конца списка.  "
   ]
  },
  {
   "cell_type": "code",
   "execution_count": 30,
   "id": "6344aa68",
   "metadata": {},
   "outputs": [
    {
     "name": "stdout",
     "output_type": "stream",
     "text": [
      "[0, 1, 2, 3]\n",
      "[4, 5, 6, 7, 8, 9]\n"
     ]
    }
   ],
   "source": [
    "nums = [0, 1, 2, 3, 4, 5, 6, 7, 8, 9]\n",
    "\n",
    "print(nums[:4])\n",
    "print(nums[4:])"
   ]
  },
  {
   "cell_type": "markdown",
   "id": "c1fd0469",
   "metadata": {},
   "source": [
    ">Срезы можно делать и с кортежами\n",
    "\n",
    "---"
   ]
  },
  {
   "cell_type": "markdown",
   "id": "015e3679",
   "metadata": {},
   "source": [
    "Срезы списков могут иметь третий параметр, задающий шаг. Тогда будут возвращаться только определенные значения со списка."
   ]
  },
  {
   "cell_type": "code",
   "execution_count": 31,
   "id": "ec909507",
   "metadata": {},
   "outputs": [
    {
     "name": "stdout",
     "output_type": "stream",
     "text": [
      "[0, 2, 4, 6, 8]\n",
      "[2, 5]\n"
     ]
    }
   ],
   "source": [
    "nums = [0, 1, 2, 3, 4, 5, 6, 7, 8, 9]\n",
    "\n",
    "print(nums[::2])\n",
    "print(nums[2:8:3])  # [2:8:3] вернет элементы со 2-го индекса по 8 с шагом 3."
   ]
  },
  {
   "cell_type": "markdown",
   "id": "0dfe9047",
   "metadata": {},
   "source": [
    "---\n",
    "**Отрицательные значения** также могут использоваться для получения срезов (и обычной индексации списков). Когда используются отрицательные значения для первого и второго параметра среза (или обычного индекса), программа считает с конца списка."
   ]
  },
  {
   "cell_type": "code",
   "execution_count": 38,
   "id": "0997c2fd",
   "metadata": {},
   "outputs": [
    {
     "name": "stdout",
     "output_type": "stream",
     "text": [
      "[9, 7, 5, 3]\n"
     ]
    }
   ],
   "source": [
    "nums = [0, 1, 2, 3, 4, 5, 6, 7, 8, 9]\n",
    "\n",
    "print(nums[-1:2:-2])"
   ]
  },
  {
   "cell_type": "markdown",
   "id": "44a22d22",
   "metadata": {},
   "source": [
    "Если отрицательное значение присвоить шагу, срез делается в обратном направлении.  \n",
    "Распространенный способ обратить список - использовать выражение [::-1].  \n",
    "\n",
    "---"
   ]
  },
  {
   "cell_type": "markdown",
   "id": "eb98f844",
   "metadata": {},
   "source": [
    "## Списковое включение\n",
    "---\n",
    "\n",
    "**Списковое включение** - быстрый способ создания списков, которые подчиняются какому-либо простому условию.\n",
    "Например, мы можем сделать следующее:"
   ]
  },
  {
   "cell_type": "code",
   "execution_count": 39,
   "id": "ab1ac6fb",
   "metadata": {},
   "outputs": [
    {
     "name": "stdout",
     "output_type": "stream",
     "text": [
      "[0, 1, 8, 27, 64]\n"
     ]
    }
   ],
   "source": [
    "cubes = [i**3 for i in range(5)]\n",
    "\n",
    "print(cubes)"
   ]
  },
  {
   "cell_type": "markdown",
   "id": "6c3e1e81",
   "metadata": {},
   "source": [
    ">Метод списковых включений взят из математики, а именно из нотации построения множества.\n",
    "\n",
    "---"
   ]
  },
  {
   "cell_type": "markdown",
   "id": "d04df973",
   "metadata": {},
   "source": [
    "Cписковое включение также может содержать инструкцию **if**, чтобы задать условие для значений в списке."
   ]
  },
  {
   "cell_type": "code",
   "execution_count": 42,
   "id": "35b335de",
   "metadata": {},
   "outputs": [
    {
     "name": "stdout",
     "output_type": "stream",
     "text": [
      "[0, 4, 16, 36, 64]\n"
     ]
    }
   ],
   "source": [
    "evens = [i**2 for i in range(10) if i**2 % 2 == 0]\n",
    "\n",
    "print(evens)"
   ]
  },
  {
   "cell_type": "markdown",
   "id": "9325055e",
   "metadata": {},
   "source": [
    "---\n",
    ">Попытка создать очень обширный список приведет к ошибке **MemoryError**.  \n",
    "Этого можно избежать с помощью генераторов, информация о которых будет в следующем модуле.  \n",
    "\n",
    "---"
   ]
  },
  {
   "cell_type": "markdown",
   "id": "4e7de282",
   "metadata": {},
   "source": [
    "## Другие полезные функции\n",
    "---\n",
    "\n",
    "### Функции обработки строк\n",
    "---\n",
    "\n",
    "В Python есть много полезных встроенных функций и методов выполнения частых задач.\n",
    "\n",
    "**join - объединение последовательности строк с использованием другой строки в качестве разделителя.\n",
    "\n",
    "**replace** - замена одной подстроки на другую.\n",
    "\n",
    "**startswith** и **endswith** - определяют, есть ли подстрока соответственно в начале или в конце строки.\n",
    "\n",
    "Для изменения регистра строки используются методы **lower** (нижний) и **upper** (верхний).\n",
    "\n",
    "Метод **split** - противоположный **join**, делает из строки с определенным разделителем список.\n"
   ]
  },
  {
   "cell_type": "code",
   "execution_count": 9,
   "id": "4c7d732a",
   "metadata": {},
   "outputs": [
    {
     "name": "stdout",
     "output_type": "stream",
     "text": [
      "Hello::my::name::is::James\n"
     ]
    }
   ],
   "source": [
    "print(\"::\".join([\"Hello\", \"my\", \"name\", \"is\", \"James\"]))"
   ]
  },
  {
   "cell_type": "code",
   "execution_count": 10,
   "id": "01b07731",
   "metadata": {},
   "outputs": [
    {
     "name": "stdout",
     "output_type": "stream",
     "text": [
      "bar !!\n"
     ]
    }
   ],
   "source": [
    "print(\"Hello !!\".replace(\"Hello\", \"bar\"))"
   ]
  },
  {
   "cell_type": "code",
   "execution_count": 12,
   "id": "99649a62",
   "metadata": {},
   "outputs": [
    {
     "name": "stdout",
     "output_type": "stream",
     "text": [
      "True\n"
     ]
    }
   ],
   "source": [
    "print(\"abcde and jjj\".startswith(\"abcd\"))"
   ]
  },
  {
   "cell_type": "code",
   "execution_count": 14,
   "id": "b815c86e",
   "metadata": {},
   "outputs": [
    {
     "name": "stdout",
     "output_type": "stream",
     "text": [
      "ghhrff_fdwfd#@wf%x\n"
     ]
    }
   ],
   "source": [
    "print(\"GHHRFf_fdwFD#@Wf%x\".lower())"
   ]
  },
  {
   "cell_type": "code",
   "execution_count": 15,
   "id": "bff8294e",
   "metadata": {},
   "outputs": [
    {
     "name": "stdout",
     "output_type": "stream",
     "text": [
      "['spam', ' eggs', ' foo']\n"
     ]
    }
   ],
   "source": [
    "print(\"spam, eggs, foo\".split(\",\"))"
   ]
  },
  {
   "cell_type": "markdown",
   "id": "f39402dc",
   "metadata": {},
   "source": [
    ">Другие методы строк: https://docs.python.org/3/library/stdtypes.html#string-methods\n",
    "\n",
    "---"
   ]
  },
  {
   "cell_type": "markdown",
   "id": "2842dd66",
   "metadata": {},
   "source": [
    "### Числовые функции\n",
    "---\n",
    "\n",
    "Чтобы найти наименьшее или наибольшее число или элемент списка, используйте функции **max** или **min**.  \n",
    "\n",
    "Чтобы определить расстояние числа от нуля (его абсолютную величину), используйте функцию **abs**.  \n",
    "\n",
    "Чтобы округлить число до определенного количества знаков после запятой, используйте функцию **round**. \n",
    "\n",
    "Чтобы сложить числа в списке, используйте функцию **sum**.  "
   ]
  },
  {
   "cell_type": "code",
   "execution_count": 16,
   "id": "b8e0639b",
   "metadata": {},
   "outputs": [
    {
     "name": "stdout",
     "output_type": "stream",
     "text": [
      "100\n"
     ]
    }
   ],
   "source": [
    "print(max(1, 2, 3, 4, 100, -1))"
   ]
  },
  {
   "cell_type": "code",
   "execution_count": 17,
   "id": "5d5b1193",
   "metadata": {},
   "outputs": [
    {
     "name": "stdout",
     "output_type": "stream",
     "text": [
      "-1\n"
     ]
    }
   ],
   "source": [
    "print(min(1, 2, 3, 4, 100, -1))"
   ]
  },
  {
   "cell_type": "code",
   "execution_count": 18,
   "id": "282caf35",
   "metadata": {},
   "outputs": [
    {
     "name": "stdout",
     "output_type": "stream",
     "text": [
      "199.2\n"
     ]
    }
   ],
   "source": [
    "print(abs(-199.2))"
   ]
  },
  {
   "cell_type": "code",
   "execution_count": 22,
   "id": "67053823",
   "metadata": {},
   "outputs": [
    {
     "name": "stdout",
     "output_type": "stream",
     "text": [
      "109\n"
     ]
    }
   ],
   "source": [
    "print(sum([1, 2, 3, 4, 100, -1]))"
   ]
  },
  {
   "cell_type": "markdown",
   "id": "ddefe832",
   "metadata": {},
   "source": [
    "---\n",
    "### Функции списков\n",
    "---\n",
    "\n",
    "Функции **all** и **any**, часто используемым в условных инструкциях, можно присваивать список в качестве аргумента; значение **True** возвращается, когда любой их аргумент (или соответственно все аргументы) возвращает **True**, в противном случае **False**.  \n",
    "Функция **enumerate** может быть использована для одновременного перебора значений и показателей списка."
   ]
  },
  {
   "cell_type": "code",
   "execution_count": 23,
   "id": "40fb93d3",
   "metadata": {},
   "outputs": [
    {
     "name": "stdout",
     "output_type": "stream",
     "text": [
      "All larger than 5\n",
      "At least one is even\n",
      "(0, 12)\n",
      "(1, 219)\n",
      "(2, 55)\n",
      "(3, 32)\n",
      "(4, 11)\n",
      "(5, 20)\n"
     ]
    }
   ],
   "source": [
    "nums = [12, 219, 55, 32, 11, 20]\n",
    "\n",
    "if all([i > 5 for i in nums]):\n",
    "    print(\"All larger than 5\")\n",
    "    \n",
    "if any([i % 2 == 0 for i in nums]):\n",
    "    print(\"At least one is even\")\n",
    "    \n",
    "for v in enumerate(nums):\n",
    "    print(v)"
   ]
  }
 ],
 "metadata": {
  "kernelspec": {
   "display_name": "Python 3",
   "language": "python",
   "name": "python3"
  },
  "language_info": {
   "codemirror_mode": {
    "name": "ipython",
    "version": 3
   },
   "file_extension": ".py",
   "mimetype": "text/x-python",
   "name": "python",
   "nbconvert_exporter": "python",
   "pygments_lexer": "ipython3",
   "version": "3.8.8"
  }
 },
 "nbformat": 4,
 "nbformat_minor": 5
}
