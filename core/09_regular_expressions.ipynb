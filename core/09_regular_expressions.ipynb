{
 "cells": [
  {
   "cell_type": "markdown",
   "id": "a6b8a463",
   "metadata": {},
   "source": [
    "# Регулярные выражения\n",
    "---\n",
    "\n",
    "# Содержание\n",
    "\n",
    "* [Регулярные выражения](#Регулярные-выражения)\n",
    "\n",
    "* [Простые метасимволы](#Простые-метасимволы)\n",
    "\n",
    "* [Классы метасимволов](#Классы-метасимволов)\n",
    "\n",
    "* [Другие метасимволы](#Другие-метасимволы)\n",
    "\n",
    "* [Группы](#Группы)\n",
    "\n",
    "* [Специальные последовательности](#Специальные-последовательности)\n",
    "\n",
    "---\n"
   ]
  },
  {
   "cell_type": "markdown",
   "id": "6b9dfbce",
   "metadata": {},
   "source": [
    "## Регулярные выражения\n",
    "---\n",
    "\n",
    "**Регулярные выражения** - мощное средство для работы со строками.  \n",
    "Они представляют собой предметно-ориентированный язык (ПОЯ) и доступны как библиотека в большинстве современных языков программирования, включая Python.  \n",
    "Главным образом они используются для выполнения двух задач:  \n",
    "- чтобы проверить, соответствует ли строка определенному набору символов (например, имеет ли строка формат адреса электронной почты)\n",
    "- когда нужно выполнить замену внутри строки (например, исправить правописание слова во всех его упоминаниях).\n",
    "\n",
    "---\n",
    ">Предметно-ориентированные языки - своего рода узкоспециализированные мини-языки программирования.\n",
    "На ряду с регулярными выражениями широко используется язык SQL (для работы с базами данных).\n",
    "Кроме них есть частные предметно-ориентированные языки, которые создаются компаниями под конкретные цели.\n",
    "\n",
    "---"
   ]
  },
  {
   "cell_type": "markdown",
   "id": "7976e04f",
   "metadata": {},
   "source": [
    "Регулярные выражения в Python создаются с использованием модуля **re**, входящего в стандартную библиотеку.  \n",
    "После того как вы определили регулярное выражение, с помощью функции **re.match** можно определить, есть ли совпадение в начале строки.  \n",
    "Если совпадение найдено, **match** возвращает объект совпадения; в противном случае возвращает **None**.  \n",
    "Во избежание путаницы при работе с регулярными выражениями, мы будем использовать «сырые» строки формата **r\"выражение\"**.  \n",
    "Сырье строки ничего не экранируют, поэтому с регулярными выражениями так легче работать.  "
   ]
  },
  {
   "cell_type": "code",
   "execution_count": 1,
   "id": "08839382",
   "metadata": {},
   "outputs": [],
   "source": [
    "import re"
   ]
  },
  {
   "cell_type": "code",
   "execution_count": 3,
   "id": "880f0888",
   "metadata": {},
   "outputs": [
    {
     "name": "stdout",
     "output_type": "stream",
     "text": [
      "match\n"
     ]
    }
   ],
   "source": [
    "pattern = r\"spam\"\n",
    "\n",
    "if re.match(pattern, \"spamspamspam\"):\n",
    "    print(\"match\")\n",
    "else:\n",
    "    print(\"no match\")"
   ]
  },
  {
   "cell_type": "markdown",
   "id": "f6d01c30",
   "metadata": {},
   "source": [
    "В примере выше программа проверяет совпадает ли строка с набором символов «spam» и выводит слово «match», если это так.\n",
    "\n",
    "---\n",
    ">Мы использовали простое слово, но также используются различные символы, которые имеют специальное значение в регулярных выражениях.\n",
    "\n",
    "---"
   ]
  },
  {
   "cell_type": "markdown",
   "id": "a61b826f",
   "metadata": {},
   "source": [
    "Для поиска совпадений используются и другие функции, такие как **re.search** и **re.findall**.  \n",
    "Функция **re.search** используется для поиска набора символов в любом месте строки.  \n",
    "Функция **re.findall** возвращает список всех подстрок, которые совпадают с искомым набором символов.  "
   ]
  },
  {
   "cell_type": "code",
   "execution_count": 4,
   "id": "d9136f1f",
   "metadata": {},
   "outputs": [],
   "source": [
    "import re"
   ]
  },
  {
   "cell_type": "code",
   "execution_count": 6,
   "id": "65b643c6",
   "metadata": {},
   "outputs": [
    {
     "name": "stdout",
     "output_type": "stream",
     "text": [
      "no match\n",
      "match\n",
      "['spam', 'spam']\n"
     ]
    }
   ],
   "source": [
    "pattern = r\"spam\"\n",
    "string = r\"ssmspamd_0k23spmaspam\"\n",
    "\n",
    "if re.match(pattern, string):\n",
    "    print(\"match\")\n",
    "else:\n",
    "    print(\"no match\")\n",
    "    \n",
    "if re.search(pattern, string):\n",
    "    print(\"match\")\n",
    "else:\n",
    "    print(\"no match\")\n",
    "    \n",
    "print(re.findall(pattern, string))"
   ]
  },
  {
   "cell_type": "markdown",
   "id": "7eee3d52",
   "metadata": {},
   "source": [
    "В примере выше функция **match** не нашла совпадений, так как она искала в начале строки.  \n",
    "Функция **search** нашла совпадение в строке.  \n",
    "\n",
    "---\n",
    ">Функция **re.finditer** делает то же самое, что и **re.findall**, за исключением того, что она возвращает итератор, а не список.\n",
    "\n",
    "---"
   ]
  },
  {
   "cell_type": "markdown",
   "id": "9876209a",
   "metadata": {},
   "source": [
    "Поиск с регулярными выражениями возвращает объект с несколькими методами, содержащими информацию об объекте.  \n",
    "Это такие методы, как **group**, возвращающий совпавшую строку, **start** и **end**, возвращающие начальную и конечную позицию первого совпадения, и **span**, возвращающий начальную и конечную позицию первого совпадения в виде кортежа.  "
   ]
  },
  {
   "cell_type": "code",
   "execution_count": 84,
   "id": "5c812008",
   "metadata": {},
   "outputs": [],
   "source": [
    "import re"
   ]
  },
  {
   "cell_type": "code",
   "execution_count": 85,
   "id": "3c3f14ee",
   "metadata": {},
   "outputs": [
    {
     "name": "stdout",
     "output_type": "stream",
     "text": [
      "pam\n",
      "5\n",
      "8\n",
      "(5, 8)\n"
     ]
    }
   ],
   "source": [
    "pattern = r\"pam\"\n",
    "\n",
    "if match := re.search(pattern, \"eggsspamsausage\"):\n",
    "    print(match.group())\n",
    "    print(match.start())\n",
    "    print(match.end())\n",
    "    print(match.span())"
   ]
  },
  {
   "cell_type": "markdown",
   "id": "914cd98e",
   "metadata": {},
   "source": [
    "---\n",
    "Один из наиболее важных методов **re**, используемых в регулярных выражениях, метод **sub**.  \n",
    "\n",
    "**re.sub(pattern, repl, string, count=0)**  \n",
    " \n",
    "Этот метод заменяет все упоминания **набора символов** в строке на **repl**: заменяются все упоминания, если не установлено ограничение **count**. Метод возвращает новую версию строки."
   ]
  },
  {
   "cell_type": "code",
   "execution_count": 11,
   "id": "4ca49781",
   "metadata": {},
   "outputs": [],
   "source": [
    "import re"
   ]
  },
  {
   "cell_type": "code",
   "execution_count": 14,
   "id": "22daf098",
   "metadata": {},
   "outputs": [
    {
     "name": "stdout",
     "output_type": "stream",
     "text": [
      "My name is Slavik. Hi Slavik.\n"
     ]
    }
   ],
   "source": [
    "string = \"My name is Grisha. Hi Grisha.\"\n",
    "pattern = r\"Grisha\"\n",
    "new_string = re.sub(pattern, \"Slavik\", string)\n",
    "\n",
    "print(new_string)"
   ]
  },
  {
   "cell_type": "markdown",
   "id": "96993846",
   "metadata": {},
   "source": [
    "---\n",
    "## Простые метасимволы\n",
    "---\n",
    "\n",
    "Именно благодаря использованию **метасимволов** регулярные выражения эффективней обычных строковых методов.  \n",
    "Они позволяют выражать с помощью регулярных выражений такие сложные условия, как «одно или несколько повторений гласных».  \n",
    "\n",
    "Существование метасимволов несколько усложняет создание регулярных выражений, состоящих из обычных символов, являющихся также метасимволами, например, \\$. В таких случаях метасимволы необходимо экранировать, ставя перед ними обратную косую черту.  \n",
    "Хотя такой способ также может создать проблемы, так как обратные косые черты также имеют функцию экранирования в коде Python.   По этой причине может потребоваться три или четыре бэкслэша в строке.  \n",
    "\n",
    ">Чтобы не делать этого, можно использовать «сырую» строку, то есть обычную строку, начинающуюся с «r», как делалось это выше.\n",
    "\n",
    "---"
   ]
  },
  {
   "cell_type": "markdown",
   "id": "cb370a72",
   "metadata": {},
   "source": [
    "Первый метасимвол, с которым мы познакомимся - **.** (точка).  \n",
    "Точка означает **любой символ**, исключая символ новой строки.  "
   ]
  },
  {
   "cell_type": "code",
   "execution_count": 24,
   "id": "cb3f5187",
   "metadata": {},
   "outputs": [],
   "source": [
    "import re"
   ]
  },
  {
   "cell_type": "code",
   "execution_count": 25,
   "id": "4ecff4e7",
   "metadata": {},
   "outputs": [
    {
     "name": "stdout",
     "output_type": "stream",
     "text": [
      "match 1\n",
      "match 2\n"
     ]
    }
   ],
   "source": [
    "pattern = r\"gr.y\"\n",
    "\n",
    "if re.match(pattern, \"grey\"):\n",
    "    print(\"match 1\")\n",
    "\n",
    "if re.match(pattern, \"gray\"):\n",
    "    print(\"match 2\")\n",
    "\n",
    "if re.match(pattern, \"hfgrey\"):\n",
    "    print(\"match 3\")"
   ]
  },
  {
   "cell_type": "markdown",
   "id": "47bbca21",
   "metadata": {},
   "source": [
    "---\n",
    "Далее рассмотрим метасимволы **^ и $** .      \n",
    "Они указывают соответственно на **начало и конец** строки.  "
   ]
  },
  {
   "cell_type": "code",
   "execution_count": 26,
   "id": "63393b40",
   "metadata": {},
   "outputs": [],
   "source": [
    "import re"
   ]
  },
  {
   "cell_type": "code",
   "execution_count": 27,
   "id": "2ba61208",
   "metadata": {},
   "outputs": [
    {
     "name": "stdout",
     "output_type": "stream",
     "text": [
      "match 1\n",
      "match 2\n"
     ]
    }
   ],
   "source": [
    "pattern = r\"^gr.y$\"\n",
    "\n",
    "if re.match(pattern, \"grey\"):\n",
    "    print(\"match 1\")\n",
    "\n",
    "if re.match(pattern, \"gray\"):\n",
    "    print(\"match 2\")\n",
    "\n",
    "if re.match(pattern, \"stigrey\"):\n",
    "    print(\"match 3\")"
   ]
  },
  {
   "cell_type": "markdown",
   "id": "8254c9e7",
   "metadata": {},
   "source": [
    ">Набор символов «**^gr.y$**» означает, что строка должна начинаться с **gr**, в середине содержать любой символ, за исключением символа новой строки, и заканчиваться на **у**.\n",
    "\n",
    "---"
   ]
  },
  {
   "cell_type": "markdown",
   "id": "abb4df96",
   "metadata": {},
   "source": [
    "## Классы метасимволов\n",
    "---\n",
    "\n",
    "**Классы символов** предназначены для поиска конкретного символа из набора символов.  \n",
    "Класс символов создается путем заключения искомых символов в **квадратные скобки**.  "
   ]
  },
  {
   "cell_type": "code",
   "execution_count": 28,
   "id": "74c92bc9",
   "metadata": {},
   "outputs": [],
   "source": [
    "import re"
   ]
  },
  {
   "cell_type": "code",
   "execution_count": 32,
   "id": "71531005",
   "metadata": {},
   "outputs": [
    {
     "name": "stdout",
     "output_type": "stream",
     "text": [
      "match 1\n",
      "match 2\n",
      "match 3\n"
     ]
    }
   ],
   "source": [
    "pattern = r\"[aeiou]\"\n",
    "\n",
    "if re.search(pattern, \"grey\"):\n",
    "    print(\"match 1\")\n",
    "\n",
    "if re.search(pattern, \"qwertyuiop\"):\n",
    "    print(\"match 2\")\n",
    "\n",
    "if re.search(pattern, \"rhuthm myths\"):\n",
    "    print(\"match 3\")"
   ]
  },
  {
   "cell_type": "markdown",
   "id": "5734447c",
   "metadata": {},
   "source": [
    "При поиске с набором **[aeiou]** будут найдены все строки, содержащие хотя бы один символ с набора."
   ]
  },
  {
   "cell_type": "markdown",
   "id": "972ad418",
   "metadata": {},
   "source": [
    "---\n",
    "Классы символов могут также использоваться для поиска символов в заданном диапазоне.  \n",
    "Вот несколько примеров:  \n",
    "класс **[a-z]** - поиск любой строчной буквы  \n",
    "класс **[G-P]** - поиск любого символа верхнего регистра от G до P  \n",
    "класс **[0-9]** - поиск любой цифры.  \n",
    "Класс может состоять из больше, чем одного диапазона. Например, класс **[A-Za-z]** означает поиск любой буквы алфавита верхнего или нижнего регистра.  "
   ]
  },
  {
   "cell_type": "code",
   "execution_count": 40,
   "id": "b9759777",
   "metadata": {},
   "outputs": [],
   "source": [
    "import re"
   ]
  },
  {
   "cell_type": "code",
   "execution_count": 41,
   "id": "c77f6cfc",
   "metadata": {},
   "outputs": [
    {
     "name": "stdout",
     "output_type": "stream",
     "text": [
      "match 1\n",
      "match 3\n"
     ]
    }
   ],
   "source": [
    "pattern = r\"[A-Z][A-Z][0-9]\"\n",
    "\n",
    "if re.search(pattern, \"LS8\"):\n",
    "    print(\"match 1\")\n",
    "\n",
    "if re.search(pattern, \"E3\"):\n",
    "    print(\"match 2\")\n",
    "\n",
    "if re.search(pattern, \"1abAA3\"):\n",
    "    print(\"match 3\")"
   ]
  },
  {
   "cell_type": "markdown",
   "id": "9c6a62cc",
   "metadata": {},
   "source": [
    ">Набор символов в примере выше совпадет со строками, которые содержат две прописных буквы с последующей цифрой.\n",
    "\n",
    "---"
   ]
  },
  {
   "cell_type": "markdown",
   "id": "a47e4ace",
   "metadata": {},
   "source": [
    "Чтобы **инвертировать класс** символов, нужно поместить **^** в начало определения класса.  \n",
    "Это команда ищет любой символ, кроме символов класса.  \n",
    "Другие метасимволы, такие как **$** и **.** не имеют никакого специального значения в классах символов.  \n",
    "Метасимвол **^** не имеет специального значения, если он не является первым символом класса.  "
   ]
  },
  {
   "cell_type": "code",
   "execution_count": 35,
   "id": "a5d51204",
   "metadata": {},
   "outputs": [],
   "source": [
    "import re"
   ]
  },
  {
   "cell_type": "code",
   "execution_count": 45,
   "id": "61be2e60",
   "metadata": {},
   "outputs": [
    {
     "name": "stdout",
     "output_type": "stream",
     "text": [
      "match 1\n",
      "match 3\n"
     ]
    }
   ],
   "source": [
    "pattern = r\"[^A-Z]\"\n",
    "\n",
    "if re.search(pattern, \"some text\"):\n",
    "    print(\"match 1\")\n",
    "\n",
    "if re.search(pattern, \"ABCQWERTY\"):\n",
    "    print(\"match 2\")\n",
    "\n",
    "if re.search(pattern, \"GGGGG GG\"):\n",
    "    print(\"match 3\")"
   ]
  },
  {
   "cell_type": "markdown",
   "id": "a30a0f76",
   "metadata": {},
   "source": [
    ">Набор символов **[^A-Z]** исключает строки с текстом в верхнем регистре.  \n",
    "Помните, чтобы класс символов был инвертирован, символ ^ должен быть внутри скобок.  \n",
    "\n",
    "---"
   ]
  },
  {
   "cell_type": "markdown",
   "id": "86490125",
   "metadata": {},
   "source": [
    "## Другие метасимволы\n",
    "---\n",
    "\n",
    "Среди других метасимволов: <b>*</b>, **+**, **?**, **{** и **}** .  \n",
    "С их помощью задается число упоминаний.  \n",
    "Метасимвол <b>*</b> означает «ноль или более упоминаний объекта поиска». «Объект поиска» указывается в **скобках**; им может быть один символ, класс или группа символов.  "
   ]
  },
  {
   "cell_type": "code",
   "execution_count": 46,
   "id": "dfa89210",
   "metadata": {},
   "outputs": [],
   "source": [
    "import re"
   ]
  },
  {
   "cell_type": "code",
   "execution_count": 47,
   "id": "2fef30b5",
   "metadata": {},
   "outputs": [
    {
     "name": "stdout",
     "output_type": "stream",
     "text": [
      "match 1\n",
      "match 2\n"
     ]
    }
   ],
   "source": [
    "pattern = r\"egg(spam)*\"\n",
    "\n",
    "if re.match(pattern, \"egg\"):\n",
    "    print(\"match 1\")\n",
    "\n",
    "if re.match(pattern, \"eggspamspamegg\"):\n",
    "    print(\"match 2\")\n",
    "\n",
    "if re.match(pattern, \"spam\"):\n",
    "    print(\"match 3\")"
   ]
  },
  {
   "cell_type": "markdown",
   "id": "f340dc91",
   "metadata": {},
   "source": [
    ">В примере выше будут найдены строки, начинающиеся с комбинации «egg», за которой следует (или нет) неограниченное число упоминаний «spam».\n",
    "\n",
    "---"
   ]
  },
  {
   "cell_type": "markdown",
   "id": "64cd1f1a",
   "metadata": {},
   "source": [
    "Метасимвол + очень похож на * с тем отличием, что он означает «одно (или более) упоминание», в отличие от «ноль или более упоминаний»."
   ]
  },
  {
   "cell_type": "code",
   "execution_count": 48,
   "id": "ff59c232",
   "metadata": {},
   "outputs": [],
   "source": [
    "import re"
   ]
  },
  {
   "cell_type": "code",
   "execution_count": 69,
   "id": "716bf710",
   "metadata": {},
   "outputs": [
    {
     "name": "stdout",
     "output_type": "stream",
     "text": [
      "match 2\n"
     ]
    }
   ],
   "source": [
    "pattern = r\"egg(spam)+\"\n",
    "\n",
    "if re.match(pattern, \"egg\"):\n",
    "    print(\"match 1\")\n",
    "\n",
    "if re.match(pattern, \"eggspamspamegg\"):\n",
    "    print(\"match 2\")\n",
    "\n",
    "if re.match(pattern, \"spam\"):\n",
    "    print(\"match 3\")"
   ]
  },
  {
   "cell_type": "markdown",
   "id": "5012b896",
   "metadata": {},
   "source": [
    ">\\* означает ноль или более упоминаний предшествующего выражения  \n",
    "\\+ означает одно (или более) упоминание предшествующего выражения  \n",
    "\n",
    "---"
   ]
  },
  {
   "cell_type": "markdown",
   "id": "2e5a5ed5",
   "metadata": {},
   "source": [
    "Метасимвол **?** означает «ноль повторений или одно повторение»."
   ]
  },
  {
   "cell_type": "code",
   "execution_count": 70,
   "id": "5bf4ccc2",
   "metadata": {},
   "outputs": [],
   "source": [
    "import re"
   ]
  },
  {
   "cell_type": "code",
   "execution_count": 76,
   "id": "822cf12b",
   "metadata": {},
   "outputs": [
    {
     "name": "stdout",
     "output_type": "stream",
     "text": [
      "match 1\n",
      "match 2\n"
     ]
    }
   ],
   "source": [
    "pattern = r\"ice(-)?cream\"\n",
    "\n",
    "if re.match(pattern, \"ice-cream\"):\n",
    "    print(\"match 1\")\n",
    "\n",
    "if re.match(pattern, \"icecream\"):\n",
    "    print(\"match 2\")\n",
    "\n",
    "if re.match(pattern, \"ice--ice\"):\n",
    "    print(\"match 3\")"
   ]
  },
  {
   "cell_type": "markdown",
   "id": "8f4a3b5d",
   "metadata": {},
   "source": [
    "---\n",
    "**Фигурные скобки** можно использовать для поиска числа упоминаний между двумя числами.  \n",
    "Выражение **{х, у}** означает «упоминания объекта поиска между х и у».  \n",
    "Следовательно, **{0,1}** - то же самое, что **?** .  \n",
    "Если первое число отсутствует, программа считает, что это число ноль. Если второе число отсутствует, программа будет искать до бесконечности.  "
   ]
  },
  {
   "cell_type": "code",
   "execution_count": 77,
   "id": "1a09200e",
   "metadata": {},
   "outputs": [],
   "source": [
    "import re"
   ]
  },
  {
   "cell_type": "code",
   "execution_count": 80,
   "id": "09207d93",
   "metadata": {},
   "outputs": [
    {
     "name": "stdout",
     "output_type": "stream",
     "text": [
      "match 1\n",
      "match 2\n"
     ]
    }
   ],
   "source": [
    "pattern = r\"9{1,3}$\"\n",
    "\n",
    "if re.match(pattern, \"9\"):\n",
    "    print(\"match 1\")\n",
    "\n",
    "if re.match(pattern, \"999\"):\n",
    "    print(\"match 2\")\n",
    "\n",
    "if re.match(pattern, \"9999\"):\n",
    "    print(\"match 3\")"
   ]
  },
  {
   "cell_type": "markdown",
   "id": "95fbec14",
   "metadata": {},
   "source": [
    ">**\"9{1,3}$\"** соответствует строка с 1-3 девяток.\n",
    "\n",
    "---"
   ]
  },
  {
   "cell_type": "markdown",
   "id": "26e8aa35",
   "metadata": {},
   "source": [
    "## Группы\n",
    "---\n",
    "\n",
    "Группа создается путем заключения части регулярного выражения в **круглые скобки** .  \n",
    "Это означает, что группа может быть задана в качестве аргумента метасимволам, таким как * и ?.  "
   ]
  },
  {
   "cell_type": "code",
   "execution_count": 81,
   "id": "133fc169",
   "metadata": {},
   "outputs": [],
   "source": [
    "import re"
   ]
  },
  {
   "cell_type": "code",
   "execution_count": 82,
   "id": "e7f236e4",
   "metadata": {},
   "outputs": [
    {
     "name": "stdout",
     "output_type": "stream",
     "text": [
      "match 1\n",
      "match 2\n"
     ]
    }
   ],
   "source": [
    "pattern = r\"egg(spam)*\"\n",
    "\n",
    "if re.match(pattern, \"egg\"):\n",
    "    print(\"match 1\")\n",
    "\n",
    "if re.match(pattern, \"eggspamspamegg\"):\n",
    "    print(\"match 2\")\n",
    "\n",
    "if re.match(pattern, \"spam\"):\n",
    "    print(\"match 3\")"
   ]
  },
  {
   "cell_type": "markdown",
   "id": "3c000845",
   "metadata": {},
   "source": [
    ">**(spam)** представляет собой группу внутри набора символов в примере вверху.\n",
    "\n",
    "---"
   ]
  },
  {
   "cell_type": "markdown",
   "id": "23b3e98d",
   "metadata": {},
   "source": [
    "Содержание групп можно получить с помощью функции **group** .   \n",
    "Вызов метода **group(0)** или **group()** возвращает все найденные совпадения.  \n",
    "Вызов метода **group(n)**, где **n** больше 0, возвращает n-ю группу, считая слева.   \n",
    "Метод **groups()** возвращает все группы, начиная с первой.  "
   ]
  },
  {
   "cell_type": "code",
   "execution_count": 83,
   "id": "6d1d5b58",
   "metadata": {},
   "outputs": [],
   "source": [
    "import re"
   ]
  },
  {
   "cell_type": "code",
   "execution_count": 99,
   "id": "2ffef070",
   "metadata": {},
   "outputs": [
    {
     "name": "stdout",
     "output_type": "stream",
     "text": [
      "abcdefghi\n",
      "abcdefghi\n",
      "bc\n",
      "de\n",
      "('bc', 'de', 'fgh', 'g')\n"
     ]
    }
   ],
   "source": [
    "pattern = r\"a(bc)(de)(f(g)h)i\"\n",
    "string = \"abcdefghijklmnop\"\n",
    "\n",
    "if match := re.match(pattern, string):\n",
    "    print(match.group())\n",
    "    print(match.group(0))\n",
    "    print(match.group(1))\n",
    "    print(match.group(2))\n",
    "    print(match.groups())"
   ]
  },
  {
   "cell_type": "markdown",
   "id": "1923dafe",
   "metadata": {},
   "source": [
    ">Как вы видите в примере выше, группы могут быть вложенными.\n",
    "\n",
    "---"
   ]
  },
  {
   "cell_type": "markdown",
   "id": "ac175488",
   "metadata": {},
   "source": [
    "Есть несколько типов специальных групп.  \n",
    "Два наиболее важных: именованные группы и «незахватывающие» группы.  \n",
    "Формат **именованных групп**: (**?P<name\\>**...), где **name** - имя группы, а ... - содержание группы. У них точно такая же функциональность, как и у обычных групп, но их можно получить не только по номеру, но и с помощью метода **group(name)**.  \n",
    "Формат «незахватывающих» групп: (**?:**...). Их нельзя получить по методу группы, поэтому их можно добавлять в регулярное выражение, не нарушая нумерацию.  "
   ]
  },
  {
   "cell_type": "code",
   "execution_count": 100,
   "id": "963e6c78",
   "metadata": {},
   "outputs": [],
   "source": [
    "import re"
   ]
  },
  {
   "cell_type": "code",
   "execution_count": 102,
   "id": "74fa4b7e",
   "metadata": {},
   "outputs": [
    {
     "name": "stdout",
     "output_type": "stream",
     "text": [
      "abc\n",
      "('abc', 'ghi')\n"
     ]
    }
   ],
   "source": [
    "pattern = r\"(?P<first>abc)(?:def)(ghi)\"\n",
    "string = \"abcdefghijklmnop\"\n",
    "\n",
    "if match := re.match(pattern, string):\n",
    "    print(match.group(\"first\"))\n",
    "    print(match.groups())"
   ]
  },
  {
   "cell_type": "markdown",
   "id": "9200adc1",
   "metadata": {},
   "source": [
    "---\n",
    "Другой важный метасимвол: |.  \n",
    "Он имеет значение «или».  "
   ]
  },
  {
   "cell_type": "code",
   "execution_count": 103,
   "id": "6e67b01d",
   "metadata": {},
   "outputs": [],
   "source": [
    "import re"
   ]
  },
  {
   "cell_type": "code",
   "execution_count": 104,
   "id": "89178d1e",
   "metadata": {},
   "outputs": [
    {
     "name": "stdout",
     "output_type": "stream",
     "text": [
      "match 1\n",
      "match 2\n"
     ]
    }
   ],
   "source": [
    "pattern = r\"gr(a|e)y\"\n",
    "\n",
    "if re.match(pattern, \"grey\"):\n",
    "    print(\"match 1\")\n",
    "\n",
    "if re.match(pattern, \"gray\"):\n",
    "    print(\"match 2\")\n",
    "\n",
    "if re.match(pattern, \"griy\"):\n",
    "    print(\"match 3\")"
   ]
  },
  {
   "cell_type": "markdown",
   "id": "c265e831",
   "metadata": {},
   "source": [
    "---\n",
    "## Специальные последовательности\n",
    "---\n",
    "\n",
    "В регулярных выражениях также используются различные **специальные последовательности**. Их синтаксис записывается как бэкслэш, за которым следует другой символ.  \n",
    "Одна такая специальная последовательность: бэкслэш и число между от 1 до 99, например, \\1 или \\17. Такая последовательность соответствует выражению группы с таким же числом.  "
   ]
  },
  {
   "cell_type": "code",
   "execution_count": 105,
   "id": "d54319f8",
   "metadata": {},
   "outputs": [],
   "source": [
    "import re"
   ]
  },
  {
   "cell_type": "code",
   "execution_count": 123,
   "id": "0aedb542",
   "metadata": {},
   "outputs": [
    {
     "name": "stdout",
     "output_type": "stream",
     "text": [
      "match 1\n",
      "match 2\n"
     ]
    }
   ],
   "source": [
    "pattern = r\"(.+) \\1\"\n",
    "\n",
    "if re.match(pattern, \"word word\"):\n",
    "    print(\"match 1\")\n",
    "\n",
    "if re.match(pattern, \"?! ?!\"):\n",
    "    print(\"match 2\")\n",
    "\n",
    "if re.match(pattern, \"abc cde\"):\n",
    "    print(\"match 3\")"
   ]
  },
  {
   "cell_type": "markdown",
   "id": "a3eba1ec",
   "metadata": {},
   "source": [
    ">Обратите внимание, что (.+) \\1 - не то же самое, что (.+) (.+), потому что \\1 относится к подвыражению первой группы, которое само по себе является совпавшим выражением, а не набором символов регулярного выражения. То есть \\1 означается повторение того, что было найдено в группе 1"
   ]
  },
  {
   "cell_type": "code",
   "execution_count": 121,
   "id": "5c6bd0e4",
   "metadata": {},
   "outputs": [
    {
     "name": "stdout",
     "output_type": "stream",
     "text": [
      "match 1\n",
      "match 2\n"
     ]
    }
   ],
   "source": [
    "pattern = r\"(.+) (.+)\"\n",
    "\n",
    "if re.match(pattern, \"ac fd\"):\n",
    "    print(\"match 1\")\n",
    "\n",
    "if re.match(pattern, \"ghg hiogig\"):\n",
    "    print(\"match 2\")"
   ]
  },
  {
   "cell_type": "markdown",
   "id": "8eb81def",
   "metadata": {},
   "source": [
    "---\n",
    "Есть другие специальные последовательности: **\\d**, **\\s** и **\\w** .  \n",
    "Они означают соответственно **цифр**ы (d от digits), **пробелы** (s от spaces) и **символы слов** (w от word characters).\n",
    "В режиме ASCII им соответствуют **[0-9]**, **[ \\t\\n\\r\\f\\v]** и **[a-zA-Z0-9_]**.  \n",
    "В режиме Unicode они соответствуют также некоторым другим символам. Например, **\\w** соответствует символам с диакритикой.\n",
    "Если эти специальные последовательности записаны с заглавными буквами **(\\D, \\S и \\W)**, они имеют противоположное значение.   Например, **\\D** совпадет с любыми символами, кроме цифр.  "
   ]
  },
  {
   "cell_type": "code",
   "execution_count": 113,
   "id": "4601aa66",
   "metadata": {},
   "outputs": [],
   "source": [
    "import re"
   ]
  },
  {
   "cell_type": "code",
   "execution_count": 119,
   "id": "241902fc",
   "metadata": {},
   "outputs": [
    {
     "name": "stdout",
     "output_type": "stream",
     "text": [
      "match 1\n"
     ]
    }
   ],
   "source": [
    "pattern = r\"(\\D+\\d)\"\n",
    "\n",
    "if re.match(pattern, \"Hi 999!\"):\n",
    "    print(\"match 1\")\n",
    "\n",
    "if re.match(pattern, \"1, 23, 456!\"):\n",
    "    print(\"match 2\")\n",
    "\n",
    "if re.match(pattern, \" ! $?\"):\n",
    "    print(\"match 3\")"
   ]
  },
  {
   "cell_type": "markdown",
   "id": "a51cd243",
   "metadata": {},
   "source": [
    ">**(\\D+\\d)** будет искать один (или несколько) нецифровых символов с последующей цифрой.\n",
    "\n",
    "---"
   ]
  },
  {
   "cell_type": "markdown",
   "id": "4cd0e82a",
   "metadata": {},
   "source": [
    "Среди других специальных последовательностей: **\\A**, **\\Z** и **\\b**.  \n",
    "Последовательности **\\A** и ****\\Z** означают соответственно начало и конец строки.  \n",
    "Последовательность **\\b** соответствует пустой строке между символами **\\w** и **\\W**, или символами **\\w** и началом или концом строки. Также неформально она означает словораздел.  \n",
    "Последовательность **\\B** соответствует пустой строке в любом другом месте.  "
   ]
  },
  {
   "cell_type": "code",
   "execution_count": 124,
   "id": "28c529a7",
   "metadata": {},
   "outputs": [],
   "source": [
    "import re"
   ]
  },
  {
   "cell_type": "code",
   "execution_count": 127,
   "id": "0bde87cf",
   "metadata": {},
   "outputs": [
    {
     "name": "stdout",
     "output_type": "stream",
     "text": [
      "match 1\n",
      "match 2\n"
     ]
    }
   ],
   "source": [
    "pattern = r\"\\b(cat)\\b\"\n",
    "\n",
    "if re.search(pattern, \"the cat sat\"):\n",
    "    print(\"match 1\")\n",
    "\n",
    "if re.search(pattern, \"GHf>cat<FJg@!\"):\n",
    "    print(\"match 2\")\n",
    "\n",
    "if re.search(pattern, \"We scattered.\"):\n",
    "    print(\"match 3\")"
   ]
  },
  {
   "cell_type": "markdown",
   "id": "fcea0147",
   "metadata": {},
   "source": [
    ">**\\b(cat)\\b** будет искать слово «cat», окруженное словоразделами.\n",
    "\n",
    "---"
   ]
  }
 ],
 "metadata": {
  "kernelspec": {
   "display_name": "Python 3",
   "language": "python",
   "name": "python3"
  },
  "language_info": {
   "codemirror_mode": {
    "name": "ipython",
    "version": 3
   },
   "file_extension": ".py",
   "mimetype": "text/x-python",
   "name": "python",
   "nbconvert_exporter": "python",
   "pygments_lexer": "ipython3",
   "version": "3.8.8"
  }
 },
 "nbformat": 4,
 "nbformat_minor": 5
}
