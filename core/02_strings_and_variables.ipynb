{
 "cells": [
  {
   "cell_type": "markdown",
   "metadata": {},
   "source": [
    "# Строки и переменные\n",
    "---\n",
    "\n",
    "\n",
    "# Содержание\n",
    "\n",
    "* [Строки](#Строки)\n",
    "    * [Backslash](#Backslash) \n",
    "    * [Тройные кавычки](#Тройные-кавычки)\n",
    "    * [Объединение строк](#Объединение-(конкатенация)-строк)\n",
    "    * [Умножение строки на число](#Умножение-строки-на-число)\n",
    "    \n",
    "* [Переменные](#Переменные)\n",
    "    * [Работа с переменными](#Работа-с-переменными)\n",
    "    * [Ввод](#Ввод)\n",
    "    * [Цепочки присваиваний](#Цепочки-присваиваний)\n",
    "    * [Составное присваивание](#Составное-присваивание)\n",
    "    * [Множественное присваивание](#Множественное-присваивание)\n",
    "    * [Оператор walrus](#Оператор-walrus)\n",
    "\n",
    "* [Форматирование строк](#Форматирование-строк)\n",
    "    * [%](#%)\n",
    "    * [str.format](#str.format)\n",
    "    * [f-string](#f-string)\n",
    "    \n",
    "---\n"
   ]
  },
  {
   "cell_type": "markdown",
   "metadata": {},
   "source": [
    "## Строки\n",
    "---\n",
    "\n",
    "Если вы хотите использовать текст в Python, нужно создать строку.\n",
    "Строка создается путем ввода текста между парой одинарных или двойных кавычек.\n",
    "\n",
    "Символы-разделители (\" или '), в которые заключается строка, никак не влияют на то, как она будет отображаться"
   ]
  },
  {
   "cell_type": "code",
   "execution_count": 2,
   "metadata": {},
   "outputs": [
    {
     "name": "stdout",
     "output_type": "stream",
     "text": [
      "Grisha lox\n",
      "Grisha ne lox\n"
     ]
    }
   ],
   "source": [
    "print(\"Grisha lox\")\n",
    "print('Grisha ne lox')"
   ]
  },
  {
   "cell_type": "markdown",
   "metadata": {},
   "source": [
    "\" может находиться внутри строки, заключенной в ' и наоборот"
   ]
  },
  {
   "cell_type": "code",
   "execution_count": 5,
   "metadata": {},
   "outputs": [
    {
     "name": "stdout",
     "output_type": "stream",
     "text": [
      "'Grisha'\n",
      "\"Not Grisha\"\n"
     ]
    }
   ],
   "source": [
    "print(\"'Grisha'\")\n",
    "print('\"Not Grisha\"')"
   ]
  },
  {
   "cell_type": "markdown",
   "metadata": {},
   "source": [
    "### Backslash\n",
    "---\n",
    "\n",
    "Некоторые символы нельзя просто так писать в строке. Например, двойные кавычки нельзя заключать в другие двойные кавычки, оформляющие строку; это приведет к тому, что строка будет преждевременно прервана.\n",
    "Чтобы использовать такие символы, нужно создавать для них исключение: ставить перед ними обратную косую черту (бэкслэш).\n",
    "Двойные кавычки нужно экранировать только в строках, заключенных в двойные кавычки; то же самое касается и одинарных кавычек."
   ]
  },
  {
   "cell_type": "code",
   "execution_count": 3,
   "metadata": {},
   "outputs": [
    {
     "name": "stdout",
     "output_type": "stream",
     "text": [
      "Grisha's lox\n"
     ]
    }
   ],
   "source": [
    "print('Grisha\\'s lox')"
   ]
  },
  {
   "cell_type": "markdown",
   "metadata": {},
   "source": [
    "Обратные косые черты также могут использоваться для экранирования табуляции, произвольных символов Юникода и других символов, которые сложно отображать.\n",
    "\n",
    "Новая строка обозначается символом \\n.\n",
    "Этот символ можно использовать в строках для вывода многострочного результата:"
   ]
  },
  {
   "cell_type": "code",
   "execution_count": 7,
   "metadata": {},
   "outputs": [
    {
     "name": "stdout",
     "output_type": "stream",
     "text": [
      "Mem\n",
      "))\n",
      ")\n"
     ]
    }
   ],
   "source": [
    "print(\"Mem\\n))\\n)\")"
   ]
  },
  {
   "cell_type": "markdown",
   "metadata": {},
   "source": [
    "Аналогичным образом, \\t обозначает табуляцию."
   ]
  },
  {
   "cell_type": "code",
   "execution_count": 8,
   "metadata": {},
   "outputs": [
    {
     "name": "stdout",
     "output_type": "stream",
     "text": [
      "Mem\t))\n"
     ]
    }
   ],
   "source": [
    "print(\"Mem\\t))\")"
   ]
  },
  {
   "cell_type": "markdown",
   "metadata": {},
   "source": [
    "### Тройные кавычки\n",
    "---\n",
    "\n",
    "Новые строки будут автоматически добавляться для строк, которые создаются с использованием трех кавычек.\n",
    "\n",
    "Это облегчает работу по форматированию длинных многострочных текстов без необходимости использовать \\n для разрыва строк."
   ]
  },
  {
   "cell_type": "code",
   "execution_count": 9,
   "metadata": {},
   "outputs": [
    {
     "name": "stdout",
     "output_type": "stream",
     "text": [
      "This is\n",
      "a text\n",
      ")\n",
      "\n"
     ]
    }
   ],
   "source": [
    "print(\"\"\"This is\n",
    "a text\n",
    ")\n",
    "\"\"\")"
   ]
  },
  {
   "cell_type": "markdown",
   "metadata": {},
   "source": [
    "### Объединение (конкатенация) строк\n",
    "---\n",
    "\n",
    "Как и в случае с целыми числами и числами с плавающей точкой, строки на Python можно добавлять, используя процесс, который называется конкатенация и который можно применять к двум любым строкам."
   ]
  },
  {
   "cell_type": "code",
   "execution_count": 10,
   "metadata": {},
   "outputs": [
    {
     "name": "stdout",
     "output_type": "stream",
     "text": [
      "Grisha lox\n"
     ]
    }
   ],
   "source": [
    "print(\"Grisha\" + \" \" + \"lox\")"
   ]
  },
  {
   "cell_type": "markdown",
   "metadata": {},
   "source": [
    "Даже если в ваших строках содержатся числа, они все равно будут добавляться как строки, а не как целые числа."
   ]
  },
  {
   "cell_type": "code",
   "execution_count": 11,
   "metadata": {},
   "outputs": [
    {
     "name": "stdout",
     "output_type": "stream",
     "text": [
      "23\n"
     ]
    }
   ],
   "source": [
    "print(\"2\" + \"3\")"
   ]
  },
  {
   "cell_type": "markdown",
   "metadata": {},
   "source": [
    "Добавление строки к числу приводит к ошибке, так как даже если они выглядят одинаково, они все равно являются двумя разными сущностями."
   ]
  },
  {
   "cell_type": "code",
   "execution_count": 12,
   "metadata": {},
   "outputs": [
    {
     "ename": "TypeError",
     "evalue": "can only concatenate str (not \"int\") to str",
     "output_type": "error",
     "traceback": [
      "\u001b[1;31m---------------------------------------------------------------------------\u001b[0m",
      "\u001b[1;31mTypeError\u001b[0m                                 Traceback (most recent call last)",
      "\u001b[1;32m<ipython-input-12-74ff2b2c0ca8>\u001b[0m in \u001b[0;36m<module>\u001b[1;34m\u001b[0m\n\u001b[1;32m----> 1\u001b[1;33m \u001b[0mprint\u001b[0m\u001b[1;33m(\u001b[0m\u001b[1;34m\"2\"\u001b[0m \u001b[1;33m+\u001b[0m \u001b[1;36m3\u001b[0m\u001b[1;33m)\u001b[0m\u001b[1;33m\u001b[0m\u001b[1;33m\u001b[0m\u001b[0m\n\u001b[0m",
      "\u001b[1;31mTypeError\u001b[0m: can only concatenate str (not \"int\") to str"
     ]
    }
   ],
   "source": [
    "print(\"2\" + 3)"
   ]
  },
  {
   "cell_type": "markdown",
   "metadata": {},
   "source": [
    ">**Python не позволяет смешивать разные типы (сильная типизация)**"
   ]
  },
  {
   "cell_type": "markdown",
   "metadata": {},
   "source": [
    "### Умножение строки на число\n",
    "---\n",
    "\n",
    "Строки также можно умножать на целые числа. Это приводит к повторению первоначальной строки. Порядок следования не имеет значения, но строка, как правило, следует первой."
   ]
  },
  {
   "cell_type": "code",
   "execution_count": 13,
   "metadata": {},
   "outputs": [
    {
     "name": "stdout",
     "output_type": "stream",
     "text": [
      "foofoofoo\n",
      " bar  bar  bar  bar \n"
     ]
    }
   ],
   "source": [
    "print(\"foo\" * 3)\n",
    "print(4 * \" bar \")"
   ]
  },
  {
   "cell_type": "markdown",
   "metadata": {},
   "source": [
    "Строки нельзя умножать на другие строки. Строки также нельзя умножать на числа с плавающей запятой, даже если это целые числа."
   ]
  },
  {
   "cell_type": "code",
   "execution_count": 14,
   "metadata": {},
   "outputs": [
    {
     "ename": "TypeError",
     "evalue": "can't multiply sequence by non-int of type 'str'",
     "output_type": "error",
     "traceback": [
      "\u001b[1;31m---------------------------------------------------------------------------\u001b[0m",
      "\u001b[1;31mTypeError\u001b[0m                                 Traceback (most recent call last)",
      "\u001b[1;32m<ipython-input-14-fc2f66ffa6aa>\u001b[0m in \u001b[0;36m<module>\u001b[1;34m\u001b[0m\n\u001b[1;32m----> 1\u001b[1;33m \u001b[0mprint\u001b[0m\u001b[1;33m(\u001b[0m\u001b[1;34m\"m\"\u001b[0m \u001b[1;33m*\u001b[0m \u001b[1;34m\"3\"\u001b[0m\u001b[1;33m)\u001b[0m\u001b[1;33m\u001b[0m\u001b[1;33m\u001b[0m\u001b[0m\n\u001b[0m",
      "\u001b[1;31mTypeError\u001b[0m: can't multiply sequence by non-int of type 'str'"
     ]
    }
   ],
   "source": [
    "print(\"m\" * \"3\")"
   ]
  },
  {
   "cell_type": "code",
   "execution_count": 15,
   "metadata": {},
   "outputs": [
    {
     "ename": "TypeError",
     "evalue": "can't multiply sequence by non-int of type 'float'",
     "output_type": "error",
     "traceback": [
      "\u001b[1;31m---------------------------------------------------------------------------\u001b[0m",
      "\u001b[1;31mTypeError\u001b[0m                                 Traceback (most recent call last)",
      "\u001b[1;32m<ipython-input-15-20c37a44fdd9>\u001b[0m in \u001b[0;36m<module>\u001b[1;34m\u001b[0m\n\u001b[1;32m----> 1\u001b[1;33m \u001b[0mprint\u001b[0m\u001b[1;33m(\u001b[0m\u001b[1;34m\"null\"\u001b[0m \u001b[1;33m*\u001b[0m \u001b[1;36m3.\u001b[0m\u001b[1;33m)\u001b[0m\u001b[1;33m\u001b[0m\u001b[1;33m\u001b[0m\u001b[0m\n\u001b[0m",
      "\u001b[1;31mTypeError\u001b[0m: can't multiply sequence by non-int of type 'float'"
     ]
    }
   ],
   "source": [
    "print(\"null\" * 3.)"
   ]
  },
  {
   "cell_type": "markdown",
   "metadata": {},
   "source": [
    "## Переменные\n",
    "---\n",
    "\n",
    "Переменные дают возможность помещать в них значения присваивая значению имя, которое в далнейшем может быть использовано для обращения к этому значению.\n",
    "Например, при программировании игры, перемменная будет использованна для хранения в ней очков игрока.\n",
    "Чтобы назначить переменную, используется один знак равенства.\n",
    "\n",
    "> <b>В Python не нужно указывать тип переменной при ее создании (неявная типизация)</b>"
   ]
  },
  {
   "cell_type": "code",
   "execution_count": 16,
   "metadata": {},
   "outputs": [],
   "source": [
    "user = \"Grisha\""
   ]
  },
  {
   "cell_type": "markdown",
   "metadata": {},
   "source": [
    "Существуют ограничения касательно символов, которые можно использовать в именах переменных в Python. Разрешается использовать только буквы, цифры и подчеркивание. Кроме того, имена не могут начинаться с цифр.\n",
    "Нарушение этих правил приводит к ошибкам."
   ]
  },
  {
   "cell_type": "code",
   "execution_count": 18,
   "metadata": {},
   "outputs": [
    {
     "ename": "SyntaxError",
     "evalue": "invalid token (<ipython-input-18-527136c7f51b>, line 2)",
     "output_type": "error",
     "traceback": [
      "\u001b[1;36m  File \u001b[1;32m\"<ipython-input-18-527136c7f51b>\"\u001b[1;36m, line \u001b[1;32m2\u001b[0m\n\u001b[1;33m    1_not_ok = 11\u001b[0m\n\u001b[1;37m     ^\u001b[0m\n\u001b[1;31mSyntaxError\u001b[0m\u001b[1;31m:\u001b[0m invalid token\n"
     ]
    }
   ],
   "source": [
    "ok_ = 10\n",
    "1_not_ok = 11"
   ]
  },
  {
   "cell_type": "markdown",
   "metadata": {},
   "source": [
    "> Python - регистрозависимый язык программирования. Таким образом, x и X будут считаться разными именами переменных в Python."
   ]
  },
  {
   "cell_type": "markdown",
   "metadata": {},
   "source": [
    "### Работа с переменными\n",
    "---\n",
    "\n",
    "Вы можете использовать переменные для соответствующих операций, так же как делали это с числами и строками:"
   ]
  },
  {
   "cell_type": "code",
   "execution_count": 23,
   "metadata": {},
   "outputs": [
    {
     "name": "stdout",
     "output_type": "stream",
     "text": [
      "8\n"
     ]
    }
   ],
   "source": [
    "y = 2\n",
    "print(y ** 3)"
   ]
  },
  {
   "cell_type": "markdown",
   "metadata": {},
   "source": [
    "Переменным могут присваиваться новые значения неограниченное количество раз.\n",
    "<b>В Python переменная связывается с типом в момент присваивания значения, а не в момент объявления (динамическая типизация)</b>, так что вы можете присвоить переменной строку, а затем той же переменной присвоить целое число."
   ]
  },
  {
   "cell_type": "code",
   "execution_count": 24,
   "metadata": {},
   "outputs": [
    {
     "name": "stdout",
     "output_type": "stream",
     "text": [
      "47.0\n",
      "Now i am 47:)\n"
     ]
    }
   ],
   "source": [
    "x = 47.\n",
    "print(x)\n",
    "\n",
    "x = \"Now i am 47\"\n",
    "print(x + \":)\")"
   ]
  },
  {
   "cell_type": "markdown",
   "metadata": {},
   "source": [
    "> Однако это не очень хорошая практика. Чтобы избежать ошибок, старайтесь не переписывать одну и ту же переменную с разными типами данных."
   ]
  },
  {
   "cell_type": "markdown",
   "metadata": {},
   "source": [
    "### Ввод\n",
    "---\n",
    "\n",
    "Чтобы получить данные от пользователя, в Python используется функция input.\n",
    "Например, игра может попросить игрока ввести свое имя и возраст, и использовать их в игре.\n",
    "Функция input приглашает пользователя ввести данные, после чего введенный текст возвращается в виде строки (символы автоматически экранируются)."
   ]
  },
  {
   "cell_type": "code",
   "execution_count": 25,
   "metadata": {},
   "outputs": [
    {
     "name": "stdout",
     "output_type": "stream",
     "text": [
      "Heh\n",
      "Heh\n"
     ]
    }
   ],
   "source": [
    "x = input()\n",
    "print(x)"
   ]
  },
  {
   "cell_type": "markdown",
   "metadata": {},
   "source": [
    "Даже если пользователь ввел число, оно воспринимается программой как строка."
   ]
  },
  {
   "cell_type": "code",
   "execution_count": 31,
   "metadata": {},
   "outputs": [
    {
     "name": "stdout",
     "output_type": "stream",
     "text": [
      "1\n",
      "<class 'str'>\n"
     ]
    }
   ],
   "source": [
    "x = input()\n",
    "print(type(x)) # type возвращает тип аргумента"
   ]
  },
  {
   "cell_type": "markdown",
   "metadata": {},
   "source": [
    "После выражения input должны быть скобки.\n",
    "Вы можете добавить строку между скобками, тем самым показывая ее пользователю.\n",
    "\n",
    "Такие сообщения помогают пользователю понять, какие именно данные надо ввести."
   ]
  },
  {
   "cell_type": "code",
   "execution_count": 33,
   "metadata": {},
   "outputs": [
    {
     "name": "stdout",
     "output_type": "stream",
     "text": [
      "Enter your name: Grixa\n",
      "Hi, Grixa\n"
     ]
    }
   ],
   "source": [
    "name = input(\"Enter your name: \")\n",
    "print(\"Hi, \" + name)"
   ]
  },
  {
   "cell_type": "markdown",
   "metadata": {},
   "source": [
    "---\n",
    "\n",
    "Чтобы получить число на вводе, нужно явно преобразовать строку к числу.\n",
    "\n",
    "Сделать это можно используя функцию **int()**:"
   ]
  },
  {
   "cell_type": "code",
   "execution_count": 34,
   "metadata": {},
   "outputs": [
    {
     "name": "stdout",
     "output_type": "stream",
     "text": [
      "10\n",
      "<class 'int'>\n"
     ]
    }
   ],
   "source": [
    "x = int(input())\n",
    "print(type(x))"
   ]
  },
  {
   "cell_type": "markdown",
   "metadata": {},
   "source": [
    "Подобным образом, чтобы конвертировать число в строку, можно использовать функцию str(). Она может пригодится когда, например, нам нужно число при конкатенации."
   ]
  },
  {
   "cell_type": "code",
   "execution_count": 35,
   "metadata": {},
   "outputs": [
    {
     "name": "stdout",
     "output_type": "stream",
     "text": [
      "x = 10\n"
     ]
    }
   ],
   "source": [
    "print(\"x = \" + str(x))"
   ]
  },
  {
   "cell_type": "markdown",
   "metadata": {},
   "source": [
    "Для конветирования в float, соответственно используется функция **float()**\n",
    "\n",
    "---\n",
    "\n",
    "Вы можете использовать функцию input() несколько раз, чтобы получить соответсвенное количество данных от пользователя:"
   ]
  },
  {
   "cell_type": "code",
   "execution_count": 37,
   "metadata": {
    "scrolled": true
   },
   "outputs": [
    {
     "name": "stdout",
     "output_type": "stream",
     "text": [
      "10\n",
      "20\n",
      "x + y = 30\n"
     ]
    }
   ],
   "source": [
    "x = int(input())\n",
    "y = int(input())\n",
    "print(\"x + y = \" + str(x + y))"
   ]
  },
  {
   "cell_type": "markdown",
   "metadata": {},
   "source": [
    "> Когда исполняется функция input(), работа программа останавливается, пока не получит данные от пользователя.\n",
    "\n",
    "---\n",
    "\n",
    "### Цепочки присваиваний\n",
    "---\n",
    "\n",
    "Оператор присваивание выполняется справа налево, поэтому также можно образовывать цепочки присваивания."
   ]
  },
  {
   "cell_type": "code",
   "execution_count": 2,
   "metadata": {},
   "outputs": [
    {
     "name": "stdout",
     "output_type": "stream",
     "text": [
      "0 0\n"
     ]
    }
   ],
   "source": [
    "x = y = 0   # 0 связывается с переменной 'y', а затем и с переменной 'x'\n",
    "\n",
    "print(x, y)"
   ]
  },
  {
   "cell_type": "markdown",
   "metadata": {},
   "source": [
    "### Составное присваивание \n",
    "---\n",
    "\n",
    "Краткие выражения операций позволяют записать такую команду, как 'х = х + 3', более коротко: 'х += 3'.\n",
    "То же возможно и с другими операциями."
   ]
  },
  {
   "cell_type": "code",
   "execution_count": 40,
   "metadata": {},
   "outputs": [
    {
     "name": "stdout",
     "output_type": "stream",
     "text": [
      "40\n",
      "100.0\n"
     ]
    }
   ],
   "source": [
    "x = 40\n",
    "print(x)\n",
    "\n",
    "x *= 2.5\n",
    "print(x)"
   ]
  },
  {
   "cell_type": "code",
   "execution_count": 41,
   "metadata": {},
   "outputs": [
    {
     "name": "stdout",
     "output_type": "stream",
     "text": [
      "Ы\n",
      "Ыыыы\n"
     ]
    }
   ],
   "source": [
    "x = \"Ы\"\n",
    "print(x)\n",
    "\n",
    "x += \"ыыы\"\n",
    "print(x)"
   ]
  },
  {
   "cell_type": "markdown",
   "metadata": {},
   "source": [
    "> Рекомендуется использовать составное присваивание везде, где это возможно"
   ]
  },
  {
   "cell_type": "markdown",
   "metadata": {},
   "source": [
    "### Множественное присваивание\n",
    "---\n",
    "\n",
    "Python поддерживает множественное присваивание, когда слева от знака '=' находится много переменных, а справа от него много значений:"
   ]
  },
  {
   "cell_type": "code",
   "execution_count": 42,
   "metadata": {},
   "outputs": [
    {
     "name": "stdout",
     "output_type": "stream",
     "text": [
      "1 2\n"
     ]
    }
   ],
   "source": [
    "x, y = 1, 2\n",
    "print(x, y)"
   ]
  },
  {
   "cell_type": "markdown",
   "metadata": {},
   "source": [
    "Таким образом можно легко поменять местами значения переменных"
   ]
  },
  {
   "cell_type": "code",
   "execution_count": 53,
   "metadata": {},
   "outputs": [
    {
     "name": "stdout",
     "output_type": "stream",
     "text": [
      "3 4\n",
      "4 3\n"
     ]
    }
   ],
   "source": [
    "x, y = 3, 4\n",
    "print(x, y)\n",
    "\n",
    "x, y = y, x\n",
    "print(x, y)"
   ]
  },
  {
   "cell_type": "markdown",
   "metadata": {},
   "source": [
    "Использование множественного приваивания для ввода нескольких значений:"
   ]
  },
  {
   "cell_type": "code",
   "execution_count": 44,
   "metadata": {
    "scrolled": false
   },
   "outputs": [
    {
     "name": "stdout",
     "output_type": "stream",
     "text": [
      "1\n",
      "2\n",
      "3\n",
      "333\n"
     ]
    }
   ],
   "source": [
    "a, b, c = int(input()), int(input()), input()\n",
    "print((a + b) * c)"
   ]
  },
  {
   "cell_type": "markdown",
   "metadata": {},
   "source": [
    "### Оператор walrus\n",
    "---\n",
    "\n",
    "Оператор walrus := позволяет присваивать значения переменным внутри выражения, включая переменные, которые еще не существуют.\n",
    "\n",
    "Предположим, мы хотим получить от пользователя число, присвоить его переменной num и вывести:"
   ]
  },
  {
   "cell_type": "code",
   "execution_count": 2,
   "metadata": {},
   "outputs": [
    {
     "name": "stdout",
     "output_type": "stream",
     "text": [
      "10000099\n",
      "10000099\n"
     ]
    }
   ],
   "source": [
    "x = int(input())\n",
    "print(x)"
   ]
  },
  {
   "cell_type": "markdown",
   "metadata": {},
   "source": [
    "Оператор walrus выполняет эти операции за один раз:"
   ]
  },
  {
   "cell_type": "code",
   "execution_count": 40,
   "metadata": {},
   "outputs": [
    {
     "name": "stdout",
     "output_type": "stream",
     "text": [
      "1092939\n",
      "1092939\n"
     ]
    }
   ],
   "source": [
    "print(x := int(input()))"
   ]
  },
  {
   "cell_type": "markdown",
   "metadata": {},
   "source": [
    "> Оператор walrus был добавлен в python3.8. Вы можете узнать свою версию python строкой ниже"
   ]
  },
  {
   "cell_type": "code",
   "execution_count": 7,
   "metadata": {},
   "outputs": [
    {
     "name": "stdout",
     "output_type": "stream",
     "text": [
      "3.8.8\n"
     ]
    }
   ],
   "source": [
    "print(__import__(\"platform\").python_version())"
   ]
  },
  {
   "cell_type": "markdown",
   "metadata": {},
   "source": [
    "## Форматирование строк\n",
    "---\n",
    "\n",
    "В Python есть 3 способа форматировать строки, и один из них лучше других. Но не будем забегать наперед — о каком именно форматировании вообще речь? Каждый раз когда мы хотим поприветствовать пользователя по имени нам нужно вставить строку с именем в строку-шаблон. Большинство полезных записей в логах так же содержат значения переменных.\n",
    "\n",
    "---\n",
    "\n",
    "### %\n",
    "---\n",
    "\n",
    "Первый способ, форматирование оператором %, пришел в Python еще из С — он имитирует функцию printf."
   ]
  },
  {
   "cell_type": "code",
   "execution_count": 28,
   "metadata": {},
   "outputs": [
    {
     "name": "stdout",
     "output_type": "stream",
     "text": [
      "Оценка за ответ: хор. 4\n"
     ]
    }
   ],
   "source": [
    "print(\"Оценка за ответ: %s %d\" % (string := \"хор.\", integer := 4))"
   ]
  },
  {
   "cell_type": "markdown",
   "metadata": {},
   "source": [
    "Символ после % зависит от подставляемого типа\n",
    "\n",
    "![](https://raw.githubusercontent.com/letimofeev/python_course/main/core/images/types.png)"
   ]
  },
  {
   "cell_type": "markdown",
   "metadata": {},
   "source": [
    "### str.format\n",
    "---\n",
    "\n",
    "Второй способ — это метод str.format, принадлежащий встроенному классу строк. Он появился с Python 3.0, и был портирован в версию 2.6. Этот метод был рекомендован как обладающий более богатым синтаксисом."
   ]
  },
  {
   "cell_type": "code",
   "execution_count": 27,
   "metadata": {},
   "outputs": [
    {
     "name": "stdout",
     "output_type": "stream",
     "text": [
      "Оценка за ответ: отл. 3\n"
     ]
    }
   ],
   "source": [
    "print(\"Оценка за ответ: {} {}\".format(\"отл.\", 3))"
   ]
  },
  {
   "cell_type": "markdown",
   "metadata": {},
   "source": [
    "С помощью форматирования можно выделить фиксированное количество места под переменную или установить количество символов в выводе после запятой"
   ]
  },
  {
   "cell_type": "code",
   "execution_count": 39,
   "metadata": {},
   "outputs": [
    {
     "name": "stdout",
     "output_type": "stream",
     "text": [
      "Hello!    4/3 = 001.33\n"
     ]
    }
   ],
   "source": [
    "print(\"{:10}4/3 = {:06.2f}\".format(\"Hello!\", 4 / 3))"
   ]
  },
  {
   "cell_type": "markdown",
   "metadata": {},
   "source": [
    "> Подробнее про первые 2 способа: https://pyformat.info/\n",
    "\n",
    "---\n",
    "### f-string\n",
    "---\n",
    "\n",
    "Третий способ, f-string, появился в Python версии 3.6. Как объяснено в [PEP-0498](https://www.python.org/dev/peps/pep-0498/), создание нового способа форматирования строк было мотивировано недостатками существующих методов, которые авторы характеризуют как подверженные ошибкам, недостаточно гибкие и не элегантные:\n",
    "> This PEP is driven by the desire to have a simpler way to format strings in Python. The existing ways of formatting are either error prone, inflexible, or cumbersome."
   ]
  },
  {
   "cell_type": "code",
   "execution_count": 4,
   "metadata": {},
   "outputs": [
    {
     "name": "stdout",
     "output_type": "stream",
     "text": [
      "string Memas, or 42\n"
     ]
    }
   ],
   "source": [
    "string = \"Memas\"\n",
    "print(f'string {string}, or {42}')"
   ]
  },
  {
   "cell_type": "markdown",
   "metadata": {},
   "source": [
    "f-строки делают очень простую вещь — они берут значения переменных, которые есть в текущей области видимости, и подставляют их в строку. В самой строке вам лишь нужно указать имя этой переменной в фигурных скобках. Также можно использовать вызовы функций, арифметические операции внутри фигурных скобок"
   ]
  },
  {
   "cell_type": "code",
   "execution_count": 6,
   "metadata": {},
   "outputs": [
    {
     "name": "stdout",
     "output_type": "stream",
     "text": [
      "\n",
      "x = 3\n",
      "x + 3 = 6\n",
      "float(x) = 3.0\n",
      "\n"
     ]
    }
   ],
   "source": [
    "# f-string с тройными кавычками\n",
    "\n",
    "x = 3\n",
    "print(f\"\"\"\n",
    "x = {x}\n",
    "x + 3 = {x + 3}\n",
    "float(x) = {float(x)}\n",
    "\"\"\")"
   ]
  },
  {
   "cell_type": "markdown",
   "metadata": {},
   "source": [
    "f-строки не только гибкие, но и быстрые, поэтому рекомендуется использоваться именно их\n",
    "\n",
    "Код ниже для демонстрации времени работы, разбираться в нем не обязательно"
   ]
  },
  {
   "cell_type": "code",
   "execution_count": 19,
   "metadata": {},
   "outputs": [],
   "source": [
    "import timeit"
   ]
  },
  {
   "cell_type": "code",
   "execution_count": 38,
   "metadata": {},
   "outputs": [],
   "source": [
    "setup = \"\"\"\n",
    "x = 'FORTY_SEVEN'\n",
    "y = 47\n",
    "\"\"\".strip()\n",
    "\n",
    "str_percent = '\"%s and %d\" % (x, y)'\n",
    "str_format = '\"{} and {}\".format(x, y)'\n",
    "f_str = 'f\"{x} and {y}\"'"
   ]
  },
  {
   "cell_type": "code",
   "execution_count": 49,
   "metadata": {},
   "outputs": [
    {
     "name": "stdout",
     "output_type": "stream",
     "text": [
      "Using %, time: 2.87 seconds\n"
     ]
    }
   ],
   "source": [
    "print(f\"Using %, time: {timeit.timeit(str_percent, setup, number=int(1e7)):.2f} seconds\")"
   ]
  },
  {
   "cell_type": "code",
   "execution_count": 50,
   "metadata": {},
   "outputs": [
    {
     "name": "stdout",
     "output_type": "stream",
     "text": [
      "Using str.format, time: 3.87 seconds\n"
     ]
    }
   ],
   "source": [
    "print(f\"Using str.format, time: {timeit.timeit(str_format, setup, number=int(1e7)):.2f} seconds\")"
   ]
  },
  {
   "cell_type": "code",
   "execution_count": 51,
   "metadata": {},
   "outputs": [
    {
     "name": "stdout",
     "output_type": "stream",
     "text": [
      "Using f-string, time: 1.99 seconds\n"
     ]
    }
   ],
   "source": [
    "timeit.timeit(f_str, setup, number=int(1e7))\n",
    "print(f\"Using f-string, time: {timeit.timeit(f_str, setup, number=int(1e7)):.2f} seconds\")"
   ]
  },
  {
   "cell_type": "markdown",
   "metadata": {},
   "source": [
    "> Подробнее про f-string: https://www.python.org/dev/peps/pep-0498/"
   ]
  }
 ],
 "metadata": {
  "kernelspec": {
   "display_name": "Python 3",
   "language": "python",
   "name": "python3"
  },
  "language_info": {
   "codemirror_mode": {
    "name": "ipython",
    "version": 3
   },
   "file_extension": ".py",
   "mimetype": "text/x-python",
   "name": "python",
   "nbconvert_exporter": "python",
   "pygments_lexer": "ipython3",
   "version": "3.8.8"
  }
 },
 "nbformat": 4,
 "nbformat_minor": 2
}
