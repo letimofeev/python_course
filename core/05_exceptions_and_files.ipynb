{
 "cells": [
  {
   "cell_type": "markdown",
   "id": "259e5655",
   "metadata": {},
   "source": [
    "# Исключения и файлы\n",
    "---\n",
    "\n",
    "# Содержание\n",
    "\n",
    "* [Исключения](#Исключения)\n",
    "    * [Обработка исключений](#Обработка-исключений)\n",
    "    * [finally](#finally)\n",
    "    * [Вызов исключений](#Вызов-исключений)\n",
    "    * [assert](#assert)\n",
    "   \n",
    "* [Файлы](#Файлы)\n",
    "    * [Открытие файлов](#Открытие-файлов)\n",
    "    * [Чтение данных из файлов](#Чтение-данных-из-файлов)\n",
    "    * [Запись в файл](#Запись-в-файл)\n",
    "    * [Работаем с файлами](#Работаем-с-файлами)\n",
    "    \n",
    "---\n"
   ]
  },
  {
   "cell_type": "markdown",
   "id": "9f628dd3",
   "metadata": {},
   "source": [
    "## Исключения\n",
    "---\n",
    "\n",
    "Вы уже встречали **исключения** ранее. Это ситуации, когда что-то идет не так, обычно из-за ошибок в коде или неправильного ввода. Когда происходит исключение, программа немедленно останавливается.  \n",
    "В следующем коде происходит исключение ZeroDivisionError при попытке разделить 7 на 0."
   ]
  },
  {
   "cell_type": "code",
   "execution_count": 1,
   "id": "2894ada2",
   "metadata": {},
   "outputs": [
    {
     "ename": "ZeroDivisionError",
     "evalue": "division by zero",
     "output_type": "error",
     "traceback": [
      "\u001b[1;31m---------------------------------------------------------------------------\u001b[0m",
      "\u001b[1;31mZeroDivisionError\u001b[0m                         Traceback (most recent call last)",
      "\u001b[1;32m<ipython-input-1-3ac1fa743a27>\u001b[0m in \u001b[0;36m<module>\u001b[1;34m\u001b[0m\n\u001b[1;32m----> 1\u001b[1;33m \u001b[0mprint\u001b[0m\u001b[1;33m(\u001b[0m\u001b[1;36m7\u001b[0m \u001b[1;33m/\u001b[0m \u001b[1;36m0\u001b[0m\u001b[1;33m)\u001b[0m\u001b[1;33m\u001b[0m\u001b[1;33m\u001b[0m\u001b[0m\n\u001b[0m",
      "\u001b[1;31mZeroDivisionError\u001b[0m: division by zero"
     ]
    }
   ],
   "source": [
    "print(7 / 0)"
   ]
  },
  {
   "cell_type": "markdown",
   "id": "0f6f636f",
   "metadata": {},
   "source": [
    "---\n",
    "Исключения могут происходить по разным причинам.  \n",
    "Наиболее частые исключения:  \n",
    "**ImportError**: импортирование не удалось;  \n",
    "**IndexError**: индекс не входит в диапазон элементов списка;  \n",
    "**NameError**: попытка использовать несуществующую переменную;  \n",
    "**SyntaxError**: ошибка разбора кода;  \n",
    "**TypeError**: в функцию передано значение несовместимого типа;  \n",
    "**ValueError**: в функцию передано значение совместимого типа, но с некорректным значением.  \n",
    "\n",
    "---\n",
    "\n",
    ">В Python есть несколько других стандартных исключений, например, ZeroDivisionError и OSError. Кроме этого, сторонние библиотеки часто имеют свои собственные исключения\n",
    "\n",
    "---"
   ]
  },
  {
   "cell_type": "markdown",
   "id": "83d72385",
   "metadata": {},
   "source": [
    "### Обработка исключений\n",
    "---\n",
    "\n",
    "Когда происходит исключение, чтобы обойти его и выполнить код, вы можете использовать инструкцию **try/except**.  \n",
    "Блок **try** содержит код под сомнением, код который может вызвать исключение. В случае исключения выполнение кода в блоке **try** прерывается и передается коду в блоке **except**. Если не происходит никакой ошибки, код в блоке **except** не выполняется."
   ]
  },
  {
   "cell_type": "code",
   "execution_count": 3,
   "id": "cbaef712",
   "metadata": {},
   "outputs": [
    {
     "name": "stdout",
     "output_type": "stream",
     "text": [
      "1\n",
      "0\n",
      "exception occured due to zero division\n"
     ]
    }
   ],
   "source": [
    "try:\n",
    "    x, y = int(input()), int(input())\n",
    "    print(f\"x / y = {x / y}\")\n",
    "except ZeroDivisionError:\n",
    "    print(\"exception occured due to zero division\")"
   ]
  },
  {
   "cell_type": "markdown",
   "id": "eeb0652d",
   "metadata": {},
   "source": [
    ">В приведенном выше коде, в инструкции except указан тип исключения (в нашем случае это **ZeroDivisionError**)."
   ]
  },
  {
   "cell_type": "markdown",
   "id": "9163bf43",
   "metadata": {},
   "source": [
    "Инструкция **try** может иметь несколько различных блоков **except**, чтобы обрабатывать различные исключения.  \n",
    "Блок **except** может содержать несколько исключений, которые указываются в круглых скобках; все они будут выполнены программой."
   ]
  },
  {
   "cell_type": "code",
   "execution_count": 9,
   "id": "edb07348",
   "metadata": {},
   "outputs": [
    {
     "name": "stdout",
     "output_type": "stream",
     "text": [
      "error: unsupported operand type(s) for +: 'int' and 'str'\n"
     ]
    }
   ],
   "source": [
    "try:\n",
    "    var = 1\n",
    "    print(var + \"2\")\n",
    "    print(var / 0)\n",
    "except (TypeError, ZeroDivisionError):\n",
    "    print(\"error\")"
   ]
  },
  {
   "cell_type": "markdown",
   "id": "50850755",
   "metadata": {},
   "source": [
    "---\n",
    "Пойманное исключение можно привязать к переменной, чтобы получить доступ к атрибутам объекта исключения"
   ]
  },
  {
   "cell_type": "code",
   "execution_count": 12,
   "id": "005a8f6c",
   "metadata": {},
   "outputs": [
    {
     "name": "stdout",
     "output_type": "stream",
     "text": [
      "error: unsupported operand type(s) for +: 'int' and 'str'\n"
     ]
    }
   ],
   "source": [
    "try:\n",
    "    var = 1\n",
    "    print(var + \"2\")\n",
    "    print(var / 0)\n",
    "except (TypeError, ZeroDivisionError) as e:\n",
    "    print(f\"error: {e}\")"
   ]
  },
  {
   "cell_type": "markdown",
   "id": "bb163c3f",
   "metadata": {},
   "source": [
    "---\n",
    "Выражение **except**, не имеющее каких-либо определенных исключений, будет перехватывать все ошибки. Данное выражение следует использовать с осторожностью, так как оно может перехватывать какие-либо неожиданные ошибки и скрыть допущенные ошибки в коде."
   ]
  },
  {
   "cell_type": "code",
   "execution_count": 14,
   "id": "e77974a5",
   "metadata": {},
   "outputs": [
    {
     "name": "stdout",
     "output_type": "stream",
     "text": [
      "Error occured\n"
     ]
    }
   ],
   "source": [
    "try:\n",
    "    word = \"foo\"\n",
    "    print(word / 3)\n",
    "except:\n",
    "    print(\"Error occured\")"
   ]
  },
  {
   "cell_type": "markdown",
   "id": "fa6e1404",
   "metadata": {},
   "source": [
    "---\n",
    ">Уметь обрабатывать исключения особенно важно при работе с пользовательским вводом.\n",
    "\n",
    "---"
   ]
  },
  {
   "cell_type": "markdown",
   "id": "4aefd69e",
   "metadata": {},
   "source": [
    "### finally\n",
    "---\n",
    "\n",
    "Когда нужно, чтобы некоторый фрагмент кода выполнялся, независимо от того, возникают ошибки или нет, используйте инструкцию **finally**. Инструкция **finally** располагается в нижней части инструкции try/except. Инструкция **finally** выполняется всегда после выполнения блока try и, возможно, после блока except."
   ]
  },
  {
   "cell_type": "code",
   "execution_count": 15,
   "id": "b09fe25b",
   "metadata": {},
   "outputs": [
    {
     "name": "stdout",
     "output_type": "stream",
     "text": [
      "1\n",
      "error\n",
      "ok\n"
     ]
    }
   ],
   "source": [
    "try:\n",
    "    print(\"1\")\n",
    "    print(\"1\" + 1)\n",
    "except:\n",
    "    print(\"error\")\n",
    "finally:\n",
    "    print(\"ok\")"
   ]
  },
  {
   "cell_type": "markdown",
   "id": "9f1427ad",
   "metadata": {},
   "source": [
    "Код в инструкции **finally** будет выполняться, даже если произойдет неперехваченное исключение в одном из предыдущих блоков кода."
   ]
  },
  {
   "cell_type": "code",
   "execution_count": 16,
   "id": "0e5f388f",
   "metadata": {},
   "outputs": [
    {
     "name": "stdout",
     "output_type": "stream",
     "text": [
      "ok\n"
     ]
    },
    {
     "ename": "ZeroDivisionError",
     "evalue": "division by zero",
     "output_type": "error",
     "traceback": [
      "\u001b[1;31m---------------------------------------------------------------------------\u001b[0m",
      "\u001b[1;31mZeroDivisionError\u001b[0m                         Traceback (most recent call last)",
      "\u001b[1;32m<ipython-input-16-67b8b9991855>\u001b[0m in \u001b[0;36m<module>\u001b[1;34m\u001b[0m\n\u001b[0;32m      1\u001b[0m \u001b[1;32mtry\u001b[0m\u001b[1;33m:\u001b[0m\u001b[1;33m\u001b[0m\u001b[1;33m\u001b[0m\u001b[0m\n\u001b[1;32m----> 2\u001b[1;33m     \u001b[0mprint\u001b[0m\u001b[1;33m(\u001b[0m\u001b[1;36m1\u001b[0m \u001b[1;33m/\u001b[0m \u001b[1;36m0\u001b[0m\u001b[1;33m)\u001b[0m\u001b[1;33m\u001b[0m\u001b[1;33m\u001b[0m\u001b[0m\n\u001b[0m\u001b[0;32m      3\u001b[0m \u001b[1;32mexcept\u001b[0m \u001b[0mValueError\u001b[0m\u001b[1;33m:\u001b[0m\u001b[1;33m\u001b[0m\u001b[1;33m\u001b[0m\u001b[0m\n\u001b[0;32m      4\u001b[0m     \u001b[0mprint\u001b[0m\u001b[1;33m(\u001b[0m\u001b[1;34m\"value error\"\u001b[0m\u001b[1;33m)\u001b[0m\u001b[1;33m\u001b[0m\u001b[1;33m\u001b[0m\u001b[0m\n\u001b[0;32m      5\u001b[0m \u001b[1;32mfinally\u001b[0m\u001b[1;33m:\u001b[0m\u001b[1;33m\u001b[0m\u001b[1;33m\u001b[0m\u001b[0m\n",
      "\u001b[1;31mZeroDivisionError\u001b[0m: division by zero"
     ]
    }
   ],
   "source": [
    "try:\n",
    "    print(1 / 0)\n",
    "except ValueError:\n",
    "    print(\"value error\")\n",
    "finally:\n",
    "    print(\"ok\")"
   ]
  },
  {
   "cell_type": "markdown",
   "id": "3092c5b0",
   "metadata": {},
   "source": [
    "---\n",
    "Если в функции есть **return** какого-то значения в блоке **finally**, то вернётся именно это значение, независимо от того, есть ли return раньше"
   ]
  },
  {
   "cell_type": "markdown",
   "id": "0de26b2b",
   "metadata": {},
   "source": [
    "def test(x):\n",
    "    try:\n",
    "        x += 1\n",
    "        return x\n",
    "    except:\n",
    "        return 100\n",
    "    finally:\n",
    "        return 1000"
   ]
  },
  {
   "cell_type": "code",
   "execution_count": 18,
   "id": "16b9674d",
   "metadata": {},
   "outputs": [
    {
     "data": {
      "text/plain": [
       "1000"
      ]
     },
     "execution_count": 18,
     "metadata": {},
     "output_type": "execute_result"
    }
   ],
   "source": [
    "test(\"str\")"
   ]
  },
  {
   "cell_type": "code",
   "execution_count": 19,
   "id": "80ed62b2",
   "metadata": {},
   "outputs": [
    {
     "data": {
      "text/plain": [
       "1000"
      ]
     },
     "execution_count": 19,
     "metadata": {},
     "output_type": "execute_result"
    }
   ],
   "source": [
    "test(1)"
   ]
  },
  {
   "cell_type": "markdown",
   "id": "c690e761",
   "metadata": {},
   "source": [
    "---\n",
    "### Вызов исключений\n",
    "---\n",
    "\n",
    "Вы можете вызывать исключения с помощью инструкции **raise**."
   ]
  },
  {
   "cell_type": "code",
   "execution_count": 20,
   "id": "569a38a7",
   "metadata": {},
   "outputs": [
    {
     "name": "stdout",
     "output_type": "stream",
     "text": [
      "1\n"
     ]
    },
    {
     "ename": "ValueError",
     "evalue": "",
     "output_type": "error",
     "traceback": [
      "\u001b[1;31m---------------------------------------------------------------------------\u001b[0m",
      "\u001b[1;31mValueError\u001b[0m                                Traceback (most recent call last)",
      "\u001b[1;32m<ipython-input-20-990863ff3a0f>\u001b[0m in \u001b[0;36m<module>\u001b[1;34m\u001b[0m\n\u001b[0;32m      1\u001b[0m \u001b[0mprint\u001b[0m\u001b[1;33m(\u001b[0m\u001b[1;36m1\u001b[0m\u001b[1;33m)\u001b[0m\u001b[1;33m\u001b[0m\u001b[1;33m\u001b[0m\u001b[0m\n\u001b[1;32m----> 2\u001b[1;33m \u001b[1;32mraise\u001b[0m \u001b[0mValueError\u001b[0m\u001b[1;33m\u001b[0m\u001b[1;33m\u001b[0m\u001b[0m\n\u001b[0m\u001b[0;32m      3\u001b[0m \u001b[0mprint\u001b[0m\u001b[1;33m(\u001b[0m\u001b[1;36m2\u001b[0m\u001b[1;33m)\u001b[0m\u001b[1;33m\u001b[0m\u001b[1;33m\u001b[0m\u001b[0m\n",
      "\u001b[1;31mValueError\u001b[0m: "
     ]
    }
   ],
   "source": [
    "print(1)\n",
    "raise ValueError\n",
    "print(2)"
   ]
  },
  {
   "cell_type": "markdown",
   "id": "b0daac88",
   "metadata": {},
   "source": [
    ">Нужно указать **тип** исключения, которое будет вызвано."
   ]
  },
  {
   "cell_type": "markdown",
   "id": "8023450a",
   "metadata": {},
   "source": [
    "Исключение можно вызвать с указанием аргумента, который представляет собой ее описание."
   ]
  },
  {
   "cell_type": "code",
   "execution_count": 22,
   "id": "ccffbe07",
   "metadata": {},
   "outputs": [
    {
     "ename": "NameError",
     "evalue": "Invalid name",
     "output_type": "error",
     "traceback": [
      "\u001b[1;31m---------------------------------------------------------------------------\u001b[0m",
      "\u001b[1;31mNameError\u001b[0m                                 Traceback (most recent call last)",
      "\u001b[1;32m<ipython-input-22-6878404985f2>\u001b[0m in \u001b[0;36m<module>\u001b[1;34m\u001b[0m\n\u001b[0;32m      1\u001b[0m \u001b[0mname\u001b[0m \u001b[1;33m=\u001b[0m \u001b[1;34m\"22\"\u001b[0m\u001b[1;33m\u001b[0m\u001b[1;33m\u001b[0m\u001b[0m\n\u001b[1;32m----> 2\u001b[1;33m \u001b[1;32mraise\u001b[0m \u001b[0mNameError\u001b[0m\u001b[1;33m(\u001b[0m\u001b[1;34m\"Invalid name\"\u001b[0m\u001b[1;33m)\u001b[0m\u001b[1;33m\u001b[0m\u001b[1;33m\u001b[0m\u001b[0m\n\u001b[0m",
      "\u001b[1;31mNameError\u001b[0m: Invalid name"
     ]
    }
   ],
   "source": [
    "name = \"22\"\n",
    "raise NameError(\"Invalid name\")"
   ]
  },
  {
   "cell_type": "markdown",
   "id": "b810999a",
   "metadata": {},
   "source": [
    "В блоках **except** инструкция **raise** может использоваться без аргументов, тогда будет повторно вызвано предыдущее исключение."
   ]
  },
  {
   "cell_type": "code",
   "execution_count": 23,
   "id": "ef768cf1",
   "metadata": {},
   "outputs": [
    {
     "name": "stdout",
     "output_type": "stream",
     "text": [
      "Error\n"
     ]
    },
    {
     "ename": "ZeroDivisionError",
     "evalue": "division by zero",
     "output_type": "error",
     "traceback": [
      "\u001b[1;31m---------------------------------------------------------------------------\u001b[0m",
      "\u001b[1;31mZeroDivisionError\u001b[0m                         Traceback (most recent call last)",
      "\u001b[1;32m<ipython-input-23-4c323dc9fa1d>\u001b[0m in \u001b[0;36m<module>\u001b[1;34m\u001b[0m\n\u001b[0;32m      1\u001b[0m \u001b[1;32mtry\u001b[0m\u001b[1;33m:\u001b[0m\u001b[1;33m\u001b[0m\u001b[1;33m\u001b[0m\u001b[0m\n\u001b[1;32m----> 2\u001b[1;33m     \u001b[0mx\u001b[0m \u001b[1;33m=\u001b[0m \u001b[1;36m1\u001b[0m \u001b[1;33m/\u001b[0m \u001b[1;36m0\u001b[0m\u001b[1;33m\u001b[0m\u001b[1;33m\u001b[0m\u001b[0m\n\u001b[0m\u001b[0;32m      3\u001b[0m \u001b[1;32mexcept\u001b[0m\u001b[1;33m:\u001b[0m\u001b[1;33m\u001b[0m\u001b[1;33m\u001b[0m\u001b[0m\n\u001b[0;32m      4\u001b[0m     \u001b[0mprint\u001b[0m\u001b[1;33m(\u001b[0m\u001b[1;34m\"Error\"\u001b[0m\u001b[1;33m)\u001b[0m\u001b[1;33m\u001b[0m\u001b[1;33m\u001b[0m\u001b[0m\n\u001b[0;32m      5\u001b[0m     \u001b[1;32mraise\u001b[0m\u001b[1;33m\u001b[0m\u001b[1;33m\u001b[0m\u001b[0m\n",
      "\u001b[1;31mZeroDivisionError\u001b[0m: division by zero"
     ]
    }
   ],
   "source": [
    "try:\n",
    "    x = 1 / 0\n",
    "except:\n",
    "    print(\"Error\")\n",
    "    raise"
   ]
  },
  {
   "cell_type": "markdown",
   "id": "5e3740c9",
   "metadata": {},
   "source": [
    "---\n",
    "### assert\n",
    "---\n",
    "\n",
    "**Утверждение** - это проверка правильности кода; ее можно включить или выключить по завершению тестирования программы.\n",
    "Выражение проверяется, и если оно ложное, вызывается исключение.  \n",
    "Утверждения создаются с помощью инструкции **assert**."
   ]
  },
  {
   "cell_type": "code",
   "execution_count": 24,
   "id": "b96945ff",
   "metadata": {},
   "outputs": [
    {
     "name": "stdout",
     "output_type": "stream",
     "text": [
      "1\n",
      "2\n"
     ]
    },
    {
     "ename": "AssertionError",
     "evalue": "",
     "output_type": "error",
     "traceback": [
      "\u001b[1;31m---------------------------------------------------------------------------\u001b[0m",
      "\u001b[1;31mAssertionError\u001b[0m                            Traceback (most recent call last)",
      "\u001b[1;32m<ipython-input-24-316d9c3ff0cf>\u001b[0m in \u001b[0;36m<module>\u001b[1;34m\u001b[0m\n\u001b[0;32m      2\u001b[0m \u001b[1;32massert\u001b[0m \u001b[1;36m2\u001b[0m \u001b[1;33m+\u001b[0m \u001b[1;36m2\u001b[0m \u001b[1;33m==\u001b[0m \u001b[1;36m4\u001b[0m\u001b[1;33m\u001b[0m\u001b[1;33m\u001b[0m\u001b[0m\n\u001b[0;32m      3\u001b[0m \u001b[0mprint\u001b[0m\u001b[1;33m(\u001b[0m\u001b[1;36m2\u001b[0m\u001b[1;33m)\u001b[0m\u001b[1;33m\u001b[0m\u001b[1;33m\u001b[0m\u001b[0m\n\u001b[1;32m----> 4\u001b[1;33m \u001b[1;32massert\u001b[0m \u001b[1;36m2\u001b[0m \u001b[1;33m+\u001b[0m \u001b[1;36m2\u001b[0m \u001b[1;33m==\u001b[0m \u001b[1;36m5\u001b[0m\u001b[1;33m\u001b[0m\u001b[1;33m\u001b[0m\u001b[0m\n\u001b[0m\u001b[0;32m      5\u001b[0m \u001b[0mprint\u001b[0m\u001b[1;33m(\u001b[0m\u001b[1;36m3\u001b[0m\u001b[1;33m)\u001b[0m\u001b[1;33m\u001b[0m\u001b[1;33m\u001b[0m\u001b[0m\n",
      "\u001b[1;31mAssertionError\u001b[0m: "
     ]
    }
   ],
   "source": [
    "print(1)\n",
    "assert 2 + 2 == 4\n",
    "print(2)\n",
    "assert 2 + 2 == 5\n",
    "print(3)"
   ]
  },
  {
   "cell_type": "markdown",
   "id": "8dd068d1",
   "metadata": {},
   "source": [
    ">Утверждения часто размещают в заголовке функции, чтобы проверить правильность ввода, а также после вызова функции для проверки правильности вывода.\n",
    "\n",
    "---"
   ]
  },
  {
   "cell_type": "markdown",
   "id": "026dd938",
   "metadata": {},
   "source": [
    "Утверждениям можно давать второй аргумент, который передается в блок **AssertionError**, выполняемый в случае ложности утверждения."
   ]
  },
  {
   "cell_type": "code",
   "execution_count": 25,
   "id": "3109425e",
   "metadata": {},
   "outputs": [
    {
     "ename": "AssertionError",
     "evalue": "Sub zero",
     "output_type": "error",
     "traceback": [
      "\u001b[1;31m---------------------------------------------------------------------------\u001b[0m",
      "\u001b[1;31mAssertionError\u001b[0m                            Traceback (most recent call last)",
      "\u001b[1;32m<ipython-input-25-3fb7e6b67086>\u001b[0m in \u001b[0;36m<module>\u001b[1;34m\u001b[0m\n\u001b[0;32m      1\u001b[0m \u001b[0mtemp\u001b[0m \u001b[1;33m=\u001b[0m \u001b[1;33m-\u001b[0m\u001b[1;36m1\u001b[0m\u001b[1;33m\u001b[0m\u001b[1;33m\u001b[0m\u001b[0m\n\u001b[0;32m      2\u001b[0m \u001b[1;33m\u001b[0m\u001b[0m\n\u001b[1;32m----> 3\u001b[1;33m \u001b[1;32massert\u001b[0m \u001b[1;33m(\u001b[0m\u001b[0mtemp\u001b[0m \u001b[1;33m>=\u001b[0m \u001b[1;36m0\u001b[0m\u001b[1;33m)\u001b[0m\u001b[1;33m,\u001b[0m \u001b[1;34m\"Sub zero\"\u001b[0m\u001b[1;33m\u001b[0m\u001b[1;33m\u001b[0m\u001b[0m\n\u001b[0m",
      "\u001b[1;31mAssertionError\u001b[0m: Sub zero"
     ]
    }
   ],
   "source": [
    "temp = -1\n",
    "\n",
    "assert (temp >= 0), \"Sub zero\""
   ]
  },
  {
   "cell_type": "markdown",
   "id": "90349d70",
   "metadata": {},
   "source": [
    ">Исключения **AssertionError** могут быть перехвачены и обработаны, как и любое другое исключение, с помощью инструкции **try/except**. Если же **AssertionError** не обрабатывается, этот класс исключений приводит к остановке программы.\n",
    "\n",
    "---"
   ]
  },
  {
   "cell_type": "markdown",
   "id": "c25f084b",
   "metadata": {},
   "source": [
    "## Файлы\n",
    "---\n",
    "\n",
    "### Открытие файлов\n",
    "---\n",
    "\n",
    "\n",
    "С помощью Python можно читать и редактировать содержимое **файлов**.  \n",
    "Легче всего работать с текстовыми файлами. Перед редактированием файл нужно открыть, что можно сделать с помощью функции **open**."
   ]
  },
  {
   "cell_type": "code",
   "execution_count": 1,
   "id": "05688210",
   "metadata": {},
   "outputs": [],
   "source": [
    "# myfile = open(\"files/filename.txt\", encoding=\"utf-8\")"
   ]
  },
  {
   "cell_type": "markdown",
   "id": "c205d588",
   "metadata": {},
   "source": [
    ">Аргумент функции open - путь к файлу: полный или относительный\n",
    "Если файл содержит кириллицу, нужно передать encoding=\"utf-8\" в качестве аргумента\n",
    "\n",
    "---"
   ]
  },
  {
   "cell_type": "markdown",
   "id": "5b4c8dd0",
   "metadata": {},
   "source": [
    "Вы можете указать **режим**, в котором нужно открыть файл, добавив второй аргумент в заголовок функции **open**.  \n",
    "Если указать \"r\", файл будет открыт в режиме чтения; этот режим используется по умолчанию;  \n",
    "\n",
    "![]https://raw.githubusercontent.com/letimofeev/python_course/main/core/images/file_modes.png)"
   ]
  },
  {
   "cell_type": "code",
   "execution_count": 2,
   "id": "def907a1",
   "metadata": {},
   "outputs": [],
   "source": [
    "# write mode\n",
    "# open(\"filename.txt\", \"w\")"
   ]
  },
  {
   "cell_type": "code",
   "execution_count": 3,
   "id": "1b208e03",
   "metadata": {},
   "outputs": [],
   "source": [
    "# read mode\n",
    "# open(\"filename.txt\", \"r\")"
   ]
  },
  {
   "cell_type": "code",
   "execution_count": 4,
   "id": "97353d05",
   "metadata": {},
   "outputs": [],
   "source": [
    "# binary write mode\n",
    "# open(\"filename.txt\", \"wb\")"
   ]
  },
  {
   "cell_type": "markdown",
   "id": "e6705a6b",
   "metadata": {},
   "source": [
    "---\n",
    "После того, как вы открыли файл и поработали с ним, его нужно закрыть.\n",
    "Это делается с помощью метода **close**, указанного в качестве объекта файла."
   ]
  },
  {
   "cell_type": "code",
   "execution_count": 7,
   "id": "4b2cc9e1",
   "metadata": {},
   "outputs": [],
   "source": [
    "file = open(\"files/filename.txt\", \"r\")\n",
    "# do something\n",
    "file.close()"
   ]
  },
  {
   "cell_type": "markdown",
   "id": "f8a53f81",
   "metadata": {},
   "source": [
    "---\n",
    "### Чтение данных из файлов\n",
    "---\n",
    "\n",
    "Содержимое файла, открытого в режиме чтения, можно получить с помощью метода **read**."
   ]
  },
  {
   "cell_type": "code",
   "execution_count": 13,
   "id": "27e74858",
   "metadata": {},
   "outputs": [
    {
     "name": "stdout",
     "output_type": "stream",
     "text": [
      "Питон – это путь обмана, постоянной организации ложных выпадов, распространения дезинформации, использования уловок и хитростей\n",
      "-Сунь-Цзы\n"
     ]
    }
   ],
   "source": [
    "file = open(\"files/filename.txt\", \"r\", encoding=\"utf-8\")\n",
    "\n",
    "file_content = file.read()\n",
    "print(file_content)\n",
    "\n",
    "file.close()"
   ]
  },
  {
   "cell_type": "markdown",
   "id": "75689351",
   "metadata": {},
   "source": [
    ">Программа выведет все содержимое файла \"filename.txt\".\n",
    "\n",
    "---"
   ]
  },
  {
   "cell_type": "markdown",
   "id": "dc15c6f9",
   "metadata": {},
   "source": [
    "Чтобы прочесть только часть данных из файла, в качестве аргумента функции **read** укажите определенное число. Это количество **байтов**, которые будут прочитаны.  \n",
    "При добавлении большего количества команд чтения с того же файлового объекта, содержимое файла будет прочитано дальше байт за байтом. Если не указать ни одного аргумента, **read** возвращает всю оставшуюся часть файла."
   ]
  },
  {
   "cell_type": "code",
   "execution_count": 14,
   "id": "80e46b89",
   "metadata": {},
   "outputs": [
    {
     "name": "stdout",
     "output_type": "stream",
     "text": [
      "Питон – это путь\n",
      " обм\n",
      "ана, пос\n",
      "т\n",
      "оянной организации ложных выпадов, распространения дезинформации, использования уловок и хитростей\n",
      "-Сунь-Цзы\n"
     ]
    }
   ],
   "source": [
    "file = open(\"files/filename.txt\", \"r\", encoding=\"utf-8\")\n",
    "\n",
    "print(file.read(16))\n",
    "print(file.read(4))\n",
    "print(file.read(8))\n",
    "print(file.read(1))\n",
    "print(file.read())\n",
    "\n",
    "file.close()"
   ]
  },
  {
   "cell_type": "markdown",
   "id": "ce542c3c",
   "metadata": {},
   "source": [
    ">Как и без аргументов, отрицательные значения возвращают все содержимое.\n",
    "\n",
    "---"
   ]
  },
  {
   "cell_type": "markdown",
   "id": "3401a03e",
   "metadata": {},
   "source": [
    "После того как все содержимое файла было прочитано, дальнейшие вызовы метода чтения данных из файла будут возвращать пустую строку, потому что в данном случае, чтение данных будет производиться с конца файла."
   ]
  },
  {
   "cell_type": "code",
   "execution_count": 15,
   "id": "dffb6e9c",
   "metadata": {},
   "outputs": [
    {
     "name": "stdout",
     "output_type": "stream",
     "text": [
      "One more time\n",
      "\n",
      "Finished\n"
     ]
    }
   ],
   "source": [
    "file = open(\"files/filename.txt\", \"r\", encoding=\"utf-8\")\n",
    "\n",
    "file.read()\n",
    "print(\"One more time\")\n",
    "print(file.read())\n",
    "print(\"Finished\")\n",
    "\n",
    "file.close()"
   ]
  },
  {
   "cell_type": "markdown",
   "id": "4a565e4f",
   "metadata": {},
   "source": [
    "---\n",
    "Чтобы получить каждую строку содержимого файла, используйте метод **readlines**, который возвращает список, где каждый элемент является строкой файла."
   ]
  },
  {
   "cell_type": "code",
   "execution_count": 16,
   "id": "2c85f955",
   "metadata": {},
   "outputs": [
    {
     "name": "stdout",
     "output_type": "stream",
     "text": [
      "['Питон – это путь обмана, постоянной организации ложных выпадов, распространения дезинформации, использования уловок и хитростей\\n', '-Сунь-Цзы']\n"
     ]
    }
   ],
   "source": [
    "file = open(\"files/filename.txt\", \"r\", encoding=\"utf-8\")\n",
    "\n",
    "print(file.readlines())\n",
    "\n",
    "file.close()"
   ]
  },
  {
   "cell_type": "markdown",
   "id": "3932477a",
   "metadata": {},
   "source": [
    "---\n",
    "Также можно использовать цикл for для перебора строк файла:"
   ]
  },
  {
   "cell_type": "code",
   "execution_count": 17,
   "id": "59cc531c",
   "metadata": {},
   "outputs": [
    {
     "name": "stdout",
     "output_type": "stream",
     "text": [
      "Питон – это путь обмана, постоянной организации ложных выпадов, распространения дезинформации, использования уловок и хитростей\n",
      "\n",
      "-Сунь-Цзы\n"
     ]
    }
   ],
   "source": [
    "file = open(\"files/filename.txt\", \"r\", encoding=\"utf-8\")\n",
    "\n",
    "for line in file.readlines():\n",
    "    print(line)\n",
    "\n",
    "file.close()"
   ]
  },
  {
   "cell_type": "markdown",
   "id": "9ad06549",
   "metadata": {},
   "source": [
    ">В выведенном результате можно увидеть, что значения разделены пустыми строками, так как функция **print** автоматически добавляет новую строку после очередного вывода.\n",
    "\n",
    "---"
   ]
  },
  {
   "cell_type": "markdown",
   "id": "f89be579",
   "metadata": {},
   "source": [
    "### Запись в файл\n",
    "---\n",
    "\n",
    "Запись в файл осуществляется методом **write**. В файл будет записана строка кода."
   ]
  },
  {
   "cell_type": "code",
   "execution_count": 19,
   "id": "6e1e473c",
   "metadata": {},
   "outputs": [],
   "source": [
    "file = open(\"files/newfile.txt\", \"w\")\n",
    "file.write(\"Something \\nInteresting\")\n",
    "file.close()"
   ]
  },
  {
   "cell_type": "code",
   "execution_count": 21,
   "id": "740ec6b1",
   "metadata": {},
   "outputs": [
    {
     "name": "stdout",
     "output_type": "stream",
     "text": [
      "Something \n",
      "Interesting\n"
     ]
    }
   ],
   "source": [
    "file = open(\"files/newfile.txt\", \"r\")\n",
    "print(file.read())\n",
    "file.close()"
   ]
  },
  {
   "cell_type": "markdown",
   "id": "b1896b2d",
   "metadata": {},
   "source": [
    ">В режиме \"w\" (\"a\") будет создан файл, если он еще не был создан.\n",
    "\n",
    "---"
   ]
  },
  {
   "cell_type": "markdown",
   "id": "9788b4aa",
   "metadata": {},
   "source": [
    "Когда файл открывается в режиме \"w\", все существующее содержимое файла удаляется.  "
   ]
  },
  {
   "cell_type": "code",
   "execution_count": 31,
   "id": "3508ca9a",
   "metadata": {},
   "outputs": [],
   "source": [
    "file = open(\"files/newfile.txt\", \"w\")\n",
    "file.write(\"Something\")\n",
    "file.close()"
   ]
  },
  {
   "cell_type": "code",
   "execution_count": 38,
   "id": "af742217",
   "metadata": {},
   "outputs": [],
   "source": [
    "file = open(\"files/newfile.txt\", \"w\")\n",
    "file.close()"
   ]
  },
  {
   "cell_type": "code",
   "execution_count": 39,
   "id": "df9e20e6",
   "metadata": {},
   "outputs": [
    {
     "name": "stdout",
     "output_type": "stream",
     "text": [
      "\n"
     ]
    }
   ],
   "source": [
    "file = open(\"files/newfile.txt\", \"r\")\n",
    "print(file.read())\n",
    "file.close()"
   ]
  },
  {
   "cell_type": "markdown",
   "id": "197c6517",
   "metadata": {},
   "source": [
    "---\n",
    "Чтобы добавить что-то в конец файла, нужно открыть его в режиме \"a\""
   ]
  },
  {
   "cell_type": "code",
   "execution_count": 40,
   "id": "e4e235c4",
   "metadata": {},
   "outputs": [],
   "source": [
    "file = open(\"files/newfile.txt\", \"a\")\n",
    "file.write(\"Something\")\n",
    "file.close()"
   ]
  },
  {
   "cell_type": "code",
   "execution_count": 41,
   "id": "6807a013",
   "metadata": {},
   "outputs": [],
   "source": [
    "file = open(\"files/newfile.txt\", \"a\")\n",
    "file.write(\" and again\")\n",
    "file.close()"
   ]
  },
  {
   "cell_type": "code",
   "execution_count": 42,
   "id": "8a177152",
   "metadata": {},
   "outputs": [
    {
     "name": "stdout",
     "output_type": "stream",
     "text": [
      "Something and again\n"
     ]
    }
   ],
   "source": [
    "file = open(\"files/newfile.txt\", \"r\")\n",
    "print(file.read())\n",
    "file.close()"
   ]
  },
  {
   "cell_type": "markdown",
   "id": "bb951e0c",
   "metadata": {},
   "source": [
    "---\n",
    "Метод write в случае успеха возвращает количество байт, записанных в файле."
   ]
  },
  {
   "cell_type": "code",
   "execution_count": 45,
   "id": "5032edf0",
   "metadata": {},
   "outputs": [
    {
     "name": "stdout",
     "output_type": "stream",
     "text": [
      "11\n"
     ]
    }
   ],
   "source": [
    "text = \" and again \"\n",
    "\n",
    "file = open(\"files/newfile.txt\", \"w\")\n",
    "count = file.write(text)\n",
    "print(count)\n",
    "file.close()"
   ]
  },
  {
   "cell_type": "markdown",
   "id": "a2aa5bac",
   "metadata": {},
   "source": [
    ">Чтобы написать что-то другое, отличное от строки, оно сначала должно быть преобразовано в строку\n",
    "\n",
    "---"
   ]
  },
  {
   "cell_type": "markdown",
   "id": "b224f706",
   "metadata": {},
   "source": [
    "### Работаем с файлами\n",
    "---\n",
    "\n",
    "С целью рационального использования ресурсов обычно рекомендуется всегда закрывать файлы после работы с ними. Для этого можно использовать **try и finally**."
   ]
  },
  {
   "cell_type": "code",
   "execution_count": 46,
   "id": "74da280b",
   "metadata": {},
   "outputs": [],
   "source": [
    "try:\n",
    "    f = open(\"files/filename.txt\")\n",
    "    # do something\n",
    "finally:\n",
    "    f.close()"
   ]
  },
  {
   "cell_type": "markdown",
   "id": "fb47bec0",
   "metadata": {},
   "source": [
    ">Так файл всегда будет закрыт, даже если произойдет ошибка.\n",
    "\n",
    "---"
   ]
  },
  {
   "cell_type": "markdown",
   "id": "ed0233a8",
   "metadata": {},
   "source": [
    "Еще один способ сделать это - с помощью инструкции **with**. Создается временная переменная (часто называемая f), размещаемая в ветви инструкции **with**."
   ]
  },
  {
   "cell_type": "code",
   "execution_count": 48,
   "id": "0517b909",
   "metadata": {},
   "outputs": [
    {
     "name": "stdout",
     "output_type": "stream",
     "text": [
      "Питон – это путь обмана, постоянной организации ложных выпадов, распространения дезинформации, использования уловок и хитростей\n",
      "-Сунь-Цзы\n"
     ]
    }
   ],
   "source": [
    "with open(\"files/filename.txt\", encoding=\"utf-8\") as f:\n",
    "    print(f.read())"
   ]
  },
  {
   "cell_type": "markdown",
   "id": "7227e3dc",
   "metadata": {},
   "source": [
    ">Файл автоматически закрывается после выполнения инструкции **with**, даже если возникают исключения.\n",
    "\n",
    "---"
   ]
  }
 ],
 "metadata": {
  "kernelspec": {
   "display_name": "Python 3",
   "language": "python",
   "name": "python3"
  },
  "language_info": {
   "codemirror_mode": {
    "name": "ipython",
    "version": 3
   },
   "file_extension": ".py",
   "mimetype": "text/x-python",
   "name": "python",
   "nbconvert_exporter": "python",
   "pygments_lexer": "ipython3",
   "version": "3.8.8"
  }
 },
 "nbformat": 4,
 "nbformat_minor": 5
}
