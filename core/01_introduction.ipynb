{
 "cells": [
  {
   "cell_type": "markdown",
   "metadata": {},
   "source": [
    "# Введение\n",
    "---\n",
    "\n",
    "# Содержание\n",
    "\n",
    "* [Почему Python?](#Почему-Python?)\n",
    "\n",
    "* [Добро пожаловать в Python](#Добро-пожаловать-в-Python)\n",
    "    * [Простые операции](#Простые-операции)\n",
    "    * [Числа с плавающей точкой](#Числа-с-плавающей-точкой)\n",
    "    * [Возведение в степень](#Возведение-в-степень)\n",
    "    * [Целочисленное деление](#Целочисленное-деление)\n",
    "\n",
    "* [Побитовые операторы (дополнительно)](#Побитовые-операторы)\n",
    "    * [Побитовое И](#&)\n",
    "    * [Побитовое ИЛИ](#|)\n",
    "    * [XOR](#^)\n",
    "    * [Побитовый сдвиг влево](#<<)\n",
    "    * [Побитовый сдвиг вправо](#>>)\n",
    "    * [Побитовое НЕ](#~)\n",
    "\n",
    "---"
   ]
  },
  {
   "cell_type": "markdown",
   "metadata": {},
   "source": [
    "## Почему Python?\n",
    "\n",
    "<b>Python</b> - это высокоуровневый язык программирования, который широко применяется в веб-разработке, сценариях, научных вычислениях, программах искусственного интеллекта и других областях.\n",
    "\n",
    "Язык очень популярен и используется такими организациями, как Google, NASA, CIA и Disney.\n",
    "\n",
    "---"
   ]
  },
  {
   "cell_type": "markdown",
   "metadata": {},
   "source": [
    "## Добро пожаловать в Python\n",
    "\n",
    "Начнем с создания программы, которая выведет на экран фразу \"Hello World!\". \n",
    "В Python для вывода используется функция <b>print()</b>\n",
    "\n",
    "---"
   ]
  },
  {
   "cell_type": "code",
   "execution_count": 1,
   "metadata": {},
   "outputs": [
    {
     "name": "stdout",
     "output_type": "stream",
     "text": [
      "Hello World!\n"
     ]
    }
   ],
   "source": [
    "print(\"Hello World!\")"
   ]
  },
  {
   "cell_type": "markdown",
   "metadata": {},
   "source": [
    "Каждый вызов функции <b>print()</b> выводит текст с новой строки"
   ]
  },
  {
   "cell_type": "code",
   "execution_count": 2,
   "metadata": {},
   "outputs": [
    {
     "name": "stdout",
     "output_type": "stream",
     "text": [
      "Mem\n",
      "Kek\n"
     ]
    }
   ],
   "source": [
    "print(\"Mem\")\n",
    "print(\"Kek\")"
   ]
  },
  {
   "cell_type": "markdown",
   "metadata": {},
   "source": [
    "### Простые операции\n",
    "\n",
    "---\n",
    "\n",
    "Можно вводить в функцию <b>print()</b> выражение, и она выдаст результат"
   ]
  },
  {
   "cell_type": "code",
   "execution_count": 7,
   "metadata": {},
   "outputs": [
    {
     "name": "stdout",
     "output_type": "stream",
     "text": [
      "6\n"
     ]
    }
   ],
   "source": [
    "print(3 + 4 - 1)"
   ]
  },
  {
   "cell_type": "markdown",
   "metadata": {},
   "source": [
    "Для операций умножения и деления используются звездочка (*) и косая черта (/) соответственно"
   ]
  },
  {
   "cell_type": "code",
   "execution_count": 8,
   "metadata": {},
   "outputs": [
    {
     "name": "stdout",
     "output_type": "stream",
     "text": [
      "6\n",
      "4.0\n"
     ]
    }
   ],
   "source": [
    "print(2 * (1 + 2))\n",
    "print(8 / 2)"
   ]
  },
  {
   "cell_type": "markdown",
   "metadata": {},
   "source": [
    "В результате деления получаеся число с плавающей точкой <b>float</b>\n",
    "\n",
    "\n",
    "### Числа с плавающей точкой\n",
    "\n",
    "---\n",
    "\n",
    "Числами с плавающей точкой (<b>float</b>) в Python называются нецелые числа. Например, это такие числа, как 0.5 и -7.8237591.\n",
    "Они могут быть созданы непосредственно путем ввода десятичных чисел, либо с помощью таких операций, как деление целых чисел."
   ]
  },
  {
   "cell_type": "code",
   "execution_count": 11,
   "metadata": {},
   "outputs": [
    {
     "name": "stdout",
     "output_type": "stream",
     "text": [
      "0.5\n",
      "0.47\n"
     ]
    }
   ],
   "source": [
    "print(2 / 4)\n",
    "print(0.47)"
   ]
  },
  {
   "cell_type": "markdown",
   "metadata": {},
   "source": [
    "Помните, что точность float ограничена"
   ]
  },
  {
   "cell_type": "code",
   "execution_count": 13,
   "metadata": {},
   "outputs": [
    {
     "name": "stdout",
     "output_type": "stream",
     "text": [
      "0.3333333333333333\n",
      "0.2857142857142857\n"
     ]
    }
   ],
   "source": [
    "print(1 / 3)\n",
    "print(2 / 7)"
   ]
  },
  {
   "cell_type": "markdown",
   "metadata": {},
   "source": [
    "Как ранее упоминалось, в результате деления любого целого числа на другое целое мы получаем вещественные числа.\n",
    "Такие числа также производятся путем операции с двумя вещественными числами или с вещественным и целым числом."
   ]
  },
  {
   "cell_type": "code",
   "execution_count": 15,
   "metadata": {},
   "outputs": [
    {
     "name": "stdout",
     "output_type": "stream",
     "text": [
      "2.0\n",
      "6.0\n",
      "3.6\n"
     ]
    }
   ],
   "source": [
    "print(8 / 4)\n",
    "print(6 * 1.)  # 0 после точки писать не обязательно, 1. = 1.0\n",
    "print(1 + 2.6)"
   ]
  },
  {
   "cell_type": "markdown",
   "metadata": {},
   "source": [
    "### Возведение в степень\n",
    "\n",
    "---\n",
    "\n",
    "Для возведения в степень используется оператор <b>**<b/>"
   ]
  },
  {
   "cell_type": "code",
   "execution_count": 16,
   "metadata": {},
   "outputs": [
    {
     "name": "stdout",
     "output_type": "stream",
     "text": [
      "32\n"
     ]
    }
   ],
   "source": [
    "print(2 ** 5)"
   ]
  },
  {
   "cell_type": "markdown",
   "metadata": {},
   "source": [
    "Вы можете объединить экспоненты вместе"
   ]
  },
  {
   "cell_type": "code",
   "execution_count": 22,
   "metadata": {},
   "outputs": [
    {
     "name": "stdout",
     "output_type": "stream",
     "text": [
      "256\n"
     ]
    }
   ],
   "source": [
    "print(2**2**3)  # 2**2**3 = 2**(2**3)"
   ]
  },
  {
   "cell_type": "markdown",
   "metadata": {},
   "source": [
    "Возводить в степень можно и числа с плавающей точкой. В результате вы получите число с плавающей точкой\n",
    "\n",
    "Например, этот код можно использовать для получения квадратного корня из 9:"
   ]
  },
  {
   "cell_type": "code",
   "execution_count": 1,
   "metadata": {},
   "outputs": [
    {
     "name": "stdout",
     "output_type": "stream",
     "text": [
      "3.0\n"
     ]
    }
   ],
   "source": [
    "print(9 ** (1 / 2))"
   ]
  },
  {
   "cell_type": "markdown",
   "metadata": {},
   "source": [
    "> Обратите внимание на скобки, приоритет у возведения в степень выше чем у деления. Подробнее про приоритеты будет позже"
   ]
  },
  {
   "cell_type": "markdown",
   "metadata": {},
   "source": [
    "### Целочисленное деление \n",
    "\n",
    "---\n",
    "\n",
    "Целочисленное деление осуществляется с помощью двух косых черт (//) и используется для определения частного (полного результата деления одного числа на другое)."
   ]
  },
  {
   "cell_type": "code",
   "execution_count": 24,
   "metadata": {},
   "outputs": [
    {
     "name": "stdout",
     "output_type": "stream",
     "text": [
      "6\n"
     ]
    }
   ],
   "source": [
    "print(20 // 3)"
   ]
  },
  {
   "cell_type": "markdown",
   "metadata": {},
   "source": [
    "Можно осуществлять целочисленное деление с числами с плавающей точкой. В результате выполнения будет float"
   ]
  },
  {
   "cell_type": "code",
   "execution_count": 26,
   "metadata": {},
   "outputs": [
    {
     "name": "stdout",
     "output_type": "stream",
     "text": [
      "6.0\n"
     ]
    }
   ],
   "source": [
    "print(20. // 3)"
   ]
  },
  {
   "cell_type": "markdown",
   "metadata": {},
   "source": [
    "Операция деление по модулю осуществляется с помощью символа процента (%) и используется для определия остатка от деления."
   ]
  },
  {
   "cell_type": "code",
   "execution_count": 33,
   "metadata": {},
   "outputs": [
    {
     "name": "stdout",
     "output_type": "stream",
     "text": [
      "2\n",
      "0.25\n"
     ]
    }
   ],
   "source": [
    "print(20 % 6)\n",
    "print(20.25 % 5)"
   ]
  },
  {
   "cell_type": "markdown",
   "metadata": {},
   "source": [
    "Пример ошибки точности float"
   ]
  },
  {
   "cell_type": "code",
   "execution_count": 36,
   "metadata": {},
   "outputs": [
    {
     "name": "stdout",
     "output_type": "stream",
     "text": [
      "2.3999999999999986\n",
      "1.0999999999999996\n"
     ]
    }
   ],
   "source": [
    "print(20.4 % 6)\n",
    "print(11.1 % 2)"
   ]
  },
  {
   "cell_type": "markdown",
   "metadata": {},
   "source": [
    "## Побитовые операторы\n",
    "\n",
    "---\n",
    "\n",
    "Предположим, что у нас есть два числа a = 60; и b = 13. В двоичном формате они будут иметь следующий вид:\n",
    "\n",
    "a = 0011 1100\n",
    "\n",
    "b = 0000 1101\n",
    "\n",
    "---\n",
    "\n",
    "### &\n",
    "\n",
    "Бинарный \"И\" оператор, копирует бит в результат только если бит присутствует в обоих операндах.\n",
    "\n",
    "(a & b) даст нам 12, которое в двоичном формате выглядит так 0000 1100"
   ]
  },
  {
   "cell_type": "code",
   "execution_count": 49,
   "metadata": {},
   "outputs": [
    {
     "name": "stdout",
     "output_type": "stream",
     "text": [
      "12\n"
     ]
    }
   ],
   "source": [
    "print(60 & 13)"
   ]
  },
  {
   "cell_type": "markdown",
   "metadata": {},
   "source": [
    "### |\n",
    "\n",
    "Бинарный \"ИЛИ\" оператор копирует бит, если тот присутствует в хотя бы в одном операнде.\n",
    "\n",
    "(a | b) даст нам 61, в двоичном формате 0011 1101"
   ]
  },
  {
   "cell_type": "code",
   "execution_count": 51,
   "metadata": {},
   "outputs": [
    {
     "name": "stdout",
     "output_type": "stream",
     "text": [
      "61\n"
     ]
    }
   ],
   "source": [
    "print(60 | 13)"
   ]
  },
  {
   "cell_type": "markdown",
   "metadata": {},
   "source": [
    "### ^\n",
    "\n",
    "Бинарный \"Исключительное ИЛИ\" оператор копирует бит только если бит присутствует в одном из операндов, но не в обоих сразу.\n",
    "\n",
    "(a ^ b) даст нам 49, в двоичном формате 0011 0001"
   ]
  },
  {
   "cell_type": "code",
   "execution_count": 52,
   "metadata": {},
   "outputs": [
    {
     "name": "stdout",
     "output_type": "stream",
     "text": [
      "49\n"
     ]
    }
   ],
   "source": [
    "print(60 ^ 13)"
   ]
  },
  {
   "cell_type": "markdown",
   "metadata": {},
   "source": [
    "### << \n",
    "\n",
    "Побитовый сдвиг влево. Значение левого операнда \"сдвигается\" влево на количество бит указанных в правом операнде.\n",
    "\n",
    "a << 2 в результате даст 240, в двоичном формате 1111 0000"
   ]
  },
  {
   "cell_type": "code",
   "execution_count": 53,
   "metadata": {},
   "outputs": [
    {
     "name": "stdout",
     "output_type": "stream",
     "text": [
      "240\n"
     ]
    }
   ],
   "source": [
    "print(60 << 2)"
   ]
  },
  {
   "cell_type": "markdown",
   "metadata": {},
   "source": [
    "### >>\n",
    "\n",
    "Побитовый сдвиг вправо. Значение левого операнда \"сдвигается\" вправо на количество бит указанных в правом операнде.\n",
    "\n",
    "a >> 2 даст 15, в двоичном формате  0000 1111"
   ]
  },
  {
   "cell_type": "code",
   "execution_count": 54,
   "metadata": {},
   "outputs": [
    {
     "name": "stdout",
     "output_type": "stream",
     "text": [
      "15\n"
     ]
    }
   ],
   "source": [
    "print(60 >> 2)"
   ]
  },
  {
   "cell_type": "markdown",
   "metadata": {},
   "source": [
    "### ~\n",
    "\n",
    "Бинарный комплиментарный оператор. Является унарным (то есть ему нужен только один операнд) меняет биты на обратные, там где была единица становиться ноль и наоборот.\n",
    "\n",
    "(~a ) даст в результате -61, в двоичном формате выглядит 1100 0011."
   ]
  },
  {
   "cell_type": "code",
   "execution_count": 2,
   "metadata": {},
   "outputs": [
    {
     "name": "stdout",
     "output_type": "stream",
     "text": [
      "-61\n"
     ]
    }
   ],
   "source": [
    "print(~60)"
   ]
  }
 ],
 "metadata": {
  "kernelspec": {
   "display_name": "Python 3",
   "language": "python",
   "name": "python3"
  },
  "language_info": {
   "codemirror_mode": {
    "name": "ipython",
    "version": 3
   },
   "file_extension": ".py",
   "mimetype": "text/x-python",
   "name": "python",
   "nbconvert_exporter": "python",
   "pygments_lexer": "ipython3",
   "version": "3.8.8"
  }
 },
 "nbformat": 4,
 "nbformat_minor": 2
}
