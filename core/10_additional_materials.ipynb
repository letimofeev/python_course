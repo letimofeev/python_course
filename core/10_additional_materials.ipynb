{
 "cells": [
  {
   "cell_type": "markdown",
   "id": "44ed4c63",
   "metadata": {},
   "source": [
    "# Дополнительные материалы\n",
    "---\n",
    "\n",
    "# Содержание\n",
    "\n",
    "* [Дзен Python](#Дзен-Python)\n",
    "\n",
    "* [PEP](#PEP)\n",
    "\n",
    "* [Дополнительно об аргументах](#Дополнительно-об-аргументах)\n",
    "\n",
    "* [Распаковка кортежей](#Распаковка-кортежей)\n",
    "\n",
    "* [Тернарный оператор](#Тернарный-оператор)\n",
    "\n",
    "* [Дополнительно об инструкциях else](#Дополнительно-об-инструкциях-else)\n",
    "\n",
    "* [\\_\\_main\\_\\_](#__main__)\n",
    "\n",
    "* [Библиотеки сторонних разработчиков](#Библиотеки-сторонних-разработчиков)"
   ]
  },
  {
   "cell_type": "markdown",
   "id": "d175f338",
   "metadata": {},
   "source": [
    "## Дзен Python\n",
    "---\n",
    "\n",
    "Умение написать программу, которая на самом деле выполняет свою функцию, - это лишь одно из многих качеств, которые должен иметь хороший Python-программист.  \n",
    "Важно также, чтобы код был чистым и легко понятным даже недели после того, как вы его написали.  \n",
    "\n",
    "Один из способов добиться этого - следовать «Дзен языка Python». Это набор несколько шутливых принципов, своего рода руководство по программированию «по-питонически». Чтобы открыть «Дзен языка Python», используйте команду import this.  \n",
    "\n",
    "Результат:  \n",
    "The Zen of Python, by Tim Peters (Тим Питерс «Дзен языка Python»)  \n",
    "\n",
    "Beautiful is better than ugly (Лучше красиво, чем некрасиво)  \n",
    "Explicit is better than implicit (Лучше явно, чем неявно)  \n",
    "Simple is better than complex (Простой код лучше, чем сложный)  \n",
    "Complex is better than complicated (Сложный код лучше, чем запутанный)  \n",
    "Flat is better than nested (Плоский код лучше, чем вложенный)  \n",
    "Sparse is better than dense (Разреженный код лучше, чем плотный)  \n",
    "Readability counts (Читаемостью нельзя пренебрегать)  \n",
    "Special cases aren't special enough to break the rules (Особые случаи не настолько особенные, чтобы нарушать правила)  \n",
    "Although practicality beats purity (При этом практичность важнее безупречности)  \n",
    "Errors should never pass silently (Ошибки никогда не должны замалчиваться)  \n",
    "Unless explicitly silenced (Замалчивать можно только явно)  \n",
    "In the face of ambiguity, refuse the temptation to guess (Встретив двусмысленность, отбрось искушение угадать)  \n",
    "There should be one-and preferably only one-obvious way to do it (Должен существовать один - и, желательно, только один - очевидный способ сделать что-либо)  \n",
    "Although that way may not be obvious at first unless you're Dutch (Он будет очевиден сразу, только если вы голландец)\n",
    "Now is better than never (Сейчас лучше, чем никогда)  \n",
    "Although never is often better than *right* now (Хотя никогда зачастую лучше, чем прямо сейчас)  \n",
    "If the implementation is hard to explain, it's a bad idea (Если реализацию сложно объяснить - идея плохая)  \n",
    "If the implementation is easy to explain, it may be a good idea (Если реализацию легко объяснить - идея, возможно, хорошая)  \n",
    "Namespaces are one honking great idea-let's do more of those! (Пространства имен отличная штука! Давайте использовать их как можно больше!)  "
   ]
  },
  {
   "cell_type": "code",
   "execution_count": 1,
   "id": "324293fe",
   "metadata": {},
   "outputs": [
    {
     "name": "stdout",
     "output_type": "stream",
     "text": [
      "The Zen of Python, by Tim Peters\n",
      "\n",
      "Beautiful is better than ugly.\n",
      "Explicit is better than implicit.\n",
      "Simple is better than complex.\n",
      "Complex is better than complicated.\n",
      "Flat is better than nested.\n",
      "Sparse is better than dense.\n",
      "Readability counts.\n",
      "Special cases aren't special enough to break the rules.\n",
      "Although practicality beats purity.\n",
      "Errors should never pass silently.\n",
      "Unless explicitly silenced.\n",
      "In the face of ambiguity, refuse the temptation to guess.\n",
      "There should be one-- and preferably only one --obvious way to do it.\n",
      "Although that way may not be obvious at first unless you're Dutch.\n",
      "Now is better than never.\n",
      "Although never is often better than *right* now.\n",
      "If the implementation is hard to explain, it's a bad idea.\n",
      "If the implementation is easy to explain, it may be a good idea.\n",
      "Namespaces are one honking great idea -- let's do more of those!\n"
     ]
    }
   ],
   "source": [
    "import this"
   ]
  },
  {
   "cell_type": "markdown",
   "id": "340a8e56",
   "metadata": {},
   "source": [
    "---\n",
    "Некоторые строки «Дзен языка Python» следует объяснить более подробно.  \n",
    "«Лучше явно, чем неявно»: следует детально описывать ваш код. Именно поэтому при добавлении строки с числами к целому числу требуется явное преобразование - нехорошо, когда это происходит скрыто, как в других языках.  \n",
    "«Плоский код лучше, чем вложенный»: следует избегать многократных вложений (списки списков в других списках и т.д...).  \n",
    "«Ошибки никогда не должны замалчиваться»: при возникновении ошибки нужно вывести сообщение об ошибке, нельзя игнорировать ее.  \n",
    "\n",
    "В «Дзен языка Python» 20 принципов, но только 19 строк с текстом.  \n",
    "Какой двадцатый принцип каждый решает для себя сам.  "
   ]
  },
  {
   "cell_type": "markdown",
   "id": "fa34184d",
   "metadata": {},
   "source": [
    "---\n",
    "## PEP\n",
    "---\n",
    "\n",
    "«**Предложения по развитию Python**» (Python Enhancement Proposals, PEP) - предложения по улучшению языка от опытных разработчиков на Python.  \n",
    "**PEP 8** - это руководство по стилю о том, как писать легкочитаемый код. Оно содержит ряд руководящих принципов касательно имен переменных. Кратко перечислим их:\n",
    "- имена модулей должны быть короткими и содержать только строчные буквы;\n",
    "- имена классов должны быть в стиле CapWords;\n",
    "- большинство переменных и имен функций должны писаться строчными_буквами_с_подчеркиваниями;\n",
    "- постоянные (переменные, которые никогда не меняют значения) должны писаться ЗАГЛАВНЫМИ_БУКВАМИ_С_ПОДЧЕРКИВАНИЯМИ;\n",
    "- имена, которые будут пересекаться с ключевыми словами Python (например, «class» или «if»), должны иметь замыкающее подчеркивание.\n",
    "\n",
    "**PEP 8** также рекомендует использовать пробелы вокруг операторов и после запятых, чтобы улучшить читаемость кода.\n",
    "\n",
    "---\n",
    "Среди других советов в **PEP 8**:\n",
    "- строки не должны быть длиннее 80 символов;\n",
    "- следует избегать «from module import *»;\n",
    "- в строке должно быть не более одной инструкции.\n",
    "\n",
    "Руководство также советует оформлять отступы пробелами, а не табуляцией. Хотя в некоторой степени это зависит от личных предпочтений. Если вы используете пробелы, используйте только 4 в строке. Важно выбрать один способ и придерживаться его.\n",
    "\n",
    "Самая важная рекомендация в руководстве PEP - когда нужно, игнорируйте его правила. Не стоит следовать указаниям PEP, если это усложнит чтение вашего кода или код станет несовместим с остальным кодом программы или с будущими версиями Python.\n",
    "Несмотря на все сказанное, в общем и целом, следуя PEP 8, вы значительно повысите качество своего кода.\n",
    "\n",
    "---\n",
    ">Некоторые другие известные рекомендации PEP касательно стиля:  \n",
    "**PEP 20**: «Дзен языка Python»  \n",
    "**PEP 257**: «Рекомендации по стилю строк документации»  \n",
    "\n",
    "---"
   ]
  },
  {
   "cell_type": "markdown",
   "id": "fd1cac28",
   "metadata": {},
   "source": [
    "## Дополнительно об аргументах\n",
    "---\n",
    "\n",
    "В Python можно создать функцию с **переменным числом аргументов** .  \n",
    "Используя **<b>*</b>args** в качестве параметра функции, можно присвоить этой функции произвольное количество аргументов.   Аргументы будут доступны, как **кортеж** с именем **args** в теле функции.  "
   ]
  },
  {
   "cell_type": "code",
   "execution_count": 2,
   "id": "8a15ed19",
   "metadata": {},
   "outputs": [],
   "source": [
    "def func(named_arg, *args):\n",
    "    print(named_arg)\n",
    "    print(args)"
   ]
  },
  {
   "cell_type": "code",
   "execution_count": 3,
   "id": "5aa02aa7",
   "metadata": {},
   "outputs": [
    {
     "name": "stdout",
     "output_type": "stream",
     "text": [
      "1\n",
      "(2, 3, 'x')\n"
     ]
    }
   ],
   "source": [
    "func(1, 2, 3, 'x')"
   ]
  },
  {
   "cell_type": "markdown",
   "id": "a17e1a5b",
   "metadata": {},
   "source": [
    ">Параметр **<b>*</b>args** должен следовать после именованных параметров функции.  \n",
    "Имя **args** - всего лишь традиция; вы можете использовать другое имя.  \n",
    "\n",
    "---"
   ]
  },
  {
   "cell_type": "markdown",
   "id": "78a25fd4",
   "metadata": {},
   "source": [
    "Именованные параметры функции могут быть сделаны необязательными, задав им **значения по умолчанию** .  \n",
    "Они должны следовать за именованными параметрами, которым не были присвоены значения по умолчанию.  "
   ]
  },
  {
   "cell_type": "code",
   "execution_count": 4,
   "id": "c1f9ed61",
   "metadata": {},
   "outputs": [],
   "source": [
    "def func(x, y, z=0):\n",
    "    print(z)"
   ]
  },
  {
   "cell_type": "code",
   "execution_count": 5,
   "id": "a0e291d4",
   "metadata": {},
   "outputs": [
    {
     "name": "stdout",
     "output_type": "stream",
     "text": [
      "0\n"
     ]
    }
   ],
   "source": [
    "func(1, 2)"
   ]
  },
  {
   "cell_type": "code",
   "execution_count": 6,
   "id": "84bc56a2",
   "metadata": {},
   "outputs": [
    {
     "name": "stdout",
     "output_type": "stream",
     "text": [
      "3\n"
     ]
    }
   ],
   "source": [
    "func(1, 2, 3)"
   ]
  },
  {
   "cell_type": "markdown",
   "id": "f72d7ae0",
   "metadata": {},
   "source": [
    ">Когда параметру передается аргумент, значение по умолчанию игнорируется.  \n",
    "Если аргумент не передается, используется значение по умолчанию.  \n",
    "\n",
    "---"
   ]
  },
  {
   "cell_type": "markdown",
   "id": "fe6d9fb8",
   "metadata": {},
   "source": [
    "<b>**kwargs</b> (аргументы-ключевые слова) позволяет использовать ранее неопределенные именованные аргументы.\n",
    "Аргументы-ключевые слова возвращают словарь, в котором ключи - это имена аргументов, а значения - значения аргументов."
   ]
  },
  {
   "cell_type": "code",
   "execution_count": 7,
   "id": "c316e536",
   "metadata": {},
   "outputs": [],
   "source": [
    "def func(x, y=None, *args, **kwargs):\n",
    "    print(x)\n",
    "    print(y)\n",
    "    print(args)\n",
    "    print(kwargs)"
   ]
  },
  {
   "cell_type": "code",
   "execution_count": 9,
   "id": "ae0e4d37",
   "metadata": {},
   "outputs": [
    {
     "name": "stdout",
     "output_type": "stream",
     "text": [
      "1\n",
      "2\n",
      "(3, 4, 5)\n",
      "{'a': 'a_value', 'b': 'b_value'}\n"
     ]
    }
   ],
   "source": [
    "func(1, 2, 3, 4, 5, a=\"a_value\", b=\"b_value\")"
   ]
  },
  {
   "cell_type": "markdown",
   "id": "f07c2095",
   "metadata": {},
   "source": [
    ">a и b - это имена аргументов, которые передаются при вызове функции.\n",
    "Аргументы, возвращаемые **kwargs, не входят в *args.\n",
    "\n",
    "---"
   ]
  },
  {
   "cell_type": "markdown",
   "id": "c77ea629",
   "metadata": {},
   "source": [
    "## Распаковка кортежей\n",
    "---\n",
    "\n",
    "**Распаковка кортежей** позволяет присвоить каждый элемент итерируемого объекта (часто это кортеж) переменной.  \n",
    "Мы уже делали это ранее, когда писали x_1, x_2,..x_n = val_1, val_2,...val_n. "
   ]
  },
  {
   "cell_type": "code",
   "execution_count": 10,
   "id": "1d42abfc",
   "metadata": {},
   "outputs": [
    {
     "name": "stdout",
     "output_type": "stream",
     "text": [
      "1 2 3\n"
     ]
    }
   ],
   "source": [
    "nums = (1, 2, 3)\n",
    "\n",
    "a, b, c = nums\n",
    "print(a, b, c)"
   ]
  },
  {
   "cell_type": "markdown",
   "id": "3379158a",
   "metadata": {},
   "source": [
    "---\n",
    "Переменная, которой предшествует звездочка (<b>*</b>), берет от итерируемого объекта все значения, оставшиеся после других переменных."
   ]
  },
  {
   "cell_type": "code",
   "execution_count": 11,
   "id": "c3328fa4",
   "metadata": {},
   "outputs": [
    {
     "name": "stdout",
     "output_type": "stream",
     "text": [
      "1\n",
      "2\n",
      "[3, 4, 5, 6, 7, 8]\n",
      "9\n"
     ]
    }
   ],
   "source": [
    "a, b, *c, d = [1, 2, 3, 4, 5, 6, 7, 8, 9]\n",
    "\n",
    "print(a)\n",
    "print(b)\n",
    "print(c)\n",
    "print(d)"
   ]
  },
  {
   "cell_type": "markdown",
   "id": "e22da544",
   "metadata": {},
   "source": [
    "---\n",
    "## Тернарный оператор\n",
    "---\n",
    "\n",
    "Условные выражения имеют функциональность инструкций if, но их синтаксис более компактный. Их часто используют для присвоения переменных. Тем не менее ими не следует злоупотреблять, так как может пострадать читаемость кода.  \n",
    "В условных выражениях широко применяется **тернарный оператор**."
   ]
  },
  {
   "cell_type": "code",
   "execution_count": 12,
   "id": "f81c578f",
   "metadata": {},
   "outputs": [
    {
     "name": "stdout",
     "output_type": "stream",
     "text": [
      "1\n"
     ]
    }
   ],
   "source": [
    "a = 7\n",
    "b = 1 if a >= 5 else 42\n",
    "\n",
    "print(b)"
   ]
  },
  {
   "cell_type": "markdown",
   "id": "1033768b",
   "metadata": {},
   "source": [
    ">Тернарный оператор предназначен для проверки условия и возвращения соответствующего значения.\n",
    "В примере выше, поскольку условие истинно, b присваивается 1. Если бы a было меньше 5, было бы присвоено 42.\n",
    "\n",
    "---"
   ]
  },
  {
   "cell_type": "code",
   "execution_count": 15,
   "id": "f3b5a3b3",
   "metadata": {},
   "outputs": [
    {
     "name": "stdout",
     "output_type": "stream",
     "text": [
      "Login\n"
     ]
    }
   ],
   "source": [
    "status = 2\n",
    "msg = \"Logout\" if status == 1 else \"Login\"\n",
    "\n",
    "print(msg)"
   ]
  },
  {
   "cell_type": "markdown",
   "id": "50667d77",
   "metadata": {},
   "source": [
    ">Тернарный оператор называется так потому, что в отличие от большинства операторов он принимает три аргумента.\n",
    "\n",
    "---"
   ]
  },
  {
   "cell_type": "markdown",
   "id": "66283e4e",
   "metadata": {},
   "source": [
    "## Дополнительно об инструкциях else\n",
    "---\n",
    "\n",
    "Инструкция **else** наиболее часто используется вместе с инструкцией **if**, но также может следовать за циклами **for** или **while**, что придает ей иное значение.  \n",
    "В этом использовании код в ней вызывается, если цикл завершается нормально (когда инструкция break не останавливает цикл).  "
   ]
  },
  {
   "cell_type": "code",
   "execution_count": 18,
   "id": "50969ca5",
   "metadata": {},
   "outputs": [
    {
     "name": "stdout",
     "output_type": "stream",
     "text": [
      "unbroken\n"
     ]
    }
   ],
   "source": [
    "for i in range(10):\n",
    "    if i == 999:\n",
    "        print(\"break\")\n",
    "        break\n",
    "else:\n",
    "    print(\"unbroken\")"
   ]
  },
  {
   "cell_type": "code",
   "execution_count": 19,
   "id": "8ef271cf",
   "metadata": {},
   "outputs": [
    {
     "name": "stdout",
     "output_type": "stream",
     "text": [
      "break\n"
     ]
    }
   ],
   "source": [
    "for i in range(10):\n",
    "    if i == 5:\n",
    "        print(\"break\")\n",
    "        break\n",
    "else:\n",
    "    print(\"unbroken\")"
   ]
  },
  {
   "cell_type": "markdown",
   "id": "7cf0fbf7",
   "metadata": {},
   "source": [
    "---\n",
    "Инструкцию **else** также можно использовать с инструкциями **try/except** .  \n",
    "В этом случае код внутри них выполняется только, если ошибок не происходит в инструкции **try** .  "
   ]
  },
  {
   "cell_type": "code",
   "execution_count": 22,
   "id": "6f595d90",
   "metadata": {},
   "outputs": [
    {
     "name": "stdout",
     "output_type": "stream",
     "text": [
      "1\n",
      "3\n"
     ]
    }
   ],
   "source": [
    "try:\n",
    "    print(1)\n",
    "except ZeroDivisionError:\n",
    "    print(2)\n",
    "else:\n",
    "    print(3)"
   ]
  },
  {
   "cell_type": "code",
   "execution_count": 23,
   "id": "fd0a2cab",
   "metadata": {},
   "outputs": [
    {
     "name": "stdout",
     "output_type": "stream",
     "text": [
      "2\n"
     ]
    }
   ],
   "source": [
    "try:\n",
    "    print(1 / 0)\n",
    "except ZeroDivisionError:\n",
    "    print(2)\n",
    "else:\n",
    "    print(3)"
   ]
  },
  {
   "cell_type": "markdown",
   "id": "a612293c",
   "metadata": {},
   "source": [
    "---\n",
    "## \\_\\_main\\_\\_\n",
    "---\n",
    "\n",
    "По большей части код языка Python - это либо импортируемый модуль, либо сценарий с некоторой функциональностью.  \n",
    "Тем не менее, иногда лучше сделать файл, который может быть импортирован как модуль и запущен как сценарий.  \n",
    "Для этого поместите код сценария внутрь **if \\_\\_main\\_\\_ == \"\\_\\_main\\_\\_\"** .  \n",
    "Так он не будет запущен при импортировании файла.  "
   ]
  },
  {
   "cell_type": "code",
   "execution_count": 24,
   "id": "e97c3b60",
   "metadata": {},
   "outputs": [],
   "source": [
    "def func():\n",
    "    print(\"This is a module function\")"
   ]
  },
  {
   "cell_type": "code",
   "execution_count": 25,
   "id": "7258591c",
   "metadata": {},
   "outputs": [
    {
     "name": "stdout",
     "output_type": "stream",
     "text": [
      "This is a script\n"
     ]
    }
   ],
   "source": [
    "if __name__ == \"__main__\":\n",
    "    print(\"This is a script\")"
   ]
  },
  {
   "cell_type": "markdown",
   "id": "e905fc43",
   "metadata": {},
   "source": [
    ">Когда интерпретатор Python читает исходный файл, он выполняет весь код, находящийся в файле. Но перед выполнением кода определяется несколько специальных переменных.  \n",
    "Например, если интерпретатор Python выполняет этот модуль (исходный файл) как основную программу, он устанавливает специальной переменной **\\_\\_name\\_\\_** значение \"**\\_\\_main\\_\\_**\". Если этот файл импортируется из другого модуля, модулю будет дано имя **\\_\\_name\\_\\_**.  \n",
    "\n",
    "---"
   ]
  },
  {
   "cell_type": "markdown",
   "id": "0cc683b6",
   "metadata": {},
   "source": [
    "## Библиотеки сторонних разработчиков\n",
    "---\n",
    "\n",
    "В стандартной библиотеке Python есть модули всевозможной функциональности.  \n",
    "Тем не менее для некоторых задач вам могут понадобиться сторонние библиотеки. Вот некоторые основные сторонние библиотеки:\n",
    "**Django**: наиболее широко используемый каркас веб-приложений, написанный на Python; на базе Django разработаны такие веб-сайты, как Instagram и Disqus. В Django есть множество полезнейших функций, а недостаток любой функциональности легко устраняется путем выпуска пакетов расширения.  \n",
    "**CherryPy** и **Flask** - также популярные каркасы веб-приложений.  \n",
    "\n",
    "Библиотека **BeautifulSoup** пригодится для вытягивания данных с веб-сайтов; так вы достигнете более хороших результатов, чем с собственным веб-скрепером на базе регулярных выражений.  \n",
    "\n",
    ">Несмотря на то, что в Python есть модули для программного доступа к веб-сайтам (например, urllib), они довольно неудобны в использовании. Запросы со сторонних библиотек - намного более простой способ работы с HTTP-запросами.\n",
    "\n",
    "---\n",
    "\n",
    "Есть ряд сторонних модулей, которые сильно упрощают научные и арифметические вычисления в Python.  \n",
    "Модуль **matplotlib** позволяет создавать графики на основе данных в Python.  \n",
    "В модуле **NumPy** есть многомерные массивы, которые намного легковеснее, чем родные вложенные списки Python. Кроме этого есть функции для выполнения математических операций, таких как матричные преобразования в массивах.  \n",
    "В библиотеке **SciPy** вы найдете множество дополнений к функциональности в NumPy.  \n",
    "\n",
    "Python также используется в разработке игр.  \n",
    "Чаще всего он используется для написания сценариев для игр, написанных на других языках, но часто и для написания целых игр.\n",
    "\n",
    ">Для создания 3D-игр может быть использована библиотека **Panda3D**. Для создания 2D-игр - библиотека **pygame**.\n",
    "\n",
    "---"
   ]
  }
 ],
 "metadata": {
  "kernelspec": {
   "display_name": "Python 3",
   "language": "python",
   "name": "python3"
  },
  "language_info": {
   "codemirror_mode": {
    "name": "ipython",
    "version": 3
   },
   "file_extension": ".py",
   "mimetype": "text/x-python",
   "name": "python",
   "nbconvert_exporter": "python",
   "pygments_lexer": "ipython3",
   "version": "3.8.8"
  }
 },
 "nbformat": 4,
 "nbformat_minor": 5
}
