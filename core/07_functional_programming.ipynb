{
 "cells": [
  {
   "cell_type": "markdown",
   "id": "986a32f2",
   "metadata": {},
   "source": [
    "# Функциональное программирование\n",
    "---\n",
    "\n",
    "# Содержание\n",
    "\n",
    "* [Функциональное программирование](#Функциональное-программирование)\n",
    "    * [Чистые функции](#Чистые-функции)\n",
    "    \n",
    "* [Функция lambda](#Функция-lambda)\n",
    "\n",
    "* [Функции map и filter](#Функции-map-и-filter)\n",
    "    * [map](#map)\n",
    "    * [filter](#filter)\n",
    "\n",
    "* [Генераторы](#Генераторы)\n",
    "\n",
    "* [Декораторы](#Декораторы)\n",
    "\n",
    "* [Рекурсия](#Рекурсия)\n",
    "\n",
    "* [Модуль itertools](#Модуль-itertools)\n",
    "\n",
    "---\n"
   ]
  },
  {
   "cell_type": "markdown",
   "id": "b5b62631",
   "metadata": {},
   "source": [
    "## Функциональное программирование\n",
    "---\n",
    "\n",
    "**Функциональное программирование** - парадигма программирования, которая, как следует из названия, основывается на функциях.  \n",
    "Одно из ключевых понятий функционального программирования - **функции высшего порядка**. Мы рассмотрели эту идею кратко в предыдущем модуле по функциям в качестве объектов. Функции высшего порядка принимают другие функции в качестве аргументов, либо возвращают их как результат."
   ]
  },
  {
   "cell_type": "code",
   "execution_count": 1,
   "id": "9445ca22",
   "metadata": {},
   "outputs": [],
   "source": [
    "def apply_twice(func, arg):\n",
    "    return func(func(arg))"
   ]
  },
  {
   "cell_type": "code",
   "execution_count": 2,
   "id": "9480c684",
   "metadata": {},
   "outputs": [],
   "source": [
    "def add_one(x):\n",
    "    return x + 5"
   ]
  },
  {
   "cell_type": "code",
   "execution_count": 4,
   "id": "1cbe68ec",
   "metadata": {},
   "outputs": [
    {
     "name": "stdout",
     "output_type": "stream",
     "text": [
      "10\n"
     ]
    }
   ],
   "source": [
    "print(apply_twice(add_one, 0))"
   ]
  },
  {
   "cell_type": "markdown",
   "id": "9992a65c",
   "metadata": {},
   "source": [
    ">Функция **apply_twice** принимает другую функцию в качестве аргумента и вызывает ее дважды внутри своего тела.\n",
    "\n",
    "---"
   ]
  },
  {
   "cell_type": "markdown",
   "id": "5171c50c",
   "metadata": {},
   "source": [
    "### Чистые функции\n",
    "---\n",
    "\n",
    "Одна из целей функционального программирования - использовать **чистые функции**. Чистые функции не имеют побочных эффектов и возвращают значение, которое зависит только от своих аргументов.  \n",
    "Аналогичное понятие есть в математике: cos(x) будет всегда возвращать одинаковый результат при одинаковом значении х.  \n",
    "Ниже приведены примеры чистых и нечистых функций.  "
   ]
  },
  {
   "cell_type": "code",
   "execution_count": 5,
   "id": "703f1c04",
   "metadata": {},
   "outputs": [],
   "source": [
    "def pure_func(x, y):\n",
    "    tmp = x + y\n",
    "    return tmp"
   ]
  },
  {
   "cell_type": "code",
   "execution_count": 6,
   "id": "44ecee56",
   "metadata": {},
   "outputs": [],
   "source": [
    "some_list = []\n",
    "\n",
    "def impure(x):\n",
    "    some_list.append(x)"
   ]
  },
  {
   "cell_type": "markdown",
   "id": "7c30b388",
   "metadata": {},
   "source": [
    ">Функция выше, не является чистой, потому что она изменяет состояние some_list.\n",
    "\n",
    "---"
   ]
  },
  {
   "cell_type": "markdown",
   "id": "200f73e7",
   "metadata": {},
   "source": [
    "У чистых функций есть как преимущества, так и недостатки.  \n",
    "Чистые функции:\n",
    "- легко применять и тестировать\n",
    "- более эффективны. После того, как функция обработала некоторый ввод, результат может быть сохранен и взят в следующий раз, когда эта функция вызывается для аналогичного ввода. Так функцию не нужно вызывать снова. Это называется меморизация.\n",
    "- легче обрабатывать параллельно\n",
    "\n",
    "---\n",
    ">Основным недостатком использования только чистых функций является то, что они сильно усложняют довольно простую задачу ввода/вывода, которая по своей сути требует наличие побочных эффектов.\n",
    "У них также иногда может быть более сложный синтаксис.\n",
    "---"
   ]
  },
  {
   "cell_type": "markdown",
   "id": "787ddfc5",
   "metadata": {},
   "source": [
    "## Функция lambda\n",
    "---\n",
    "\n",
    "При создании функции (используя **def**) она привязывается к переменной автоматически.  \n",
    "Другие объекты, такие как строки и целые числа, создаются несколько по-другому - по ходу работы, не присваивая им переменные.\n",
    "То же самое можно сказать и о функциях, если они создаются с использованием **лямбда-функции**. Функции, созданные таким образом, известны как **анонимные**.  \n",
    "Этот подход наиболее часто используется для присвоения простой функции в качестве аргумента другой функции. Синтаксис показан в следующем примере. Он состоит из ключевого слова **lambda**, за которым следует список аргументов, двоеточие, выражение, которое нужно обработать, и return.  "
   ]
  },
  {
   "cell_type": "code",
   "execution_count": 1,
   "id": "606da3dc",
   "metadata": {},
   "outputs": [],
   "source": [
    "def my_func(f, arg):\n",
    "    return f(arg)"
   ]
  },
  {
   "cell_type": "code",
   "execution_count": 2,
   "id": "e6737016",
   "metadata": {},
   "outputs": [
    {
     "data": {
      "text/plain": [
       "16"
      ]
     },
     "execution_count": 2,
     "metadata": {},
     "output_type": "execute_result"
    }
   ],
   "source": [
    "my_func(lambda x: x ** 2, 4)"
   ]
  },
  {
   "cell_type": "markdown",
   "id": "af65bb31",
   "metadata": {},
   "source": [
    ">Лямбда-функции получили свое название от **лямбда-исчисления**, модели вычислений изобретенной Алонзо Черч.\n",
    "\n",
    "---"
   ]
  },
  {
   "cell_type": "markdown",
   "id": "2a144aa8",
   "metadata": {},
   "source": [
    "Лямбда-функции не такие функциональные, как именованные функции.  \n",
    "Их функциональность ограничивается одним выражением - обычно одной строкой кода.  "
   ]
  },
  {
   "cell_type": "code",
   "execution_count": 3,
   "id": "ce6386ed",
   "metadata": {},
   "outputs": [
    {
     "name": "stdout",
     "output_type": "stream",
     "text": [
      "13\n",
      "13\n"
     ]
    }
   ],
   "source": [
    "# named function\n",
    "def poly(x):\n",
    "    return x **2 + x + 1\n",
    "print(poly(3))\n",
    "\n",
    "# lambda\n",
    "print((lambda x: x ** 2 + x + 1)(3))"
   ]
  },
  {
   "cell_type": "markdown",
   "id": "6d7c5fd7",
   "metadata": {},
   "source": [
    ">В коде вверху мы создали анонимную функцию на ходу и вызвали ее с помощью аргумента.\n",
    "\n",
    "---"
   ]
  },
  {
   "cell_type": "markdown",
   "id": "8e8c8d87",
   "metadata": {},
   "source": [
    "Лямбда-функциям можно присваивать переменные и они могут использоваться как обычные функции."
   ]
  },
  {
   "cell_type": "code",
   "execution_count": 4,
   "id": "9c293c96",
   "metadata": {},
   "outputs": [
    {
     "name": "stdout",
     "output_type": "stream",
     "text": [
      "81\n"
     ]
    }
   ],
   "source": [
    "square = lambda x: x**2 \n",
    "\n",
    "print(square(9))"
   ]
  },
  {
   "cell_type": "markdown",
   "id": "dd7e353c",
   "metadata": {},
   "source": [
    ">Тем не менее, такой способ довольно редкий. Как правило функция определяется с помощью **def**.\n",
    "\n",
    "---"
   ]
  },
  {
   "cell_type": "markdown",
   "id": "aa7a2333",
   "metadata": {},
   "source": [
    "## Функции map и filter\n",
    "---\n",
    "\n",
    "Встроенные функции **map и filter** - очень полезные функции высшего порядка для работы со списками (или с аналогичными объектами, называемыми **итерируемыми**)."
   ]
  },
  {
   "cell_type": "markdown",
   "id": "c06c9021",
   "metadata": {},
   "source": [
    "---\n",
    "### map\n",
    "---\n",
    "\n",
    "Функция **map** принимает функцию и итерируемый объект как свои аргументы и возвращает новый итерируемый объект, а функция применяется к каждому аргументу."
   ]
  },
  {
   "cell_type": "code",
   "execution_count": 5,
   "id": "18f5593f",
   "metadata": {},
   "outputs": [],
   "source": [
    "def add_one(x):\n",
    "    return x + 1"
   ]
  },
  {
   "cell_type": "code",
   "execution_count": 8,
   "id": "e11ceedd",
   "metadata": {},
   "outputs": [
    {
     "name": "stdout",
     "output_type": "stream",
     "text": [
      "[2, 222, 22, 6, 79]\n"
     ]
    }
   ],
   "source": [
    "nums = [1, 221, 21, 5, 78]\n",
    "\n",
    "print(list(map(add_one, nums)))"
   ]
  },
  {
   "cell_type": "markdown",
   "id": "dac9c94d",
   "metadata": {},
   "source": [
    "Можно добиться того же результата более легким способом с функцией lambda."
   ]
  },
  {
   "cell_type": "code",
   "execution_count": 9,
   "id": "a6fa8c13",
   "metadata": {},
   "outputs": [
    {
     "name": "stdout",
     "output_type": "stream",
     "text": [
      "[2, 222, 22, 6, 79]\n"
     ]
    }
   ],
   "source": [
    "nums = [1, 221, 21, 5, 78]\n",
    "\n",
    "print(list(map(lambda x: x + 1, nums)))"
   ]
  },
  {
   "cell_type": "markdown",
   "id": "29dc6762",
   "metadata": {},
   "source": [
    ">Чтобы преобразовать результат в список, мы использовали функцию **list**.\n",
    "\n",
    "---"
   ]
  },
  {
   "cell_type": "markdown",
   "id": "496a02b0",
   "metadata": {},
   "source": [
    "Пример использования **map** для ввода с клавиатуры чисел через произвольное количество пробелов:"
   ]
  },
  {
   "cell_type": "code",
   "execution_count": 12,
   "id": "814d5866",
   "metadata": {},
   "outputs": [
    {
     "name": "stdout",
     "output_type": "stream",
     "text": [
      "1 2 3  9 11       1\n",
      "input: [1, 2, 3, 9, 11, 1]\n"
     ]
    }
   ],
   "source": [
    "vec = list(map(int, input().split()))\n",
    "\n",
    "print(f\"input: {vec}\")"
   ]
  },
  {
   "cell_type": "markdown",
   "id": "02468196",
   "metadata": {},
   "source": [
    "---\n",
    "### filter\n",
    "\n",
    "Функция **filter** предназначена для фильтрования итерируемого объекта путем удаления элементов, которые не соответствуют предикату (функции, которая возвращает логическую переменную)."
   ]
  },
  {
   "cell_type": "code",
   "execution_count": 15,
   "id": "e7b3fea7",
   "metadata": {},
   "outputs": [
    {
     "name": "stdout",
     "output_type": "stream",
     "text": [
      "[1, 221, 21, 5]\n"
     ]
    }
   ],
   "source": [
    "nums = [1, 221, 21, 5, 78]\n",
    "\n",
    "print(list(filter(lambda x: x % 2 != 0, nums)))"
   ]
  },
  {
   "cell_type": "markdown",
   "id": "59081472",
   "metadata": {},
   "source": [
    ">Как и в случае с **map** для вывода результата он должен быть вручную преобразован в список.\n",
    "\n",
    "---"
   ]
  },
  {
   "cell_type": "markdown",
   "id": "d34953b3",
   "metadata": {},
   "source": [
    "## Генераторы\n",
    "---\n",
    "\n",
    "**Генераторы** представляют собой итерируемый тип, такой как списки или кортежи.  \n",
    "В отличие от списков им нельзя присваивать произвольные индексы, но они поддерживают циклы **for**.  \n",
    "Они создаются с использованием функций и инструкции **yield**.  "
   ]
  },
  {
   "cell_type": "code",
   "execution_count": 16,
   "id": "e414eafd",
   "metadata": {},
   "outputs": [],
   "source": [
    "def countdown():\n",
    "    i = 5\n",
    "    while i > 0:\n",
    "        yield i\n",
    "        i -= 1"
   ]
  },
  {
   "cell_type": "code",
   "execution_count": 17,
   "id": "c34b9128",
   "metadata": {},
   "outputs": [
    {
     "name": "stdout",
     "output_type": "stream",
     "text": [
      "5\n",
      "4\n",
      "3\n",
      "2\n",
      "1\n"
     ]
    }
   ],
   "source": [
    "for i in countdown():\n",
    "    print(i)"
   ]
  },
  {
   "cell_type": "markdown",
   "id": "2cd689b6",
   "metadata": {},
   "source": [
    ">Инструкция **yield** определяет генератор, заменяет значение, возвращаемое функцией, и возвращает результат, не меняя первоначальные переменные.\n",
    "\n",
    "---"
   ]
  },
  {
   "cell_type": "markdown",
   "id": "1b60c0e3",
   "metadata": {},
   "source": [
    "Так как генераторы возвращают по одному элементу за раз, они, в отличие от списков, не имеют ограничений по памяти.  \n",
    "На самом деле, они могут выполняться **бесконечно**.  "
   ]
  },
  {
   "cell_type": "code",
   "execution_count": 18,
   "id": "61a10be5",
   "metadata": {},
   "outputs": [],
   "source": [
    "def inf():\n",
    "    while True:\n",
    "        yield 1"
   ]
  },
  {
   "cell_type": "markdown",
   "id": "a51d7a0f",
   "metadata": {},
   "source": [
    ">Генераторы позволяют объявить функцию, которая подобна итератору, т.е. может быть использована в цикле.\n",
    "\n",
    "---"
   ]
  },
  {
   "cell_type": "markdown",
   "id": "f0c533bf",
   "metadata": {},
   "source": [
    "Конечные генераторы могут быть преобразованы в списки, для этого их нужно передать как аргументы функции **list**."
   ]
  },
  {
   "cell_type": "code",
   "execution_count": 25,
   "id": "5dab1039",
   "metadata": {},
   "outputs": [],
   "source": [
    "def nums(x):\n",
    "    for i in range(x):\n",
    "        if i % 2 == 0:\n",
    "            yield i"
   ]
  },
  {
   "cell_type": "code",
   "execution_count": 27,
   "id": "edf5e463",
   "metadata": {},
   "outputs": [
    {
     "name": "stdout",
     "output_type": "stream",
     "text": [
      "[0, 2, 4, 6]\n"
     ]
    }
   ],
   "source": [
    "print(list(nums(7)))"
   ]
  },
  {
   "cell_type": "markdown",
   "id": "43932092",
   "metadata": {},
   "source": [
    ">Использование **генераторов** позволяет повысить производительность: «ленивая» генерация значений (генерация по требованию) означает сниженное потребление памяти. Кроме того, не нужно ждать, пока все элементы будут сгенерированы, мы можем начать их использовать гораздо раньше.\n",
    "\n",
    "---"
   ]
  },
  {
   "cell_type": "markdown",
   "id": "ceec1712",
   "metadata": {},
   "source": [
    "## Декораторы\n",
    "---\n",
    "\n",
    "**Декораторы** предназначены для модификации функций с помощью других функций.  \n",
    "Они вам очень пригодятся, когда вам нужно изменить поведение функции, но вы не хотите ее модифицировать.  "
   ]
  },
  {
   "cell_type": "code",
   "execution_count": 28,
   "id": "d5946f40",
   "metadata": {},
   "outputs": [],
   "source": [
    "def decor(func):\n",
    "    def wrap():\n",
    "        print(\"======\")\n",
    "        func()\n",
    "        print(\"======\")\n",
    "    return wrap"
   ]
  },
  {
   "cell_type": "code",
   "execution_count": 29,
   "id": "1adb25ce",
   "metadata": {},
   "outputs": [],
   "source": [
    "def print_hello():\n",
    "    print(\"Hello\")"
   ]
  },
  {
   "cell_type": "code",
   "execution_count": 30,
   "id": "4b78a612",
   "metadata": {},
   "outputs": [
    {
     "name": "stdout",
     "output_type": "stream",
     "text": [
      "======\n",
      "Hello\n",
      "======\n"
     ]
    }
   ],
   "source": [
    "decorated = decor(print_hello)\n",
    "decorated()"
   ]
  },
  {
   "cell_type": "markdown",
   "id": "50f4085f",
   "metadata": {},
   "source": [
    "Мы определили функцию с именем **decor**, у которой один единственный параметр **func**. Внутри функции **decor**, мы определили вложенную функцию с именем **wrap**. Функция **wrap** выведет строку, затем вызовет **func**() и выведет еще одну строку. Функция **decor** возвращает функцию **wrap** как свой результат.  \n",
    "Можно сказать, что переменная **decorated** - декорированная версия **print_hello**, то есть **print_hello** плюс что-то еще.  \n",
    "Предположим, мы написали полезный декоратор и хотели бы полностью заменить **print_hello** декорированной версией, так чтобы всегда выполнялась наша версия **print_hello** «плюс что-то еще».  \n",
    "Это делается путем повторного присвоения переменной, содержащей нашу функцию:  "
   ]
  },
  {
   "cell_type": "code",
   "execution_count": 31,
   "id": "23be647e",
   "metadata": {},
   "outputs": [
    {
     "name": "stdout",
     "output_type": "stream",
     "text": [
      "======\n",
      "Hello\n",
      "======\n"
     ]
    }
   ],
   "source": [
    "print_hello = decor(print_hello)\n",
    "print_hello()"
   ]
  },
  {
   "cell_type": "markdown",
   "id": "34b7bb81",
   "metadata": {},
   "source": [
    ">Теперь **print_hello** привязана к декорированной версии.\n",
    "\n",
    "---"
   ]
  },
  {
   "cell_type": "markdown",
   "id": "c363a596",
   "metadata": {},
   "source": [
    "Эта конструкция может быть использована в любой момент для оборачивания любой нужной функции.  \n",
    "Python предоставляет способ обернуть функцию в декоратор; для этого нужно поставить перед определением функции имя декоратора и символ @.  \n",
    "Если определяется функция, мы можем «декорировать» ее, добавив символ @; вот как:  "
   ]
  },
  {
   "cell_type": "code",
   "execution_count": 32,
   "id": "0f9ade8e",
   "metadata": {},
   "outputs": [],
   "source": [
    "@decor\n",
    "def print_hello():\n",
    "    print(\"Hello\")"
   ]
  },
  {
   "cell_type": "code",
   "execution_count": 33,
   "id": "6e23edc7",
   "metadata": {},
   "outputs": [
    {
     "name": "stdout",
     "output_type": "stream",
     "text": [
      "======\n",
      "Hello\n",
      "======\n"
     ]
    }
   ],
   "source": [
    "print_hello()"
   ]
  },
  {
   "cell_type": "markdown",
   "id": "5cd5eb1e",
   "metadata": {},
   "source": [
    ">Функция может иметь несколько декораторов.\n",
    "\n",
    "\n",
    "---"
   ]
  },
  {
   "cell_type": "markdown",
   "id": "cbb12e65",
   "metadata": {},
   "source": [
    "## Рекурсия\n",
    "---\n",
    "\n",
    "**Рекурсия** - очень важное понятие функционального программирования.  \n",
    "Центральное понятие рекурсии - самореференция, то есть, когда функции вызывают сами себя. Используется для решения проблем, которые могут быть разбиты на более легкие подзадачи того же типа.  \n",
    "\n",
    "Классическим примером функции, реализуемой рекурсивно, является **функция вычисления факториала**, которая находит результат умножения всех натуральных чисел ниже заданного числа.  \n",
    "Например: 5! (факториал числа 5) означает 5 * 4 * 3 * 2 * 1 (120). Чтобы реализовать это рекурсивно, помните, что 5! = 5 * 4!, 4! = 4 * 3!, 3! = 3 * 2! и так далее. При этом, n! = n * (n-1)!.  \n",
    "Кроме того, 0! = 1. Это известно как **базовый случай**, так как он не требует вычисления каких-либо других факториалов.\n",
    "Ниже приводится рекурсивное выполнение функции факториала.  "
   ]
  },
  {
   "cell_type": "code",
   "execution_count": 38,
   "id": "7e80ce62",
   "metadata": {},
   "outputs": [],
   "source": [
    "def factorial(x):\n",
    "    if not x:\n",
    "        return 1\n",
    "    else:\n",
    "        return x * factorial(x - 1)"
   ]
  },
  {
   "cell_type": "code",
   "execution_count": 39,
   "id": "1cf90259",
   "metadata": {},
   "outputs": [
    {
     "name": "stdout",
     "output_type": "stream",
     "text": [
      "120\n"
     ]
    }
   ],
   "source": [
    "print(factorial(5))"
   ]
  },
  {
   "cell_type": "markdown",
   "id": "41d4d473",
   "metadata": {},
   "source": [
    ">**Базовый случай** действует как команда выхода из рекурсии.\n",
    "\n",
    "---"
   ]
  },
  {
   "cell_type": "markdown",
   "id": "984855b5",
   "metadata": {},
   "source": [
    "Рекурсивные функции, как и бесконечные циклы **while**, также могут выполнятся бесконечно. Так случится, если вы забудете реализовать базовый случай.  \n",
    "Ниже приводится неправильно записанная функция факториала. Так как не реализован базовый вариант, она будет выполняться, пока не произойдет аварийное завершение.  "
   ]
  },
  {
   "cell_type": "code",
   "execution_count": 40,
   "id": "f61e88c9",
   "metadata": {},
   "outputs": [],
   "source": [
    "def factorial(x):\n",
    "    return x * factorial(x - 1)"
   ]
  },
  {
   "cell_type": "code",
   "execution_count": 41,
   "id": "d81a4f3a",
   "metadata": {},
   "outputs": [
    {
     "ename": "RecursionError",
     "evalue": "maximum recursion depth exceeded",
     "output_type": "error",
     "traceback": [
      "\u001b[1;31m---------------------------------------------------------------------------\u001b[0m",
      "\u001b[1;31mRecursionError\u001b[0m                            Traceback (most recent call last)",
      "\u001b[1;32m<ipython-input-41-6ed1b95379c1>\u001b[0m in \u001b[0;36m<module>\u001b[1;34m\u001b[0m\n\u001b[1;32m----> 1\u001b[1;33m \u001b[0mprint\u001b[0m\u001b[1;33m(\u001b[0m\u001b[0mfactorial\u001b[0m\u001b[1;33m(\u001b[0m\u001b[1;36m1\u001b[0m\u001b[1;33m)\u001b[0m\u001b[1;33m)\u001b[0m\u001b[1;33m\u001b[0m\u001b[1;33m\u001b[0m\u001b[0m\n\u001b[0m",
      "\u001b[1;32m<ipython-input-40-2556d6a35f73>\u001b[0m in \u001b[0;36mfactorial\u001b[1;34m(x)\u001b[0m\n\u001b[0;32m      1\u001b[0m \u001b[1;32mdef\u001b[0m \u001b[0mfactorial\u001b[0m\u001b[1;33m(\u001b[0m\u001b[0mx\u001b[0m\u001b[1;33m)\u001b[0m\u001b[1;33m:\u001b[0m\u001b[1;33m\u001b[0m\u001b[1;33m\u001b[0m\u001b[0m\n\u001b[1;32m----> 2\u001b[1;33m     \u001b[1;32mreturn\u001b[0m \u001b[0mx\u001b[0m \u001b[1;33m*\u001b[0m \u001b[0mfactorial\u001b[0m\u001b[1;33m(\u001b[0m\u001b[0mx\u001b[0m \u001b[1;33m-\u001b[0m \u001b[1;36m1\u001b[0m\u001b[1;33m)\u001b[0m\u001b[1;33m\u001b[0m\u001b[1;33m\u001b[0m\u001b[0m\n\u001b[0m",
      "... last 1 frames repeated, from the frame below ...\n",
      "\u001b[1;32m<ipython-input-40-2556d6a35f73>\u001b[0m in \u001b[0;36mfactorial\u001b[1;34m(x)\u001b[0m\n\u001b[0;32m      1\u001b[0m \u001b[1;32mdef\u001b[0m \u001b[0mfactorial\u001b[0m\u001b[1;33m(\u001b[0m\u001b[0mx\u001b[0m\u001b[1;33m)\u001b[0m\u001b[1;33m:\u001b[0m\u001b[1;33m\u001b[0m\u001b[1;33m\u001b[0m\u001b[0m\n\u001b[1;32m----> 2\u001b[1;33m     \u001b[1;32mreturn\u001b[0m \u001b[0mx\u001b[0m \u001b[1;33m*\u001b[0m \u001b[0mfactorial\u001b[0m\u001b[1;33m(\u001b[0m\u001b[0mx\u001b[0m \u001b[1;33m-\u001b[0m \u001b[1;36m1\u001b[0m\u001b[1;33m)\u001b[0m\u001b[1;33m\u001b[0m\u001b[1;33m\u001b[0m\u001b[0m\n\u001b[0m",
      "\u001b[1;31mRecursionError\u001b[0m: maximum recursion depth exceeded"
     ]
    }
   ],
   "source": [
    "print(factorial(1))"
   ]
  },
  {
   "cell_type": "markdown",
   "id": "5ddded0e",
   "metadata": {},
   "source": [
    "---\n",
    "Рекурсия может быть также непрямой. Одна функция вызывает другую, которая затем вызывает первую, которая вызывает вторую и так далее. Можно задействовать сколько угодно функций."
   ]
  },
  {
   "cell_type": "code",
   "execution_count": 42,
   "id": "7a6c0a0c",
   "metadata": {},
   "outputs": [],
   "source": [
    "def is_even(x):\n",
    "    if not x:\n",
    "        return True\n",
    "    else:\n",
    "        return is_odd(x - 1)"
   ]
  },
  {
   "cell_type": "code",
   "execution_count": 43,
   "id": "e8fc7b6d",
   "metadata": {},
   "outputs": [],
   "source": [
    "def is_odd(x):\n",
    "    return not is_even(x)"
   ]
  },
  {
   "cell_type": "code",
   "execution_count": 44,
   "id": "103b9f1c",
   "metadata": {},
   "outputs": [
    {
     "data": {
      "text/plain": [
       "False"
      ]
     },
     "execution_count": 44,
     "metadata": {},
     "output_type": "execute_result"
    }
   ],
   "source": [
    "is_even(23)"
   ]
  },
  {
   "cell_type": "code",
   "execution_count": 45,
   "id": "143c828d",
   "metadata": {},
   "outputs": [
    {
     "data": {
      "text/plain": [
       "True"
      ]
     },
     "execution_count": 45,
     "metadata": {},
     "output_type": "execute_result"
    }
   ],
   "source": [
    "is_odd(21)"
   ]
  },
  {
   "cell_type": "markdown",
   "id": "b3009161",
   "metadata": {},
   "source": [
    "---\n",
    "## Модуль itertools\n",
    "---\n",
    "\n",
    "Модуль **itertools** - это стандартная библиотека, которая содержит несколько полезных в функциональном программировании функций.  \n",
    "Один тип функций в этой библиотеке - бесконечные итераторы.  \n",
    "Функция **count** создает бесконечную прогрессию вверх от заданного числа.  \n",
    "Функция **cycle** бесконечное число раз перебирает итерируемый объект (например, список или строку).  \n",
    "Функция **repeat** повторяет объект бесконечное или заданное количество раз.  "
   ]
  },
  {
   "cell_type": "code",
   "execution_count": 47,
   "id": "e7396666",
   "metadata": {},
   "outputs": [],
   "source": [
    "from itertools import count"
   ]
  },
  {
   "cell_type": "code",
   "execution_count": 48,
   "id": "54d8dbbc",
   "metadata": {},
   "outputs": [
    {
     "name": "stdout",
     "output_type": "stream",
     "text": [
      "3\n",
      "4\n",
      "5\n",
      "6\n",
      "7\n",
      "8\n",
      "9\n",
      "10\n"
     ]
    }
   ],
   "source": [
    "for i in count(3):\n",
    "    print(i)\n",
    "    if i >= 10:\n",
    "        break"
   ]
  },
  {
   "cell_type": "markdown",
   "id": "96893d20",
   "metadata": {},
   "source": [
    "---\n",
    "В библиотеке itertools есть много функций для работы с итерируемыми объектами, аналогичные map и filter.  \n",
    "Несколько примеров:  \n",
    "**takewhile** - возвращает элементы из итерируемого объекта, которые удовлетворяют предикативной функции  \n",
    "**chain** - объединяет несколько итерируемых объектов в один  \n",
    "**accumulate** - возвращает сумму значений внутри итерируемого объекта.  "
   ]
  },
  {
   "cell_type": "code",
   "execution_count": 49,
   "id": "b2c6f83f",
   "metadata": {},
   "outputs": [],
   "source": [
    "from itertools import accumulate, takewhile"
   ]
  },
  {
   "cell_type": "code",
   "execution_count": 50,
   "id": "aebddc63",
   "metadata": {},
   "outputs": [
    {
     "name": "stdout",
     "output_type": "stream",
     "text": [
      "[0, 1, 3, 6, 10, 15, 21, 28]\n"
     ]
    }
   ],
   "source": [
    "nums = list(accumulate(range(8)))\n",
    "\n",
    "print(nums)"
   ]
  },
  {
   "cell_type": "code",
   "execution_count": 51,
   "id": "bd8cad64",
   "metadata": {},
   "outputs": [
    {
     "name": "stdout",
     "output_type": "stream",
     "text": [
      "[0, 1, 3, 6]\n"
     ]
    }
   ],
   "source": [
    "print(list(takewhile(lambda x: x <= 6, nums)))"
   ]
  },
  {
   "cell_type": "markdown",
   "id": "4dbc3f8d",
   "metadata": {},
   "source": [
    "---\n",
    "В itertools есть также несколько комбинаторных функций, например, **product и permutation**.    \n",
    "Они используются, когда нужно выполнить задачу со всеми возможными комбинациями некоторых элементов."
   ]
  },
  {
   "cell_type": "code",
   "execution_count": 52,
   "id": "98c7d441",
   "metadata": {},
   "outputs": [],
   "source": [
    "from itertools import product, permutations"
   ]
  },
  {
   "cell_type": "code",
   "execution_count": 53,
   "id": "13676b3a",
   "metadata": {},
   "outputs": [
    {
     "name": "stdout",
     "output_type": "stream",
     "text": [
      "[('A', 0), ('A', 1), ('B', 0), ('B', 1)]\n"
     ]
    }
   ],
   "source": [
    "letters = (\"A\", \"B\")\n",
    "\n",
    "print(list(product(letters, range(2))))"
   ]
  },
  {
   "cell_type": "code",
   "execution_count": 54,
   "id": "6747f004",
   "metadata": {},
   "outputs": [
    {
     "name": "stdout",
     "output_type": "stream",
     "text": [
      "[('A', 'B'), ('B', 'A')]\n"
     ]
    }
   ],
   "source": [
    "print(list(permutations(letters)))"
   ]
  },
  {
   "cell_type": "markdown",
   "id": "72118e8c",
   "metadata": {},
   "source": [
    "---\n",
    ">Больше про функции модуля **itertools**: https://docs.python.org/3/library/itertools.html#module-itertools"
   ]
  }
 ],
 "metadata": {
  "kernelspec": {
   "display_name": "Python 3",
   "language": "python",
   "name": "python3"
  },
  "language_info": {
   "codemirror_mode": {
    "name": "ipython",
    "version": 3
   },
   "file_extension": ".py",
   "mimetype": "text/x-python",
   "name": "python",
   "nbconvert_exporter": "python",
   "pygments_lexer": "ipython3",
   "version": "3.8.8"
  }
 },
 "nbformat": 4,
 "nbformat_minor": 5
}
