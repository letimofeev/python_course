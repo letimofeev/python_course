{
 "cells": [
  {
   "cell_type": "markdown",
   "id": "77f5f1c5",
   "metadata": {},
   "source": [
    "# ООП\n",
    "---\n",
    "\n",
    "# Содержание\n",
    "\n",
    "* [Классы](#Классы)\n",
    "    * [Метод \\_\\_init\\_\\_](#Метод-__init__)\n",
    "    * [Методы](#Методы)\n",
    "    * [Атрибуты класса](#Атрибуты-класса)\n",
    "    \n",
    "* [Наследование](#Наследование)\n",
    "\n",
    "* [Магические методы и перегрузка операторов](#Магические-методы-и-перегрузка-операторов)\n",
    "\n",
    "* [Жизненный цикл объекта](#Жизненный-цикл-объекта)\n",
    "\n",
    "* [Сокрытие](#Сокрытие)\n",
    "\n",
    "* [@classmethod](#@classmethod)\n",
    "\n",
    "* [@staticmethod](#@classmethod)\n",
    "\n",
    "* [@property](#@property)\n",
    "\n",
    "---\n"
   ]
  },
  {
   "cell_type": "markdown",
   "id": "3be56408",
   "metadata": {},
   "source": [
    "# Классы\n",
    "---\n",
    "\n",
    "Ранее мы уже ознакомились с двумя парадигмами программирования - **императивной** (использование инструкций, циклов и функций в качестве подпрограмм) и **функциональной** (использование чистых функций, функций высшего порядка и рекурсий).\n",
    "\n",
    "Еще одна очень важная парадигма - **объектно-ориентированное программирование (ООП)**.  \n",
    "Объекты создаются с помощью **классов**, центрального понятия ООП.  \n",
    "**Класс** описывает объект, но является независимым от него. Иными словами, класс - это экземпляр, описание или определение объекта.  \n",
    "Вы можете использовать класс в качестве образца для создания различных объектов.  \n",
    "\n",
    "Классы оформляются с помощью ключевого слова **class** и в виде блока с отступом, содержащего **методы класса** (которые являются функциями).  \n",
    "Ниже приведен пример простого класса и его объектов.  "
   ]
  },
  {
   "cell_type": "code",
   "execution_count": 1,
   "id": "37f82476",
   "metadata": {},
   "outputs": [],
   "source": [
    "class Cat:\n",
    "    def __init__(self, color, legs):\n",
    "        self.color = color\n",
    "        self.legs = legs\n",
    "        \n",
    "grisha = Cat(\"black\", 4)\n",
    "v = Cat(\"white\", 5)"
   ]
  },
  {
   "cell_type": "markdown",
   "id": "052d632c",
   "metadata": {},
   "source": [
    ">Во фрагменте кода вверху определен класс с именем **Cat**, у которого два атрибута: **color** и **legs**.  \n",
    "Затем класс используется для создания 2 отдельных объектов, принадлежащих этому классу.\n",
    "\n",
    "---"
   ]
  },
  {
   "cell_type": "markdown",
   "id": "49017d19",
   "metadata": {},
   "source": [
    "### Метод \\_\\_init\\_\\_\n",
    "---\n",
    "\n",
    "Все методы должны иметь **self** в качестве своего первого параметра; хотя self непосредственно не передается, Python добавляет инструкцию **self** в список сам; также не нужно включать **self**, когда вы вызываете методы. В пределах определения метода, инструкция **self** относится к экземпляру класса, вызывающему метод.  \n",
    "\n",
    "Экземпляры класса берут атрибуты - фрагменты связанных с ними данных.  \n",
    "В нашем примере, экземпляры класса **Cat** имеют атрибуты **color** и **legs**. Их можно получить, указав точку и имя атрибута после экземпляра.  \n",
    "Таким образом внутри метода **\\_\\_init\\_\\_** с помощью **self.attribute** можно задать начальное значение атрибутов экземпляра.  "
   ]
  },
  {
   "cell_type": "code",
   "execution_count": 19,
   "id": "41fd8c69",
   "metadata": {},
   "outputs": [],
   "source": [
    "class Cat:\n",
    "    def __init__(self, color, legs):\n",
    "        self.color = color\n",
    "        self.legs = legs"
   ]
  },
  {
   "cell_type": "code",
   "execution_count": 20,
   "id": "b3614e54",
   "metadata": {},
   "outputs": [
    {
     "name": "stdout",
     "output_type": "stream",
     "text": [
      "4\n"
     ]
    }
   ],
   "source": [
    "grisha = Cat(\"black\", 4)\n",
    "print(grisha.legs)"
   ]
  },
  {
   "cell_type": "markdown",
   "id": "1ca9488d",
   "metadata": {},
   "source": [
    ">В приведенном выше примере, метод **\\_\\_init\\_\\_** принимает два аргумента и присваивает их объекту в качестве его атрибутов. Метод **\\_\\_init\\_\\_** называют **конструктор класса**.\n",
    "\n",
    "---"
   ]
  },
  {
   "cell_type": "markdown",
   "id": "dc532f48",
   "metadata": {},
   "source": [
    "### Методы\n",
    "---\n",
    "\n",
    "Можно использовать и другие методы, расширяющие функциональность классов.  \n",
    "Помните, что первым параметром всех методов должен быть **self**.  "
   ]
  },
  {
   "cell_type": "code",
   "execution_count": 12,
   "id": "5ea7f9f6",
   "metadata": {},
   "outputs": [],
   "source": [
    "class Cat:\n",
    "    def __init__(self, name):\n",
    "        self.name = name\n",
    "    \n",
    "    def sound(self):\n",
    "        print(\"Mhghgherhr\")"
   ]
  },
  {
   "cell_type": "code",
   "execution_count": 14,
   "id": "c1179e55",
   "metadata": {},
   "outputs": [
    {
     "name": "stdout",
     "output_type": "stream",
     "text": [
      "Mhghgherhr\n"
     ]
    }
   ],
   "source": [
    "mem = Cat(\"Grisha\")\n",
    "mem.sound()"
   ]
  },
  {
   "cell_type": "markdown",
   "id": "2ccd91b5",
   "metadata": {},
   "source": [
    "---\n",
    "### Атрибуты класса\n",
    "---\n",
    "\n",
    "Классы могут также иметь **атрибуты класса**, которые создаются путем присвоения переменных в теле класса. На них можно ссылаться либо из экземпляров класса, либо с тела самого класса."
   ]
  },
  {
   "cell_type": "code",
   "execution_count": 15,
   "id": "d25a2a48",
   "metadata": {},
   "outputs": [],
   "source": [
    "class Cat:\n",
    "    legs = 4\n",
    "    def __init__(self, name):\n",
    "        self.name = name"
   ]
  },
  {
   "cell_type": "code",
   "execution_count": 16,
   "id": "3165065b",
   "metadata": {},
   "outputs": [
    {
     "name": "stdout",
     "output_type": "stream",
     "text": [
      "4\n",
      "4\n"
     ]
    }
   ],
   "source": [
    "floppa = Cat(\"Nikita\")\n",
    "\n",
    "print(floppa.legs)\n",
    "print(Cat.legs)"
   ]
  },
  {
   "cell_type": "markdown",
   "id": "b594d23b",
   "metadata": {},
   "source": [
    ">Атрибуты класса являются общими для всех экземпляров класса.\n",
    "\n",
    "---"
   ]
  },
  {
   "cell_type": "markdown",
   "id": "bbe2acd8",
   "metadata": {},
   "source": [
    "Попытка вызова атрибута экземпляра, который не был определен вызывает **AttributeError**. Такая же ошибка выдается при попытке вызова несуществующего метода."
   ]
  },
  {
   "cell_type": "code",
   "execution_count": 21,
   "id": "7e697c13",
   "metadata": {},
   "outputs": [],
   "source": [
    "class Cat:\n",
    "    def __init__(self, name):\n",
    "        self.name = name\n",
    "        \n",
    "    def get_name(self):\n",
    "        return self.name"
   ]
  },
  {
   "cell_type": "code",
   "execution_count": 22,
   "id": "82ab1265",
   "metadata": {},
   "outputs": [
    {
     "data": {
      "text/plain": [
       "'mem'"
      ]
     },
     "execution_count": 22,
     "metadata": {},
     "output_type": "execute_result"
    }
   ],
   "source": [
    "Cat(\"mem\").get_name()"
   ]
  },
  {
   "cell_type": "code",
   "execution_count": 23,
   "id": "531fa75d",
   "metadata": {},
   "outputs": [
    {
     "ename": "AttributeError",
     "evalue": "'Cat' object has no attribute 'get_status'",
     "output_type": "error",
     "traceback": [
      "\u001b[1;31m---------------------------------------------------------------------------\u001b[0m",
      "\u001b[1;31mAttributeError\u001b[0m                            Traceback (most recent call last)",
      "\u001b[1;32m<ipython-input-23-48ab6940a3fe>\u001b[0m in \u001b[0;36m<module>\u001b[1;34m\u001b[0m\n\u001b[1;32m----> 1\u001b[1;33m \u001b[0mCat\u001b[0m\u001b[1;33m(\u001b[0m\u001b[1;34m\"mem\"\u001b[0m\u001b[1;33m)\u001b[0m\u001b[1;33m.\u001b[0m\u001b[0mget_status\u001b[0m\u001b[1;33m(\u001b[0m\u001b[1;33m)\u001b[0m\u001b[1;33m\u001b[0m\u001b[1;33m\u001b[0m\u001b[0m\n\u001b[0m",
      "\u001b[1;31mAttributeError\u001b[0m: 'Cat' object has no attribute 'get_status'"
     ]
    }
   ],
   "source": [
    "Cat(\"mem\").get_status()"
   ]
  },
  {
   "cell_type": "markdown",
   "id": "8a266219",
   "metadata": {},
   "source": [
    "---\n",
    "## Наследование\n",
    "---\n",
    "\n",
    "С помощью **наследования** мы можем задать единую функциональность разным классам.  \n",
    "Допустим, у нас есть несколько классов: **Cat, Dog, Rabbit** и другие. Некоторые методы этих классов будут уникальными: только **Dog** будет иметь метод **bark**. Но другие методы будут одинаковыми: все классы будут иметь **color и name**.  \n",
    "Это сходство можно выразить c помощью функции наследования, так чтобы все классы наследовали общую функциональность от **суперкласса Animal**.  \n",
    "Наследование оформляется путем заключения в круглые скобки имени суперкласса, следующего за именем класса."
   ]
  },
  {
   "cell_type": "code",
   "execution_count": 49,
   "id": "3b7e49e4",
   "metadata": {},
   "outputs": [
    {
     "name": "stdout",
     "output_type": "stream",
     "text": [
      "pink\n",
      "Blvlvlvlvl\n"
     ]
    }
   ],
   "source": [
    "class Animal:\n",
    "    def __init__(self, name, color):\n",
    "        self.name = name\n",
    "        self.color = color\n",
    "        \n",
    "class Cat(Animal):\n",
    "    def purr(self):\n",
    "        print(\"Mrrrrrrrrrru\")\n",
    "        \n",
    "class Dog(Animal):\n",
    "    def bark(self):\n",
    "        print(\"Blvlvlvlvl\")\n",
    "        \n",
    "slava = Dog(\"slava\", \"pink\")\n",
    "\n",
    "print(slava.color)\n",
    "slava.bark()"
   ]
  },
  {
   "cell_type": "markdown",
   "id": "5db50a01",
   "metadata": {},
   "source": [
    "---\n",
    "Класс, наследующий атрибуты или методы другого класса, называется **подклассом**.  \n",
    "Класс, из которого наследуются атрибуты или методы, называется **суперклассом**.  \n",
    "Если наследуемый класс имеет такие же атрибуты или методы, что и класс-наследник, то класс-наследник переопределяет их.   "
   ]
  },
  {
   "cell_type": "code",
   "execution_count": 50,
   "id": "64ae869f",
   "metadata": {},
   "outputs": [],
   "source": [
    "class Wolf:\n",
    "    def __init__(self, name, color):\n",
    "        self.name = name\n",
    "        self.color = color\n",
    "        \n",
    "    def bark(self):\n",
    "        print(\"Uaaaa\")"
   ]
  },
  {
   "cell_type": "code",
   "execution_count": 51,
   "id": "92b7d507",
   "metadata": {},
   "outputs": [],
   "source": [
    "class Dog(Wolf):\n",
    "    def bark(self):\n",
    "        print(\"uaa)\")"
   ]
  },
  {
   "cell_type": "code",
   "execution_count": 52,
   "id": "e42861b2",
   "metadata": {},
   "outputs": [
    {
     "name": "stdout",
     "output_type": "stream",
     "text": [
      "uaa)\n"
     ]
    }
   ],
   "source": [
    "husky = Dog(\"Max\", \"black\")\n",
    "husky.bark()"
   ]
  },
  {
   "cell_type": "markdown",
   "id": "24d37b6a",
   "metadata": {},
   "source": [
    ">В примере вверху у нас суперкласс **Wolf** и подкласс **Dog**.\n",
    "\n",
    "---"
   ]
  },
  {
   "cell_type": "markdown",
   "id": "5a506adc",
   "metadata": {},
   "source": [
    "Наследование может быть также непрямым. Один класс может наследовать от другого класса, который в свою очередь может наследовать от третьего класса."
   ]
  },
  {
   "cell_type": "code",
   "execution_count": 53,
   "id": "32d3f2d1",
   "metadata": {},
   "outputs": [],
   "source": [
    "class A:\n",
    "    def a_method(self):\n",
    "        print(\"A method\")\n",
    "        \n",
    "class B(A):\n",
    "    def b_method(self):\n",
    "        print(\"B method\")\n",
    "        \n",
    "class C(B):\n",
    "    def c_method(self):\n",
    "        print(\"C method\")"
   ]
  },
  {
   "cell_type": "code",
   "execution_count": 54,
   "id": "4bd8a30b",
   "metadata": {},
   "outputs": [
    {
     "name": "stdout",
     "output_type": "stream",
     "text": [
      "A method\n",
      "B method\n",
      "C method\n"
     ]
    }
   ],
   "source": [
    "c = C()\n",
    "c.a_method()\n",
    "c.b_method()\n",
    "c.c_method()"
   ]
  },
  {
   "cell_type": "markdown",
   "id": "05145382",
   "metadata": {},
   "source": [
    ">Круговое наследование, тем не менее, не поддерживается.\n",
    "\n",
    "---"
   ]
  },
  {
   "cell_type": "markdown",
   "id": "fd0d101c",
   "metadata": {},
   "source": [
    "Функция **super** - полезная функция наследования, которая указывает на родительский класс. Предназначена для поиска метода по его имени в суперклассе объекта."
   ]
  },
  {
   "cell_type": "code",
   "execution_count": 63,
   "id": "87c0e3cd",
   "metadata": {},
   "outputs": [],
   "source": [
    "class A:\n",
    "    def spam(self):\n",
    "        print(\"spam A\")\n",
    "        \n",
    "class B(A):\n",
    "    def spam(self):\n",
    "        print(\"spam B\")\n",
    "        super().spam()"
   ]
  },
  {
   "cell_type": "code",
   "execution_count": 64,
   "id": "406f380d",
   "metadata": {},
   "outputs": [
    {
     "name": "stdout",
     "output_type": "stream",
     "text": [
      "spam B\n",
      "spam A\n"
     ]
    }
   ],
   "source": [
    "B().spam()"
   ]
  },
  {
   "cell_type": "markdown",
   "id": "7757727b",
   "metadata": {},
   "source": [
    ">**super().spam()** вызывает метод суперкласса **spam**.\n",
    "\n",
    "---"
   ]
  },
  {
   "cell_type": "markdown",
   "id": "fb7a39a5",
   "metadata": {},
   "source": [
    "## Магические методы и перегрузка операторов\n",
    "---\n",
    "\n",
    "**Магические методы** - это специальные методы с **двойными подчеркиваниями** в начале и в конце своих имен.  \n",
    "Ранее мы сталкивались только с **\\_\\_init\\_\\_**, но есть и другие.  \n",
    "Они предназначены для создания специальной функциональности.  \n",
    "\n",
    "Магические методы часто применяются для переопределения операторов.  \n",
    "Под этим подразумевается определение операторов для пользовательских классов, которые поддерживают такие операторы, как + и /. \n",
    "Пример магического метода: **\\_\\_add\\_\\_** для операции **+**.  "
   ]
  },
  {
   "cell_type": "code",
   "execution_count": 77,
   "id": "8f46aca1",
   "metadata": {},
   "outputs": [],
   "source": [
    "class Vector2D:\n",
    "    def __init__(self, x, y):\n",
    "        self.x = x\n",
    "        self.y = y\n",
    "    \n",
    "    def __add__(self, other):\n",
    "        return Vector2D(self.x + other.x, self.y + other.y)\n",
    "    \n",
    "    def get_coordinates(self):\n",
    "        return self.x, self.y"
   ]
  },
  {
   "cell_type": "code",
   "execution_count": 78,
   "id": "4bee738b",
   "metadata": {},
   "outputs": [
    {
     "name": "stdout",
     "output_type": "stream",
     "text": [
      "(10, -6)\n"
     ]
    }
   ],
   "source": [
    "fst = Vector2D(1, 4)\n",
    "snd = Vector2D(9, -10)\n",
    "\n",
    "print((fst + snd).get_coordinates())"
   ]
  },
  {
   "cell_type": "markdown",
   "id": "33d8a05c",
   "metadata": {},
   "source": [
    ">Метод **\\_\\_add\\_\\_** позволяет определить специальное поведение для оператора + в нашем классе.\n",
    "Как видите, таким образом определяются соответствующие атрибуты объектов и возвращается новый объект, содержащий результат.\n",
    "После этого мы можем объединить два объекта класса.\n",
    "\n",
    "---"
   ]
  },
  {
   "cell_type": "markdown",
   "id": "fcf8a5fb",
   "metadata": {},
   "source": [
    "Ниже приведены другие магические методы для распространенных операторов:  \n",
    "**\\_\\_sub\\_\\_** для -  \n",
    "**\\_\\_mul\\_\\_** для <b>*</b>     \n",
    "**\\_\\_truediv\\_\\_** для /  \n",
    "**\\_\\_floordiv\\_\\_** для //  \n",
    "**\\_\\_mod\\_\\_** для %  \n",
    "**\\_\\_pow\\_\\_** для <b>*</b><b>*</b>  \n",
    "**\\_\\_and\\_\\_** для &  \n",
    "**\\_\\_xor\\_\\_** для ^  \n",
    "**\\_\\_or\\_\\_** для |  \n",
    "\n",
    "Выражение x + y представляется как x.\\_\\_add\\_\\_(y).  \n",
    "Но если метод \\_\\_add\\_\\_ не выполнялся, а х и у различных типов, тогда используется y.\\_\\_radd\\_\\_(x).  \n",
    "У всех упомянутых выше магических методов есть аналогичные методы r.  "
   ]
  },
  {
   "cell_type": "code",
   "execution_count": 79,
   "id": "b2f5d6ba",
   "metadata": {},
   "outputs": [],
   "source": [
    "class X:\n",
    "    def __init__(self, num):\n",
    "        self.num = num"
   ]
  },
  {
   "cell_type": "code",
   "execution_count": 80,
   "id": "21d663fd",
   "metadata": {},
   "outputs": [],
   "source": [
    "class Y:\n",
    "    def __init__(self, num):\n",
    "        self.num = num\n",
    "\n",
    "    def __radd__(self, other):\n",
    "        return Y(self.num + other.num)"
   ]
  },
  {
   "cell_type": "code",
   "execution_count": 81,
   "id": "cc288f8e",
   "metadata": {},
   "outputs": [],
   "source": [
    "x = X(10)\n",
    "y = Y(-1)"
   ]
  },
  {
   "cell_type": "code",
   "execution_count": 83,
   "id": "7dd93a05",
   "metadata": {},
   "outputs": [
    {
     "name": "stdout",
     "output_type": "stream",
     "text": [
      "9\n"
     ]
    }
   ],
   "source": [
    "print((x + y).num)"
   ]
  },
  {
   "cell_type": "code",
   "execution_count": 84,
   "id": "796eefa6",
   "metadata": {},
   "outputs": [
    {
     "ename": "TypeError",
     "evalue": "unsupported operand type(s) for +: 'Y' and 'X'",
     "output_type": "error",
     "traceback": [
      "\u001b[1;31m---------------------------------------------------------------------------\u001b[0m",
      "\u001b[1;31mTypeError\u001b[0m                                 Traceback (most recent call last)",
      "\u001b[1;32m<ipython-input-84-86f12bad86bf>\u001b[0m in \u001b[0;36m<module>\u001b[1;34m\u001b[0m\n\u001b[1;32m----> 1\u001b[1;33m \u001b[0mprint\u001b[0m\u001b[1;33m(\u001b[0m\u001b[1;33m(\u001b[0m\u001b[0my\u001b[0m \u001b[1;33m+\u001b[0m \u001b[0mx\u001b[0m\u001b[1;33m)\u001b[0m\u001b[1;33m.\u001b[0m\u001b[0mnum\u001b[0m\u001b[1;33m)\u001b[0m\u001b[1;33m\u001b[0m\u001b[1;33m\u001b[0m\u001b[0m\n\u001b[0m",
      "\u001b[1;31mTypeError\u001b[0m: unsupported operand type(s) for +: 'Y' and 'X'"
     ]
    }
   ],
   "source": [
    "print((y + x).num)"
   ]
  },
  {
   "cell_type": "markdown",
   "id": "9e7ca0f3",
   "metadata": {},
   "source": [
    "---\n",
    "В Python также есть магические методы для операций сравнения.  \n",
    "**\\_\\_lt\\_\\_** для <  \n",
    "**\\_\\_le\\_\\_** для <=  \n",
    "**\\_\\_eq\\_\\_** для ==  \n",
    "**\\_\\_ne\\_\\_** для !=  \n",
    "**\\_\\_gt\\_\\_** для >  \n",
    "**\\_\\_ge\\_\\_** для >=  \n",
    "\n",
    "Если **\\_\\_ne\\_\\_** не выполняется, возвращается значение, противоположное **\\_\\_eq\\_\\_**.  \n",
    "Кроме этого, других отношений между различными операторами больше нет.  \n",
    "\n",
    "Помните, почему не рекомендовалось использовать == при сравнении с **None**?"
   ]
  },
  {
   "cell_type": "code",
   "execution_count": 88,
   "id": "8cbe3c0e",
   "metadata": {},
   "outputs": [],
   "source": [
    "class A:\n",
    "    def __eq__(self, other):\n",
    "        return True"
   ]
  },
  {
   "cell_type": "code",
   "execution_count": 93,
   "id": "649b027c",
   "metadata": {},
   "outputs": [
    {
     "name": "stdout",
     "output_type": "stream",
     "text": [
      "True\n",
      "False\n"
     ]
    }
   ],
   "source": [
    "a = A()\n",
    "\n",
    "print(a == None)\n",
    "print(a is None)"
   ]
  },
  {
   "cell_type": "markdown",
   "id": "c1450d65",
   "metadata": {},
   "source": [
    "---\n",
    "Существует несколько магических методов, которые задают классам функциональность контейнеров.  \n",
    "**\\_\\_len\\_\\_** для len()  \n",
    "**\\_\\_getitem\\_\\_** для индексации  \n",
    "**\\_\\_setitem\\_\\_** для присваивания значения индексированному элементу  \n",
    "**\\_\\_delitem\\_\\_** для удаления индексированных элементов  \n",
    "**\\_\\_iter\\_\\_** для перебора объектов (например, в циклах for)  \n",
    "**\\_\\_contains\\_\\_** для in  \n",
    "\n",
    "Существует множество других магических методов, которые мы не будем рассматривать здесь. Например: **\\_\\_call\\_\\_**, используемый для вызова объектов как функций; **\\_\\_int\\_\\_**, **\\_\\_str\\_\\_** и другие подобные им для преобразования объектов в родные для Python типы данных."
   ]
  },
  {
   "cell_type": "code",
   "execution_count": 94,
   "id": "3be2ecfb",
   "metadata": {},
   "outputs": [],
   "source": [
    "import random"
   ]
  },
  {
   "cell_type": "code",
   "execution_count": 98,
   "id": "3895ac0e",
   "metadata": {},
   "outputs": [],
   "source": [
    "class FunnyList:\n",
    "    def __init__(self, cont):\n",
    "        self.cont = cont\n",
    "        \n",
    "    def __getitem__(self, index):\n",
    "        return self.cont[index % len(self.cont)]\n",
    "    \n",
    "    def __len__(self):\n",
    "        return random.randint(0, len(self.cont))"
   ]
  },
  {
   "cell_type": "code",
   "execution_count": 108,
   "id": "22c7f717",
   "metadata": {},
   "outputs": [
    {
     "name": "stdout",
     "output_type": "stream",
     "text": [
      "abc\n",
      "abc\n",
      "4\n",
      "2\n"
     ]
    }
   ],
   "source": [
    "f_list = FunnyList([1, 'a', 54, 'abc'])\n",
    "\n",
    "print(f_list[3])\n",
    "print(f_list[11])\n",
    "print(len(f_list))\n",
    "print(len(f_list))"
   ]
  },
  {
   "cell_type": "markdown",
   "id": "6cacae77",
   "metadata": {},
   "source": [
    "---\n",
    "## Жизненный цикл объекта\n",
    "---\n",
    "\n",
    "**Создание, использование и уничтожение** составляют жизненный цикл объекта.\n",
    "\n",
    "Первый этап жизненного цикла объекта - **определение** класса, к которому он принадлежит.  \n",
    "Следующий этап - инстанцирование экземпляра, когда вызывается метод **\\_\\_init\\_\\_**. Выделяется память под хранение экземпляра.   Непосредственно перед этим вызывается метод класса **\\_\\_new\\_\\_**. Это действие, как правило, отменяется только в редких случаях.  \n",
    "После этого объект готов к использованию.  \n",
    " \n",
    ">С объектом теперь можно взаимодействовать: вызывать функции и использовать его атрибуты.\n",
    "В конце концов, когда объект больше не нужен, он может быть уничтожен.\n",
    "\n",
    "---\n",
    "\n",
    "Когда объект **уничтожается**, выделенная для него память освобождается и может быть использована для других целей.    \n",
    "Уничтожение объекта происходит тогда, когда количество ссылок на него достигнет нуля. **Количество ссылок** - это число переменных и других элементов, которые ссылаются на объект.    \n",
    "Если на объект ничто не ссылается (количество ссылок равно нулю), ничто не взаимодействует с ним, так что его можно смело удалить.   \n",
    "\n",
    "В некоторых ситуациях, два (или более) объекта могут ссылаться только друг на друга, и, следовательно, также могут быть удалены.  \n",
    "Инструкция **del** уменьшает число ссылок объекта на единицу, что часто приводит к его удалению.  \n",
    "Для инструкции **del** используется магический метод **\\_\\_del\\_\\_**.  \n",
    "Процесс удаления ненужных объектов называется **сборкой мусора**.   \n",
    "Когда же объекту присваивается новое имя или его включают в контейнер (список, кортеж, словарь), количество ссылок на него увеличивается на единицу. Число ссылок объекта уменьшается, когда он удаляется с помощью инструкции **del**, одна из его ссылок была переназначена, или когда его ссылка указывает на элемент за рамками доступного диапазона. Когда количество ссылок объекта достигает нуля, Python автоматически удаляет его."
   ]
  },
  {
   "cell_type": "code",
   "execution_count": 109,
   "id": "b5d00401",
   "metadata": {},
   "outputs": [],
   "source": [
    "a = 47    # создание объекта 47\n",
    "b = a     # количество ссылок на 47 увеличивается на 1\n",
    "c = [a]   # количество ссылок на 47 увеличивается на 1\n",
    "\n",
    "del a     # количество ссылок на 47 уменьшается на 1\n",
    "b = 100   # количество ссылок на 47 уменьшается на 1\n",
    "c[0] = 1  # количество ссылок на 47 уменьшается на 1"
   ]
  },
  {
   "cell_type": "markdown",
   "id": "072a5e89",
   "metadata": {},
   "source": [
    ">Низкоуровневые языки вроде C не имеют такого автоматического управления памятью.\n",
    "\n",
    "---"
   ]
  },
  {
   "cell_type": "markdown",
   "id": "6d5d5ac2",
   "metadata": {},
   "source": [
    "## Сокрытие\n",
    "---\n",
    "\n",
    "Одним из ключевых понятий объектно-ориентированного программирования является **инкапсуляция** - упаковка в целях простоты использования связанных переменных и функций в один объект (экземпляр класса).  \n",
    "**Сокрытие данных** - близкое к инкапсуляции понятие, суть которого в том, что детали реализации класса должны быть скрыты, и чистый стандартный интерфейс должен быть представлен тем, кто будет использовать класс.  \n",
    "В других языках программирования это достигается с использованием частных методов и атрибутов, которые закрывают доступ извне к определенным методам и атрибутам класса.  \n",
    "\n",
    "Идеология Python несколько иначе. В сообществе Python часто звучит фраза «мы все взрослые и по своему согласию здесь», что означает, что не следует устанавливать свои ограничения на доступ к отдельным частям класса. Так как все равно невозможно обеспечить строгую частность метода или атрибута. \n",
    "\n",
    ">Тем не менее можно сделать предупреждение о доступе к некоторым частям класса, например, указать, что это деталь реализации, которая должна использоваться на свой страх и риск.\n",
    "\n",
    "---\n",
    "\n",
    "Условно частные методы и атрибуты оформляются с **единым подчеркиванием** в начале имени.  \n",
    "Это частные методы, которые не должны взаимодействовать со внешней частью программы. Но часто это правило условно; внешняя часть программы может получить к ним доступ.  \n",
    "Реальная особенность этих методов лишь в том, что <b>from module_name import *</b> не будет импортировать переменные, которые начинаются с единого подчеркивания.  "
   ]
  },
  {
   "cell_type": "code",
   "execution_count": 132,
   "id": "e5cae927",
   "metadata": {},
   "outputs": [],
   "source": [
    "class SmartList:\n",
    "    def __init__(self, cont):\n",
    "        self._hiddenlist = list(cont)\n",
    "    \n",
    "    def push(self, value):\n",
    "        self._hiddenlist.insert(0, value * 1.122131)\n",
    "        \n",
    "    def pop(self, value):\n",
    "        return 1000"
   ]
  },
  {
   "cell_type": "code",
   "execution_count": 134,
   "id": "59aefe94",
   "metadata": {},
   "outputs": [],
   "source": [
    "sl = SmartList([1, 2, 3])\n",
    "sl.push(10)"
   ]
  },
  {
   "cell_type": "code",
   "execution_count": 135,
   "id": "34446d8f",
   "metadata": {},
   "outputs": [
    {
     "name": "stdout",
     "output_type": "stream",
     "text": [
      "[11.221309999999999, 1, 2, 3]\n"
     ]
    }
   ],
   "source": [
    "print(sl._hiddenlist)"
   ]
  },
  {
   "cell_type": "markdown",
   "id": "27e424d5",
   "metadata": {},
   "source": [
    ">Во фрагменте кода вверху атрибут **\\_hiddenlist** помечен как частный, но внешний код все же сможет получить к нему доступ.\n",
    "\n",
    "---"
   ]
  },
  {
   "cell_type": "markdown",
   "id": "6852478a",
   "metadata": {},
   "source": [
    "Строго частные методы и атрибуты оформляются с **двойным подчеркиванием** в начале имени. Таким образом их имена искажаются, и внешняя часть программы не может получить к ним доступ.  \n",
    "Но это делается не для того, чтобы обеспечить их частность, а чтобы избежать ошибок, если где-либо в коде есть подклассы, которые имеют методы или атрибуты с такими же именами.  \n",
    "Методы с искаженными именами все же могут быть вызваны извне, но по другим именам. Метод **\\_\\_privatemethod** класса **Spam** может быть вызван извне по имени **\\_Spam\\_\\_privatemethod**.  "
   ]
  },
  {
   "cell_type": "code",
   "execution_count": 136,
   "id": "cc6d36a9",
   "metadata": {},
   "outputs": [],
   "source": [
    "class Spam:\n",
    "    __spam = \"spam\"\n",
    "    \n",
    "    def get_spam(self):\n",
    "        return self.__spam"
   ]
  },
  {
   "cell_type": "code",
   "execution_count": 138,
   "id": "6edae10a",
   "metadata": {},
   "outputs": [
    {
     "name": "stdout",
     "output_type": "stream",
     "text": [
      "spam\n"
     ]
    }
   ],
   "source": [
    "print(Spam().get_spam())"
   ]
  },
  {
   "cell_type": "code",
   "execution_count": 139,
   "id": "4f2e435a",
   "metadata": {},
   "outputs": [
    {
     "ename": "AttributeError",
     "evalue": "'Spam' object has no attribute '__spam'",
     "output_type": "error",
     "traceback": [
      "\u001b[1;31m---------------------------------------------------------------------------\u001b[0m",
      "\u001b[1;31mAttributeError\u001b[0m                            Traceback (most recent call last)",
      "\u001b[1;32m<ipython-input-139-a32458565a85>\u001b[0m in \u001b[0;36m<module>\u001b[1;34m\u001b[0m\n\u001b[1;32m----> 1\u001b[1;33m \u001b[0mprint\u001b[0m\u001b[1;33m(\u001b[0m\u001b[0mSpam\u001b[0m\u001b[1;33m(\u001b[0m\u001b[1;33m)\u001b[0m\u001b[1;33m.\u001b[0m\u001b[0m__spam\u001b[0m\u001b[1;33m)\u001b[0m\u001b[1;33m\u001b[0m\u001b[1;33m\u001b[0m\u001b[0m\n\u001b[0m",
      "\u001b[1;31mAttributeError\u001b[0m: 'Spam' object has no attribute '__spam'"
     ]
    }
   ],
   "source": [
    "print(Spam().__spam)"
   ]
  },
  {
   "cell_type": "code",
   "execution_count": 142,
   "id": "f0692330",
   "metadata": {},
   "outputs": [
    {
     "name": "stdout",
     "output_type": "stream",
     "text": [
      "spam\n"
     ]
    }
   ],
   "source": [
    "print(Spam()._Spam__spam)"
   ]
  },
  {
   "cell_type": "markdown",
   "id": "6095c5eb",
   "metadata": {},
   "source": [
    "---\n",
    "## @classmethod\n",
    "---\n",
    "\n",
    "Методы объектов, рассмотренных нами до сих пор, вызываются экземпляром класса, который затем передается в параметр метода **self**.  \n",
    "**Методы класса** несколько другие: они вызываются классом, который передается параметру **cls** метода.  \n",
    "Чаще всего это используется в фабричных методах: создается экземпляр класса, при этом используются иные параметры, чем те, которые обычно передаются в конструктор класса.  \n",
    "Методы класса оформляются с **декоратором classmethod**.  \n"
   ]
  },
  {
   "cell_type": "code",
   "execution_count": 143,
   "id": "318a6152",
   "metadata": {},
   "outputs": [],
   "source": [
    "class Rectangle:\n",
    "    def __init__(self, width, height):\n",
    "        self.width = width\n",
    "        self.height = height\n",
    "        \n",
    "    def get_area(self):\n",
    "        return self.width * self.height\n",
    "    \n",
    "    @classmethod\n",
    "    def new_square(cls, side_length):\n",
    "        return cls(side_length, side_length)"
   ]
  },
  {
   "cell_type": "code",
   "execution_count": 144,
   "id": "b20eaccf",
   "metadata": {},
   "outputs": [
    {
     "name": "stdout",
     "output_type": "stream",
     "text": [
      "25\n"
     ]
    }
   ],
   "source": [
    "square = Rectangle.new_square(5)\n",
    "\n",
    "print(square.get_area())"
   ]
  },
  {
   "cell_type": "markdown",
   "id": "e9cd7ec0",
   "metadata": {},
   "source": [
    "**new_square** - метод класса и вызывается для класса, а не для экземпляра класса. Он возвращает новый объект класса **cls**.\n",
    "\n",
    "---\n",
    ">Практически параметры **self и cls** используются просто по традиции; вместо них могут использоваться другие. Тем не менее все их используют, так что имеет смысл придерживаться традиции.\n",
    "\n",
    "---"
   ]
  },
  {
   "cell_type": "markdown",
   "id": "1f503518",
   "metadata": {},
   "source": [
    "## @staticmethod\n",
    "---\n",
    "\n",
    "**Статические методы** похожи на методы класса с тем отличием, что они не берут никаких дополнительных аргументов; они аналогичны обычным функциям класса.  \n",
    "Они оформляются с декоратором **staticmethod**.  "
   ]
  },
  {
   "cell_type": "code",
   "execution_count": 145,
   "id": "bd0a359f",
   "metadata": {},
   "outputs": [],
   "source": [
    "class Pizza:\n",
    "    def __init__(self, toppings):\n",
    "        self.toppings = toppings\n",
    "        \n",
    "    @staticmethod\n",
    "    def validate_topping(topping):\n",
    "        if topping == \"pineapple\":\n",
    "            return False\n",
    "        else:\n",
    "            return True"
   ]
  },
  {
   "cell_type": "code",
   "execution_count": 153,
   "id": "cf829f53",
   "metadata": {},
   "outputs": [
    {
     "name": "stdout",
     "output_type": "stream",
     "text": [
      "['cheese', 'mem', 'love', 'prikol']\n"
     ]
    }
   ],
   "source": [
    "ing = [\"cheese\", \"mem\", \"love\", \"prikol\"]\n",
    "\n",
    "if all(Pizza.validate_topping(i) for i in ing):\n",
    "    pizza = Pizza(ing)\n",
    "    print(pizza.toppings)"
   ]
  },
  {
   "cell_type": "code",
   "execution_count": 154,
   "id": "b393bd81",
   "metadata": {},
   "outputs": [
    {
     "name": "stdout",
     "output_type": "stream",
     "text": [
      "No pizza\n"
     ]
    }
   ],
   "source": [
    "ing = [\"cheese\", \"mem\", \"pineapple\", \"prikol\"]\n",
    "\n",
    "if all(Pizza.validate_topping(i) for i in ing):\n",
    "    pizza = Pizza(ing)\n",
    "    print(pizza.toppings)\n",
    "else:\n",
    "    print(\"No pizza\")"
   ]
  },
  {
   "cell_type": "markdown",
   "id": "ae8a2f79",
   "metadata": {},
   "source": [
    ">Статические методы ведут себя как обычные функции с тем отличием, что вы можете вызывать их экземпляром класса.\n",
    "\n",
    "---"
   ]
  },
  {
   "cell_type": "markdown",
   "id": "ad08100e",
   "metadata": {},
   "source": [
    "## @property\n",
    "---\n",
    "\n",
    "В **свойствах** мы можем настроить доступ к атрибутам экземпляра.  \n",
    "Чтобы создать свойства, непосредственно перед методом помещается **декоратор property**: при вызове атрибута экземпляра с таким же именем, что и у метода, вместо него будет вызван метод.  \n",
    "Один из распространенных способов их применения - присвоение атрибуту свойства «**только для чтения**».  "
   ]
  },
  {
   "cell_type": "code",
   "execution_count": 155,
   "id": "40eb5966",
   "metadata": {},
   "outputs": [],
   "source": [
    "class Pizza:\n",
    "    def __init__(self, toppings):\n",
    "        self.toppings = toppings\n",
    "        \n",
    "    @property\n",
    "    def pineapple_allowed(self):\n",
    "        return False"
   ]
  },
  {
   "cell_type": "code",
   "execution_count": 157,
   "id": "383ed2da",
   "metadata": {},
   "outputs": [
    {
     "name": "stdout",
     "output_type": "stream",
     "text": [
      "False\n"
     ]
    },
    {
     "ename": "AttributeError",
     "evalue": "can't set attribute",
     "output_type": "error",
     "traceback": [
      "\u001b[1;31m---------------------------------------------------------------------------\u001b[0m",
      "\u001b[1;31mAttributeError\u001b[0m                            Traceback (most recent call last)",
      "\u001b[1;32m<ipython-input-157-72fa29ac90f7>\u001b[0m in \u001b[0;36m<module>\u001b[1;34m\u001b[0m\n\u001b[0;32m      1\u001b[0m \u001b[0mpizza\u001b[0m \u001b[1;33m=\u001b[0m \u001b[0mPizza\u001b[0m\u001b[1;33m(\u001b[0m\u001b[1;33m[\u001b[0m\u001b[1;34m\"vjjj\"\u001b[0m\u001b[1;33m,\u001b[0m \u001b[1;34m\"ggg\"\u001b[0m\u001b[1;33m]\u001b[0m\u001b[1;33m)\u001b[0m\u001b[1;33m\u001b[0m\u001b[1;33m\u001b[0m\u001b[0m\n\u001b[0;32m      2\u001b[0m \u001b[0mprint\u001b[0m\u001b[1;33m(\u001b[0m\u001b[0mpizza\u001b[0m\u001b[1;33m.\u001b[0m\u001b[0mpineapple_allowed\u001b[0m\u001b[1;33m)\u001b[0m\u001b[1;33m\u001b[0m\u001b[1;33m\u001b[0m\u001b[0m\n\u001b[1;32m----> 3\u001b[1;33m \u001b[0mpizza\u001b[0m\u001b[1;33m.\u001b[0m\u001b[0mpineapple_allowed\u001b[0m \u001b[1;33m=\u001b[0m \u001b[1;32mTrue\u001b[0m\u001b[1;33m\u001b[0m\u001b[1;33m\u001b[0m\u001b[0m\n\u001b[0m",
      "\u001b[1;31mAttributeError\u001b[0m: can't set attribute"
     ]
    }
   ],
   "source": [
    "pizza = Pizza([\"vjjj\", \"ggg\"])\n",
    "print(pizza.pineapple_allowed)\n",
    "pizza.pineapple_allowed = True"
   ]
  },
  {
   "cell_type": "markdown",
   "id": "43938bc3",
   "metadata": {},
   "source": [
    "---\n",
    "Свойства также могут быть заданы с помощью функций **setter/getter**.  \n",
    "Функция **setter** устанавливает значение соответствующего свойства.  \n",
    "Функция **getter** возвращает значение.  \n",
    "Чтобы определить **setter**, используется декоратор с таким же именем, что и у свойства, с последующим ключевым словом **setter**, разделенные точкой.  \n",
    "Точно так же определяются функции **getter**.  "
   ]
  },
  {
   "cell_type": "code",
   "execution_count": 164,
   "id": "e33cd4ff",
   "metadata": {},
   "outputs": [],
   "source": [
    "class Pizza:\n",
    "    def __init__(self, toppings):\n",
    "        self.toppings = toppings\n",
    "        self._pineapple_allowed = False\n",
    "        \n",
    "    @property\n",
    "    def pineapple_allowed(self):\n",
    "        return self._pineapple_allowed\n",
    "    \n",
    "    @pineapple_allowed.setter\n",
    "    def pineapple_allowed(self, value):\n",
    "        self._pineapple_allowed = value"
   ]
  },
  {
   "cell_type": "code",
   "execution_count": 165,
   "id": "ef888250",
   "metadata": {},
   "outputs": [
    {
     "name": "stdout",
     "output_type": "stream",
     "text": [
      "False\n",
      "True\n"
     ]
    }
   ],
   "source": [
    "pizza = Pizza([\"vjjj\", \"ggg\"])\n",
    "print(pizza.pineapple_allowed)\n",
    "pizza.pineapple_allowed = True\n",
    "print(pizza.pineapple_allowed)"
   ]
  }
 ],
 "metadata": {
  "kernelspec": {
   "display_name": "Python 3",
   "language": "python",
   "name": "python3"
  },
  "language_info": {
   "codemirror_mode": {
    "name": "ipython",
    "version": 3
   },
   "file_extension": ".py",
   "mimetype": "text/x-python",
   "name": "python",
   "nbconvert_exporter": "python",
   "pygments_lexer": "ipython3",
   "version": "3.8.8"
  }
 },
 "nbformat": 4,
 "nbformat_minor": 5
}
