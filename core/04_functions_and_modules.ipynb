{
 "cells": [
  {
   "cell_type": "markdown",
   "id": "64bb1cb5",
   "metadata": {},
   "source": [
    "# Функции и модули\n",
    "---\n",
    "\n",
    "# Содержание\n",
    "\n",
    "* [Повторное использование кода](#Повторное-использование-кода)\n",
    "\n",
    "* [Функции](#Функции)\n",
    "    * [Аргументы функций](#Аргументы-функций)\n",
    "    * [Возврат из функции](#Возврат-из-функции)\n",
    "    * [Функции как объекты](#Функции-как-объекты)\n",
    "    \n",
    "* [Комментарии и строки документации](#Комментарии-и-строки-документации)\n",
    "    * [Комментарии](#Комментарии)\n",
    "    * [Строки документации](#Строки-документации)\n",
    "    \n",
    "* [Модули](#Модули)\n",
    "    * [Стандартная библиотека](#Стандартная-библиотека)\n",
    "    * [Модули из внешних источников](#Модули-из-внешних-источников)\n",
    "\n",
    "---"
   ]
  },
  {
   "cell_type": "markdown",
   "id": "d98b4747",
   "metadata": {},
   "source": [
    "## Повторное использование кода\n",
    "---\n",
    "\n",
    "**Повторное использование кода** - важный момент в любом языке программирования. Когда код вырастает в объеме, с ним становится сложно работать.  \n",
    "Работая над большим проектом, важно следовать принципу **Don’t Repeat Yourself**, или **DRY** (англ. «избегайте самоповторов»). Мы уже рассмотрели один способ, позволяющий так работать: использование циклов. В этом модуле мы рассмотрим еще два: функции и модули.\n",
    "\n",
    ">Считается, что плохой, повторяющийся код следует принципу **WET - Write Everything Twice** (или **We Enjoy Typing**)\n",
    "\n",
    "---"
   ]
  },
  {
   "cell_type": "markdown",
   "id": "071c472d",
   "metadata": {},
   "source": [
    "## Функции\n",
    "---\n",
    "\n",
    "Ранее мы уже работали с функциями.  \n",
    "Выражение, состоящее из слова, за которым следует текст в **скобках**, - это вызов функции.\n",
    "Вот некоторые примеры, которые вы уже видели:"
   ]
  },
  {
   "cell_type": "code",
   "execution_count": 1,
   "id": "b37e1018",
   "metadata": {},
   "outputs": [
    {
     "name": "stdout",
     "output_type": "stream",
     "text": [
      "Something\n"
     ]
    }
   ],
   "source": [
    "print(\"Something\")"
   ]
  },
  {
   "cell_type": "code",
   "execution_count": 2,
   "id": "ccdf6132",
   "metadata": {},
   "outputs": [
    {
     "data": {
      "text/plain": [
       "range(0, 5)"
      ]
     },
     "execution_count": 2,
     "metadata": {},
     "output_type": "execute_result"
    }
   ],
   "source": [
    "range(5)"
   ]
  },
  {
   "cell_type": "code",
   "execution_count": 3,
   "id": "b4d43b9b",
   "metadata": {},
   "outputs": [
    {
     "data": {
      "text/plain": [
       "'111'"
      ]
     },
     "execution_count": 3,
     "metadata": {},
     "output_type": "execute_result"
    }
   ],
   "source": [
    "str(111)"
   ]
  },
  {
   "cell_type": "markdown",
   "id": "5dbde603",
   "metadata": {},
   "source": [
    "Слова перед круглыми скобками - **имена функций**, а значения, разделенные запятыми в скобках, - **аргументы функций**.\n",
    "\n",
    "---"
   ]
  },
  {
   "cell_type": "markdown",
   "id": "2f16b503",
   "metadata": {},
   "source": [
    "В дополнение к предопределенным функциям, вы можете создавать свои собственные функции с помощью инструкции **def**.  \n",
    "Приведем пример функции с именем **my_func**: она не принимает ни одного аргумента и выводит слово «spam». Сначала функция определяется, затем вызывается. Инструкции внутри функции выполняются только при ее вызове."
   ]
  },
  {
   "cell_type": "code",
   "execution_count": 4,
   "id": "ed47d83a",
   "metadata": {},
   "outputs": [],
   "source": [
    "def my_func():\n",
    "    print(\"spam\")"
   ]
  },
  {
   "cell_type": "code",
   "execution_count": 6,
   "id": "19b68146",
   "metadata": {},
   "outputs": [
    {
     "name": "stdout",
     "output_type": "stream",
     "text": [
      "spam\n"
     ]
    }
   ],
   "source": [
    "my_func()"
   ]
  },
  {
   "cell_type": "markdown",
   "id": "9887b471",
   "metadata": {},
   "source": [
    ">Блок кода, содержащий тело функции, начинается с двоеточия (:) и оформляется с отступами."
   ]
  },
  {
   "cell_type": "markdown",
   "id": "1498e2cc",
   "metadata": {},
   "source": [
    "Функции нужно определять до того, как они вызываются - так же, как переменные должны быть назначены перед их использованием."
   ]
  },
  {
   "cell_type": "code",
   "execution_count": 7,
   "id": "ee4da467",
   "metadata": {},
   "outputs": [
    {
     "ename": "NameError",
     "evalue": "name 'foo' is not defined",
     "output_type": "error",
     "traceback": [
      "\u001b[1;31m---------------------------------------------------------------------------\u001b[0m",
      "\u001b[1;31mNameError\u001b[0m                                 Traceback (most recent call last)",
      "\u001b[1;32m<ipython-input-7-b4d00e3952da>\u001b[0m in \u001b[0;36m<module>\u001b[1;34m\u001b[0m\n\u001b[1;32m----> 1\u001b[1;33m \u001b[0mfoo\u001b[0m\u001b[1;33m(\u001b[0m\u001b[1;33m)\u001b[0m\u001b[1;33m\u001b[0m\u001b[1;33m\u001b[0m\u001b[0m\n\u001b[0m\u001b[0;32m      2\u001b[0m \u001b[1;33m\u001b[0m\u001b[0m\n\u001b[0;32m      3\u001b[0m \u001b[1;32mdef\u001b[0m \u001b[0mfoo\u001b[0m\u001b[1;33m(\u001b[0m\u001b[1;33m)\u001b[0m\u001b[1;33m:\u001b[0m\u001b[1;33m\u001b[0m\u001b[1;33m\u001b[0m\u001b[0m\n\u001b[0;32m      4\u001b[0m     \u001b[0mprint\u001b[0m\u001b[1;33m(\u001b[0m\u001b[1;34m\"foo\"\u001b[0m\u001b[1;33m)\u001b[0m\u001b[1;33m\u001b[0m\u001b[1;33m\u001b[0m\u001b[0m\n",
      "\u001b[1;31mNameError\u001b[0m: name 'foo' is not defined"
     ]
    }
   ],
   "source": [
    "foo()\n",
    "\n",
    "def foo():\n",
    "    print(\"foo\")"
   ]
  },
  {
   "cell_type": "markdown",
   "id": "28e4a3f8",
   "metadata": {},
   "source": [
    "---\n",
    "### Аргументы функций\n",
    "---\n",
    "\n",
    "Все рассмотренные до сих пор определения функций были функциями без аргументов, то есть с пустыми круглыми скобками.  \n",
    "Но обычно функции принимают какие-то аргументы.  \n",
    "В примере внизу определена функция, у которой один аргумент:  "
   ]
  },
  {
   "cell_type": "code",
   "execution_count": 8,
   "id": "16be9d94",
   "metadata": {},
   "outputs": [],
   "source": [
    "def print_with_exclamation(word):\n",
    "    print(f\"{word}!\")"
   ]
  },
  {
   "cell_type": "code",
   "execution_count": 9,
   "id": "fc190a2a",
   "metadata": {},
   "outputs": [
    {
     "name": "stdout",
     "output_type": "stream",
     "text": [
      "spam!\n"
     ]
    }
   ],
   "source": [
    "print_with_exclamation(\"spam\")"
   ]
  },
  {
   "cell_type": "code",
   "execution_count": 10,
   "id": "13c6f01c",
   "metadata": {},
   "outputs": [
    {
     "name": "stdout",
     "output_type": "stream",
     "text": [
      "bar!\n"
     ]
    }
   ],
   "source": [
    "print_with_exclamation(\"bar\")"
   ]
  },
  {
   "cell_type": "markdown",
   "id": "ce567018",
   "metadata": {},
   "source": [
    "Если нужно определить функцию с более чем одним аргументом, они указываются через запятую."
   ]
  },
  {
   "cell_type": "code",
   "execution_count": 11,
   "id": "ed2e168b",
   "metadata": {},
   "outputs": [],
   "source": [
    "def print_sum(x, y):\n",
    "    print(x + y)"
   ]
  },
  {
   "cell_type": "code",
   "execution_count": 12,
   "id": "03d4cb6f",
   "metadata": {},
   "outputs": [
    {
     "name": "stdout",
     "output_type": "stream",
     "text": [
      "20.2\n"
     ]
    }
   ],
   "source": [
    "print_sum(1, 19.2)"
   ]
  },
  {
   "cell_type": "markdown",
   "id": "807f897f",
   "metadata": {},
   "source": [
    "Аргументы функции могут быть использованы в качестве переменных внутри определения функции. Но на них нельзя ссылаться извне определения функции. Это также относится и к другим переменным, созданным в теле функции."
   ]
  },
  {
   "cell_type": "code",
   "execution_count": 13,
   "id": "5f1668e3",
   "metadata": {},
   "outputs": [],
   "source": [
    "def func(x):\n",
    "    x += 10\n",
    "    print(f\"x + 10 = {x}\")"
   ]
  },
  {
   "cell_type": "markdown",
   "id": "7ce84d60",
   "metadata": {},
   "source": [
    "---\n",
    "Этот код выведет ошибку, потому что переменная variable определена внутри функции и на нее можно ссылаться только там."
   ]
  },
  {
   "cell_type": "code",
   "execution_count": 15,
   "id": "e17b8187",
   "metadata": {},
   "outputs": [
    {
     "name": "stdout",
     "output_type": "stream",
     "text": [
      "x + 10 = 12\n"
     ]
    },
    {
     "ename": "NameError",
     "evalue": "name 'x' is not defined",
     "output_type": "error",
     "traceback": [
      "\u001b[1;31m---------------------------------------------------------------------------\u001b[0m",
      "\u001b[1;31mNameError\u001b[0m                                 Traceback (most recent call last)",
      "\u001b[1;32m<ipython-input-15-19ce9b14e8e7>\u001b[0m in \u001b[0;36m<module>\u001b[1;34m\u001b[0m\n\u001b[0;32m      1\u001b[0m \u001b[0mfunc\u001b[0m\u001b[1;33m(\u001b[0m\u001b[1;36m2\u001b[0m\u001b[1;33m)\u001b[0m\u001b[1;33m\u001b[0m\u001b[1;33m\u001b[0m\u001b[0m\n\u001b[1;32m----> 2\u001b[1;33m \u001b[0mprint\u001b[0m\u001b[1;33m(\u001b[0m\u001b[0mx\u001b[0m\u001b[1;33m)\u001b[0m\u001b[1;33m\u001b[0m\u001b[1;33m\u001b[0m\u001b[0m\n\u001b[0m",
      "\u001b[1;31mNameError\u001b[0m: name 'x' is not defined"
     ]
    }
   ],
   "source": [
    "func(2)\n",
    "print(x)"
   ]
  },
  {
   "cell_type": "markdown",
   "id": "4388759a",
   "metadata": {},
   "source": [
    "---\n",
    "### Возврат из функции\n",
    "---\n",
    "\n",
    "Некоторые функции, такие как **int** или **str**, возвращают значение, которое можно использовать позже в программе.  \n",
    "Для этого используйте инструкцию **return** для вызова определенных ранее функций."
   ]
  },
  {
   "cell_type": "code",
   "execution_count": 18,
   "id": "f27e53bc",
   "metadata": {},
   "outputs": [],
   "source": [
    "def maximum(x, y):\n",
    "    if x >= y:\n",
    "        return x\n",
    "    else:\n",
    "        return y"
   ]
  },
  {
   "cell_type": "code",
   "execution_count": 20,
   "id": "d3cd61cb",
   "metadata": {},
   "outputs": [
    {
     "name": "stdout",
     "output_type": "stream",
     "text": [
      "11\n"
     ]
    }
   ],
   "source": [
    "x = maximum(10, 11)\n",
    "\n",
    "print(x)"
   ]
  },
  {
   "cell_type": "markdown",
   "id": "0a6fe226",
   "metadata": {},
   "source": [
    ">Инструкция **return** не может использоваться вне тела функции."
   ]
  },
  {
   "cell_type": "markdown",
   "id": "b6cc62ae",
   "metadata": {},
   "source": [
    "После того, как функция возвращает значение, она больше не выполняется. Какой бы код ни шел после инструкции **return**, он не будет выполняться."
   ]
  },
  {
   "cell_type": "code",
   "execution_count": 23,
   "id": "96d86486",
   "metadata": {},
   "outputs": [],
   "source": [
    "def print_one():\n",
    "    print(\"1\")\n",
    "    return\n",
    "    print(\"2\")"
   ]
  },
  {
   "cell_type": "code",
   "execution_count": 24,
   "id": "d9b33b25",
   "metadata": {},
   "outputs": [
    {
     "name": "stdout",
     "output_type": "stream",
     "text": [
      "1\n"
     ]
    }
   ],
   "source": [
    "print_one()"
   ]
  },
  {
   "cell_type": "markdown",
   "id": "8b5103c8",
   "metadata": {},
   "source": [
    "---\n",
    "### Функции как объекты\n",
    "---\n",
    "\n",
    "Хотя синтаксис функций отличается от обычных переменных, в остальном они аналогичны другим видам значений.\n",
    "Им могут назначаться и переназначаться переменные, затем они могут вызываться по своим именам."
   ]
  },
  {
   "cell_type": "code",
   "execution_count": 26,
   "id": "2f829086",
   "metadata": {},
   "outputs": [],
   "source": [
    "def multiply(x, y):\n",
    "    return x * y"
   ]
  },
  {
   "cell_type": "code",
   "execution_count": 28,
   "id": "4bf0ef5a",
   "metadata": {},
   "outputs": [
    {
     "name": "stdout",
     "output_type": "stream",
     "text": [
      "197.346\n"
     ]
    }
   ],
   "source": [
    "x = 9.3\n",
    "y = 21.22\n",
    "operation = multiply\n",
    "\n",
    "print(operation(x, y))"
   ]
  },
  {
   "cell_type": "markdown",
   "id": "447a99be",
   "metadata": {},
   "source": [
    ">В примере выше, переменной **operation** назначена функция **multiply**. Теперь по имени **operation** можно вызывать функцию."
   ]
  },
  {
   "cell_type": "markdown",
   "id": "a0ae51a4",
   "metadata": {},
   "source": [
    "Функции также могут быть использованы в качестве **аргументов** для других функций."
   ]
  },
  {
   "cell_type": "code",
   "execution_count": 29,
   "id": "9e094d43",
   "metadata": {},
   "outputs": [],
   "source": [
    "def add(x, y):\n",
    "    return x + y"
   ]
  },
  {
   "cell_type": "code",
   "execution_count": 30,
   "id": "4f963f7b",
   "metadata": {},
   "outputs": [],
   "source": [
    "def do_twice(func, x, y):\n",
    "    return func(func(x, y), func(x, y))"
   ]
  },
  {
   "cell_type": "code",
   "execution_count": 31,
   "id": "448ab00b",
   "metadata": {},
   "outputs": [
    {
     "name": "stdout",
     "output_type": "stream",
     "text": [
      "30\n"
     ]
    }
   ],
   "source": [
    "a, b = 5, 10\n",
    "\n",
    "print(do_twice(add, a, b))"
   ]
  },
  {
   "cell_type": "markdown",
   "id": "1546d208",
   "metadata": {},
   "source": [
    ">Как видите, функция **do_twice** принимает функцию в качестве аргумента и затем вызывает ее."
   ]
  },
  {
   "cell_type": "markdown",
   "id": "5afad246",
   "metadata": {},
   "source": [
    "---\n",
    "## Комментарии и строки документации\n",
    "---\n",
    "\n",
    "### Комментарии\n",
    "---\n",
    "\n",
    "**Комментарии** - это пояснения к коду, которые добавляются, чтобы сделать код проще для понимания. Они никак не влияют на выполнение кода.  \n",
    "В Python комментарий добавляется путем вставки знака **хэш-символа: #**. Любой текст, идущий после него в той же строке игнорируется."
   ]
  },
  {
   "cell_type": "code",
   "execution_count": 32,
   "id": "561884e4",
   "metadata": {},
   "outputs": [
    {
     "name": "stdout",
     "output_type": "stream",
     "text": [
      "1\n"
     ]
    }
   ],
   "source": [
    "x = 1\n",
    "y = 2\n",
    "# комментарий\n",
    "\n",
    "print(x % y)  # find the remainder"
   ]
  },
  {
   "cell_type": "markdown",
   "id": "71336927",
   "metadata": {},
   "source": [
    ">В Python нет стандартных многострочных комментариев, как в других языках программирования (например, C)."
   ]
  },
  {
   "cell_type": "markdown",
   "id": "3fce704f",
   "metadata": {},
   "source": [
    "---\n",
    "### Строки документации\n",
    "---\n",
    "\n",
    "**Строки документации** (docstrings) служат той же цели, что и комментарии, то есть поясняют код. Но они используются для более конкретных объяснений и отличаются своим синтаксисом. Они представляют собой многострочное пояснение функции, которое следует после **первой строки функции**."
   ]
  },
  {
   "cell_type": "code",
   "execution_count": 41,
   "id": "fa0f3798",
   "metadata": {},
   "outputs": [],
   "source": [
    "def shout(word):\n",
    "    \"\"\"\n",
    "    Print a word with an\n",
    "    exclamation mark following it\n",
    "    \"\"\"\n",
    "    print(f\"{word}!\")"
   ]
  },
  {
   "cell_type": "code",
   "execution_count": 42,
   "id": "914b231f",
   "metadata": {},
   "outputs": [
    {
     "name": "stdout",
     "output_type": "stream",
     "text": [
      "Mem!\n"
     ]
    }
   ],
   "source": [
    "shout(\"Mem\")"
   ]
  },
  {
   "cell_type": "markdown",
   "id": "223cf4c8",
   "metadata": {},
   "source": [
    ">В отличие от обычных комментариев, строки документации сохраняются в течение всей программы. Это позволяет программисту читать их непосредственно во время выполнения программы.\n",
    "\n",
    "К строкам документации можно обратиться через функцию **help** или получить в виде строки с помощью атрибута **__doc__**"
   ]
  },
  {
   "cell_type": "code",
   "execution_count": 43,
   "id": "f96ba44c",
   "metadata": {},
   "outputs": [
    {
     "name": "stdout",
     "output_type": "stream",
     "text": [
      "Help on function shout in module __main__:\n",
      "\n",
      "shout(word)\n",
      "    Print a word with an\n",
      "    exclamation mark following it\n",
      "\n"
     ]
    }
   ],
   "source": [
    "help(shout)"
   ]
  },
  {
   "cell_type": "code",
   "execution_count": 44,
   "id": "da2e3d03",
   "metadata": {},
   "outputs": [
    {
     "name": "stdout",
     "output_type": "stream",
     "text": [
      "\n",
      "    Print a word with an\n",
      "    exclamation mark following it\n",
      "    \n"
     ]
    }
   ],
   "source": [
    "print(shout.__doc__)"
   ]
  },
  {
   "cell_type": "markdown",
   "id": "24c574e6",
   "metadata": {},
   "source": [
    "---\n",
    "## Модули\n",
    "---\n",
    "\n",
    "**Модули** - это фрагменты кода, написанные другими программистами, чтобы упростить выполнение стандартных задач, таких как генерация случайных чисел, арифметические операции и т.п.\n",
    "\n",
    "Самый простой способ использовать модуль - это добавить **import module_name** в верхнюю часть вашего кода, а затем с помощью **module_name.var** вызывать функции и значения с именем **var**, находящиеся внутри модуля.  \n",
    "В примере внизу показано, как модуль **random** используется для генерации случайных чисел:"
   ]
  },
  {
   "cell_type": "code",
   "execution_count": 1,
   "id": "626f328c",
   "metadata": {},
   "outputs": [],
   "source": [
    "import random"
   ]
  },
  {
   "cell_type": "code",
   "execution_count": 2,
   "id": "9593393b",
   "metadata": {},
   "outputs": [
    {
     "name": "stdout",
     "output_type": "stream",
     "text": [
      "3\n",
      "1\n",
      "3\n",
      "6\n",
      "4\n"
     ]
    }
   ],
   "source": [
    "for i in range(5):\n",
    "    print(random.randint(1, 6))"
   ]
  },
  {
   "cell_type": "markdown",
   "id": "4b500c31",
   "metadata": {},
   "source": [
    ">В коде функция **randint**, определенная в модуле **random**, выводит 5 случайных чисел в диапазоне от 1 до 6."
   ]
  },
  {
   "cell_type": "markdown",
   "id": "6b266c20",
   "metadata": {},
   "source": [
    "Существует еще один способ импортирования, который используется, когда нужно получить из модуля только определенные функции.  \n",
    "Синтаксис имеет форму **from module_name import var**, и **var** можно использовать в вашем коде, как обычную переменную.  \n",
    "Например, чтобы импортировать только константу **pi** из модуля **math**:"
   ]
  },
  {
   "cell_type": "code",
   "execution_count": 3,
   "id": "e5cbd48e",
   "metadata": {},
   "outputs": [],
   "source": [
    "from math import pi"
   ]
  },
  {
   "cell_type": "code",
   "execution_count": 4,
   "id": "670a004b",
   "metadata": {},
   "outputs": [
    {
     "name": "stdout",
     "output_type": "stream",
     "text": [
      "3.141592653589793\n"
     ]
    }
   ],
   "source": [
    "print(pi)"
   ]
  },
  {
   "cell_type": "markdown",
   "id": "db25e3c8",
   "metadata": {},
   "source": [
    "Используйте запятую, если нужно импортировать несколько объектов."
   ]
  },
  {
   "cell_type": "code",
   "execution_count": 5,
   "id": "a7aeb7bb",
   "metadata": {},
   "outputs": [],
   "source": [
    "from math import pi, sqrt"
   ]
  },
  {
   "cell_type": "markdown",
   "id": "2946053c",
   "metadata": {},
   "source": [
    "---\n",
    "><b>*</b> импортирует из модуля все объекты. Например: <b>from math import *</b>\n",
    "Но такой синтаксис использовать не рекомендуется, так как программа будет путать переменные в вашем коде с переменными в модуле.\n",
    "\n",
    "---"
   ]
  },
  {
   "cell_type": "markdown",
   "id": "f4a41015",
   "metadata": {},
   "source": [
    "Попытка импортировать несуществующий модуль вызывает ошибку **ImportError**."
   ]
  },
  {
   "cell_type": "code",
   "execution_count": 6,
   "id": "dac0e10b",
   "metadata": {},
   "outputs": [
    {
     "ename": "ModuleNotFoundError",
     "evalue": "No module named 'kek'",
     "output_type": "error",
     "traceback": [
      "\u001b[1;31m---------------------------------------------------------------------------\u001b[0m",
      "\u001b[1;31mModuleNotFoundError\u001b[0m                       Traceback (most recent call last)",
      "\u001b[1;32m<ipython-input-6-9d1d554bcf2b>\u001b[0m in \u001b[0;36m<module>\u001b[1;34m\u001b[0m\n\u001b[1;32m----> 1\u001b[1;33m \u001b[1;32mimport\u001b[0m \u001b[0mkek\u001b[0m\u001b[1;33m\u001b[0m\u001b[1;33m\u001b[0m\u001b[0m\n\u001b[0m",
      "\u001b[1;31mModuleNotFoundError\u001b[0m: No module named 'kek'"
     ]
    }
   ],
   "source": [
    "import kek"
   ]
  },
  {
   "cell_type": "markdown",
   "id": "bfadb8fc",
   "metadata": {},
   "source": [
    "---\n",
    "Вы можете импортировать модуль или объект под другим именем, используя ключевое слово **as**. Это полезно, когда модуль или объект имеет длинное или непонятное имя."
   ]
  },
  {
   "cell_type": "code",
   "execution_count": 7,
   "id": "a3dacdca",
   "metadata": {},
   "outputs": [],
   "source": [
    "from math import sqrt as square_root"
   ]
  },
  {
   "cell_type": "code",
   "execution_count": 8,
   "id": "10a669d6",
   "metadata": {},
   "outputs": [
    {
     "name": "stdout",
     "output_type": "stream",
     "text": [
      "16.0\n"
     ]
    }
   ],
   "source": [
    "print(square_root(256))"
   ]
  },
  {
   "cell_type": "markdown",
   "id": "8be28c7b",
   "metadata": {},
   "source": [
    "---\n",
    "### Стандартная библиотека\n",
    "---\n",
    "\n",
    "В Python есть три основных типа модулей: модули, написанные вами, модули, взятые из внешних источников, и предустановленные модули Python.  \n",
    "Последний тип также называется **стандартной библиотекой**. В ней содержится много полезных модулей. Вот лишь некоторые из наиболее полезных модулей со стандартной библиотеки: **string, re, datetime, math, random, os, multiprocessing, subprocess, socket, em, json, doctest, unittest, pdb, argparse и sys**.\n",
    "\n",
    "Задачи, которые можно выполнить с помощью модулей стандартной библиотеки включают: разбор строки, сериализацию данных, тестирование, отладку и редактирование дат, электронные письма, аргументы командной строки и многое другое!\n",
    "\n",
    ">Обширная стандартная библиотека - одно из основных преимуществ языка Python.\n",
    "\n",
    "Некоторые модули стандартной библиотеки написаны на Python, а некоторые на C.\n",
    "Большинство из них совместимы со всеми платформами, а некоторые только с Windows и Unix.\n",
    "\n",
    ">Мы не будем рассматривать все модули стандартной библиотеки, так как их очень много. Вы можете посмотреть полную документацию для стандартной библиотеки на сайте https://docs.python.org/3/library/index.html"
   ]
  },
  {
   "cell_type": "markdown",
   "id": "ea312d88",
   "metadata": {},
   "source": [
    "---\n",
    "### Модули из внешних источников\n",
    "---\n",
    "\n",
    "Многие из модулей Python, написанные сторонними разработчиками, хранятся в каталоге пакетов Python (**Python Package Index, или PyPI**).  \n",
    "Легче всего их устанавливать с помощью специальной программы **pip**. Программа поставляется предустановленной в последних дистрибутивах Python. Если у вас этой программы нет, ее можно легко установить. С этой программой установка библиотек PyPI не составит труда. Найдите имя нужной библиотеки, откройте интерфейс передачи команд (командная строка в Windows) и введите **pip install library_name**. После этого, импортируйте библиотеку и задействуйте ее в своем коде.  \n",
    "\n",
    "Использование программы **pip** - стандартный способ установки библиотек для большинства операционных систем, но в некоторых библиотеках уже есть готовые двоичные файлы для Windows. Это обычные исполняемые файлы для установки библиотек с помощью графического интерфейса - так, как вы устанавливаете другие программы."
   ]
  },
  {
   "cell_type": "markdown",
   "id": "8088ae53",
   "metadata": {},
   "source": [
    "Пример установки библиотеки в Jupyter notebook:"
   ]
  },
  {
   "cell_type": "code",
   "execution_count": 9,
   "id": "f8a5ef93",
   "metadata": {},
   "outputs": [
    {
     "name": "stdout",
     "output_type": "stream",
     "text": [
      "Requirement already satisfied: numpy in d:\\anac2\\lib\\site-packages (1.20.1)\n"
     ]
    }
   ],
   "source": [
    "!pip install numpy"
   ]
  }
 ],
 "metadata": {
  "kernelspec": {
   "display_name": "Python 3",
   "language": "python",
   "name": "python3"
  },
  "language_info": {
   "codemirror_mode": {
    "name": "ipython",
    "version": 3
   },
   "file_extension": ".py",
   "mimetype": "text/x-python",
   "name": "python",
   "nbconvert_exporter": "python",
   "pygments_lexer": "ipython3",
   "version": "3.8.8"
  }
 },
 "nbformat": 4,
 "nbformat_minor": 5
}
