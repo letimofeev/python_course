{
 "cells": [
  {
   "cell_type": "markdown",
   "id": "314350c0",
   "metadata": {},
   "source": [
    "# Pandas\n",
    "---\n",
    "\n",
    "Это краткое введение в pandas, ориентированное в основном на новых пользователей.  \n",
    "[Туториал по более продвинутому использованию pandas](https://pandas.pydata.org/pandas-docs/stable/user_guide/cookbook.html#cookbook.)  \n",
    "По остальным вопросам рекомендуется обращаться к [официальной документации](https://pandas.pydata.org/pandas-docs/stable/index.html)\n",
    "\n",
    "---\n",
    "\n",
    "# Содержание \n",
    "\n",
    "* [Создание объектов](#Создание-объектов)\n",
    "\n",
    "* [Просмотр данных](#Просмотр-данных)\n",
    "\n",
    "* [Выбор данных](#Выбор-данных)\n",
    "\n",
    "* [Присваивание значений](#Присваивание-значений)\n",
    "\n",
    "* [Отсутствующие данные](#Отсутствующие-данные)\n",
    "\n",
    "* [Операции с DataFrame](#Операции-с-DataFrame)\n",
    "    * [Stats](#Stats)\n",
    "    * [Apply](#Apply)\n",
    "    * [Гистограмма](#Гистограмма)\n",
    "    * [Строковые методы](#Строковые-методы)\n",
    "    \n",
    "* [Объединение](#Объединение)\n",
    "    * [Concat](#Concat)\n",
    "    * [Join](#Join)\n",
    "    * [Grouping](#Grouping)\n",
    "    \n",
    "* [Изменение формы](#Изменение-формы)\n",
    "    * [Stack](#Stack)\n",
    "    * [Сводные таблицы](#Сводные-таблицы)\n",
    "    \n",
    "* [Временные ряды](#Временные-ряды)\n",
    "\n",
    "* [Категории](#Категории)\n",
    "\n",
    "* [Построение графиков](#Построение-графиков)\n",
    "\n",
    "* [Запись в файл / чтение из файла](#Запись-в-файл-/-чтение-из-файла)\n",
    "    * [CSV](#CSV)\n",
    "    * [HDF5](#HDF5)\n",
    "    * [Excel](#Excel)\n",
    "\n",
    "---"
   ]
  },
  {
   "cell_type": "markdown",
   "id": "18165a7e",
   "metadata": {},
   "source": [
    "## Создание объектов\n",
    "---\n",
    "\n",
    "Создание [Series](https://pandas.pydata.org/pandas-docs/stable/reference/api/pandas.Series.html#pandas.Series) путем передачи списка значений. В таком случае pandas создавает целочисленный индекс по умолчанию:"
   ]
  },
  {
   "cell_type": "code",
   "execution_count": 4,
   "id": "8471574b",
   "metadata": {},
   "outputs": [],
   "source": [
    "import pandas as pd\n",
    "import numpy as np"
   ]
  },
  {
   "cell_type": "code",
   "execution_count": 5,
   "id": "efffd1ec",
   "metadata": {},
   "outputs": [
    {
     "data": {
      "text/plain": [
       "0    1.0\n",
       "1    3.0\n",
       "2    5.0\n",
       "3    NaN\n",
       "4    6.0\n",
       "5    8.0\n",
       "dtype: float64"
      ]
     },
     "execution_count": 5,
     "metadata": {},
     "output_type": "execute_result"
    }
   ],
   "source": [
    "s = pd.Series([1, 3, 5, np.nan, 6, 8])\n",
    "\n",
    "s"
   ]
  },
  {
   "cell_type": "markdown",
   "id": "ead950aa",
   "metadata": {},
   "source": [
    "---\n",
    "Создание [DataFrame](https://pandas.pydata.org/pandas-docs/stable/reference/api/pandas.DataFrame.html#pandas.DataFrame) путем передачи массива NumPy с индексом datetime и именованными столбцами:"
   ]
  },
  {
   "cell_type": "code",
   "execution_count": 6,
   "id": "a9ad82a3",
   "metadata": {},
   "outputs": [
    {
     "data": {
      "text/plain": [
       "DatetimeIndex(['2013-01-01', '2013-01-02', '2013-01-03', '2013-01-04',\n",
       "               '2013-01-05', '2013-01-06'],\n",
       "              dtype='datetime64[ns]', freq='D')"
      ]
     },
     "execution_count": 6,
     "metadata": {},
     "output_type": "execute_result"
    }
   ],
   "source": [
    "dates = pd.date_range(\"20130101\", periods=6)\n",
    "\n",
    "dates"
   ]
  },
  {
   "cell_type": "code",
   "execution_count": 7,
   "id": "08418b4d",
   "metadata": {},
   "outputs": [
    {
     "data": {
      "text/html": [
       "<div>\n",
       "<style scoped>\n",
       "    .dataframe tbody tr th:only-of-type {\n",
       "        vertical-align: middle;\n",
       "    }\n",
       "\n",
       "    .dataframe tbody tr th {\n",
       "        vertical-align: top;\n",
       "    }\n",
       "\n",
       "    .dataframe thead th {\n",
       "        text-align: right;\n",
       "    }\n",
       "</style>\n",
       "<table border=\"1\" class=\"dataframe\">\n",
       "  <thead>\n",
       "    <tr style=\"text-align: right;\">\n",
       "      <th></th>\n",
       "      <th>A</th>\n",
       "      <th>B</th>\n",
       "      <th>C</th>\n",
       "      <th>D</th>\n",
       "    </tr>\n",
       "  </thead>\n",
       "  <tbody>\n",
       "    <tr>\n",
       "      <th>2013-01-01</th>\n",
       "      <td>0.930724</td>\n",
       "      <td>1.327422</td>\n",
       "      <td>-0.289486</td>\n",
       "      <td>-0.463169</td>\n",
       "    </tr>\n",
       "    <tr>\n",
       "      <th>2013-01-02</th>\n",
       "      <td>-0.380228</td>\n",
       "      <td>0.502977</td>\n",
       "      <td>0.868925</td>\n",
       "      <td>0.179879</td>\n",
       "    </tr>\n",
       "    <tr>\n",
       "      <th>2013-01-03</th>\n",
       "      <td>-0.425828</td>\n",
       "      <td>1.202649</td>\n",
       "      <td>-0.609449</td>\n",
       "      <td>0.332192</td>\n",
       "    </tr>\n",
       "    <tr>\n",
       "      <th>2013-01-04</th>\n",
       "      <td>-1.113482</td>\n",
       "      <td>0.179261</td>\n",
       "      <td>0.572977</td>\n",
       "      <td>-0.597010</td>\n",
       "    </tr>\n",
       "    <tr>\n",
       "      <th>2013-01-05</th>\n",
       "      <td>-1.091683</td>\n",
       "      <td>0.997989</td>\n",
       "      <td>-0.501027</td>\n",
       "      <td>-0.059156</td>\n",
       "    </tr>\n",
       "    <tr>\n",
       "      <th>2013-01-06</th>\n",
       "      <td>0.223100</td>\n",
       "      <td>-0.992536</td>\n",
       "      <td>1.437341</td>\n",
       "      <td>-0.915390</td>\n",
       "    </tr>\n",
       "  </tbody>\n",
       "</table>\n",
       "</div>"
      ],
      "text/plain": [
       "                   A         B         C         D\n",
       "2013-01-01  0.930724  1.327422 -0.289486 -0.463169\n",
       "2013-01-02 -0.380228  0.502977  0.868925  0.179879\n",
       "2013-01-03 -0.425828  1.202649 -0.609449  0.332192\n",
       "2013-01-04 -1.113482  0.179261  0.572977 -0.597010\n",
       "2013-01-05 -1.091683  0.997989 -0.501027 -0.059156\n",
       "2013-01-06  0.223100 -0.992536  1.437341 -0.915390"
      ]
     },
     "execution_count": 7,
     "metadata": {},
     "output_type": "execute_result"
    }
   ],
   "source": [
    "df = pd.DataFrame(np.random.randn(6, 4), index=dates, columns=list(\"ABCD\"))\n",
    "\n",
    "df"
   ]
  },
  {
   "cell_type": "markdown",
   "id": "2a08f190",
   "metadata": {},
   "source": [
    "---\n",
    "Создание [DataFrame](https://pandas.pydata.org/pandas-docs/stable/reference/api/pandas.DataFrame.html#pandas.DataFrame) путем передачи dict, который можно преобразовать в Series."
   ]
  },
  {
   "cell_type": "code",
   "execution_count": 9,
   "id": "d4a16655",
   "metadata": {},
   "outputs": [
    {
     "data": {
      "text/html": [
       "<div>\n",
       "<style scoped>\n",
       "    .dataframe tbody tr th:only-of-type {\n",
       "        vertical-align: middle;\n",
       "    }\n",
       "\n",
       "    .dataframe tbody tr th {\n",
       "        vertical-align: top;\n",
       "    }\n",
       "\n",
       "    .dataframe thead th {\n",
       "        text-align: right;\n",
       "    }\n",
       "</style>\n",
       "<table border=\"1\" class=\"dataframe\">\n",
       "  <thead>\n",
       "    <tr style=\"text-align: right;\">\n",
       "      <th></th>\n",
       "      <th>A</th>\n",
       "      <th>B</th>\n",
       "      <th>C</th>\n",
       "      <th>D</th>\n",
       "      <th>E</th>\n",
       "      <th>F</th>\n",
       "    </tr>\n",
       "  </thead>\n",
       "  <tbody>\n",
       "    <tr>\n",
       "      <th>0</th>\n",
       "      <td>1.0</td>\n",
       "      <td>2013-01-02</td>\n",
       "      <td>1.0</td>\n",
       "      <td>3</td>\n",
       "      <td>test</td>\n",
       "      <td>foo</td>\n",
       "    </tr>\n",
       "    <tr>\n",
       "      <th>1</th>\n",
       "      <td>1.0</td>\n",
       "      <td>2013-01-02</td>\n",
       "      <td>1.0</td>\n",
       "      <td>3</td>\n",
       "      <td>train</td>\n",
       "      <td>foo</td>\n",
       "    </tr>\n",
       "    <tr>\n",
       "      <th>2</th>\n",
       "      <td>1.0</td>\n",
       "      <td>2013-01-02</td>\n",
       "      <td>1.0</td>\n",
       "      <td>3</td>\n",
       "      <td>test</td>\n",
       "      <td>foo</td>\n",
       "    </tr>\n",
       "    <tr>\n",
       "      <th>3</th>\n",
       "      <td>1.0</td>\n",
       "      <td>2013-01-02</td>\n",
       "      <td>1.0</td>\n",
       "      <td>3</td>\n",
       "      <td>train</td>\n",
       "      <td>foo</td>\n",
       "    </tr>\n",
       "  </tbody>\n",
       "</table>\n",
       "</div>"
      ],
      "text/plain": [
       "     A          B    C  D      E    F\n",
       "0  1.0 2013-01-02  1.0  3   test  foo\n",
       "1  1.0 2013-01-02  1.0  3  train  foo\n",
       "2  1.0 2013-01-02  1.0  3   test  foo\n",
       "3  1.0 2013-01-02  1.0  3  train  foo"
      ]
     },
     "execution_count": 9,
     "metadata": {},
     "output_type": "execute_result"
    }
   ],
   "source": [
    "df2 = pd.DataFrame(\n",
    "    {\n",
    "        \"A\": 1.0,\n",
    "        \"B\": pd.Timestamp(\"20130102\"),\n",
    "        \"C\": pd.Series(1, index=list(range(4)), dtype=\"float32\"),\n",
    "        \"D\": np.array([3] * 4, dtype=\"int32\"),\n",
    "        \"E\": pd.Categorical([\"test\", \"train\", \"test\", \"train\"]),\n",
    "        \"F\": \"foo\",\n",
    "     }\n",
    " )\n",
    "\n",
    "df2"
   ]
  },
  {
   "cell_type": "markdown",
   "id": "4fc852b2",
   "metadata": {},
   "source": [
    "---\n",
    "Столбцы результирующего [DataFrame](https://pandas.pydata.org/pandas-docs/stable/reference/api/pandas.DataFrame.html#pandas.DataFrame) имеют разные типы."
   ]
  },
  {
   "cell_type": "code",
   "execution_count": 14,
   "id": "0d26d3aa",
   "metadata": {},
   "outputs": [
    {
     "data": {
      "text/plain": [
       "A           float64\n",
       "B    datetime64[ns]\n",
       "C           float32\n",
       "D             int32\n",
       "E          category\n",
       "F            object\n",
       "dtype: object"
      ]
     },
     "execution_count": 14,
     "metadata": {},
     "output_type": "execute_result"
    }
   ],
   "source": [
    "df2.dtypes"
   ]
  },
  {
   "cell_type": "markdown",
   "id": "fae30cb1",
   "metadata": {},
   "source": [
    "---\n",
    ">Подробнее см. [Data Structure Intro section](https://pandas.pydata.org/pandas-docs/stable/user_guide/dsintro.html#dsintro)\n",
    "\n",
    "---"
   ]
  },
  {
   "cell_type": "markdown",
   "id": "ee3ec5d2",
   "metadata": {},
   "source": [
    "## Просмотр данных\n",
    "---\n",
    "\n",
    "Отображение верхних и нижних рядов структуры:"
   ]
  },
  {
   "cell_type": "code",
   "execution_count": 15,
   "id": "0f2827d0",
   "metadata": {},
   "outputs": [],
   "source": [
    "import pandas as pd\n",
    "import numpy as np"
   ]
  },
  {
   "cell_type": "code",
   "execution_count": 16,
   "id": "6ec8c4d5",
   "metadata": {},
   "outputs": [],
   "source": [
    "dates = pd.date_range(\"20130101\", periods=6)\n",
    "\n",
    "df = pd.DataFrame(np.random.randn(6, 4), index=dates, columns=list(\"ABCD\"))"
   ]
  },
  {
   "cell_type": "code",
   "execution_count": 20,
   "id": "71f3cc0c",
   "metadata": {},
   "outputs": [
    {
     "data": {
      "text/html": [
       "<div>\n",
       "<style scoped>\n",
       "    .dataframe tbody tr th:only-of-type {\n",
       "        vertical-align: middle;\n",
       "    }\n",
       "\n",
       "    .dataframe tbody tr th {\n",
       "        vertical-align: top;\n",
       "    }\n",
       "\n",
       "    .dataframe thead th {\n",
       "        text-align: right;\n",
       "    }\n",
       "</style>\n",
       "<table border=\"1\" class=\"dataframe\">\n",
       "  <thead>\n",
       "    <tr style=\"text-align: right;\">\n",
       "      <th></th>\n",
       "      <th>A</th>\n",
       "      <th>B</th>\n",
       "      <th>C</th>\n",
       "      <th>D</th>\n",
       "    </tr>\n",
       "  </thead>\n",
       "  <tbody>\n",
       "    <tr>\n",
       "      <th>2013-01-01</th>\n",
       "      <td>-0.675700</td>\n",
       "      <td>1.784232</td>\n",
       "      <td>1.347938</td>\n",
       "      <td>-0.672681</td>\n",
       "    </tr>\n",
       "    <tr>\n",
       "      <th>2013-01-02</th>\n",
       "      <td>0.125845</td>\n",
       "      <td>-0.260852</td>\n",
       "      <td>-0.983858</td>\n",
       "      <td>1.196859</td>\n",
       "    </tr>\n",
       "    <tr>\n",
       "      <th>2013-01-03</th>\n",
       "      <td>-0.347670</td>\n",
       "      <td>-0.512815</td>\n",
       "      <td>-0.481715</td>\n",
       "      <td>0.621319</td>\n",
       "    </tr>\n",
       "    <tr>\n",
       "      <th>2013-01-04</th>\n",
       "      <td>-0.544341</td>\n",
       "      <td>0.384851</td>\n",
       "      <td>1.006482</td>\n",
       "      <td>-0.870686</td>\n",
       "    </tr>\n",
       "    <tr>\n",
       "      <th>2013-01-05</th>\n",
       "      <td>1.353347</td>\n",
       "      <td>0.354844</td>\n",
       "      <td>-0.507729</td>\n",
       "      <td>-0.197182</td>\n",
       "    </tr>\n",
       "  </tbody>\n",
       "</table>\n",
       "</div>"
      ],
      "text/plain": [
       "                   A         B         C         D\n",
       "2013-01-01 -0.675700  1.784232  1.347938 -0.672681\n",
       "2013-01-02  0.125845 -0.260852 -0.983858  1.196859\n",
       "2013-01-03 -0.347670 -0.512815 -0.481715  0.621319\n",
       "2013-01-04 -0.544341  0.384851  1.006482 -0.870686\n",
       "2013-01-05  1.353347  0.354844 -0.507729 -0.197182"
      ]
     },
     "execution_count": 20,
     "metadata": {},
     "output_type": "execute_result"
    }
   ],
   "source": [
    "df.head()"
   ]
  },
  {
   "cell_type": "code",
   "execution_count": 18,
   "id": "61122e89",
   "metadata": {},
   "outputs": [
    {
     "data": {
      "text/html": [
       "<div>\n",
       "<style scoped>\n",
       "    .dataframe tbody tr th:only-of-type {\n",
       "        vertical-align: middle;\n",
       "    }\n",
       "\n",
       "    .dataframe tbody tr th {\n",
       "        vertical-align: top;\n",
       "    }\n",
       "\n",
       "    .dataframe thead th {\n",
       "        text-align: right;\n",
       "    }\n",
       "</style>\n",
       "<table border=\"1\" class=\"dataframe\">\n",
       "  <thead>\n",
       "    <tr style=\"text-align: right;\">\n",
       "      <th></th>\n",
       "      <th>A</th>\n",
       "      <th>B</th>\n",
       "      <th>C</th>\n",
       "      <th>D</th>\n",
       "    </tr>\n",
       "  </thead>\n",
       "  <tbody>\n",
       "    <tr>\n",
       "      <th>2013-01-04</th>\n",
       "      <td>-0.544341</td>\n",
       "      <td>0.384851</td>\n",
       "      <td>1.006482</td>\n",
       "      <td>-0.870686</td>\n",
       "    </tr>\n",
       "    <tr>\n",
       "      <th>2013-01-05</th>\n",
       "      <td>1.353347</td>\n",
       "      <td>0.354844</td>\n",
       "      <td>-0.507729</td>\n",
       "      <td>-0.197182</td>\n",
       "    </tr>\n",
       "    <tr>\n",
       "      <th>2013-01-06</th>\n",
       "      <td>1.000002</td>\n",
       "      <td>-0.643633</td>\n",
       "      <td>0.287983</td>\n",
       "      <td>0.770089</td>\n",
       "    </tr>\n",
       "  </tbody>\n",
       "</table>\n",
       "</div>"
      ],
      "text/plain": [
       "                   A         B         C         D\n",
       "2013-01-04 -0.544341  0.384851  1.006482 -0.870686\n",
       "2013-01-05  1.353347  0.354844 -0.507729 -0.197182\n",
       "2013-01-06  1.000002 -0.643633  0.287983  0.770089"
      ]
     },
     "execution_count": 18,
     "metadata": {},
     "output_type": "execute_result"
    }
   ],
   "source": [
    "df.tail(3)"
   ]
  },
  {
   "cell_type": "markdown",
   "id": "87fed0b3",
   "metadata": {},
   "source": [
    "---\n",
    "Отображение индексов, столбцов:"
   ]
  },
  {
   "cell_type": "code",
   "execution_count": 21,
   "id": "56622b9d",
   "metadata": {},
   "outputs": [
    {
     "data": {
      "text/plain": [
       "DatetimeIndex(['2013-01-01', '2013-01-02', '2013-01-03', '2013-01-04',\n",
       "               '2013-01-05', '2013-01-06'],\n",
       "              dtype='datetime64[ns]', freq='D')"
      ]
     },
     "execution_count": 21,
     "metadata": {},
     "output_type": "execute_result"
    }
   ],
   "source": [
    "df.index"
   ]
  },
  {
   "cell_type": "code",
   "execution_count": 22,
   "id": "476434b9",
   "metadata": {},
   "outputs": [
    {
     "data": {
      "text/plain": [
       "Index(['A', 'B', 'C', 'D'], dtype='object')"
      ]
     },
     "execution_count": 22,
     "metadata": {},
     "output_type": "execute_result"
    }
   ],
   "source": [
    "df.columns"
   ]
  },
  {
   "cell_type": "markdown",
   "id": "0a6d54ac",
   "metadata": {},
   "source": [
    "---\n",
    "[DataFrame.to_numpy()](https://pandas.pydata.org/pandas-docs/stable/reference/api/pandas.DataFrame.to_numpy.html#pandas.DataFrame.to_numpy) возвращает представление данных в NumPy массиве. Обратите внимание, что это может быть дорогостоящей операцией, когда ваш DataFrame имеет столбцы с разными типами данных, что сводится к фундаментальному различию между pandas и NumPy: массивы NumPy имеют один тип для всего массива, а pandas DataFrames имеют один тип на столбец. Когда вы вызываете [DataFrame.to_numpy()](https://pandas.pydata.org/pandas-docs/stable/reference/api/pandas.DataFrame.to_numpy.html#pandas.DataFrame.to_numpy), pandas найдет dtype NumPy, который может содержать все dtypes в DataFrame. Это может оказаться таблицей, что требует приведения каждого значения к типу object."
   ]
  },
  {
   "cell_type": "code",
   "execution_count": 23,
   "id": "b5195032",
   "metadata": {},
   "outputs": [],
   "source": [
    "df2 = pd.DataFrame(\n",
    "    {\n",
    "        \"A\": 1.0,\n",
    "        \"B\": pd.Timestamp(\"20130102\"),\n",
    "        \"C\": pd.Series(1, index=list(range(4)), dtype=\"float32\"),\n",
    "        \"D\": np.array([3] * 4, dtype=\"int32\"),\n",
    "        \"E\": pd.Categorical([\"test\", \"train\", \"test\", \"train\"]),\n",
    "        \"F\": \"foo\",\n",
    "     }\n",
    " )"
   ]
  },
  {
   "cell_type": "code",
   "execution_count": 24,
   "id": "eb2c94ce",
   "metadata": {},
   "outputs": [
    {
     "data": {
      "text/plain": [
       "array([[1.0, Timestamp('2013-01-02 00:00:00'), 1.0, 3, 'test', 'foo'],\n",
       "       [1.0, Timestamp('2013-01-02 00:00:00'), 1.0, 3, 'train', 'foo'],\n",
       "       [1.0, Timestamp('2013-01-02 00:00:00'), 1.0, 3, 'test', 'foo'],\n",
       "       [1.0, Timestamp('2013-01-02 00:00:00'), 1.0, 3, 'train', 'foo']],\n",
       "      dtype=object)"
      ]
     },
     "execution_count": 24,
     "metadata": {},
     "output_type": "execute_result"
    }
   ],
   "source": [
    "df2.to_numpy()"
   ]
  },
  {
   "cell_type": "markdown",
   "id": "db6d8033",
   "metadata": {},
   "source": [
    "---\n",
    "[describe](https://pandas.pydata.org/pandas-docs/stable/reference/api/pandas.DataFrame.describe.html#pandas.DataFrame.describe) показывает краткую статистическую сводку ваших данных:"
   ]
  },
  {
   "cell_type": "code",
   "execution_count": 25,
   "id": "91a2ea96",
   "metadata": {},
   "outputs": [
    {
     "data": {
      "text/html": [
       "<div>\n",
       "<style scoped>\n",
       "    .dataframe tbody tr th:only-of-type {\n",
       "        vertical-align: middle;\n",
       "    }\n",
       "\n",
       "    .dataframe tbody tr th {\n",
       "        vertical-align: top;\n",
       "    }\n",
       "\n",
       "    .dataframe thead th {\n",
       "        text-align: right;\n",
       "    }\n",
       "</style>\n",
       "<table border=\"1\" class=\"dataframe\">\n",
       "  <thead>\n",
       "    <tr style=\"text-align: right;\">\n",
       "      <th></th>\n",
       "      <th>A</th>\n",
       "      <th>B</th>\n",
       "      <th>C</th>\n",
       "      <th>D</th>\n",
       "    </tr>\n",
       "  </thead>\n",
       "  <tbody>\n",
       "    <tr>\n",
       "      <th>count</th>\n",
       "      <td>6.000000</td>\n",
       "      <td>6.000000</td>\n",
       "      <td>6.000000</td>\n",
       "      <td>6.000000</td>\n",
       "    </tr>\n",
       "    <tr>\n",
       "      <th>mean</th>\n",
       "      <td>0.151914</td>\n",
       "      <td>0.184438</td>\n",
       "      <td>0.111517</td>\n",
       "      <td>0.141286</td>\n",
       "    </tr>\n",
       "    <tr>\n",
       "      <th>std</th>\n",
       "      <td>0.846484</td>\n",
       "      <td>0.894281</td>\n",
       "      <td>0.926939</td>\n",
       "      <td>0.841576</td>\n",
       "    </tr>\n",
       "    <tr>\n",
       "      <th>min</th>\n",
       "      <td>-0.675700</td>\n",
       "      <td>-0.643633</td>\n",
       "      <td>-0.983858</td>\n",
       "      <td>-0.870686</td>\n",
       "    </tr>\n",
       "    <tr>\n",
       "      <th>25%</th>\n",
       "      <td>-0.495173</td>\n",
       "      <td>-0.449824</td>\n",
       "      <td>-0.501225</td>\n",
       "      <td>-0.553806</td>\n",
       "    </tr>\n",
       "    <tr>\n",
       "      <th>50%</th>\n",
       "      <td>-0.110912</td>\n",
       "      <td>0.046996</td>\n",
       "      <td>-0.096866</td>\n",
       "      <td>0.212068</td>\n",
       "    </tr>\n",
       "    <tr>\n",
       "      <th>75%</th>\n",
       "      <td>0.781463</td>\n",
       "      <td>0.377349</td>\n",
       "      <td>0.826857</td>\n",
       "      <td>0.732897</td>\n",
       "    </tr>\n",
       "    <tr>\n",
       "      <th>max</th>\n",
       "      <td>1.353347</td>\n",
       "      <td>1.784232</td>\n",
       "      <td>1.347938</td>\n",
       "      <td>1.196859</td>\n",
       "    </tr>\n",
       "  </tbody>\n",
       "</table>\n",
       "</div>"
      ],
      "text/plain": [
       "              A         B         C         D\n",
       "count  6.000000  6.000000  6.000000  6.000000\n",
       "mean   0.151914  0.184438  0.111517  0.141286\n",
       "std    0.846484  0.894281  0.926939  0.841576\n",
       "min   -0.675700 -0.643633 -0.983858 -0.870686\n",
       "25%   -0.495173 -0.449824 -0.501225 -0.553806\n",
       "50%   -0.110912  0.046996 -0.096866  0.212068\n",
       "75%    0.781463  0.377349  0.826857  0.732897\n",
       "max    1.353347  1.784232  1.347938  1.196859"
      ]
     },
     "execution_count": 25,
     "metadata": {},
     "output_type": "execute_result"
    }
   ],
   "source": [
    "df.describe()"
   ]
  },
  {
   "cell_type": "markdown",
   "id": "8e7c14fd",
   "metadata": {},
   "source": [
    "---\n",
    "Транспонирование:"
   ]
  },
  {
   "cell_type": "code",
   "execution_count": 26,
   "id": "19eaea3e",
   "metadata": {},
   "outputs": [
    {
     "data": {
      "text/html": [
       "<div>\n",
       "<style scoped>\n",
       "    .dataframe tbody tr th:only-of-type {\n",
       "        vertical-align: middle;\n",
       "    }\n",
       "\n",
       "    .dataframe tbody tr th {\n",
       "        vertical-align: top;\n",
       "    }\n",
       "\n",
       "    .dataframe thead th {\n",
       "        text-align: right;\n",
       "    }\n",
       "</style>\n",
       "<table border=\"1\" class=\"dataframe\">\n",
       "  <thead>\n",
       "    <tr style=\"text-align: right;\">\n",
       "      <th></th>\n",
       "      <th>2013-01-01</th>\n",
       "      <th>2013-01-02</th>\n",
       "      <th>2013-01-03</th>\n",
       "      <th>2013-01-04</th>\n",
       "      <th>2013-01-05</th>\n",
       "      <th>2013-01-06</th>\n",
       "    </tr>\n",
       "  </thead>\n",
       "  <tbody>\n",
       "    <tr>\n",
       "      <th>A</th>\n",
       "      <td>-0.675700</td>\n",
       "      <td>0.125845</td>\n",
       "      <td>-0.347670</td>\n",
       "      <td>-0.544341</td>\n",
       "      <td>1.353347</td>\n",
       "      <td>1.000002</td>\n",
       "    </tr>\n",
       "    <tr>\n",
       "      <th>B</th>\n",
       "      <td>1.784232</td>\n",
       "      <td>-0.260852</td>\n",
       "      <td>-0.512815</td>\n",
       "      <td>0.384851</td>\n",
       "      <td>0.354844</td>\n",
       "      <td>-0.643633</td>\n",
       "    </tr>\n",
       "    <tr>\n",
       "      <th>C</th>\n",
       "      <td>1.347938</td>\n",
       "      <td>-0.983858</td>\n",
       "      <td>-0.481715</td>\n",
       "      <td>1.006482</td>\n",
       "      <td>-0.507729</td>\n",
       "      <td>0.287983</td>\n",
       "    </tr>\n",
       "    <tr>\n",
       "      <th>D</th>\n",
       "      <td>-0.672681</td>\n",
       "      <td>1.196859</td>\n",
       "      <td>0.621319</td>\n",
       "      <td>-0.870686</td>\n",
       "      <td>-0.197182</td>\n",
       "      <td>0.770089</td>\n",
       "    </tr>\n",
       "  </tbody>\n",
       "</table>\n",
       "</div>"
      ],
      "text/plain": [
       "   2013-01-01  2013-01-02  2013-01-03  2013-01-04  2013-01-05  2013-01-06\n",
       "A   -0.675700    0.125845   -0.347670   -0.544341    1.353347    1.000002\n",
       "B    1.784232   -0.260852   -0.512815    0.384851    0.354844   -0.643633\n",
       "C    1.347938   -0.983858   -0.481715    1.006482   -0.507729    0.287983\n",
       "D   -0.672681    1.196859    0.621319   -0.870686   -0.197182    0.770089"
      ]
     },
     "execution_count": 26,
     "metadata": {},
     "output_type": "execute_result"
    }
   ],
   "source": [
    "df.T"
   ]
  },
  {
   "cell_type": "markdown",
   "id": "b389cc8c",
   "metadata": {},
   "source": [
    "---\n",
    "Сортировка по оси:"
   ]
  },
  {
   "cell_type": "code",
   "execution_count": 34,
   "id": "b7dce275",
   "metadata": {},
   "outputs": [
    {
     "data": {
      "text/html": [
       "<div>\n",
       "<style scoped>\n",
       "    .dataframe tbody tr th:only-of-type {\n",
       "        vertical-align: middle;\n",
       "    }\n",
       "\n",
       "    .dataframe tbody tr th {\n",
       "        vertical-align: top;\n",
       "    }\n",
       "\n",
       "    .dataframe thead th {\n",
       "        text-align: right;\n",
       "    }\n",
       "</style>\n",
       "<table border=\"1\" class=\"dataframe\">\n",
       "  <thead>\n",
       "    <tr style=\"text-align: right;\">\n",
       "      <th></th>\n",
       "      <th>D</th>\n",
       "      <th>C</th>\n",
       "      <th>B</th>\n",
       "      <th>A</th>\n",
       "    </tr>\n",
       "  </thead>\n",
       "  <tbody>\n",
       "    <tr>\n",
       "      <th>2013-01-01</th>\n",
       "      <td>-0.672681</td>\n",
       "      <td>1.347938</td>\n",
       "      <td>1.784232</td>\n",
       "      <td>-0.675700</td>\n",
       "    </tr>\n",
       "    <tr>\n",
       "      <th>2013-01-02</th>\n",
       "      <td>1.196859</td>\n",
       "      <td>-0.983858</td>\n",
       "      <td>-0.260852</td>\n",
       "      <td>0.125845</td>\n",
       "    </tr>\n",
       "    <tr>\n",
       "      <th>2013-01-03</th>\n",
       "      <td>0.621319</td>\n",
       "      <td>-0.481715</td>\n",
       "      <td>-0.512815</td>\n",
       "      <td>-0.347670</td>\n",
       "    </tr>\n",
       "    <tr>\n",
       "      <th>2013-01-04</th>\n",
       "      <td>-0.870686</td>\n",
       "      <td>1.006482</td>\n",
       "      <td>0.384851</td>\n",
       "      <td>-0.544341</td>\n",
       "    </tr>\n",
       "    <tr>\n",
       "      <th>2013-01-05</th>\n",
       "      <td>-0.197182</td>\n",
       "      <td>-0.507729</td>\n",
       "      <td>0.354844</td>\n",
       "      <td>1.353347</td>\n",
       "    </tr>\n",
       "    <tr>\n",
       "      <th>2013-01-06</th>\n",
       "      <td>0.770089</td>\n",
       "      <td>0.287983</td>\n",
       "      <td>-0.643633</td>\n",
       "      <td>1.000002</td>\n",
       "    </tr>\n",
       "  </tbody>\n",
       "</table>\n",
       "</div>"
      ],
      "text/plain": [
       "                   D         C         B         A\n",
       "2013-01-01 -0.672681  1.347938  1.784232 -0.675700\n",
       "2013-01-02  1.196859 -0.983858 -0.260852  0.125845\n",
       "2013-01-03  0.621319 -0.481715 -0.512815 -0.347670\n",
       "2013-01-04 -0.870686  1.006482  0.384851 -0.544341\n",
       "2013-01-05 -0.197182 -0.507729  0.354844  1.353347\n",
       "2013-01-06  0.770089  0.287983 -0.643633  1.000002"
      ]
     },
     "execution_count": 34,
     "metadata": {},
     "output_type": "execute_result"
    }
   ],
   "source": [
    "df.sort_index(axis=1, ascending=False)"
   ]
  },
  {
   "cell_type": "markdown",
   "id": "ad1a274d",
   "metadata": {},
   "source": [
    "---\n",
    "Сортировка по значениям:"
   ]
  },
  {
   "cell_type": "code",
   "execution_count": 35,
   "id": "bd9be0c8",
   "metadata": {},
   "outputs": [
    {
     "data": {
      "text/html": [
       "<div>\n",
       "<style scoped>\n",
       "    .dataframe tbody tr th:only-of-type {\n",
       "        vertical-align: middle;\n",
       "    }\n",
       "\n",
       "    .dataframe tbody tr th {\n",
       "        vertical-align: top;\n",
       "    }\n",
       "\n",
       "    .dataframe thead th {\n",
       "        text-align: right;\n",
       "    }\n",
       "</style>\n",
       "<table border=\"1\" class=\"dataframe\">\n",
       "  <thead>\n",
       "    <tr style=\"text-align: right;\">\n",
       "      <th></th>\n",
       "      <th>A</th>\n",
       "      <th>B</th>\n",
       "      <th>C</th>\n",
       "      <th>D</th>\n",
       "    </tr>\n",
       "  </thead>\n",
       "  <tbody>\n",
       "    <tr>\n",
       "      <th>2013-01-06</th>\n",
       "      <td>1.000002</td>\n",
       "      <td>-0.643633</td>\n",
       "      <td>0.287983</td>\n",
       "      <td>0.770089</td>\n",
       "    </tr>\n",
       "    <tr>\n",
       "      <th>2013-01-03</th>\n",
       "      <td>-0.347670</td>\n",
       "      <td>-0.512815</td>\n",
       "      <td>-0.481715</td>\n",
       "      <td>0.621319</td>\n",
       "    </tr>\n",
       "    <tr>\n",
       "      <th>2013-01-02</th>\n",
       "      <td>0.125845</td>\n",
       "      <td>-0.260852</td>\n",
       "      <td>-0.983858</td>\n",
       "      <td>1.196859</td>\n",
       "    </tr>\n",
       "    <tr>\n",
       "      <th>2013-01-05</th>\n",
       "      <td>1.353347</td>\n",
       "      <td>0.354844</td>\n",
       "      <td>-0.507729</td>\n",
       "      <td>-0.197182</td>\n",
       "    </tr>\n",
       "    <tr>\n",
       "      <th>2013-01-04</th>\n",
       "      <td>-0.544341</td>\n",
       "      <td>0.384851</td>\n",
       "      <td>1.006482</td>\n",
       "      <td>-0.870686</td>\n",
       "    </tr>\n",
       "    <tr>\n",
       "      <th>2013-01-01</th>\n",
       "      <td>-0.675700</td>\n",
       "      <td>1.784232</td>\n",
       "      <td>1.347938</td>\n",
       "      <td>-0.672681</td>\n",
       "    </tr>\n",
       "  </tbody>\n",
       "</table>\n",
       "</div>"
      ],
      "text/plain": [
       "                   A         B         C         D\n",
       "2013-01-06  1.000002 -0.643633  0.287983  0.770089\n",
       "2013-01-03 -0.347670 -0.512815 -0.481715  0.621319\n",
       "2013-01-02  0.125845 -0.260852 -0.983858  1.196859\n",
       "2013-01-05  1.353347  0.354844 -0.507729 -0.197182\n",
       "2013-01-04 -0.544341  0.384851  1.006482 -0.870686\n",
       "2013-01-01 -0.675700  1.784232  1.347938 -0.672681"
      ]
     },
     "execution_count": 35,
     "metadata": {},
     "output_type": "execute_result"
    }
   ],
   "source": [
    "df.sort_values(by=\"B\")"
   ]
  },
  {
   "cell_type": "markdown",
   "id": "e3a7ab1c",
   "metadata": {},
   "source": [
    "---\n",
    ">Подробнее см. [Basics section](https://pandas.pydata.org/pandas-docs/stable/user_guide/basics.html#basics)\n",
    "\n",
    "---"
   ]
  },
  {
   "cell_type": "markdown",
   "id": "a4c5c5a8",
   "metadata": {},
   "source": [
    "## Выбор данных\n",
    "---\n",
    "\n",
    "Выбор одного столбца, который дает Series, эквивалентный df.A:"
   ]
  },
  {
   "cell_type": "code",
   "execution_count": 36,
   "id": "cc749e34",
   "metadata": {},
   "outputs": [],
   "source": [
    "import pandas as pd\n",
    "import numpy as np"
   ]
  },
  {
   "cell_type": "code",
   "execution_count": 56,
   "id": "c9478b4e",
   "metadata": {},
   "outputs": [],
   "source": [
    "dates = pd.date_range(\"20130101\", periods=6)\n",
    "\n",
    "df = pd.DataFrame(np.random.randn(6, 4), index=dates, columns=list(\"ABCD\"))"
   ]
  },
  {
   "cell_type": "code",
   "execution_count": 57,
   "id": "1cf05d61",
   "metadata": {},
   "outputs": [
    {
     "data": {
      "text/plain": [
       "2013-01-01   -0.972345\n",
       "2013-01-02   -2.150302\n",
       "2013-01-03   -1.043934\n",
       "2013-01-04   -0.532943\n",
       "2013-01-05   -0.070717\n",
       "2013-01-06   -0.288001\n",
       "Freq: D, Name: A, dtype: float64"
      ]
     },
     "execution_count": 57,
     "metadata": {},
     "output_type": "execute_result"
    }
   ],
   "source": [
    "df[\"A\"]"
   ]
  },
  {
   "cell_type": "markdown",
   "id": "1f3cff26",
   "metadata": {},
   "source": [
    "---\n",
    "Использование среза:"
   ]
  },
  {
   "cell_type": "code",
   "execution_count": 58,
   "id": "daa6e5c1",
   "metadata": {},
   "outputs": [
    {
     "data": {
      "text/html": [
       "<div>\n",
       "<style scoped>\n",
       "    .dataframe tbody tr th:only-of-type {\n",
       "        vertical-align: middle;\n",
       "    }\n",
       "\n",
       "    .dataframe tbody tr th {\n",
       "        vertical-align: top;\n",
       "    }\n",
       "\n",
       "    .dataframe thead th {\n",
       "        text-align: right;\n",
       "    }\n",
       "</style>\n",
       "<table border=\"1\" class=\"dataframe\">\n",
       "  <thead>\n",
       "    <tr style=\"text-align: right;\">\n",
       "      <th></th>\n",
       "      <th>A</th>\n",
       "      <th>B</th>\n",
       "      <th>C</th>\n",
       "      <th>D</th>\n",
       "    </tr>\n",
       "  </thead>\n",
       "  <tbody>\n",
       "    <tr>\n",
       "      <th>2013-01-01</th>\n",
       "      <td>-0.972345</td>\n",
       "      <td>-1.002137</td>\n",
       "      <td>0.462610</td>\n",
       "      <td>-0.507919</td>\n",
       "    </tr>\n",
       "    <tr>\n",
       "      <th>2013-01-02</th>\n",
       "      <td>-2.150302</td>\n",
       "      <td>1.532121</td>\n",
       "      <td>0.282263</td>\n",
       "      <td>1.863421</td>\n",
       "    </tr>\n",
       "    <tr>\n",
       "      <th>2013-01-03</th>\n",
       "      <td>-1.043934</td>\n",
       "      <td>0.027366</td>\n",
       "      <td>0.429990</td>\n",
       "      <td>-0.862321</td>\n",
       "    </tr>\n",
       "  </tbody>\n",
       "</table>\n",
       "</div>"
      ],
      "text/plain": [
       "                   A         B         C         D\n",
       "2013-01-01 -0.972345 -1.002137  0.462610 -0.507919\n",
       "2013-01-02 -2.150302  1.532121  0.282263  1.863421\n",
       "2013-01-03 -1.043934  0.027366  0.429990 -0.862321"
      ]
     },
     "execution_count": 58,
     "metadata": {},
     "output_type": "execute_result"
    }
   ],
   "source": [
    "df[0:3]"
   ]
  },
  {
   "cell_type": "code",
   "execution_count": 59,
   "id": "01b8ba04",
   "metadata": {},
   "outputs": [
    {
     "data": {
      "text/html": [
       "<div>\n",
       "<style scoped>\n",
       "    .dataframe tbody tr th:only-of-type {\n",
       "        vertical-align: middle;\n",
       "    }\n",
       "\n",
       "    .dataframe tbody tr th {\n",
       "        vertical-align: top;\n",
       "    }\n",
       "\n",
       "    .dataframe thead th {\n",
       "        text-align: right;\n",
       "    }\n",
       "</style>\n",
       "<table border=\"1\" class=\"dataframe\">\n",
       "  <thead>\n",
       "    <tr style=\"text-align: right;\">\n",
       "      <th></th>\n",
       "      <th>A</th>\n",
       "      <th>B</th>\n",
       "      <th>C</th>\n",
       "      <th>D</th>\n",
       "    </tr>\n",
       "  </thead>\n",
       "  <tbody>\n",
       "    <tr>\n",
       "      <th>2013-01-02</th>\n",
       "      <td>-2.150302</td>\n",
       "      <td>1.532121</td>\n",
       "      <td>0.282263</td>\n",
       "      <td>1.863421</td>\n",
       "    </tr>\n",
       "    <tr>\n",
       "      <th>2013-01-03</th>\n",
       "      <td>-1.043934</td>\n",
       "      <td>0.027366</td>\n",
       "      <td>0.429990</td>\n",
       "      <td>-0.862321</td>\n",
       "    </tr>\n",
       "    <tr>\n",
       "      <th>2013-01-04</th>\n",
       "      <td>-0.532943</td>\n",
       "      <td>0.824139</td>\n",
       "      <td>1.137875</td>\n",
       "      <td>0.122524</td>\n",
       "    </tr>\n",
       "  </tbody>\n",
       "</table>\n",
       "</div>"
      ],
      "text/plain": [
       "                   A         B         C         D\n",
       "2013-01-02 -2.150302  1.532121  0.282263  1.863421\n",
       "2013-01-03 -1.043934  0.027366  0.429990 -0.862321\n",
       "2013-01-04 -0.532943  0.824139  1.137875  0.122524"
      ]
     },
     "execution_count": 59,
     "metadata": {},
     "output_type": "execute_result"
    }
   ],
   "source": [
    "df[\"20130102\":\"20130104\"]"
   ]
  },
  {
   "cell_type": "markdown",
   "id": "6aef84f4",
   "metadata": {},
   "source": [
    "---\n",
    "Получение строки DataFrame:"
   ]
  },
  {
   "cell_type": "code",
   "execution_count": 60,
   "id": "35a7de87",
   "metadata": {},
   "outputs": [
    {
     "data": {
      "text/plain": [
       "A   -0.972345\n",
       "B   -1.002137\n",
       "C    0.462610\n",
       "D   -0.507919\n",
       "Name: 2013-01-01 00:00:00, dtype: float64"
      ]
     },
     "execution_count": 60,
     "metadata": {},
     "output_type": "execute_result"
    }
   ],
   "source": [
    "df.loc[dates[0]]"
   ]
  },
  {
   "cell_type": "markdown",
   "id": "184a5501",
   "metadata": {},
   "source": [
    "---\n",
    "Выбор по нескольким осям:"
   ]
  },
  {
   "cell_type": "code",
   "execution_count": 61,
   "id": "66c70bbb",
   "metadata": {},
   "outputs": [
    {
     "data": {
      "text/html": [
       "<div>\n",
       "<style scoped>\n",
       "    .dataframe tbody tr th:only-of-type {\n",
       "        vertical-align: middle;\n",
       "    }\n",
       "\n",
       "    .dataframe tbody tr th {\n",
       "        vertical-align: top;\n",
       "    }\n",
       "\n",
       "    .dataframe thead th {\n",
       "        text-align: right;\n",
       "    }\n",
       "</style>\n",
       "<table border=\"1\" class=\"dataframe\">\n",
       "  <thead>\n",
       "    <tr style=\"text-align: right;\">\n",
       "      <th></th>\n",
       "      <th>A</th>\n",
       "      <th>B</th>\n",
       "    </tr>\n",
       "  </thead>\n",
       "  <tbody>\n",
       "    <tr>\n",
       "      <th>2013-01-01</th>\n",
       "      <td>-0.972345</td>\n",
       "      <td>-1.002137</td>\n",
       "    </tr>\n",
       "    <tr>\n",
       "      <th>2013-01-02</th>\n",
       "      <td>-2.150302</td>\n",
       "      <td>1.532121</td>\n",
       "    </tr>\n",
       "    <tr>\n",
       "      <th>2013-01-03</th>\n",
       "      <td>-1.043934</td>\n",
       "      <td>0.027366</td>\n",
       "    </tr>\n",
       "    <tr>\n",
       "      <th>2013-01-04</th>\n",
       "      <td>-0.532943</td>\n",
       "      <td>0.824139</td>\n",
       "    </tr>\n",
       "    <tr>\n",
       "      <th>2013-01-05</th>\n",
       "      <td>-0.070717</td>\n",
       "      <td>0.118235</td>\n",
       "    </tr>\n",
       "    <tr>\n",
       "      <th>2013-01-06</th>\n",
       "      <td>-0.288001</td>\n",
       "      <td>-1.670127</td>\n",
       "    </tr>\n",
       "  </tbody>\n",
       "</table>\n",
       "</div>"
      ],
      "text/plain": [
       "                   A         B\n",
       "2013-01-01 -0.972345 -1.002137\n",
       "2013-01-02 -2.150302  1.532121\n",
       "2013-01-03 -1.043934  0.027366\n",
       "2013-01-04 -0.532943  0.824139\n",
       "2013-01-05 -0.070717  0.118235\n",
       "2013-01-06 -0.288001 -1.670127"
      ]
     },
     "execution_count": 61,
     "metadata": {},
     "output_type": "execute_result"
    }
   ],
   "source": [
    "df.loc[:, [\"A\", \"B\"]]"
   ]
  },
  {
   "cell_type": "code",
   "execution_count": 62,
   "id": "36efe7de",
   "metadata": {},
   "outputs": [
    {
     "data": {
      "text/plain": [
       "A   -2.150302\n",
       "B    1.532121\n",
       "Name: 2013-01-02 00:00:00, dtype: float64"
      ]
     },
     "execution_count": 62,
     "metadata": {},
     "output_type": "execute_result"
    }
   ],
   "source": [
    "df.loc[\"20130102\", [\"A\", \"B\"]]"
   ]
  },
  {
   "cell_type": "markdown",
   "id": "3f6b8a1a",
   "metadata": {},
   "source": [
    "---\n",
    "Получение значения в ячейке:"
   ]
  },
  {
   "cell_type": "code",
   "execution_count": 63,
   "id": "4f7e3291",
   "metadata": {},
   "outputs": [
    {
     "data": {
      "text/plain": [
       "-0.9723450491087825"
      ]
     },
     "execution_count": 63,
     "metadata": {},
     "output_type": "execute_result"
    }
   ],
   "source": [
    "df.loc[dates[0], \"A\"]"
   ]
  },
  {
   "cell_type": "markdown",
   "id": "baf78967",
   "metadata": {},
   "source": [
    "---\n",
    "Для получения значения (аналогично примеру выше, но работает быстрее)"
   ]
  },
  {
   "cell_type": "code",
   "execution_count": 64,
   "id": "05338384",
   "metadata": {},
   "outputs": [
    {
     "data": {
      "text/plain": [
       "-0.9723450491087825"
      ]
     },
     "execution_count": 64,
     "metadata": {},
     "output_type": "execute_result"
    }
   ],
   "source": [
    "df.at[dates[0], \"A\"]"
   ]
  },
  {
   "cell_type": "markdown",
   "id": "b05b1a9f",
   "metadata": {},
   "source": [
    "---\n",
    "Получение строки по номеру"
   ]
  },
  {
   "cell_type": "code",
   "execution_count": 65,
   "id": "93d7ad81",
   "metadata": {},
   "outputs": [
    {
     "data": {
      "text/plain": [
       "A   -1.043934\n",
       "B    0.027366\n",
       "C    0.429990\n",
       "D   -0.862321\n",
       "Name: 2013-01-03 00:00:00, dtype: float64"
      ]
     },
     "execution_count": 65,
     "metadata": {},
     "output_type": "execute_result"
    }
   ],
   "source": [
    "df.iloc[2]"
   ]
  },
  {
   "cell_type": "markdown",
   "id": "51682918",
   "metadata": {},
   "source": [
    "---\n",
    "По целочисленным срезам, аналогично NumPy / Python:"
   ]
  },
  {
   "cell_type": "code",
   "execution_count": 66,
   "id": "86e8d6c3",
   "metadata": {},
   "outputs": [
    {
     "data": {
      "text/html": [
       "<div>\n",
       "<style scoped>\n",
       "    .dataframe tbody tr th:only-of-type {\n",
       "        vertical-align: middle;\n",
       "    }\n",
       "\n",
       "    .dataframe tbody tr th {\n",
       "        vertical-align: top;\n",
       "    }\n",
       "\n",
       "    .dataframe thead th {\n",
       "        text-align: right;\n",
       "    }\n",
       "</style>\n",
       "<table border=\"1\" class=\"dataframe\">\n",
       "  <thead>\n",
       "    <tr style=\"text-align: right;\">\n",
       "      <th></th>\n",
       "      <th>A</th>\n",
       "      <th>B</th>\n",
       "    </tr>\n",
       "  </thead>\n",
       "  <tbody>\n",
       "    <tr>\n",
       "      <th>2013-01-04</th>\n",
       "      <td>-0.532943</td>\n",
       "      <td>0.824139</td>\n",
       "    </tr>\n",
       "    <tr>\n",
       "      <th>2013-01-05</th>\n",
       "      <td>-0.070717</td>\n",
       "      <td>0.118235</td>\n",
       "    </tr>\n",
       "  </tbody>\n",
       "</table>\n",
       "</div>"
      ],
      "text/plain": [
       "                   A         B\n",
       "2013-01-04 -0.532943  0.824139\n",
       "2013-01-05 -0.070717  0.118235"
      ]
     },
     "execution_count": 66,
     "metadata": {},
     "output_type": "execute_result"
    }
   ],
   "source": [
    "df.iloc[3:5, 0:2]"
   ]
  },
  {
   "cell_type": "code",
   "execution_count": 67,
   "id": "f70d52a7",
   "metadata": {},
   "outputs": [
    {
     "data": {
      "text/html": [
       "<div>\n",
       "<style scoped>\n",
       "    .dataframe tbody tr th:only-of-type {\n",
       "        vertical-align: middle;\n",
       "    }\n",
       "\n",
       "    .dataframe tbody tr th {\n",
       "        vertical-align: top;\n",
       "    }\n",
       "\n",
       "    .dataframe thead th {\n",
       "        text-align: right;\n",
       "    }\n",
       "</style>\n",
       "<table border=\"1\" class=\"dataframe\">\n",
       "  <thead>\n",
       "    <tr style=\"text-align: right;\">\n",
       "      <th></th>\n",
       "      <th>A</th>\n",
       "      <th>B</th>\n",
       "      <th>C</th>\n",
       "      <th>D</th>\n",
       "    </tr>\n",
       "  </thead>\n",
       "  <tbody>\n",
       "    <tr>\n",
       "      <th>2013-01-02</th>\n",
       "      <td>-2.150302</td>\n",
       "      <td>1.532121</td>\n",
       "      <td>0.282263</td>\n",
       "      <td>1.863421</td>\n",
       "    </tr>\n",
       "    <tr>\n",
       "      <th>2013-01-03</th>\n",
       "      <td>-1.043934</td>\n",
       "      <td>0.027366</td>\n",
       "      <td>0.429990</td>\n",
       "      <td>-0.862321</td>\n",
       "    </tr>\n",
       "  </tbody>\n",
       "</table>\n",
       "</div>"
      ],
      "text/plain": [
       "                   A         B         C         D\n",
       "2013-01-02 -2.150302  1.532121  0.282263  1.863421\n",
       "2013-01-03 -1.043934  0.027366  0.429990 -0.862321"
      ]
     },
     "execution_count": 67,
     "metadata": {},
     "output_type": "execute_result"
    }
   ],
   "source": [
    "df.iloc[1:3, :]"
   ]
  },
  {
   "cell_type": "code",
   "execution_count": 68,
   "id": "841967b5",
   "metadata": {},
   "outputs": [
    {
     "data": {
      "text/html": [
       "<div>\n",
       "<style scoped>\n",
       "    .dataframe tbody tr th:only-of-type {\n",
       "        vertical-align: middle;\n",
       "    }\n",
       "\n",
       "    .dataframe tbody tr th {\n",
       "        vertical-align: top;\n",
       "    }\n",
       "\n",
       "    .dataframe thead th {\n",
       "        text-align: right;\n",
       "    }\n",
       "</style>\n",
       "<table border=\"1\" class=\"dataframe\">\n",
       "  <thead>\n",
       "    <tr style=\"text-align: right;\">\n",
       "      <th></th>\n",
       "      <th>B</th>\n",
       "      <th>C</th>\n",
       "    </tr>\n",
       "  </thead>\n",
       "  <tbody>\n",
       "    <tr>\n",
       "      <th>2013-01-01</th>\n",
       "      <td>-1.002137</td>\n",
       "      <td>0.462610</td>\n",
       "    </tr>\n",
       "    <tr>\n",
       "      <th>2013-01-02</th>\n",
       "      <td>1.532121</td>\n",
       "      <td>0.282263</td>\n",
       "    </tr>\n",
       "    <tr>\n",
       "      <th>2013-01-03</th>\n",
       "      <td>0.027366</td>\n",
       "      <td>0.429990</td>\n",
       "    </tr>\n",
       "    <tr>\n",
       "      <th>2013-01-04</th>\n",
       "      <td>0.824139</td>\n",
       "      <td>1.137875</td>\n",
       "    </tr>\n",
       "    <tr>\n",
       "      <th>2013-01-05</th>\n",
       "      <td>0.118235</td>\n",
       "      <td>0.699868</td>\n",
       "    </tr>\n",
       "    <tr>\n",
       "      <th>2013-01-06</th>\n",
       "      <td>-1.670127</td>\n",
       "      <td>-0.403404</td>\n",
       "    </tr>\n",
       "  </tbody>\n",
       "</table>\n",
       "</div>"
      ],
      "text/plain": [
       "                   B         C\n",
       "2013-01-01 -1.002137  0.462610\n",
       "2013-01-02  1.532121  0.282263\n",
       "2013-01-03  0.027366  0.429990\n",
       "2013-01-04  0.824139  1.137875\n",
       "2013-01-05  0.118235  0.699868\n",
       "2013-01-06 -1.670127 -0.403404"
      ]
     },
     "execution_count": 68,
     "metadata": {},
     "output_type": "execute_result"
    }
   ],
   "source": [
    "df.iloc[:, 1:3]"
   ]
  },
  {
   "cell_type": "markdown",
   "id": "42474758",
   "metadata": {},
   "source": [
    "---\n",
    "Получение значения в ячейке:"
   ]
  },
  {
   "cell_type": "code",
   "execution_count": 70,
   "id": "7f46c956",
   "metadata": {},
   "outputs": [
    {
     "data": {
      "text/plain": [
       "1.532121240195446"
      ]
     },
     "execution_count": 70,
     "metadata": {},
     "output_type": "execute_result"
    }
   ],
   "source": [
    "df.iloc[1, 1]"
   ]
  },
  {
   "cell_type": "markdown",
   "id": "e939888f",
   "metadata": {},
   "source": [
    "---\n",
    "То же самое, но быстрее:"
   ]
  },
  {
   "cell_type": "code",
   "execution_count": 71,
   "id": "539069dd",
   "metadata": {},
   "outputs": [
    {
     "data": {
      "text/plain": [
       "1.532121240195446"
      ]
     },
     "execution_count": 71,
     "metadata": {},
     "output_type": "execute_result"
    }
   ],
   "source": [
    "df.iat[1, 1]"
   ]
  },
  {
   "cell_type": "markdown",
   "id": "d17a80bf",
   "metadata": {},
   "source": [
    "---\n",
    "Выбор данных по условию:"
   ]
  },
  {
   "cell_type": "code",
   "execution_count": 74,
   "id": "776a13e5",
   "metadata": {},
   "outputs": [
    {
     "data": {
      "text/html": [
       "<div>\n",
       "<style scoped>\n",
       "    .dataframe tbody tr th:only-of-type {\n",
       "        vertical-align: middle;\n",
       "    }\n",
       "\n",
       "    .dataframe tbody tr th {\n",
       "        vertical-align: top;\n",
       "    }\n",
       "\n",
       "    .dataframe thead th {\n",
       "        text-align: right;\n",
       "    }\n",
       "</style>\n",
       "<table border=\"1\" class=\"dataframe\">\n",
       "  <thead>\n",
       "    <tr style=\"text-align: right;\">\n",
       "      <th></th>\n",
       "      <th>A</th>\n",
       "      <th>B</th>\n",
       "      <th>C</th>\n",
       "      <th>D</th>\n",
       "    </tr>\n",
       "  </thead>\n",
       "  <tbody>\n",
       "    <tr>\n",
       "      <th>2013-01-05</th>\n",
       "      <td>-0.070717</td>\n",
       "      <td>0.118235</td>\n",
       "      <td>0.699868</td>\n",
       "      <td>2.265152</td>\n",
       "    </tr>\n",
       "    <tr>\n",
       "      <th>2013-01-06</th>\n",
       "      <td>-0.288001</td>\n",
       "      <td>-1.670127</td>\n",
       "      <td>-0.403404</td>\n",
       "      <td>-0.454997</td>\n",
       "    </tr>\n",
       "  </tbody>\n",
       "</table>\n",
       "</div>"
      ],
      "text/plain": [
       "                   A         B         C         D\n",
       "2013-01-05 -0.070717  0.118235  0.699868  2.265152\n",
       "2013-01-06 -0.288001 -1.670127 -0.403404 -0.454997"
      ]
     },
     "execution_count": 74,
     "metadata": {},
     "output_type": "execute_result"
    }
   ],
   "source": [
    "df[df[\"A\"] > -0.5]"
   ]
  },
  {
   "cell_type": "code",
   "execution_count": 75,
   "id": "e15a3e08",
   "metadata": {},
   "outputs": [
    {
     "data": {
      "text/html": [
       "<div>\n",
       "<style scoped>\n",
       "    .dataframe tbody tr th:only-of-type {\n",
       "        vertical-align: middle;\n",
       "    }\n",
       "\n",
       "    .dataframe tbody tr th {\n",
       "        vertical-align: top;\n",
       "    }\n",
       "\n",
       "    .dataframe thead th {\n",
       "        text-align: right;\n",
       "    }\n",
       "</style>\n",
       "<table border=\"1\" class=\"dataframe\">\n",
       "  <thead>\n",
       "    <tr style=\"text-align: right;\">\n",
       "      <th></th>\n",
       "      <th>A</th>\n",
       "      <th>B</th>\n",
       "      <th>C</th>\n",
       "      <th>D</th>\n",
       "    </tr>\n",
       "  </thead>\n",
       "  <tbody>\n",
       "    <tr>\n",
       "      <th>2013-01-01</th>\n",
       "      <td>NaN</td>\n",
       "      <td>NaN</td>\n",
       "      <td>0.462610</td>\n",
       "      <td>NaN</td>\n",
       "    </tr>\n",
       "    <tr>\n",
       "      <th>2013-01-02</th>\n",
       "      <td>NaN</td>\n",
       "      <td>1.532121</td>\n",
       "      <td>0.282263</td>\n",
       "      <td>1.863421</td>\n",
       "    </tr>\n",
       "    <tr>\n",
       "      <th>2013-01-03</th>\n",
       "      <td>NaN</td>\n",
       "      <td>0.027366</td>\n",
       "      <td>0.429990</td>\n",
       "      <td>NaN</td>\n",
       "    </tr>\n",
       "    <tr>\n",
       "      <th>2013-01-04</th>\n",
       "      <td>NaN</td>\n",
       "      <td>0.824139</td>\n",
       "      <td>1.137875</td>\n",
       "      <td>0.122524</td>\n",
       "    </tr>\n",
       "    <tr>\n",
       "      <th>2013-01-05</th>\n",
       "      <td>NaN</td>\n",
       "      <td>0.118235</td>\n",
       "      <td>0.699868</td>\n",
       "      <td>2.265152</td>\n",
       "    </tr>\n",
       "    <tr>\n",
       "      <th>2013-01-06</th>\n",
       "      <td>NaN</td>\n",
       "      <td>NaN</td>\n",
       "      <td>NaN</td>\n",
       "      <td>NaN</td>\n",
       "    </tr>\n",
       "  </tbody>\n",
       "</table>\n",
       "</div>"
      ],
      "text/plain": [
       "             A         B         C         D\n",
       "2013-01-01 NaN       NaN  0.462610       NaN\n",
       "2013-01-02 NaN  1.532121  0.282263  1.863421\n",
       "2013-01-03 NaN  0.027366  0.429990       NaN\n",
       "2013-01-04 NaN  0.824139  1.137875  0.122524\n",
       "2013-01-05 NaN  0.118235  0.699868  2.265152\n",
       "2013-01-06 NaN       NaN       NaN       NaN"
      ]
     },
     "execution_count": 75,
     "metadata": {},
     "output_type": "execute_result"
    }
   ],
   "source": [
    "df[df > 0]"
   ]
  },
  {
   "cell_type": "markdown",
   "id": "5ad31da5",
   "metadata": {},
   "source": [
    "---\n",
    "Использование метода [isin()](https://pandas.pydata.org/pandas-docs/stable/reference/api/pandas.Series.isin.html#pandas.Series.isin) для фильтрации:"
   ]
  },
  {
   "cell_type": "code",
   "execution_count": 76,
   "id": "bf51a8ee",
   "metadata": {},
   "outputs": [],
   "source": [
    "df2 = df.copy()"
   ]
  },
  {
   "cell_type": "code",
   "execution_count": 77,
   "id": "c30e6817",
   "metadata": {},
   "outputs": [],
   "source": [
    "df2[\"E\"] = [\"one\", \"one\", \"two\", \"three\", \"four\", \"three\"]"
   ]
  },
  {
   "cell_type": "code",
   "execution_count": 78,
   "id": "b030060a",
   "metadata": {},
   "outputs": [
    {
     "data": {
      "text/html": [
       "<div>\n",
       "<style scoped>\n",
       "    .dataframe tbody tr th:only-of-type {\n",
       "        vertical-align: middle;\n",
       "    }\n",
       "\n",
       "    .dataframe tbody tr th {\n",
       "        vertical-align: top;\n",
       "    }\n",
       "\n",
       "    .dataframe thead th {\n",
       "        text-align: right;\n",
       "    }\n",
       "</style>\n",
       "<table border=\"1\" class=\"dataframe\">\n",
       "  <thead>\n",
       "    <tr style=\"text-align: right;\">\n",
       "      <th></th>\n",
       "      <th>A</th>\n",
       "      <th>B</th>\n",
       "      <th>C</th>\n",
       "      <th>D</th>\n",
       "      <th>E</th>\n",
       "    </tr>\n",
       "  </thead>\n",
       "  <tbody>\n",
       "    <tr>\n",
       "      <th>2013-01-01</th>\n",
       "      <td>-0.972345</td>\n",
       "      <td>-1.002137</td>\n",
       "      <td>0.462610</td>\n",
       "      <td>-0.507919</td>\n",
       "      <td>one</td>\n",
       "    </tr>\n",
       "    <tr>\n",
       "      <th>2013-01-02</th>\n",
       "      <td>-2.150302</td>\n",
       "      <td>1.532121</td>\n",
       "      <td>0.282263</td>\n",
       "      <td>1.863421</td>\n",
       "      <td>one</td>\n",
       "    </tr>\n",
       "    <tr>\n",
       "      <th>2013-01-03</th>\n",
       "      <td>-1.043934</td>\n",
       "      <td>0.027366</td>\n",
       "      <td>0.429990</td>\n",
       "      <td>-0.862321</td>\n",
       "      <td>two</td>\n",
       "    </tr>\n",
       "    <tr>\n",
       "      <th>2013-01-04</th>\n",
       "      <td>-0.532943</td>\n",
       "      <td>0.824139</td>\n",
       "      <td>1.137875</td>\n",
       "      <td>0.122524</td>\n",
       "      <td>three</td>\n",
       "    </tr>\n",
       "    <tr>\n",
       "      <th>2013-01-05</th>\n",
       "      <td>-0.070717</td>\n",
       "      <td>0.118235</td>\n",
       "      <td>0.699868</td>\n",
       "      <td>2.265152</td>\n",
       "      <td>four</td>\n",
       "    </tr>\n",
       "    <tr>\n",
       "      <th>2013-01-06</th>\n",
       "      <td>-0.288001</td>\n",
       "      <td>-1.670127</td>\n",
       "      <td>-0.403404</td>\n",
       "      <td>-0.454997</td>\n",
       "      <td>three</td>\n",
       "    </tr>\n",
       "  </tbody>\n",
       "</table>\n",
       "</div>"
      ],
      "text/plain": [
       "                   A         B         C         D      E\n",
       "2013-01-01 -0.972345 -1.002137  0.462610 -0.507919    one\n",
       "2013-01-02 -2.150302  1.532121  0.282263  1.863421    one\n",
       "2013-01-03 -1.043934  0.027366  0.429990 -0.862321    two\n",
       "2013-01-04 -0.532943  0.824139  1.137875  0.122524  three\n",
       "2013-01-05 -0.070717  0.118235  0.699868  2.265152   four\n",
       "2013-01-06 -0.288001 -1.670127 -0.403404 -0.454997  three"
      ]
     },
     "execution_count": 78,
     "metadata": {},
     "output_type": "execute_result"
    }
   ],
   "source": [
    "df2"
   ]
  },
  {
   "cell_type": "code",
   "execution_count": 79,
   "id": "d3415ba6",
   "metadata": {},
   "outputs": [
    {
     "data": {
      "text/html": [
       "<div>\n",
       "<style scoped>\n",
       "    .dataframe tbody tr th:only-of-type {\n",
       "        vertical-align: middle;\n",
       "    }\n",
       "\n",
       "    .dataframe tbody tr th {\n",
       "        vertical-align: top;\n",
       "    }\n",
       "\n",
       "    .dataframe thead th {\n",
       "        text-align: right;\n",
       "    }\n",
       "</style>\n",
       "<table border=\"1\" class=\"dataframe\">\n",
       "  <thead>\n",
       "    <tr style=\"text-align: right;\">\n",
       "      <th></th>\n",
       "      <th>A</th>\n",
       "      <th>B</th>\n",
       "      <th>C</th>\n",
       "      <th>D</th>\n",
       "      <th>E</th>\n",
       "    </tr>\n",
       "  </thead>\n",
       "  <tbody>\n",
       "    <tr>\n",
       "      <th>2013-01-03</th>\n",
       "      <td>-1.043934</td>\n",
       "      <td>0.027366</td>\n",
       "      <td>0.429990</td>\n",
       "      <td>-0.862321</td>\n",
       "      <td>two</td>\n",
       "    </tr>\n",
       "    <tr>\n",
       "      <th>2013-01-05</th>\n",
       "      <td>-0.070717</td>\n",
       "      <td>0.118235</td>\n",
       "      <td>0.699868</td>\n",
       "      <td>2.265152</td>\n",
       "      <td>four</td>\n",
       "    </tr>\n",
       "  </tbody>\n",
       "</table>\n",
       "</div>"
      ],
      "text/plain": [
       "                   A         B         C         D     E\n",
       "2013-01-03 -1.043934  0.027366  0.429990 -0.862321   two\n",
       "2013-01-05 -0.070717  0.118235  0.699868  2.265152  four"
      ]
     },
     "execution_count": 79,
     "metadata": {},
     "output_type": "execute_result"
    }
   ],
   "source": [
    "df2[df2[\"E\"].isin([\"two\", \"four\"])]"
   ]
  },
  {
   "cell_type": "markdown",
   "id": "405e92d9",
   "metadata": {},
   "source": [
    "---\n",
    ">Подбробнее см. [Indexing and Selecting Data](https://pandas.pydata.org/pandas-docs/stable/user_guide/indexing.html#indexing), [MultiIndex / Advanced Indexing](https://pandas.pydata.org/pandas-docs/stable/user_guide/advanced.html#advanced), [Selection by Label](https://pandas.pydata.org/pandas-docs/stable/user_guide/indexing.html#indexing-label), [Selection by Position](https://pandas.pydata.org/pandas-docs/stable/user_guide/indexing.html#indexing-integer)\n",
    "\n",
    "---"
   ]
  },
  {
   "cell_type": "markdown",
   "id": "cc700312",
   "metadata": {},
   "source": [
    "## Присваивание значений\n",
    "---\n",
    "\n",
    "Установка нового столбца автоматически выравнивает данные по индексам:"
   ]
  },
  {
   "cell_type": "code",
   "execution_count": 80,
   "id": "d30ee478",
   "metadata": {},
   "outputs": [
    {
     "data": {
      "text/plain": [
       "2013-01-02    1\n",
       "2013-01-03    2\n",
       "2013-01-04    3\n",
       "2013-01-05    4\n",
       "2013-01-06    5\n",
       "2013-01-07    6\n",
       "Freq: D, dtype: int64"
      ]
     },
     "execution_count": 80,
     "metadata": {},
     "output_type": "execute_result"
    }
   ],
   "source": [
    "s1 = pd.Series([1, 2, 3, 4, 5, 6], index=pd.date_range(\"20130102\", periods=6))\n",
    "\n",
    "s1"
   ]
  },
  {
   "cell_type": "code",
   "execution_count": 81,
   "id": "280da5d6",
   "metadata": {},
   "outputs": [],
   "source": [
    "df[\"F\"] = s1"
   ]
  },
  {
   "cell_type": "code",
   "execution_count": 82,
   "id": "4ad7a29c",
   "metadata": {},
   "outputs": [
    {
     "data": {
      "text/html": [
       "<div>\n",
       "<style scoped>\n",
       "    .dataframe tbody tr th:only-of-type {\n",
       "        vertical-align: middle;\n",
       "    }\n",
       "\n",
       "    .dataframe tbody tr th {\n",
       "        vertical-align: top;\n",
       "    }\n",
       "\n",
       "    .dataframe thead th {\n",
       "        text-align: right;\n",
       "    }\n",
       "</style>\n",
       "<table border=\"1\" class=\"dataframe\">\n",
       "  <thead>\n",
       "    <tr style=\"text-align: right;\">\n",
       "      <th></th>\n",
       "      <th>A</th>\n",
       "      <th>B</th>\n",
       "      <th>C</th>\n",
       "      <th>D</th>\n",
       "      <th>F</th>\n",
       "    </tr>\n",
       "  </thead>\n",
       "  <tbody>\n",
       "    <tr>\n",
       "      <th>2013-01-01</th>\n",
       "      <td>-0.972345</td>\n",
       "      <td>-1.002137</td>\n",
       "      <td>0.462610</td>\n",
       "      <td>-0.507919</td>\n",
       "      <td>NaN</td>\n",
       "    </tr>\n",
       "    <tr>\n",
       "      <th>2013-01-02</th>\n",
       "      <td>-2.150302</td>\n",
       "      <td>1.532121</td>\n",
       "      <td>0.282263</td>\n",
       "      <td>1.863421</td>\n",
       "      <td>1.0</td>\n",
       "    </tr>\n",
       "    <tr>\n",
       "      <th>2013-01-03</th>\n",
       "      <td>-1.043934</td>\n",
       "      <td>0.027366</td>\n",
       "      <td>0.429990</td>\n",
       "      <td>-0.862321</td>\n",
       "      <td>2.0</td>\n",
       "    </tr>\n",
       "    <tr>\n",
       "      <th>2013-01-04</th>\n",
       "      <td>-0.532943</td>\n",
       "      <td>0.824139</td>\n",
       "      <td>1.137875</td>\n",
       "      <td>0.122524</td>\n",
       "      <td>3.0</td>\n",
       "    </tr>\n",
       "    <tr>\n",
       "      <th>2013-01-05</th>\n",
       "      <td>-0.070717</td>\n",
       "      <td>0.118235</td>\n",
       "      <td>0.699868</td>\n",
       "      <td>2.265152</td>\n",
       "      <td>4.0</td>\n",
       "    </tr>\n",
       "    <tr>\n",
       "      <th>2013-01-06</th>\n",
       "      <td>-0.288001</td>\n",
       "      <td>-1.670127</td>\n",
       "      <td>-0.403404</td>\n",
       "      <td>-0.454997</td>\n",
       "      <td>5.0</td>\n",
       "    </tr>\n",
       "  </tbody>\n",
       "</table>\n",
       "</div>"
      ],
      "text/plain": [
       "                   A         B         C         D    F\n",
       "2013-01-01 -0.972345 -1.002137  0.462610 -0.507919  NaN\n",
       "2013-01-02 -2.150302  1.532121  0.282263  1.863421  1.0\n",
       "2013-01-03 -1.043934  0.027366  0.429990 -0.862321  2.0\n",
       "2013-01-04 -0.532943  0.824139  1.137875  0.122524  3.0\n",
       "2013-01-05 -0.070717  0.118235  0.699868  2.265152  4.0\n",
       "2013-01-06 -0.288001 -1.670127 -0.403404 -0.454997  5.0"
      ]
     },
     "execution_count": 82,
     "metadata": {},
     "output_type": "execute_result"
    }
   ],
   "source": [
    "df"
   ]
  },
  {
   "cell_type": "markdown",
   "id": "cf7d8880",
   "metadata": {},
   "source": [
    "---\n",
    "Присваивание значения по нзаванию столбца:"
   ]
  },
  {
   "cell_type": "code",
   "execution_count": 83,
   "id": "243c1b42",
   "metadata": {},
   "outputs": [],
   "source": [
    "df.at[dates[0], \"A\"] = 0"
   ]
  },
  {
   "cell_type": "code",
   "execution_count": 84,
   "id": "26b2022c",
   "metadata": {},
   "outputs": [
    {
     "data": {
      "text/html": [
       "<div>\n",
       "<style scoped>\n",
       "    .dataframe tbody tr th:only-of-type {\n",
       "        vertical-align: middle;\n",
       "    }\n",
       "\n",
       "    .dataframe tbody tr th {\n",
       "        vertical-align: top;\n",
       "    }\n",
       "\n",
       "    .dataframe thead th {\n",
       "        text-align: right;\n",
       "    }\n",
       "</style>\n",
       "<table border=\"1\" class=\"dataframe\">\n",
       "  <thead>\n",
       "    <tr style=\"text-align: right;\">\n",
       "      <th></th>\n",
       "      <th>A</th>\n",
       "      <th>B</th>\n",
       "      <th>C</th>\n",
       "      <th>D</th>\n",
       "      <th>F</th>\n",
       "    </tr>\n",
       "  </thead>\n",
       "  <tbody>\n",
       "    <tr>\n",
       "      <th>2013-01-01</th>\n",
       "      <td>0.000000</td>\n",
       "      <td>-1.002137</td>\n",
       "      <td>0.462610</td>\n",
       "      <td>-0.507919</td>\n",
       "      <td>NaN</td>\n",
       "    </tr>\n",
       "    <tr>\n",
       "      <th>2013-01-02</th>\n",
       "      <td>-2.150302</td>\n",
       "      <td>1.532121</td>\n",
       "      <td>0.282263</td>\n",
       "      <td>1.863421</td>\n",
       "      <td>1.0</td>\n",
       "    </tr>\n",
       "    <tr>\n",
       "      <th>2013-01-03</th>\n",
       "      <td>-1.043934</td>\n",
       "      <td>0.027366</td>\n",
       "      <td>0.429990</td>\n",
       "      <td>-0.862321</td>\n",
       "      <td>2.0</td>\n",
       "    </tr>\n",
       "    <tr>\n",
       "      <th>2013-01-04</th>\n",
       "      <td>-0.532943</td>\n",
       "      <td>0.824139</td>\n",
       "      <td>1.137875</td>\n",
       "      <td>0.122524</td>\n",
       "      <td>3.0</td>\n",
       "    </tr>\n",
       "    <tr>\n",
       "      <th>2013-01-05</th>\n",
       "      <td>-0.070717</td>\n",
       "      <td>0.118235</td>\n",
       "      <td>0.699868</td>\n",
       "      <td>2.265152</td>\n",
       "      <td>4.0</td>\n",
       "    </tr>\n",
       "    <tr>\n",
       "      <th>2013-01-06</th>\n",
       "      <td>-0.288001</td>\n",
       "      <td>-1.670127</td>\n",
       "      <td>-0.403404</td>\n",
       "      <td>-0.454997</td>\n",
       "      <td>5.0</td>\n",
       "    </tr>\n",
       "  </tbody>\n",
       "</table>\n",
       "</div>"
      ],
      "text/plain": [
       "                   A         B         C         D    F\n",
       "2013-01-01  0.000000 -1.002137  0.462610 -0.507919  NaN\n",
       "2013-01-02 -2.150302  1.532121  0.282263  1.863421  1.0\n",
       "2013-01-03 -1.043934  0.027366  0.429990 -0.862321  2.0\n",
       "2013-01-04 -0.532943  0.824139  1.137875  0.122524  3.0\n",
       "2013-01-05 -0.070717  0.118235  0.699868  2.265152  4.0\n",
       "2013-01-06 -0.288001 -1.670127 -0.403404 -0.454997  5.0"
      ]
     },
     "execution_count": 84,
     "metadata": {},
     "output_type": "execute_result"
    }
   ],
   "source": [
    "df"
   ]
  },
  {
   "cell_type": "markdown",
   "id": "3fa87c36",
   "metadata": {},
   "source": [
    "---\n",
    "По позиции:"
   ]
  },
  {
   "cell_type": "code",
   "execution_count": 85,
   "id": "8b7793ff",
   "metadata": {},
   "outputs": [],
   "source": [
    "df.iat[0, 1] = 0"
   ]
  },
  {
   "cell_type": "code",
   "execution_count": 86,
   "id": "5a78c249",
   "metadata": {},
   "outputs": [
    {
     "data": {
      "text/html": [
       "<div>\n",
       "<style scoped>\n",
       "    .dataframe tbody tr th:only-of-type {\n",
       "        vertical-align: middle;\n",
       "    }\n",
       "\n",
       "    .dataframe tbody tr th {\n",
       "        vertical-align: top;\n",
       "    }\n",
       "\n",
       "    .dataframe thead th {\n",
       "        text-align: right;\n",
       "    }\n",
       "</style>\n",
       "<table border=\"1\" class=\"dataframe\">\n",
       "  <thead>\n",
       "    <tr style=\"text-align: right;\">\n",
       "      <th></th>\n",
       "      <th>A</th>\n",
       "      <th>B</th>\n",
       "      <th>C</th>\n",
       "      <th>D</th>\n",
       "      <th>F</th>\n",
       "    </tr>\n",
       "  </thead>\n",
       "  <tbody>\n",
       "    <tr>\n",
       "      <th>2013-01-01</th>\n",
       "      <td>0.000000</td>\n",
       "      <td>0.000000</td>\n",
       "      <td>0.462610</td>\n",
       "      <td>-0.507919</td>\n",
       "      <td>NaN</td>\n",
       "    </tr>\n",
       "    <tr>\n",
       "      <th>2013-01-02</th>\n",
       "      <td>-2.150302</td>\n",
       "      <td>1.532121</td>\n",
       "      <td>0.282263</td>\n",
       "      <td>1.863421</td>\n",
       "      <td>1.0</td>\n",
       "    </tr>\n",
       "    <tr>\n",
       "      <th>2013-01-03</th>\n",
       "      <td>-1.043934</td>\n",
       "      <td>0.027366</td>\n",
       "      <td>0.429990</td>\n",
       "      <td>-0.862321</td>\n",
       "      <td>2.0</td>\n",
       "    </tr>\n",
       "    <tr>\n",
       "      <th>2013-01-04</th>\n",
       "      <td>-0.532943</td>\n",
       "      <td>0.824139</td>\n",
       "      <td>1.137875</td>\n",
       "      <td>0.122524</td>\n",
       "      <td>3.0</td>\n",
       "    </tr>\n",
       "    <tr>\n",
       "      <th>2013-01-05</th>\n",
       "      <td>-0.070717</td>\n",
       "      <td>0.118235</td>\n",
       "      <td>0.699868</td>\n",
       "      <td>2.265152</td>\n",
       "      <td>4.0</td>\n",
       "    </tr>\n",
       "    <tr>\n",
       "      <th>2013-01-06</th>\n",
       "      <td>-0.288001</td>\n",
       "      <td>-1.670127</td>\n",
       "      <td>-0.403404</td>\n",
       "      <td>-0.454997</td>\n",
       "      <td>5.0</td>\n",
       "    </tr>\n",
       "  </tbody>\n",
       "</table>\n",
       "</div>"
      ],
      "text/plain": [
       "                   A         B         C         D    F\n",
       "2013-01-01  0.000000  0.000000  0.462610 -0.507919  NaN\n",
       "2013-01-02 -2.150302  1.532121  0.282263  1.863421  1.0\n",
       "2013-01-03 -1.043934  0.027366  0.429990 -0.862321  2.0\n",
       "2013-01-04 -0.532943  0.824139  1.137875  0.122524  3.0\n",
       "2013-01-05 -0.070717  0.118235  0.699868  2.265152  4.0\n",
       "2013-01-06 -0.288001 -1.670127 -0.403404 -0.454997  5.0"
      ]
     },
     "execution_count": 86,
     "metadata": {},
     "output_type": "execute_result"
    }
   ],
   "source": [
    "df"
   ]
  },
  {
   "cell_type": "markdown",
   "id": "9207ec3b",
   "metadata": {},
   "source": [
    "---\n",
    "Присваивание значений в виде NumPy массива:"
   ]
  },
  {
   "cell_type": "code",
   "execution_count": 87,
   "id": "903f41b6",
   "metadata": {},
   "outputs": [],
   "source": [
    "df.loc[:, \"D\"] = np.array([5] * len(df))"
   ]
  },
  {
   "cell_type": "code",
   "execution_count": 88,
   "id": "7b70e3ec",
   "metadata": {},
   "outputs": [
    {
     "data": {
      "text/html": [
       "<div>\n",
       "<style scoped>\n",
       "    .dataframe tbody tr th:only-of-type {\n",
       "        vertical-align: middle;\n",
       "    }\n",
       "\n",
       "    .dataframe tbody tr th {\n",
       "        vertical-align: top;\n",
       "    }\n",
       "\n",
       "    .dataframe thead th {\n",
       "        text-align: right;\n",
       "    }\n",
       "</style>\n",
       "<table border=\"1\" class=\"dataframe\">\n",
       "  <thead>\n",
       "    <tr style=\"text-align: right;\">\n",
       "      <th></th>\n",
       "      <th>A</th>\n",
       "      <th>B</th>\n",
       "      <th>C</th>\n",
       "      <th>D</th>\n",
       "      <th>F</th>\n",
       "    </tr>\n",
       "  </thead>\n",
       "  <tbody>\n",
       "    <tr>\n",
       "      <th>2013-01-01</th>\n",
       "      <td>0.000000</td>\n",
       "      <td>0.000000</td>\n",
       "      <td>0.462610</td>\n",
       "      <td>5</td>\n",
       "      <td>NaN</td>\n",
       "    </tr>\n",
       "    <tr>\n",
       "      <th>2013-01-02</th>\n",
       "      <td>-2.150302</td>\n",
       "      <td>1.532121</td>\n",
       "      <td>0.282263</td>\n",
       "      <td>5</td>\n",
       "      <td>1.0</td>\n",
       "    </tr>\n",
       "    <tr>\n",
       "      <th>2013-01-03</th>\n",
       "      <td>-1.043934</td>\n",
       "      <td>0.027366</td>\n",
       "      <td>0.429990</td>\n",
       "      <td>5</td>\n",
       "      <td>2.0</td>\n",
       "    </tr>\n",
       "    <tr>\n",
       "      <th>2013-01-04</th>\n",
       "      <td>-0.532943</td>\n",
       "      <td>0.824139</td>\n",
       "      <td>1.137875</td>\n",
       "      <td>5</td>\n",
       "      <td>3.0</td>\n",
       "    </tr>\n",
       "    <tr>\n",
       "      <th>2013-01-05</th>\n",
       "      <td>-0.070717</td>\n",
       "      <td>0.118235</td>\n",
       "      <td>0.699868</td>\n",
       "      <td>5</td>\n",
       "      <td>4.0</td>\n",
       "    </tr>\n",
       "    <tr>\n",
       "      <th>2013-01-06</th>\n",
       "      <td>-0.288001</td>\n",
       "      <td>-1.670127</td>\n",
       "      <td>-0.403404</td>\n",
       "      <td>5</td>\n",
       "      <td>5.0</td>\n",
       "    </tr>\n",
       "  </tbody>\n",
       "</table>\n",
       "</div>"
      ],
      "text/plain": [
       "                   A         B         C  D    F\n",
       "2013-01-01  0.000000  0.000000  0.462610  5  NaN\n",
       "2013-01-02 -2.150302  1.532121  0.282263  5  1.0\n",
       "2013-01-03 -1.043934  0.027366  0.429990  5  2.0\n",
       "2013-01-04 -0.532943  0.824139  1.137875  5  3.0\n",
       "2013-01-05 -0.070717  0.118235  0.699868  5  4.0\n",
       "2013-01-06 -0.288001 -1.670127 -0.403404  5  5.0"
      ]
     },
     "execution_count": 88,
     "metadata": {},
     "output_type": "execute_result"
    }
   ],
   "source": [
    "df"
   ]
  },
  {
   "cell_type": "markdown",
   "id": "31a39cd0",
   "metadata": {},
   "source": [
    "---\n",
    "Замена значений с использованием условия:"
   ]
  },
  {
   "cell_type": "code",
   "execution_count": 90,
   "id": "b074f741",
   "metadata": {},
   "outputs": [],
   "source": [
    "df2 = df.copy()\n",
    "df2[df2 > 0] = -df2"
   ]
  },
  {
   "cell_type": "code",
   "execution_count": 91,
   "id": "ff41a679",
   "metadata": {},
   "outputs": [
    {
     "data": {
      "text/html": [
       "<div>\n",
       "<style scoped>\n",
       "    .dataframe tbody tr th:only-of-type {\n",
       "        vertical-align: middle;\n",
       "    }\n",
       "\n",
       "    .dataframe tbody tr th {\n",
       "        vertical-align: top;\n",
       "    }\n",
       "\n",
       "    .dataframe thead th {\n",
       "        text-align: right;\n",
       "    }\n",
       "</style>\n",
       "<table border=\"1\" class=\"dataframe\">\n",
       "  <thead>\n",
       "    <tr style=\"text-align: right;\">\n",
       "      <th></th>\n",
       "      <th>A</th>\n",
       "      <th>B</th>\n",
       "      <th>C</th>\n",
       "      <th>D</th>\n",
       "      <th>F</th>\n",
       "    </tr>\n",
       "  </thead>\n",
       "  <tbody>\n",
       "    <tr>\n",
       "      <th>2013-01-01</th>\n",
       "      <td>0.000000</td>\n",
       "      <td>0.000000</td>\n",
       "      <td>-0.462610</td>\n",
       "      <td>-5</td>\n",
       "      <td>NaN</td>\n",
       "    </tr>\n",
       "    <tr>\n",
       "      <th>2013-01-02</th>\n",
       "      <td>-2.150302</td>\n",
       "      <td>-1.532121</td>\n",
       "      <td>-0.282263</td>\n",
       "      <td>-5</td>\n",
       "      <td>-1.0</td>\n",
       "    </tr>\n",
       "    <tr>\n",
       "      <th>2013-01-03</th>\n",
       "      <td>-1.043934</td>\n",
       "      <td>-0.027366</td>\n",
       "      <td>-0.429990</td>\n",
       "      <td>-5</td>\n",
       "      <td>-2.0</td>\n",
       "    </tr>\n",
       "    <tr>\n",
       "      <th>2013-01-04</th>\n",
       "      <td>-0.532943</td>\n",
       "      <td>-0.824139</td>\n",
       "      <td>-1.137875</td>\n",
       "      <td>-5</td>\n",
       "      <td>-3.0</td>\n",
       "    </tr>\n",
       "    <tr>\n",
       "      <th>2013-01-05</th>\n",
       "      <td>-0.070717</td>\n",
       "      <td>-0.118235</td>\n",
       "      <td>-0.699868</td>\n",
       "      <td>-5</td>\n",
       "      <td>-4.0</td>\n",
       "    </tr>\n",
       "    <tr>\n",
       "      <th>2013-01-06</th>\n",
       "      <td>-0.288001</td>\n",
       "      <td>-1.670127</td>\n",
       "      <td>-0.403404</td>\n",
       "      <td>-5</td>\n",
       "      <td>-5.0</td>\n",
       "    </tr>\n",
       "  </tbody>\n",
       "</table>\n",
       "</div>"
      ],
      "text/plain": [
       "                   A         B         C  D    F\n",
       "2013-01-01  0.000000  0.000000 -0.462610 -5  NaN\n",
       "2013-01-02 -2.150302 -1.532121 -0.282263 -5 -1.0\n",
       "2013-01-03 -1.043934 -0.027366 -0.429990 -5 -2.0\n",
       "2013-01-04 -0.532943 -0.824139 -1.137875 -5 -3.0\n",
       "2013-01-05 -0.070717 -0.118235 -0.699868 -5 -4.0\n",
       "2013-01-06 -0.288001 -1.670127 -0.403404 -5 -5.0"
      ]
     },
     "execution_count": 91,
     "metadata": {},
     "output_type": "execute_result"
    }
   ],
   "source": [
    "df2"
   ]
  },
  {
   "cell_type": "markdown",
   "id": "296230c3",
   "metadata": {},
   "source": [
    "---\n",
    "## Отсутствующие данные\n",
    "---\n",
    "\n",
    "pandas в основном использует значение np.nan для представления отсутствующих данных. По умолчанию оно пропускается в вычислениях.\n",
    "\n",
    "Переиндексирование позволяет вам изменить / добавить / удалить индекс на указанной оси. Эта операция возвращает копию данных."
   ]
  },
  {
   "cell_type": "code",
   "execution_count": 93,
   "id": "740f4128",
   "metadata": {},
   "outputs": [],
   "source": [
    "import pandas as pd\n",
    "import numpy as np"
   ]
  },
  {
   "cell_type": "code",
   "execution_count": 94,
   "id": "b35ea8df",
   "metadata": {},
   "outputs": [],
   "source": [
    "dates = pd.date_range(\"20130101\", periods=6)\n",
    "\n",
    "df = pd.DataFrame(np.random.randn(6, 4), index=dates, columns=list(\"ABCD\"))"
   ]
  },
  {
   "cell_type": "code",
   "execution_count": 95,
   "id": "c06b6c5e",
   "metadata": {},
   "outputs": [],
   "source": [
    "df1 = df.reindex(index=dates[0:4], columns=list(df.columns) + [\"E\"])"
   ]
  },
  {
   "cell_type": "code",
   "execution_count": 99,
   "id": "0375c517",
   "metadata": {},
   "outputs": [],
   "source": [
    "df1.loc[dates[0]:dates[1], \"E\"] = 1"
   ]
  },
  {
   "cell_type": "code",
   "execution_count": 100,
   "id": "a77d0e9b",
   "metadata": {},
   "outputs": [
    {
     "data": {
      "text/html": [
       "<div>\n",
       "<style scoped>\n",
       "    .dataframe tbody tr th:only-of-type {\n",
       "        vertical-align: middle;\n",
       "    }\n",
       "\n",
       "    .dataframe tbody tr th {\n",
       "        vertical-align: top;\n",
       "    }\n",
       "\n",
       "    .dataframe thead th {\n",
       "        text-align: right;\n",
       "    }\n",
       "</style>\n",
       "<table border=\"1\" class=\"dataframe\">\n",
       "  <thead>\n",
       "    <tr style=\"text-align: right;\">\n",
       "      <th></th>\n",
       "      <th>A</th>\n",
       "      <th>B</th>\n",
       "      <th>C</th>\n",
       "      <th>D</th>\n",
       "      <th>E</th>\n",
       "    </tr>\n",
       "  </thead>\n",
       "  <tbody>\n",
       "    <tr>\n",
       "      <th>2013-01-01</th>\n",
       "      <td>-0.006902</td>\n",
       "      <td>-1.524659</td>\n",
       "      <td>0.835695</td>\n",
       "      <td>0.431218</td>\n",
       "      <td>1.0</td>\n",
       "    </tr>\n",
       "    <tr>\n",
       "      <th>2013-01-02</th>\n",
       "      <td>0.941004</td>\n",
       "      <td>-0.670430</td>\n",
       "      <td>0.225466</td>\n",
       "      <td>-0.670032</td>\n",
       "      <td>1.0</td>\n",
       "    </tr>\n",
       "    <tr>\n",
       "      <th>2013-01-03</th>\n",
       "      <td>0.394686</td>\n",
       "      <td>1.366774</td>\n",
       "      <td>0.176086</td>\n",
       "      <td>-0.729037</td>\n",
       "      <td>NaN</td>\n",
       "    </tr>\n",
       "    <tr>\n",
       "      <th>2013-01-04</th>\n",
       "      <td>0.973640</td>\n",
       "      <td>1.376656</td>\n",
       "      <td>-0.891866</td>\n",
       "      <td>0.924329</td>\n",
       "      <td>NaN</td>\n",
       "    </tr>\n",
       "  </tbody>\n",
       "</table>\n",
       "</div>"
      ],
      "text/plain": [
       "                   A         B         C         D    E\n",
       "2013-01-01 -0.006902 -1.524659  0.835695  0.431218  1.0\n",
       "2013-01-02  0.941004 -0.670430  0.225466 -0.670032  1.0\n",
       "2013-01-03  0.394686  1.366774  0.176086 -0.729037  NaN\n",
       "2013-01-04  0.973640  1.376656 -0.891866  0.924329  NaN"
      ]
     },
     "execution_count": 100,
     "metadata": {},
     "output_type": "execute_result"
    }
   ],
   "source": [
    "df1"
   ]
  },
  {
   "cell_type": "markdown",
   "id": "060ae709",
   "metadata": {},
   "source": [
    "---\n",
    "Удаление строк, в которых отсутствуют данные:"
   ]
  },
  {
   "cell_type": "code",
   "execution_count": 101,
   "id": "66d5f15e",
   "metadata": {},
   "outputs": [
    {
     "data": {
      "text/html": [
       "<div>\n",
       "<style scoped>\n",
       "    .dataframe tbody tr th:only-of-type {\n",
       "        vertical-align: middle;\n",
       "    }\n",
       "\n",
       "    .dataframe tbody tr th {\n",
       "        vertical-align: top;\n",
       "    }\n",
       "\n",
       "    .dataframe thead th {\n",
       "        text-align: right;\n",
       "    }\n",
       "</style>\n",
       "<table border=\"1\" class=\"dataframe\">\n",
       "  <thead>\n",
       "    <tr style=\"text-align: right;\">\n",
       "      <th></th>\n",
       "      <th>A</th>\n",
       "      <th>B</th>\n",
       "      <th>C</th>\n",
       "      <th>D</th>\n",
       "      <th>E</th>\n",
       "    </tr>\n",
       "  </thead>\n",
       "  <tbody>\n",
       "    <tr>\n",
       "      <th>2013-01-01</th>\n",
       "      <td>-0.006902</td>\n",
       "      <td>-1.524659</td>\n",
       "      <td>0.835695</td>\n",
       "      <td>0.431218</td>\n",
       "      <td>1.0</td>\n",
       "    </tr>\n",
       "    <tr>\n",
       "      <th>2013-01-02</th>\n",
       "      <td>0.941004</td>\n",
       "      <td>-0.670430</td>\n",
       "      <td>0.225466</td>\n",
       "      <td>-0.670032</td>\n",
       "      <td>1.0</td>\n",
       "    </tr>\n",
       "  </tbody>\n",
       "</table>\n",
       "</div>"
      ],
      "text/plain": [
       "                   A         B         C         D    E\n",
       "2013-01-01 -0.006902 -1.524659  0.835695  0.431218  1.0\n",
       "2013-01-02  0.941004 -0.670430  0.225466 -0.670032  1.0"
      ]
     },
     "execution_count": 101,
     "metadata": {},
     "output_type": "execute_result"
    }
   ],
   "source": [
    "df1.dropna(how=\"any\")"
   ]
  },
  {
   "cell_type": "markdown",
   "id": "ec881636",
   "metadata": {},
   "source": [
    "---\n",
    "Заполнение отсутствующих данных:"
   ]
  },
  {
   "cell_type": "code",
   "execution_count": 102,
   "id": "8da89a35",
   "metadata": {},
   "outputs": [
    {
     "data": {
      "text/html": [
       "<div>\n",
       "<style scoped>\n",
       "    .dataframe tbody tr th:only-of-type {\n",
       "        vertical-align: middle;\n",
       "    }\n",
       "\n",
       "    .dataframe tbody tr th {\n",
       "        vertical-align: top;\n",
       "    }\n",
       "\n",
       "    .dataframe thead th {\n",
       "        text-align: right;\n",
       "    }\n",
       "</style>\n",
       "<table border=\"1\" class=\"dataframe\">\n",
       "  <thead>\n",
       "    <tr style=\"text-align: right;\">\n",
       "      <th></th>\n",
       "      <th>A</th>\n",
       "      <th>B</th>\n",
       "      <th>C</th>\n",
       "      <th>D</th>\n",
       "      <th>E</th>\n",
       "    </tr>\n",
       "  </thead>\n",
       "  <tbody>\n",
       "    <tr>\n",
       "      <th>2013-01-01</th>\n",
       "      <td>-0.006902</td>\n",
       "      <td>-1.524659</td>\n",
       "      <td>0.835695</td>\n",
       "      <td>0.431218</td>\n",
       "      <td>1.0</td>\n",
       "    </tr>\n",
       "    <tr>\n",
       "      <th>2013-01-02</th>\n",
       "      <td>0.941004</td>\n",
       "      <td>-0.670430</td>\n",
       "      <td>0.225466</td>\n",
       "      <td>-0.670032</td>\n",
       "      <td>1.0</td>\n",
       "    </tr>\n",
       "    <tr>\n",
       "      <th>2013-01-03</th>\n",
       "      <td>0.394686</td>\n",
       "      <td>1.366774</td>\n",
       "      <td>0.176086</td>\n",
       "      <td>-0.729037</td>\n",
       "      <td>5.0</td>\n",
       "    </tr>\n",
       "    <tr>\n",
       "      <th>2013-01-04</th>\n",
       "      <td>0.973640</td>\n",
       "      <td>1.376656</td>\n",
       "      <td>-0.891866</td>\n",
       "      <td>0.924329</td>\n",
       "      <td>5.0</td>\n",
       "    </tr>\n",
       "  </tbody>\n",
       "</table>\n",
       "</div>"
      ],
      "text/plain": [
       "                   A         B         C         D    E\n",
       "2013-01-01 -0.006902 -1.524659  0.835695  0.431218  1.0\n",
       "2013-01-02  0.941004 -0.670430  0.225466 -0.670032  1.0\n",
       "2013-01-03  0.394686  1.366774  0.176086 -0.729037  5.0\n",
       "2013-01-04  0.973640  1.376656 -0.891866  0.924329  5.0"
      ]
     },
     "execution_count": 102,
     "metadata": {},
     "output_type": "execute_result"
    }
   ],
   "source": [
    "df1.fillna(value=5)"
   ]
  },
  {
   "cell_type": "markdown",
   "id": "5cdfc741",
   "metadata": {},
   "source": [
    "---\n",
    "Получение таблицы с булевыми значениями, True - если в ячейке nan"
   ]
  },
  {
   "cell_type": "code",
   "execution_count": 103,
   "id": "0db3165d",
   "metadata": {},
   "outputs": [
    {
     "data": {
      "text/html": [
       "<div>\n",
       "<style scoped>\n",
       "    .dataframe tbody tr th:only-of-type {\n",
       "        vertical-align: middle;\n",
       "    }\n",
       "\n",
       "    .dataframe tbody tr th {\n",
       "        vertical-align: top;\n",
       "    }\n",
       "\n",
       "    .dataframe thead th {\n",
       "        text-align: right;\n",
       "    }\n",
       "</style>\n",
       "<table border=\"1\" class=\"dataframe\">\n",
       "  <thead>\n",
       "    <tr style=\"text-align: right;\">\n",
       "      <th></th>\n",
       "      <th>A</th>\n",
       "      <th>B</th>\n",
       "      <th>C</th>\n",
       "      <th>D</th>\n",
       "      <th>E</th>\n",
       "    </tr>\n",
       "  </thead>\n",
       "  <tbody>\n",
       "    <tr>\n",
       "      <th>2013-01-01</th>\n",
       "      <td>False</td>\n",
       "      <td>False</td>\n",
       "      <td>False</td>\n",
       "      <td>False</td>\n",
       "      <td>False</td>\n",
       "    </tr>\n",
       "    <tr>\n",
       "      <th>2013-01-02</th>\n",
       "      <td>False</td>\n",
       "      <td>False</td>\n",
       "      <td>False</td>\n",
       "      <td>False</td>\n",
       "      <td>False</td>\n",
       "    </tr>\n",
       "    <tr>\n",
       "      <th>2013-01-03</th>\n",
       "      <td>False</td>\n",
       "      <td>False</td>\n",
       "      <td>False</td>\n",
       "      <td>False</td>\n",
       "      <td>True</td>\n",
       "    </tr>\n",
       "    <tr>\n",
       "      <th>2013-01-04</th>\n",
       "      <td>False</td>\n",
       "      <td>False</td>\n",
       "      <td>False</td>\n",
       "      <td>False</td>\n",
       "      <td>True</td>\n",
       "    </tr>\n",
       "  </tbody>\n",
       "</table>\n",
       "</div>"
      ],
      "text/plain": [
       "                A      B      C      D      E\n",
       "2013-01-01  False  False  False  False  False\n",
       "2013-01-02  False  False  False  False  False\n",
       "2013-01-03  False  False  False  False   True\n",
       "2013-01-04  False  False  False  False   True"
      ]
     },
     "execution_count": 103,
     "metadata": {},
     "output_type": "execute_result"
    }
   ],
   "source": [
    "pd.isna(df1)"
   ]
  },
  {
   "cell_type": "markdown",
   "id": "d102805e",
   "metadata": {},
   "source": [
    "---\n",
    ">Подробнее см. [Missing Data section](https://pandas.pydata.org/pandas-docs/stable/user_guide/missing_data.html#missing-data)\n",
    "\n",
    "---"
   ]
  },
  {
   "cell_type": "markdown",
   "id": "fb3b4d8e",
   "metadata": {},
   "source": [
    "## Операции с DataFrame\n",
    "---\n",
    "\n"
   ]
  },
  {
   "cell_type": "code",
   "execution_count": 104,
   "id": "7b0f26db",
   "metadata": {},
   "outputs": [],
   "source": [
    "import pandas as pd\n",
    "import numpy as np"
   ]
  },
  {
   "cell_type": "code",
   "execution_count": 111,
   "id": "6ad3ed36",
   "metadata": {},
   "outputs": [
    {
     "data": {
      "text/html": [
       "<div>\n",
       "<style scoped>\n",
       "    .dataframe tbody tr th:only-of-type {\n",
       "        vertical-align: middle;\n",
       "    }\n",
       "\n",
       "    .dataframe tbody tr th {\n",
       "        vertical-align: top;\n",
       "    }\n",
       "\n",
       "    .dataframe thead th {\n",
       "        text-align: right;\n",
       "    }\n",
       "</style>\n",
       "<table border=\"1\" class=\"dataframe\">\n",
       "  <thead>\n",
       "    <tr style=\"text-align: right;\">\n",
       "      <th></th>\n",
       "      <th>A</th>\n",
       "      <th>B</th>\n",
       "      <th>C</th>\n",
       "      <th>D</th>\n",
       "    </tr>\n",
       "  </thead>\n",
       "  <tbody>\n",
       "    <tr>\n",
       "      <th>2013-01-01</th>\n",
       "      <td>-0.707274</td>\n",
       "      <td>-0.027982</td>\n",
       "      <td>-0.498755</td>\n",
       "      <td>1.024683</td>\n",
       "    </tr>\n",
       "    <tr>\n",
       "      <th>2013-01-02</th>\n",
       "      <td>0.265856</td>\n",
       "      <td>-0.065437</td>\n",
       "      <td>-1.009833</td>\n",
       "      <td>-1.482791</td>\n",
       "    </tr>\n",
       "    <tr>\n",
       "      <th>2013-01-03</th>\n",
       "      <td>-1.359884</td>\n",
       "      <td>-0.491711</td>\n",
       "      <td>-0.659229</td>\n",
       "      <td>-0.065801</td>\n",
       "    </tr>\n",
       "    <tr>\n",
       "      <th>2013-01-04</th>\n",
       "      <td>-0.240112</td>\n",
       "      <td>-0.075881</td>\n",
       "      <td>-1.430684</td>\n",
       "      <td>-0.787763</td>\n",
       "    </tr>\n",
       "    <tr>\n",
       "      <th>2013-01-05</th>\n",
       "      <td>-1.394030</td>\n",
       "      <td>-1.602543</td>\n",
       "      <td>-0.348359</td>\n",
       "      <td>-0.180873</td>\n",
       "    </tr>\n",
       "    <tr>\n",
       "      <th>2013-01-06</th>\n",
       "      <td>2.032310</td>\n",
       "      <td>0.748764</td>\n",
       "      <td>2.878344</td>\n",
       "      <td>0.620928</td>\n",
       "    </tr>\n",
       "  </tbody>\n",
       "</table>\n",
       "</div>"
      ],
      "text/plain": [
       "                   A         B         C         D\n",
       "2013-01-01 -0.707274 -0.027982 -0.498755  1.024683\n",
       "2013-01-02  0.265856 -0.065437 -1.009833 -1.482791\n",
       "2013-01-03 -1.359884 -0.491711 -0.659229 -0.065801\n",
       "2013-01-04 -0.240112 -0.075881 -1.430684 -0.787763\n",
       "2013-01-05 -1.394030 -1.602543 -0.348359 -0.180873\n",
       "2013-01-06  2.032310  0.748764  2.878344  0.620928"
      ]
     },
     "execution_count": 111,
     "metadata": {},
     "output_type": "execute_result"
    }
   ],
   "source": [
    "dates = pd.date_range(\"20130101\", periods=6)\n",
    "\n",
    "df = pd.DataFrame(np.random.randn(6, 4), index=dates, columns=list(\"ABCD\"))\n",
    "\n",
    "df"
   ]
  },
  {
   "cell_type": "markdown",
   "id": "d2ac4fda",
   "metadata": {},
   "source": [
    "### Stats\n",
    "---\n",
    "\n",
    "Вычисление среднего значения по столбцам:"
   ]
  },
  {
   "cell_type": "code",
   "execution_count": 113,
   "id": "2434acbc",
   "metadata": {},
   "outputs": [
    {
     "data": {
      "text/plain": [
       "A   -0.233856\n",
       "B   -0.252465\n",
       "C   -0.178086\n",
       "D   -0.145270\n",
       "dtype: float64"
      ]
     },
     "execution_count": 113,
     "metadata": {},
     "output_type": "execute_result"
    }
   ],
   "source": [
    "df.mean()"
   ]
  },
  {
   "cell_type": "markdown",
   "id": "c3dd3ec5",
   "metadata": {},
   "source": [
    "---\n",
    "По строкам (по 1 оси): "
   ]
  },
  {
   "cell_type": "code",
   "execution_count": 114,
   "id": "8138bbc5",
   "metadata": {},
   "outputs": [
    {
     "data": {
      "text/plain": [
       "2013-01-01   -0.052332\n",
       "2013-01-02   -0.573051\n",
       "2013-01-03   -0.644156\n",
       "2013-01-04   -0.633610\n",
       "2013-01-05   -0.881451\n",
       "2013-01-06    1.570086\n",
       "Freq: D, dtype: float64"
      ]
     },
     "execution_count": 114,
     "metadata": {},
     "output_type": "execute_result"
    }
   ],
   "source": [
    "df.mean(1)"
   ]
  },
  {
   "cell_type": "markdown",
   "id": "72739ddb",
   "metadata": {},
   "source": [
    "---\n",
    "Работа с объектами разной размерности, требующими выравнивания:"
   ]
  },
  {
   "cell_type": "code",
   "execution_count": 115,
   "id": "251a08c0",
   "metadata": {},
   "outputs": [],
   "source": [
    "s = pd.Series([1, 3, 5, np.nan, 6, 8], index=dates).shift(2)"
   ]
  },
  {
   "cell_type": "code",
   "execution_count": 116,
   "id": "7ec3888c",
   "metadata": {},
   "outputs": [
    {
     "data": {
      "text/plain": [
       "2013-01-01    NaN\n",
       "2013-01-02    NaN\n",
       "2013-01-03    1.0\n",
       "2013-01-04    3.0\n",
       "2013-01-05    5.0\n",
       "2013-01-06    NaN\n",
       "Freq: D, dtype: float64"
      ]
     },
     "execution_count": 116,
     "metadata": {},
     "output_type": "execute_result"
    }
   ],
   "source": [
    "s"
   ]
  },
  {
   "cell_type": "code",
   "execution_count": 117,
   "id": "b10be7fa",
   "metadata": {},
   "outputs": [
    {
     "data": {
      "text/html": [
       "<div>\n",
       "<style scoped>\n",
       "    .dataframe tbody tr th:only-of-type {\n",
       "        vertical-align: middle;\n",
       "    }\n",
       "\n",
       "    .dataframe tbody tr th {\n",
       "        vertical-align: top;\n",
       "    }\n",
       "\n",
       "    .dataframe thead th {\n",
       "        text-align: right;\n",
       "    }\n",
       "</style>\n",
       "<table border=\"1\" class=\"dataframe\">\n",
       "  <thead>\n",
       "    <tr style=\"text-align: right;\">\n",
       "      <th></th>\n",
       "      <th>A</th>\n",
       "      <th>B</th>\n",
       "      <th>C</th>\n",
       "      <th>D</th>\n",
       "    </tr>\n",
       "  </thead>\n",
       "  <tbody>\n",
       "    <tr>\n",
       "      <th>2013-01-01</th>\n",
       "      <td>NaN</td>\n",
       "      <td>NaN</td>\n",
       "      <td>NaN</td>\n",
       "      <td>NaN</td>\n",
       "    </tr>\n",
       "    <tr>\n",
       "      <th>2013-01-02</th>\n",
       "      <td>NaN</td>\n",
       "      <td>NaN</td>\n",
       "      <td>NaN</td>\n",
       "      <td>NaN</td>\n",
       "    </tr>\n",
       "    <tr>\n",
       "      <th>2013-01-03</th>\n",
       "      <td>-2.359884</td>\n",
       "      <td>-1.491711</td>\n",
       "      <td>-1.659229</td>\n",
       "      <td>-1.065801</td>\n",
       "    </tr>\n",
       "    <tr>\n",
       "      <th>2013-01-04</th>\n",
       "      <td>-3.240112</td>\n",
       "      <td>-3.075881</td>\n",
       "      <td>-4.430684</td>\n",
       "      <td>-3.787763</td>\n",
       "    </tr>\n",
       "    <tr>\n",
       "      <th>2013-01-05</th>\n",
       "      <td>-6.394030</td>\n",
       "      <td>-6.602543</td>\n",
       "      <td>-5.348359</td>\n",
       "      <td>-5.180873</td>\n",
       "    </tr>\n",
       "    <tr>\n",
       "      <th>2013-01-06</th>\n",
       "      <td>NaN</td>\n",
       "      <td>NaN</td>\n",
       "      <td>NaN</td>\n",
       "      <td>NaN</td>\n",
       "    </tr>\n",
       "  </tbody>\n",
       "</table>\n",
       "</div>"
      ],
      "text/plain": [
       "                   A         B         C         D\n",
       "2013-01-01       NaN       NaN       NaN       NaN\n",
       "2013-01-02       NaN       NaN       NaN       NaN\n",
       "2013-01-03 -2.359884 -1.491711 -1.659229 -1.065801\n",
       "2013-01-04 -3.240112 -3.075881 -4.430684 -3.787763\n",
       "2013-01-05 -6.394030 -6.602543 -5.348359 -5.180873\n",
       "2013-01-06       NaN       NaN       NaN       NaN"
      ]
     },
     "execution_count": 117,
     "metadata": {},
     "output_type": "execute_result"
    }
   ],
   "source": [
    "df.sub(s, axis=\"index\")"
   ]
  },
  {
   "cell_type": "markdown",
   "id": "23d555a1",
   "metadata": {},
   "source": [
    "---\n",
    "### Apply\n",
    "---\n",
    "\n",
    "Применение функции к DataFrame:"
   ]
  },
  {
   "cell_type": "code",
   "execution_count": 119,
   "id": "9f198732",
   "metadata": {},
   "outputs": [
    {
     "data": {
      "text/html": [
       "<div>\n",
       "<style scoped>\n",
       "    .dataframe tbody tr th:only-of-type {\n",
       "        vertical-align: middle;\n",
       "    }\n",
       "\n",
       "    .dataframe tbody tr th {\n",
       "        vertical-align: top;\n",
       "    }\n",
       "\n",
       "    .dataframe thead th {\n",
       "        text-align: right;\n",
       "    }\n",
       "</style>\n",
       "<table border=\"1\" class=\"dataframe\">\n",
       "  <thead>\n",
       "    <tr style=\"text-align: right;\">\n",
       "      <th></th>\n",
       "      <th>A</th>\n",
       "      <th>B</th>\n",
       "      <th>C</th>\n",
       "      <th>D</th>\n",
       "    </tr>\n",
       "  </thead>\n",
       "  <tbody>\n",
       "    <tr>\n",
       "      <th>2013-01-01</th>\n",
       "      <td>-0.707274</td>\n",
       "      <td>-0.027982</td>\n",
       "      <td>-0.498755</td>\n",
       "      <td>1.024683</td>\n",
       "    </tr>\n",
       "    <tr>\n",
       "      <th>2013-01-02</th>\n",
       "      <td>-0.441419</td>\n",
       "      <td>-0.093419</td>\n",
       "      <td>-1.508588</td>\n",
       "      <td>-0.458107</td>\n",
       "    </tr>\n",
       "    <tr>\n",
       "      <th>2013-01-03</th>\n",
       "      <td>-1.801303</td>\n",
       "      <td>-0.585130</td>\n",
       "      <td>-2.167816</td>\n",
       "      <td>-0.523908</td>\n",
       "    </tr>\n",
       "    <tr>\n",
       "      <th>2013-01-04</th>\n",
       "      <td>-2.041415</td>\n",
       "      <td>-0.661011</td>\n",
       "      <td>-3.598500</td>\n",
       "      <td>-1.311672</td>\n",
       "    </tr>\n",
       "    <tr>\n",
       "      <th>2013-01-05</th>\n",
       "      <td>-3.435444</td>\n",
       "      <td>-2.263554</td>\n",
       "      <td>-3.946859</td>\n",
       "      <td>-1.492545</td>\n",
       "    </tr>\n",
       "    <tr>\n",
       "      <th>2013-01-06</th>\n",
       "      <td>-1.403134</td>\n",
       "      <td>-1.514790</td>\n",
       "      <td>-1.068515</td>\n",
       "      <td>-0.871617</td>\n",
       "    </tr>\n",
       "  </tbody>\n",
       "</table>\n",
       "</div>"
      ],
      "text/plain": [
       "                   A         B         C         D\n",
       "2013-01-01 -0.707274 -0.027982 -0.498755  1.024683\n",
       "2013-01-02 -0.441419 -0.093419 -1.508588 -0.458107\n",
       "2013-01-03 -1.801303 -0.585130 -2.167816 -0.523908\n",
       "2013-01-04 -2.041415 -0.661011 -3.598500 -1.311672\n",
       "2013-01-05 -3.435444 -2.263554 -3.946859 -1.492545\n",
       "2013-01-06 -1.403134 -1.514790 -1.068515 -0.871617"
      ]
     },
     "execution_count": 119,
     "metadata": {},
     "output_type": "execute_result"
    }
   ],
   "source": [
    "df.apply(np.cumsum)"
   ]
  },
  {
   "cell_type": "code",
   "execution_count": 128,
   "id": "4c626fc5",
   "metadata": {},
   "outputs": [
    {
     "data": {
      "text/plain": [
       "A    3.426340\n",
       "B    2.351307\n",
       "C    4.309028\n",
       "D    2.507474\n",
       "dtype: float64"
      ]
     },
     "execution_count": 128,
     "metadata": {},
     "output_type": "execute_result"
    }
   ],
   "source": [
    "df.apply(lambda x: x.max() - x.min())"
   ]
  },
  {
   "cell_type": "markdown",
   "id": "84e17e99",
   "metadata": {},
   "source": [
    "---\n",
    "### Гистограмма\n",
    "---\n",
    "\n",
    "Получение данных для гистограммы:"
   ]
  },
  {
   "cell_type": "code",
   "execution_count": 155,
   "id": "5f718e09",
   "metadata": {},
   "outputs": [],
   "source": [
    "s = pd.Series(np.random.randint(0, 7, size=10))"
   ]
  },
  {
   "cell_type": "code",
   "execution_count": 156,
   "id": "8adf34a5",
   "metadata": {},
   "outputs": [
    {
     "data": {
      "text/plain": [
       "0    5\n",
       "1    0\n",
       "2    5\n",
       "3    0\n",
       "4    3\n",
       "5    6\n",
       "6    3\n",
       "7    4\n",
       "8    1\n",
       "9    4\n",
       "dtype: int32"
      ]
     },
     "execution_count": 156,
     "metadata": {},
     "output_type": "execute_result"
    }
   ],
   "source": [
    "s"
   ]
  },
  {
   "cell_type": "code",
   "execution_count": 157,
   "id": "1fa8066f",
   "metadata": {},
   "outputs": [
    {
     "data": {
      "text/plain": [
       "0    2\n",
       "3    2\n",
       "4    2\n",
       "5    2\n",
       "1    1\n",
       "6    1\n",
       "dtype: int64"
      ]
     },
     "execution_count": 157,
     "metadata": {},
     "output_type": "execute_result"
    }
   ],
   "source": [
    "s.value_counts()"
   ]
  },
  {
   "cell_type": "markdown",
   "id": "0fa38f58",
   "metadata": {},
   "source": [
    "---\n",
    "### Строковые методы\n",
    "---\n",
    "\n",
    "Series имеет методы обработки строк в атрибуте str, которые упрощают работу с каждым элементом массива, как показано в фрагменте кода ниже. Обратите внимание, что сопоставление с образцом в str обычно использует регулярные выражения по умолчанию (а в некоторых случаях всегда использует их)."
   ]
  },
  {
   "cell_type": "code",
   "execution_count": 158,
   "id": "83306ef4",
   "metadata": {},
   "outputs": [],
   "source": [
    "s = pd.Series([\"A\", \"B\", \"C\", \"Aaba\", \"Baca\", np.nan, \"CABA\", \"dog\", \"cat\"])"
   ]
  },
  {
   "cell_type": "code",
   "execution_count": 159,
   "id": "270eb274",
   "metadata": {},
   "outputs": [
    {
     "data": {
      "text/plain": [
       "0       a\n",
       "1       b\n",
       "2       c\n",
       "3    aaba\n",
       "4    baca\n",
       "5     NaN\n",
       "6    caba\n",
       "7     dog\n",
       "8     cat\n",
       "dtype: object"
      ]
     },
     "execution_count": 159,
     "metadata": {},
     "output_type": "execute_result"
    }
   ],
   "source": [
    "s.str.lower()"
   ]
  },
  {
   "cell_type": "markdown",
   "id": "7147b6fe",
   "metadata": {},
   "source": [
    ">Подробнее см. [ Vectorized String Methods](https://pandas.pydata.org/pandas-docs/stable/user_guide/text.html#text-string-methods)\n",
    "\n",
    "---"
   ]
  },
  {
   "cell_type": "markdown",
   "id": "8655144b",
   "metadata": {},
   "source": [
    "## Объединение\n",
    "---\n",
    "\n",
    "pandas предоставляет различные средства для простого объединения вместе объектов Series и DataFrame с различными видами логики набора для индексов и функциональных возможностей реляционной алгебры в случае операций типа соединения / слияния.\n",
    "\n",
    "Больше про объединение датафреймов: [Merging section](https://pandas.pydata.org/pandas-docs/stable/user_guide/merging.html#merge-join-concatenate-and-compare)"
   ]
  },
  {
   "cell_type": "code",
   "execution_count": 2,
   "id": "01f03f5e",
   "metadata": {},
   "outputs": [],
   "source": [
    "import pandas as pd\n",
    "import numpy as np"
   ]
  },
  {
   "cell_type": "markdown",
   "id": "48ce25c4",
   "metadata": {},
   "source": [
    "---\n",
    "### Concat\n",
    "---\n",
    "\n",
    "Объединение объектов pandas с помощью [concat()](https://pandas.pydata.org/pandas-docs/stable/reference/api/pandas.concat.html#pandas.concat):"
   ]
  },
  {
   "cell_type": "code",
   "execution_count": 3,
   "id": "c5a9b87b",
   "metadata": {},
   "outputs": [],
   "source": [
    "df = pd.DataFrame(np.random.randn(10, 4))"
   ]
  },
  {
   "cell_type": "code",
   "execution_count": 4,
   "id": "a6cabd80",
   "metadata": {},
   "outputs": [
    {
     "data": {
      "text/html": [
       "<div>\n",
       "<style scoped>\n",
       "    .dataframe tbody tr th:only-of-type {\n",
       "        vertical-align: middle;\n",
       "    }\n",
       "\n",
       "    .dataframe tbody tr th {\n",
       "        vertical-align: top;\n",
       "    }\n",
       "\n",
       "    .dataframe thead th {\n",
       "        text-align: right;\n",
       "    }\n",
       "</style>\n",
       "<table border=\"1\" class=\"dataframe\">\n",
       "  <thead>\n",
       "    <tr style=\"text-align: right;\">\n",
       "      <th></th>\n",
       "      <th>0</th>\n",
       "      <th>1</th>\n",
       "      <th>2</th>\n",
       "      <th>3</th>\n",
       "    </tr>\n",
       "  </thead>\n",
       "  <tbody>\n",
       "    <tr>\n",
       "      <th>0</th>\n",
       "      <td>-0.724007</td>\n",
       "      <td>-0.519628</td>\n",
       "      <td>-0.812785</td>\n",
       "      <td>-1.399110</td>\n",
       "    </tr>\n",
       "    <tr>\n",
       "      <th>1</th>\n",
       "      <td>1.139325</td>\n",
       "      <td>-0.998840</td>\n",
       "      <td>-0.977161</td>\n",
       "      <td>1.909013</td>\n",
       "    </tr>\n",
       "    <tr>\n",
       "      <th>2</th>\n",
       "      <td>0.835671</td>\n",
       "      <td>-0.879394</td>\n",
       "      <td>0.878888</td>\n",
       "      <td>0.618439</td>\n",
       "    </tr>\n",
       "    <tr>\n",
       "      <th>3</th>\n",
       "      <td>-0.371179</td>\n",
       "      <td>-0.506637</td>\n",
       "      <td>0.161615</td>\n",
       "      <td>1.684531</td>\n",
       "    </tr>\n",
       "    <tr>\n",
       "      <th>4</th>\n",
       "      <td>0.668355</td>\n",
       "      <td>0.011017</td>\n",
       "      <td>-1.085642</td>\n",
       "      <td>1.564787</td>\n",
       "    </tr>\n",
       "    <tr>\n",
       "      <th>5</th>\n",
       "      <td>-0.181447</td>\n",
       "      <td>0.098971</td>\n",
       "      <td>-0.015533</td>\n",
       "      <td>0.629612</td>\n",
       "    </tr>\n",
       "    <tr>\n",
       "      <th>6</th>\n",
       "      <td>-0.852985</td>\n",
       "      <td>0.771681</td>\n",
       "      <td>-0.260991</td>\n",
       "      <td>0.608421</td>\n",
       "    </tr>\n",
       "    <tr>\n",
       "      <th>7</th>\n",
       "      <td>-0.163464</td>\n",
       "      <td>0.826223</td>\n",
       "      <td>-1.347934</td>\n",
       "      <td>1.015013</td>\n",
       "    </tr>\n",
       "    <tr>\n",
       "      <th>8</th>\n",
       "      <td>-1.000513</td>\n",
       "      <td>-0.673336</td>\n",
       "      <td>0.484656</td>\n",
       "      <td>-1.079660</td>\n",
       "    </tr>\n",
       "    <tr>\n",
       "      <th>9</th>\n",
       "      <td>-0.328420</td>\n",
       "      <td>-1.610095</td>\n",
       "      <td>1.572312</td>\n",
       "      <td>-0.791073</td>\n",
       "    </tr>\n",
       "  </tbody>\n",
       "</table>\n",
       "</div>"
      ],
      "text/plain": [
       "          0         1         2         3\n",
       "0 -0.724007 -0.519628 -0.812785 -1.399110\n",
       "1  1.139325 -0.998840 -0.977161  1.909013\n",
       "2  0.835671 -0.879394  0.878888  0.618439\n",
       "3 -0.371179 -0.506637  0.161615  1.684531\n",
       "4  0.668355  0.011017 -1.085642  1.564787\n",
       "5 -0.181447  0.098971 -0.015533  0.629612\n",
       "6 -0.852985  0.771681 -0.260991  0.608421\n",
       "7 -0.163464  0.826223 -1.347934  1.015013\n",
       "8 -1.000513 -0.673336  0.484656 -1.079660\n",
       "9 -0.328420 -1.610095  1.572312 -0.791073"
      ]
     },
     "execution_count": 4,
     "metadata": {},
     "output_type": "execute_result"
    }
   ],
   "source": [
    "df"
   ]
  },
  {
   "cell_type": "code",
   "execution_count": 5,
   "id": "5c075372",
   "metadata": {},
   "outputs": [],
   "source": [
    "# разбиение df на части\n",
    "pieces = [df[:3], df[3:7], df[7:]]"
   ]
  },
  {
   "cell_type": "code",
   "execution_count": 6,
   "id": "a289f162",
   "metadata": {},
   "outputs": [
    {
     "data": {
      "text/plain": [
       "[          0         1         2         3\n",
       " 0 -0.724007 -0.519628 -0.812785 -1.399110\n",
       " 1  1.139325 -0.998840 -0.977161  1.909013\n",
       " 2  0.835671 -0.879394  0.878888  0.618439,\n",
       "           0         1         2         3\n",
       " 3 -0.371179 -0.506637  0.161615  1.684531\n",
       " 4  0.668355  0.011017 -1.085642  1.564787\n",
       " 5 -0.181447  0.098971 -0.015533  0.629612\n",
       " 6 -0.852985  0.771681 -0.260991  0.608421,\n",
       "           0         1         2         3\n",
       " 7 -0.163464  0.826223 -1.347934  1.015013\n",
       " 8 -1.000513 -0.673336  0.484656 -1.079660\n",
       " 9 -0.328420 -1.610095  1.572312 -0.791073]"
      ]
     },
     "execution_count": 6,
     "metadata": {},
     "output_type": "execute_result"
    }
   ],
   "source": [
    "pieces"
   ]
  },
  {
   "cell_type": "code",
   "execution_count": 7,
   "id": "acab41e7",
   "metadata": {},
   "outputs": [
    {
     "data": {
      "text/html": [
       "<div>\n",
       "<style scoped>\n",
       "    .dataframe tbody tr th:only-of-type {\n",
       "        vertical-align: middle;\n",
       "    }\n",
       "\n",
       "    .dataframe tbody tr th {\n",
       "        vertical-align: top;\n",
       "    }\n",
       "\n",
       "    .dataframe thead th {\n",
       "        text-align: right;\n",
       "    }\n",
       "</style>\n",
       "<table border=\"1\" class=\"dataframe\">\n",
       "  <thead>\n",
       "    <tr style=\"text-align: right;\">\n",
       "      <th></th>\n",
       "      <th>0</th>\n",
       "      <th>1</th>\n",
       "      <th>2</th>\n",
       "      <th>3</th>\n",
       "    </tr>\n",
       "  </thead>\n",
       "  <tbody>\n",
       "    <tr>\n",
       "      <th>0</th>\n",
       "      <td>-0.724007</td>\n",
       "      <td>-0.519628</td>\n",
       "      <td>-0.812785</td>\n",
       "      <td>-1.399110</td>\n",
       "    </tr>\n",
       "    <tr>\n",
       "      <th>1</th>\n",
       "      <td>1.139325</td>\n",
       "      <td>-0.998840</td>\n",
       "      <td>-0.977161</td>\n",
       "      <td>1.909013</td>\n",
       "    </tr>\n",
       "    <tr>\n",
       "      <th>2</th>\n",
       "      <td>0.835671</td>\n",
       "      <td>-0.879394</td>\n",
       "      <td>0.878888</td>\n",
       "      <td>0.618439</td>\n",
       "    </tr>\n",
       "    <tr>\n",
       "      <th>3</th>\n",
       "      <td>-0.371179</td>\n",
       "      <td>-0.506637</td>\n",
       "      <td>0.161615</td>\n",
       "      <td>1.684531</td>\n",
       "    </tr>\n",
       "    <tr>\n",
       "      <th>4</th>\n",
       "      <td>0.668355</td>\n",
       "      <td>0.011017</td>\n",
       "      <td>-1.085642</td>\n",
       "      <td>1.564787</td>\n",
       "    </tr>\n",
       "    <tr>\n",
       "      <th>5</th>\n",
       "      <td>-0.181447</td>\n",
       "      <td>0.098971</td>\n",
       "      <td>-0.015533</td>\n",
       "      <td>0.629612</td>\n",
       "    </tr>\n",
       "    <tr>\n",
       "      <th>6</th>\n",
       "      <td>-0.852985</td>\n",
       "      <td>0.771681</td>\n",
       "      <td>-0.260991</td>\n",
       "      <td>0.608421</td>\n",
       "    </tr>\n",
       "    <tr>\n",
       "      <th>7</th>\n",
       "      <td>-0.163464</td>\n",
       "      <td>0.826223</td>\n",
       "      <td>-1.347934</td>\n",
       "      <td>1.015013</td>\n",
       "    </tr>\n",
       "    <tr>\n",
       "      <th>8</th>\n",
       "      <td>-1.000513</td>\n",
       "      <td>-0.673336</td>\n",
       "      <td>0.484656</td>\n",
       "      <td>-1.079660</td>\n",
       "    </tr>\n",
       "    <tr>\n",
       "      <th>9</th>\n",
       "      <td>-0.328420</td>\n",
       "      <td>-1.610095</td>\n",
       "      <td>1.572312</td>\n",
       "      <td>-0.791073</td>\n",
       "    </tr>\n",
       "  </tbody>\n",
       "</table>\n",
       "</div>"
      ],
      "text/plain": [
       "          0         1         2         3\n",
       "0 -0.724007 -0.519628 -0.812785 -1.399110\n",
       "1  1.139325 -0.998840 -0.977161  1.909013\n",
       "2  0.835671 -0.879394  0.878888  0.618439\n",
       "3 -0.371179 -0.506637  0.161615  1.684531\n",
       "4  0.668355  0.011017 -1.085642  1.564787\n",
       "5 -0.181447  0.098971 -0.015533  0.629612\n",
       "6 -0.852985  0.771681 -0.260991  0.608421\n",
       "7 -0.163464  0.826223 -1.347934  1.015013\n",
       "8 -1.000513 -0.673336  0.484656 -1.079660\n",
       "9 -0.328420 -1.610095  1.572312 -0.791073"
      ]
     },
     "execution_count": 7,
     "metadata": {},
     "output_type": "execute_result"
    }
   ],
   "source": [
    "pd.concat(pieces)"
   ]
  },
  {
   "cell_type": "markdown",
   "id": "b5099135",
   "metadata": {},
   "source": [
    "---\n",
    ">Добавление столбца в [DataFrame](https://pandas.pydata.org/pandas-docs/stable/reference/api/pandas.DataFrame.html#pandas-dataframe) выполняется относительно быстро. Однако для добавления строки требуется копия, и эта операция может быть дорогой по времени и памяти. Рекомендуется передавать предварительно созданный список в конструктор DataFrame вместо создания DataFrame путем итеративного добавления к нему строк. Дополнительную информацию см. в разделе [Appending to dataframe](https://pandas.pydata.org/pandas-docs/stable/user_guide/merging.html#concatenating-using-append).\n",
    "\n",
    "---"
   ]
  },
  {
   "cell_type": "markdown",
   "id": "ead2aa1d",
   "metadata": {},
   "source": [
    "### Join\n",
    "---\n",
    "\n",
    "SQL стиль объединения"
   ]
  },
  {
   "cell_type": "code",
   "execution_count": 8,
   "id": "70b360a0",
   "metadata": {},
   "outputs": [],
   "source": [
    "left = pd.DataFrame({\"key\": [\"foo\", \"foo\"], \"lval\": [1, 2]})"
   ]
  },
  {
   "cell_type": "code",
   "execution_count": 9,
   "id": "c066622e",
   "metadata": {},
   "outputs": [],
   "source": [
    "right = pd.DataFrame({\"key\": [\"foo\", \"foo\"], \"rval\": [4, 5]})"
   ]
  },
  {
   "cell_type": "code",
   "execution_count": 10,
   "id": "bc877f1e",
   "metadata": {},
   "outputs": [
    {
     "data": {
      "text/html": [
       "<div>\n",
       "<style scoped>\n",
       "    .dataframe tbody tr th:only-of-type {\n",
       "        vertical-align: middle;\n",
       "    }\n",
       "\n",
       "    .dataframe tbody tr th {\n",
       "        vertical-align: top;\n",
       "    }\n",
       "\n",
       "    .dataframe thead th {\n",
       "        text-align: right;\n",
       "    }\n",
       "</style>\n",
       "<table border=\"1\" class=\"dataframe\">\n",
       "  <thead>\n",
       "    <tr style=\"text-align: right;\">\n",
       "      <th></th>\n",
       "      <th>key</th>\n",
       "      <th>lval</th>\n",
       "    </tr>\n",
       "  </thead>\n",
       "  <tbody>\n",
       "    <tr>\n",
       "      <th>0</th>\n",
       "      <td>foo</td>\n",
       "      <td>1</td>\n",
       "    </tr>\n",
       "    <tr>\n",
       "      <th>1</th>\n",
       "      <td>foo</td>\n",
       "      <td>2</td>\n",
       "    </tr>\n",
       "  </tbody>\n",
       "</table>\n",
       "</div>"
      ],
      "text/plain": [
       "   key  lval\n",
       "0  foo     1\n",
       "1  foo     2"
      ]
     },
     "execution_count": 10,
     "metadata": {},
     "output_type": "execute_result"
    }
   ],
   "source": [
    "left"
   ]
  },
  {
   "cell_type": "code",
   "execution_count": 11,
   "id": "b37f99dc",
   "metadata": {},
   "outputs": [
    {
     "data": {
      "text/html": [
       "<div>\n",
       "<style scoped>\n",
       "    .dataframe tbody tr th:only-of-type {\n",
       "        vertical-align: middle;\n",
       "    }\n",
       "\n",
       "    .dataframe tbody tr th {\n",
       "        vertical-align: top;\n",
       "    }\n",
       "\n",
       "    .dataframe thead th {\n",
       "        text-align: right;\n",
       "    }\n",
       "</style>\n",
       "<table border=\"1\" class=\"dataframe\">\n",
       "  <thead>\n",
       "    <tr style=\"text-align: right;\">\n",
       "      <th></th>\n",
       "      <th>key</th>\n",
       "      <th>rval</th>\n",
       "    </tr>\n",
       "  </thead>\n",
       "  <tbody>\n",
       "    <tr>\n",
       "      <th>0</th>\n",
       "      <td>foo</td>\n",
       "      <td>4</td>\n",
       "    </tr>\n",
       "    <tr>\n",
       "      <th>1</th>\n",
       "      <td>foo</td>\n",
       "      <td>5</td>\n",
       "    </tr>\n",
       "  </tbody>\n",
       "</table>\n",
       "</div>"
      ],
      "text/plain": [
       "   key  rval\n",
       "0  foo     4\n",
       "1  foo     5"
      ]
     },
     "execution_count": 11,
     "metadata": {},
     "output_type": "execute_result"
    }
   ],
   "source": [
    "right"
   ]
  },
  {
   "cell_type": "code",
   "execution_count": 12,
   "id": "12626c16",
   "metadata": {},
   "outputs": [
    {
     "data": {
      "text/html": [
       "<div>\n",
       "<style scoped>\n",
       "    .dataframe tbody tr th:only-of-type {\n",
       "        vertical-align: middle;\n",
       "    }\n",
       "\n",
       "    .dataframe tbody tr th {\n",
       "        vertical-align: top;\n",
       "    }\n",
       "\n",
       "    .dataframe thead th {\n",
       "        text-align: right;\n",
       "    }\n",
       "</style>\n",
       "<table border=\"1\" class=\"dataframe\">\n",
       "  <thead>\n",
       "    <tr style=\"text-align: right;\">\n",
       "      <th></th>\n",
       "      <th>key</th>\n",
       "      <th>lval</th>\n",
       "      <th>rval</th>\n",
       "    </tr>\n",
       "  </thead>\n",
       "  <tbody>\n",
       "    <tr>\n",
       "      <th>0</th>\n",
       "      <td>foo</td>\n",
       "      <td>1</td>\n",
       "      <td>4</td>\n",
       "    </tr>\n",
       "    <tr>\n",
       "      <th>1</th>\n",
       "      <td>foo</td>\n",
       "      <td>1</td>\n",
       "      <td>5</td>\n",
       "    </tr>\n",
       "    <tr>\n",
       "      <th>2</th>\n",
       "      <td>foo</td>\n",
       "      <td>2</td>\n",
       "      <td>4</td>\n",
       "    </tr>\n",
       "    <tr>\n",
       "      <th>3</th>\n",
       "      <td>foo</td>\n",
       "      <td>2</td>\n",
       "      <td>5</td>\n",
       "    </tr>\n",
       "  </tbody>\n",
       "</table>\n",
       "</div>"
      ],
      "text/plain": [
       "   key  lval  rval\n",
       "0  foo     1     4\n",
       "1  foo     1     5\n",
       "2  foo     2     4\n",
       "3  foo     2     5"
      ]
     },
     "execution_count": 12,
     "metadata": {},
     "output_type": "execute_result"
    }
   ],
   "source": [
    "pd.merge(left, right, on=\"key\")"
   ]
  },
  {
   "cell_type": "markdown",
   "id": "fbddeb93",
   "metadata": {},
   "source": [
    "---\n",
    "Ещё один пример:"
   ]
  },
  {
   "cell_type": "code",
   "execution_count": 23,
   "id": "01761930",
   "metadata": {},
   "outputs": [],
   "source": [
    "left = pd.DataFrame({\"key\": [\"foo\", \"bar\"], \"lval\": [1, 2]})"
   ]
  },
  {
   "cell_type": "code",
   "execution_count": 24,
   "id": "9d6311d8",
   "metadata": {},
   "outputs": [],
   "source": [
    "right = pd.DataFrame({\"key\": [\"foo\", \"bar\"], \"rval\": [4, 5]})"
   ]
  },
  {
   "cell_type": "code",
   "execution_count": 25,
   "id": "866660f6",
   "metadata": {},
   "outputs": [
    {
     "data": {
      "text/html": [
       "<div>\n",
       "<style scoped>\n",
       "    .dataframe tbody tr th:only-of-type {\n",
       "        vertical-align: middle;\n",
       "    }\n",
       "\n",
       "    .dataframe tbody tr th {\n",
       "        vertical-align: top;\n",
       "    }\n",
       "\n",
       "    .dataframe thead th {\n",
       "        text-align: right;\n",
       "    }\n",
       "</style>\n",
       "<table border=\"1\" class=\"dataframe\">\n",
       "  <thead>\n",
       "    <tr style=\"text-align: right;\">\n",
       "      <th></th>\n",
       "      <th>key</th>\n",
       "      <th>lval</th>\n",
       "    </tr>\n",
       "  </thead>\n",
       "  <tbody>\n",
       "    <tr>\n",
       "      <th>0</th>\n",
       "      <td>foo</td>\n",
       "      <td>1</td>\n",
       "    </tr>\n",
       "    <tr>\n",
       "      <th>1</th>\n",
       "      <td>bar</td>\n",
       "      <td>2</td>\n",
       "    </tr>\n",
       "  </tbody>\n",
       "</table>\n",
       "</div>"
      ],
      "text/plain": [
       "   key  lval\n",
       "0  foo     1\n",
       "1  bar     2"
      ]
     },
     "execution_count": 25,
     "metadata": {},
     "output_type": "execute_result"
    }
   ],
   "source": [
    "left"
   ]
  },
  {
   "cell_type": "code",
   "execution_count": 26,
   "id": "1f940d2d",
   "metadata": {},
   "outputs": [
    {
     "data": {
      "text/html": [
       "<div>\n",
       "<style scoped>\n",
       "    .dataframe tbody tr th:only-of-type {\n",
       "        vertical-align: middle;\n",
       "    }\n",
       "\n",
       "    .dataframe tbody tr th {\n",
       "        vertical-align: top;\n",
       "    }\n",
       "\n",
       "    .dataframe thead th {\n",
       "        text-align: right;\n",
       "    }\n",
       "</style>\n",
       "<table border=\"1\" class=\"dataframe\">\n",
       "  <thead>\n",
       "    <tr style=\"text-align: right;\">\n",
       "      <th></th>\n",
       "      <th>key</th>\n",
       "      <th>rval</th>\n",
       "    </tr>\n",
       "  </thead>\n",
       "  <tbody>\n",
       "    <tr>\n",
       "      <th>0</th>\n",
       "      <td>foo</td>\n",
       "      <td>4</td>\n",
       "    </tr>\n",
       "    <tr>\n",
       "      <th>1</th>\n",
       "      <td>bar</td>\n",
       "      <td>5</td>\n",
       "    </tr>\n",
       "  </tbody>\n",
       "</table>\n",
       "</div>"
      ],
      "text/plain": [
       "   key  rval\n",
       "0  foo     4\n",
       "1  bar     5"
      ]
     },
     "execution_count": 26,
     "metadata": {},
     "output_type": "execute_result"
    }
   ],
   "source": [
    "right"
   ]
  },
  {
   "cell_type": "code",
   "execution_count": 29,
   "id": "b23c551a",
   "metadata": {},
   "outputs": [
    {
     "data": {
      "text/html": [
       "<div>\n",
       "<style scoped>\n",
       "    .dataframe tbody tr th:only-of-type {\n",
       "        vertical-align: middle;\n",
       "    }\n",
       "\n",
       "    .dataframe tbody tr th {\n",
       "        vertical-align: top;\n",
       "    }\n",
       "\n",
       "    .dataframe thead th {\n",
       "        text-align: right;\n",
       "    }\n",
       "</style>\n",
       "<table border=\"1\" class=\"dataframe\">\n",
       "  <thead>\n",
       "    <tr style=\"text-align: right;\">\n",
       "      <th></th>\n",
       "      <th>key</th>\n",
       "      <th>lval</th>\n",
       "      <th>rval</th>\n",
       "    </tr>\n",
       "  </thead>\n",
       "  <tbody>\n",
       "    <tr>\n",
       "      <th>0</th>\n",
       "      <td>foo</td>\n",
       "      <td>1</td>\n",
       "      <td>4</td>\n",
       "    </tr>\n",
       "    <tr>\n",
       "      <th>1</th>\n",
       "      <td>bar</td>\n",
       "      <td>2</td>\n",
       "      <td>5</td>\n",
       "    </tr>\n",
       "  </tbody>\n",
       "</table>\n",
       "</div>"
      ],
      "text/plain": [
       "   key  lval  rval\n",
       "0  foo     1     4\n",
       "1  bar     2     5"
      ]
     },
     "execution_count": 29,
     "metadata": {},
     "output_type": "execute_result"
    }
   ],
   "source": [
    "pd.merge(left, right, on=\"key\")"
   ]
  },
  {
   "cell_type": "markdown",
   "id": "10451da0",
   "metadata": {},
   "source": [
    "---\n",
    ">Подробнее см. [Database style joining](https://pandas.pydata.org/pandas-docs/stable/user_guide/merging.html#database-style-dataframe-or-named-series-joining-merging)\n",
    "\n",
    "---"
   ]
  },
  {
   "cell_type": "markdown",
   "id": "85d33aaf",
   "metadata": {},
   "source": [
    "### Grouping\n",
    "---\n",
    "\n",
    "Под «группировкой по» подразумевается процесс, включающий один или несколько из следующих шагов:\n",
    "\n",
    "* Разделение данных на группы по некоторым критериям\n",
    "\n",
    "* Независимое применение функции к каждой группе\n",
    "\n",
    "* Объединение результатов в структуру данных"
   ]
  },
  {
   "cell_type": "code",
   "execution_count": 40,
   "id": "251c80b1",
   "metadata": {},
   "outputs": [],
   "source": [
    "df = pd.DataFrame(\n",
    "    {\n",
    "        \"A\": [\"foo\", \"bar\", \"foo\", \"bar\", \"foo\", \"bar\", \"foo\", \"egg\"],\n",
    "        \"B\": [\"one\", \"one\", \"two\", \"three\", \"two\", \"two\", \"one\", \"three\"],\n",
    "        \"C\": np.random.randn(8),\n",
    "        \"D\": np.random.randn(8),\n",
    "    }\n",
    ")"
   ]
  },
  {
   "cell_type": "code",
   "execution_count": 41,
   "id": "2c3de299",
   "metadata": {},
   "outputs": [
    {
     "data": {
      "text/html": [
       "<div>\n",
       "<style scoped>\n",
       "    .dataframe tbody tr th:only-of-type {\n",
       "        vertical-align: middle;\n",
       "    }\n",
       "\n",
       "    .dataframe tbody tr th {\n",
       "        vertical-align: top;\n",
       "    }\n",
       "\n",
       "    .dataframe thead th {\n",
       "        text-align: right;\n",
       "    }\n",
       "</style>\n",
       "<table border=\"1\" class=\"dataframe\">\n",
       "  <thead>\n",
       "    <tr style=\"text-align: right;\">\n",
       "      <th></th>\n",
       "      <th>A</th>\n",
       "      <th>B</th>\n",
       "      <th>C</th>\n",
       "      <th>D</th>\n",
       "    </tr>\n",
       "  </thead>\n",
       "  <tbody>\n",
       "    <tr>\n",
       "      <th>0</th>\n",
       "      <td>foo</td>\n",
       "      <td>one</td>\n",
       "      <td>0.262416</td>\n",
       "      <td>-0.061747</td>\n",
       "    </tr>\n",
       "    <tr>\n",
       "      <th>1</th>\n",
       "      <td>bar</td>\n",
       "      <td>one</td>\n",
       "      <td>-1.445088</td>\n",
       "      <td>-0.122259</td>\n",
       "    </tr>\n",
       "    <tr>\n",
       "      <th>2</th>\n",
       "      <td>foo</td>\n",
       "      <td>two</td>\n",
       "      <td>0.948183</td>\n",
       "      <td>-1.974310</td>\n",
       "    </tr>\n",
       "    <tr>\n",
       "      <th>3</th>\n",
       "      <td>bar</td>\n",
       "      <td>three</td>\n",
       "      <td>-1.186090</td>\n",
       "      <td>0.046279</td>\n",
       "    </tr>\n",
       "    <tr>\n",
       "      <th>4</th>\n",
       "      <td>foo</td>\n",
       "      <td>two</td>\n",
       "      <td>-0.780385</td>\n",
       "      <td>0.346648</td>\n",
       "    </tr>\n",
       "    <tr>\n",
       "      <th>5</th>\n",
       "      <td>bar</td>\n",
       "      <td>two</td>\n",
       "      <td>-0.591186</td>\n",
       "      <td>-1.454223</td>\n",
       "    </tr>\n",
       "    <tr>\n",
       "      <th>6</th>\n",
       "      <td>foo</td>\n",
       "      <td>one</td>\n",
       "      <td>2.234441</td>\n",
       "      <td>0.386148</td>\n",
       "    </tr>\n",
       "    <tr>\n",
       "      <th>7</th>\n",
       "      <td>egg</td>\n",
       "      <td>three</td>\n",
       "      <td>-0.648718</td>\n",
       "      <td>-0.528632</td>\n",
       "    </tr>\n",
       "  </tbody>\n",
       "</table>\n",
       "</div>"
      ],
      "text/plain": [
       "     A      B         C         D\n",
       "0  foo    one  0.262416 -0.061747\n",
       "1  bar    one -1.445088 -0.122259\n",
       "2  foo    two  0.948183 -1.974310\n",
       "3  bar  three -1.186090  0.046279\n",
       "4  foo    two -0.780385  0.346648\n",
       "5  bar    two -0.591186 -1.454223\n",
       "6  foo    one  2.234441  0.386148\n",
       "7  egg  three -0.648718 -0.528632"
      ]
     },
     "execution_count": 41,
     "metadata": {},
     "output_type": "execute_result"
    }
   ],
   "source": [
    "df"
   ]
  },
  {
   "cell_type": "markdown",
   "id": "883a41f1",
   "metadata": {},
   "source": [
    "---\n",
    "Группировка, а затем применение функции [sum()](https://pandas.pydata.org/pandas-docs/stable/reference/api/pandas.core.groupby.GroupBy.sum.html#pandas.core.groupby.GroupBy.sum) к полученным группам."
   ]
  },
  {
   "cell_type": "code",
   "execution_count": 42,
   "id": "313c938d",
   "metadata": {
    "scrolled": true
   },
   "outputs": [
    {
     "data": {
      "text/html": [
       "<div>\n",
       "<style scoped>\n",
       "    .dataframe tbody tr th:only-of-type {\n",
       "        vertical-align: middle;\n",
       "    }\n",
       "\n",
       "    .dataframe tbody tr th {\n",
       "        vertical-align: top;\n",
       "    }\n",
       "\n",
       "    .dataframe thead th {\n",
       "        text-align: right;\n",
       "    }\n",
       "</style>\n",
       "<table border=\"1\" class=\"dataframe\">\n",
       "  <thead>\n",
       "    <tr style=\"text-align: right;\">\n",
       "      <th></th>\n",
       "      <th>C</th>\n",
       "      <th>D</th>\n",
       "    </tr>\n",
       "    <tr>\n",
       "      <th>A</th>\n",
       "      <th></th>\n",
       "      <th></th>\n",
       "    </tr>\n",
       "  </thead>\n",
       "  <tbody>\n",
       "    <tr>\n",
       "      <th>bar</th>\n",
       "      <td>-3.222365</td>\n",
       "      <td>-1.530204</td>\n",
       "    </tr>\n",
       "    <tr>\n",
       "      <th>egg</th>\n",
       "      <td>-0.648718</td>\n",
       "      <td>-0.528632</td>\n",
       "    </tr>\n",
       "    <tr>\n",
       "      <th>foo</th>\n",
       "      <td>2.664655</td>\n",
       "      <td>-1.303262</td>\n",
       "    </tr>\n",
       "  </tbody>\n",
       "</table>\n",
       "</div>"
      ],
      "text/plain": [
       "            C         D\n",
       "A                      \n",
       "bar -3.222365 -1.530204\n",
       "egg -0.648718 -0.528632\n",
       "foo  2.664655 -1.303262"
      ]
     },
     "execution_count": 42,
     "metadata": {},
     "output_type": "execute_result"
    }
   ],
   "source": [
    "df.groupby(\"A\").sum()"
   ]
  },
  {
   "cell_type": "markdown",
   "id": "11b5a104",
   "metadata": {},
   "source": [
    "---\n",
    "Группировка по нескольким столбцам образует мультииндекс, и мы можем применить функцию [sum()](https://pandas.pydata.org/pandas-docs/stable/reference/api/pandas.core.groupby.GroupBy.sum.html#pandas.core.groupby.GroupBy.sum)."
   ]
  },
  {
   "cell_type": "code",
   "execution_count": 43,
   "id": "8611a512",
   "metadata": {},
   "outputs": [
    {
     "data": {
      "text/html": [
       "<div>\n",
       "<style scoped>\n",
       "    .dataframe tbody tr th:only-of-type {\n",
       "        vertical-align: middle;\n",
       "    }\n",
       "\n",
       "    .dataframe tbody tr th {\n",
       "        vertical-align: top;\n",
       "    }\n",
       "\n",
       "    .dataframe thead th {\n",
       "        text-align: right;\n",
       "    }\n",
       "</style>\n",
       "<table border=\"1\" class=\"dataframe\">\n",
       "  <thead>\n",
       "    <tr style=\"text-align: right;\">\n",
       "      <th></th>\n",
       "      <th></th>\n",
       "      <th>C</th>\n",
       "      <th>D</th>\n",
       "    </tr>\n",
       "    <tr>\n",
       "      <th>A</th>\n",
       "      <th>B</th>\n",
       "      <th></th>\n",
       "      <th></th>\n",
       "    </tr>\n",
       "  </thead>\n",
       "  <tbody>\n",
       "    <tr>\n",
       "      <th rowspan=\"3\" valign=\"top\">bar</th>\n",
       "      <th>one</th>\n",
       "      <td>-1.445088</td>\n",
       "      <td>-0.122259</td>\n",
       "    </tr>\n",
       "    <tr>\n",
       "      <th>three</th>\n",
       "      <td>-1.186090</td>\n",
       "      <td>0.046279</td>\n",
       "    </tr>\n",
       "    <tr>\n",
       "      <th>two</th>\n",
       "      <td>-0.591186</td>\n",
       "      <td>-1.454223</td>\n",
       "    </tr>\n",
       "    <tr>\n",
       "      <th>egg</th>\n",
       "      <th>three</th>\n",
       "      <td>-0.648718</td>\n",
       "      <td>-0.528632</td>\n",
       "    </tr>\n",
       "    <tr>\n",
       "      <th rowspan=\"2\" valign=\"top\">foo</th>\n",
       "      <th>one</th>\n",
       "      <td>2.496857</td>\n",
       "      <td>0.324400</td>\n",
       "    </tr>\n",
       "    <tr>\n",
       "      <th>two</th>\n",
       "      <td>0.167798</td>\n",
       "      <td>-1.627662</td>\n",
       "    </tr>\n",
       "  </tbody>\n",
       "</table>\n",
       "</div>"
      ],
      "text/plain": [
       "                  C         D\n",
       "A   B                        \n",
       "bar one   -1.445088 -0.122259\n",
       "    three -1.186090  0.046279\n",
       "    two   -0.591186 -1.454223\n",
       "egg three -0.648718 -0.528632\n",
       "foo one    2.496857  0.324400\n",
       "    two    0.167798 -1.627662"
      ]
     },
     "execution_count": 43,
     "metadata": {},
     "output_type": "execute_result"
    }
   ],
   "source": [
    "df.groupby([\"A\", \"B\"]).sum()"
   ]
  },
  {
   "cell_type": "markdown",
   "id": "4a41b2e6",
   "metadata": {},
   "source": [
    "---\n",
    ">Подробнее см. [Grouping section](https://pandas.pydata.org/pandas-docs/stable/user_guide/groupby.html#group-by-split-apply-combine)\n",
    "\n",
    "---"
   ]
  },
  {
   "cell_type": "markdown",
   "id": "279b0961",
   "metadata": {},
   "source": [
    "## Изменение формы\n",
    "---"
   ]
  },
  {
   "cell_type": "code",
   "execution_count": 65,
   "id": "d2ad225b",
   "metadata": {},
   "outputs": [],
   "source": [
    "import pandas as pd"
   ]
  },
  {
   "cell_type": "markdown",
   "id": "fcc142fc",
   "metadata": {},
   "source": [
    "### Stack\n",
    "---"
   ]
  },
  {
   "cell_type": "code",
   "execution_count": 47,
   "id": "6f4c8322",
   "metadata": {},
   "outputs": [],
   "source": [
    "tuples = list(\n",
    "    zip(\n",
    "        *[\n",
    "            [\"bar\", \"bar\", \"baz\", \"baz\", \"foo\", \"foo\", \"qux\", \"qux\"],\n",
    "            [\"one\", \"two\", \"one\", \"two\", \"one\", \"two\", \"one\", \"two\"],\n",
    "        ]\n",
    "    )\n",
    ")"
   ]
  },
  {
   "cell_type": "code",
   "execution_count": 48,
   "id": "514466bd",
   "metadata": {},
   "outputs": [
    {
     "data": {
      "text/plain": [
       "[('bar', 'one'),\n",
       " ('bar', 'two'),\n",
       " ('baz', 'one'),\n",
       " ('baz', 'two'),\n",
       " ('foo', 'one'),\n",
       " ('foo', 'two'),\n",
       " ('qux', 'one'),\n",
       " ('qux', 'two')]"
      ]
     },
     "execution_count": 48,
     "metadata": {},
     "output_type": "execute_result"
    }
   ],
   "source": [
    "tuples"
   ]
  },
  {
   "cell_type": "code",
   "execution_count": 49,
   "id": "7e91b7a3",
   "metadata": {},
   "outputs": [],
   "source": [
    "index = pd.MultiIndex.from_tuples(tuples, names=[\"first\", \"second\"])"
   ]
  },
  {
   "cell_type": "code",
   "execution_count": 50,
   "id": "33766aff",
   "metadata": {},
   "outputs": [
    {
     "data": {
      "text/plain": [
       "MultiIndex([('bar', 'one'),\n",
       "            ('bar', 'two'),\n",
       "            ('baz', 'one'),\n",
       "            ('baz', 'two'),\n",
       "            ('foo', 'one'),\n",
       "            ('foo', 'two'),\n",
       "            ('qux', 'one'),\n",
       "            ('qux', 'two')],\n",
       "           names=['first', 'second'])"
      ]
     },
     "execution_count": 50,
     "metadata": {},
     "output_type": "execute_result"
    }
   ],
   "source": [
    "index"
   ]
  },
  {
   "cell_type": "code",
   "execution_count": 51,
   "id": "68e0e1c1",
   "metadata": {},
   "outputs": [],
   "source": [
    "df = pd.DataFrame(np.random.randn(8, 2), index=index, columns=[\"A\", \"B\"])"
   ]
  },
  {
   "cell_type": "code",
   "execution_count": 52,
   "id": "c5b5c4d5",
   "metadata": {},
   "outputs": [
    {
     "data": {
      "text/html": [
       "<div>\n",
       "<style scoped>\n",
       "    .dataframe tbody tr th:only-of-type {\n",
       "        vertical-align: middle;\n",
       "    }\n",
       "\n",
       "    .dataframe tbody tr th {\n",
       "        vertical-align: top;\n",
       "    }\n",
       "\n",
       "    .dataframe thead th {\n",
       "        text-align: right;\n",
       "    }\n",
       "</style>\n",
       "<table border=\"1\" class=\"dataframe\">\n",
       "  <thead>\n",
       "    <tr style=\"text-align: right;\">\n",
       "      <th></th>\n",
       "      <th></th>\n",
       "      <th>A</th>\n",
       "      <th>B</th>\n",
       "    </tr>\n",
       "    <tr>\n",
       "      <th>first</th>\n",
       "      <th>second</th>\n",
       "      <th></th>\n",
       "      <th></th>\n",
       "    </tr>\n",
       "  </thead>\n",
       "  <tbody>\n",
       "    <tr>\n",
       "      <th rowspan=\"2\" valign=\"top\">bar</th>\n",
       "      <th>one</th>\n",
       "      <td>-1.286855</td>\n",
       "      <td>1.368178</td>\n",
       "    </tr>\n",
       "    <tr>\n",
       "      <th>two</th>\n",
       "      <td>0.614731</td>\n",
       "      <td>-0.556479</td>\n",
       "    </tr>\n",
       "    <tr>\n",
       "      <th rowspan=\"2\" valign=\"top\">baz</th>\n",
       "      <th>one</th>\n",
       "      <td>-0.261217</td>\n",
       "      <td>0.008650</td>\n",
       "    </tr>\n",
       "    <tr>\n",
       "      <th>two</th>\n",
       "      <td>1.149283</td>\n",
       "      <td>2.011324</td>\n",
       "    </tr>\n",
       "    <tr>\n",
       "      <th rowspan=\"2\" valign=\"top\">foo</th>\n",
       "      <th>one</th>\n",
       "      <td>0.969675</td>\n",
       "      <td>-1.063819</td>\n",
       "    </tr>\n",
       "    <tr>\n",
       "      <th>two</th>\n",
       "      <td>0.782814</td>\n",
       "      <td>0.946447</td>\n",
       "    </tr>\n",
       "    <tr>\n",
       "      <th rowspan=\"2\" valign=\"top\">qux</th>\n",
       "      <th>one</th>\n",
       "      <td>-0.205439</td>\n",
       "      <td>-0.466576</td>\n",
       "    </tr>\n",
       "    <tr>\n",
       "      <th>two</th>\n",
       "      <td>2.321981</td>\n",
       "      <td>-0.982052</td>\n",
       "    </tr>\n",
       "  </tbody>\n",
       "</table>\n",
       "</div>"
      ],
      "text/plain": [
       "                     A         B\n",
       "first second                    \n",
       "bar   one    -1.286855  1.368178\n",
       "      two     0.614731 -0.556479\n",
       "baz   one    -0.261217  0.008650\n",
       "      two     1.149283  2.011324\n",
       "foo   one     0.969675 -1.063819\n",
       "      two     0.782814  0.946447\n",
       "qux   one    -0.205439 -0.466576\n",
       "      two     2.321981 -0.982052"
      ]
     },
     "execution_count": 52,
     "metadata": {},
     "output_type": "execute_result"
    }
   ],
   "source": [
    "df"
   ]
  },
  {
   "cell_type": "code",
   "execution_count": 53,
   "id": "62747dd7",
   "metadata": {},
   "outputs": [],
   "source": [
    "df2 = df[:4]"
   ]
  },
  {
   "cell_type": "code",
   "execution_count": 54,
   "id": "dc3a3223",
   "metadata": {},
   "outputs": [
    {
     "data": {
      "text/html": [
       "<div>\n",
       "<style scoped>\n",
       "    .dataframe tbody tr th:only-of-type {\n",
       "        vertical-align: middle;\n",
       "    }\n",
       "\n",
       "    .dataframe tbody tr th {\n",
       "        vertical-align: top;\n",
       "    }\n",
       "\n",
       "    .dataframe thead th {\n",
       "        text-align: right;\n",
       "    }\n",
       "</style>\n",
       "<table border=\"1\" class=\"dataframe\">\n",
       "  <thead>\n",
       "    <tr style=\"text-align: right;\">\n",
       "      <th></th>\n",
       "      <th></th>\n",
       "      <th>A</th>\n",
       "      <th>B</th>\n",
       "    </tr>\n",
       "    <tr>\n",
       "      <th>first</th>\n",
       "      <th>second</th>\n",
       "      <th></th>\n",
       "      <th></th>\n",
       "    </tr>\n",
       "  </thead>\n",
       "  <tbody>\n",
       "    <tr>\n",
       "      <th rowspan=\"2\" valign=\"top\">bar</th>\n",
       "      <th>one</th>\n",
       "      <td>-1.286855</td>\n",
       "      <td>1.368178</td>\n",
       "    </tr>\n",
       "    <tr>\n",
       "      <th>two</th>\n",
       "      <td>0.614731</td>\n",
       "      <td>-0.556479</td>\n",
       "    </tr>\n",
       "    <tr>\n",
       "      <th rowspan=\"2\" valign=\"top\">baz</th>\n",
       "      <th>one</th>\n",
       "      <td>-0.261217</td>\n",
       "      <td>0.008650</td>\n",
       "    </tr>\n",
       "    <tr>\n",
       "      <th>two</th>\n",
       "      <td>1.149283</td>\n",
       "      <td>2.011324</td>\n",
       "    </tr>\n",
       "  </tbody>\n",
       "</table>\n",
       "</div>"
      ],
      "text/plain": [
       "                     A         B\n",
       "first second                    \n",
       "bar   one    -1.286855  1.368178\n",
       "      two     0.614731 -0.556479\n",
       "baz   one    -0.261217  0.008650\n",
       "      two     1.149283  2.011324"
      ]
     },
     "execution_count": 54,
     "metadata": {},
     "output_type": "execute_result"
    }
   ],
   "source": [
    "df2"
   ]
  },
  {
   "cell_type": "markdown",
   "id": "8b3aa2dc",
   "metadata": {},
   "source": [
    "---\n",
    "Метод [stack()](https://pandas.pydata.org/pandas-docs/stable/reference/api/pandas.DataFrame.stack.html#pandas-dataframe-stack) «сжимает» уровень в столбцах DataFrame."
   ]
  },
  {
   "cell_type": "code",
   "execution_count": 55,
   "id": "d8d94365",
   "metadata": {},
   "outputs": [],
   "source": [
    "stacked = df2.stack()"
   ]
  },
  {
   "cell_type": "code",
   "execution_count": 56,
   "id": "54fde103",
   "metadata": {},
   "outputs": [
    {
     "data": {
      "text/plain": [
       "first  second   \n",
       "bar    one     A   -1.286855\n",
       "               B    1.368178\n",
       "       two     A    0.614731\n",
       "               B   -0.556479\n",
       "baz    one     A   -0.261217\n",
       "               B    0.008650\n",
       "       two     A    1.149283\n",
       "               B    2.011324\n",
       "dtype: float64"
      ]
     },
     "execution_count": 56,
     "metadata": {},
     "output_type": "execute_result"
    }
   ],
   "source": [
    "stacked"
   ]
  },
  {
   "cell_type": "markdown",
   "id": "8a1e9db3",
   "metadata": {},
   "source": [
    "---\n",
    "С «сложенными» DataFrame или Series (имеющими MultiIndex в качестве индекса) обратная операция [unstack()](https://pandas.pydata.org/pandas-docs/stable/reference/api/pandas.DataFrame.unstack.html#pandas.DataFrame.unstack), которая по умолчанию распаковывает последний уровень:"
   ]
  },
  {
   "cell_type": "code",
   "execution_count": 57,
   "id": "f3470384",
   "metadata": {},
   "outputs": [
    {
     "data": {
      "text/html": [
       "<div>\n",
       "<style scoped>\n",
       "    .dataframe tbody tr th:only-of-type {\n",
       "        vertical-align: middle;\n",
       "    }\n",
       "\n",
       "    .dataframe tbody tr th {\n",
       "        vertical-align: top;\n",
       "    }\n",
       "\n",
       "    .dataframe thead th {\n",
       "        text-align: right;\n",
       "    }\n",
       "</style>\n",
       "<table border=\"1\" class=\"dataframe\">\n",
       "  <thead>\n",
       "    <tr style=\"text-align: right;\">\n",
       "      <th></th>\n",
       "      <th></th>\n",
       "      <th>A</th>\n",
       "      <th>B</th>\n",
       "    </tr>\n",
       "    <tr>\n",
       "      <th>first</th>\n",
       "      <th>second</th>\n",
       "      <th></th>\n",
       "      <th></th>\n",
       "    </tr>\n",
       "  </thead>\n",
       "  <tbody>\n",
       "    <tr>\n",
       "      <th rowspan=\"2\" valign=\"top\">bar</th>\n",
       "      <th>one</th>\n",
       "      <td>-1.286855</td>\n",
       "      <td>1.368178</td>\n",
       "    </tr>\n",
       "    <tr>\n",
       "      <th>two</th>\n",
       "      <td>0.614731</td>\n",
       "      <td>-0.556479</td>\n",
       "    </tr>\n",
       "    <tr>\n",
       "      <th rowspan=\"2\" valign=\"top\">baz</th>\n",
       "      <th>one</th>\n",
       "      <td>-0.261217</td>\n",
       "      <td>0.008650</td>\n",
       "    </tr>\n",
       "    <tr>\n",
       "      <th>two</th>\n",
       "      <td>1.149283</td>\n",
       "      <td>2.011324</td>\n",
       "    </tr>\n",
       "  </tbody>\n",
       "</table>\n",
       "</div>"
      ],
      "text/plain": [
       "                     A         B\n",
       "first second                    \n",
       "bar   one    -1.286855  1.368178\n",
       "      two     0.614731 -0.556479\n",
       "baz   one    -0.261217  0.008650\n",
       "      two     1.149283  2.011324"
      ]
     },
     "execution_count": 57,
     "metadata": {},
     "output_type": "execute_result"
    }
   ],
   "source": [
    "stacked.unstack()"
   ]
  },
  {
   "cell_type": "code",
   "execution_count": 58,
   "id": "4aa2d462",
   "metadata": {},
   "outputs": [
    {
     "data": {
      "text/html": [
       "<div>\n",
       "<style scoped>\n",
       "    .dataframe tbody tr th:only-of-type {\n",
       "        vertical-align: middle;\n",
       "    }\n",
       "\n",
       "    .dataframe tbody tr th {\n",
       "        vertical-align: top;\n",
       "    }\n",
       "\n",
       "    .dataframe thead th {\n",
       "        text-align: right;\n",
       "    }\n",
       "</style>\n",
       "<table border=\"1\" class=\"dataframe\">\n",
       "  <thead>\n",
       "    <tr style=\"text-align: right;\">\n",
       "      <th></th>\n",
       "      <th>second</th>\n",
       "      <th>one</th>\n",
       "      <th>two</th>\n",
       "    </tr>\n",
       "    <tr>\n",
       "      <th>first</th>\n",
       "      <th></th>\n",
       "      <th></th>\n",
       "      <th></th>\n",
       "    </tr>\n",
       "  </thead>\n",
       "  <tbody>\n",
       "    <tr>\n",
       "      <th rowspan=\"2\" valign=\"top\">bar</th>\n",
       "      <th>A</th>\n",
       "      <td>-1.286855</td>\n",
       "      <td>0.614731</td>\n",
       "    </tr>\n",
       "    <tr>\n",
       "      <th>B</th>\n",
       "      <td>1.368178</td>\n",
       "      <td>-0.556479</td>\n",
       "    </tr>\n",
       "    <tr>\n",
       "      <th rowspan=\"2\" valign=\"top\">baz</th>\n",
       "      <th>A</th>\n",
       "      <td>-0.261217</td>\n",
       "      <td>1.149283</td>\n",
       "    </tr>\n",
       "    <tr>\n",
       "      <th>B</th>\n",
       "      <td>0.008650</td>\n",
       "      <td>2.011324</td>\n",
       "    </tr>\n",
       "  </tbody>\n",
       "</table>\n",
       "</div>"
      ],
      "text/plain": [
       "second        one       two\n",
       "first                      \n",
       "bar   A -1.286855  0.614731\n",
       "      B  1.368178 -0.556479\n",
       "baz   A -0.261217  1.149283\n",
       "      B  0.008650  2.011324"
      ]
     },
     "execution_count": 58,
     "metadata": {},
     "output_type": "execute_result"
    }
   ],
   "source": [
    "stacked.unstack(1)"
   ]
  },
  {
   "cell_type": "code",
   "execution_count": 59,
   "id": "a2bd48b7",
   "metadata": {},
   "outputs": [
    {
     "data": {
      "text/html": [
       "<div>\n",
       "<style scoped>\n",
       "    .dataframe tbody tr th:only-of-type {\n",
       "        vertical-align: middle;\n",
       "    }\n",
       "\n",
       "    .dataframe tbody tr th {\n",
       "        vertical-align: top;\n",
       "    }\n",
       "\n",
       "    .dataframe thead th {\n",
       "        text-align: right;\n",
       "    }\n",
       "</style>\n",
       "<table border=\"1\" class=\"dataframe\">\n",
       "  <thead>\n",
       "    <tr style=\"text-align: right;\">\n",
       "      <th></th>\n",
       "      <th>first</th>\n",
       "      <th>bar</th>\n",
       "      <th>baz</th>\n",
       "    </tr>\n",
       "    <tr>\n",
       "      <th>second</th>\n",
       "      <th></th>\n",
       "      <th></th>\n",
       "      <th></th>\n",
       "    </tr>\n",
       "  </thead>\n",
       "  <tbody>\n",
       "    <tr>\n",
       "      <th rowspan=\"2\" valign=\"top\">one</th>\n",
       "      <th>A</th>\n",
       "      <td>-1.286855</td>\n",
       "      <td>-0.261217</td>\n",
       "    </tr>\n",
       "    <tr>\n",
       "      <th>B</th>\n",
       "      <td>1.368178</td>\n",
       "      <td>0.008650</td>\n",
       "    </tr>\n",
       "    <tr>\n",
       "      <th rowspan=\"2\" valign=\"top\">two</th>\n",
       "      <th>A</th>\n",
       "      <td>0.614731</td>\n",
       "      <td>1.149283</td>\n",
       "    </tr>\n",
       "    <tr>\n",
       "      <th>B</th>\n",
       "      <td>-0.556479</td>\n",
       "      <td>2.011324</td>\n",
       "    </tr>\n",
       "  </tbody>\n",
       "</table>\n",
       "</div>"
      ],
      "text/plain": [
       "first          bar       baz\n",
       "second                      \n",
       "one    A -1.286855 -0.261217\n",
       "       B  1.368178  0.008650\n",
       "two    A  0.614731  1.149283\n",
       "       B -0.556479  2.011324"
      ]
     },
     "execution_count": 59,
     "metadata": {},
     "output_type": "execute_result"
    }
   ],
   "source": [
    "stacked.unstack(0)"
   ]
  },
  {
   "cell_type": "markdown",
   "id": "07a91be8",
   "metadata": {},
   "source": [
    "---\n",
    ">См. [Hierarchical Indexing](https://pandas.pydata.org/pandas-docs/stable/user_guide/advanced.html#advanced-hierarchical) и [Reshaping](https://pandas.pydata.org/pandas-docs/stable/user_guide/reshaping.html#reshaping-by-stacking-and-unstacking).\n",
    "\n",
    "---"
   ]
  },
  {
   "cell_type": "markdown",
   "id": "bb683f42",
   "metadata": {},
   "source": [
    "### Сводные таблицы\n",
    "---\n",
    "\n"
   ]
  },
  {
   "cell_type": "code",
   "execution_count": 60,
   "id": "35dfb1cb",
   "metadata": {},
   "outputs": [],
   "source": [
    "df = pd.DataFrame(\n",
    "    {\n",
    "        \"A\": [\"one\", \"one\", \"two\", \"three\"] * 3,\n",
    "        \"B\": [\"A\", \"B\", \"C\"] * 4,\n",
    "        \"C\": [\"foo\", \"foo\", \"foo\", \"bar\", \"bar\", \"bar\"] * 2,\n",
    "        \"D\": np.random.randn(12),\n",
    "        \"E\": np.random.randn(12),\n",
    "    }\n",
    ")"
   ]
  },
  {
   "cell_type": "markdown",
   "id": "611c92c8",
   "metadata": {},
   "source": [
    "df"
   ]
  },
  {
   "cell_type": "code",
   "execution_count": 62,
   "id": "37df29f0",
   "metadata": {},
   "outputs": [
    {
     "data": {
      "text/html": [
       "<div>\n",
       "<style scoped>\n",
       "    .dataframe tbody tr th:only-of-type {\n",
       "        vertical-align: middle;\n",
       "    }\n",
       "\n",
       "    .dataframe tbody tr th {\n",
       "        vertical-align: top;\n",
       "    }\n",
       "\n",
       "    .dataframe thead th {\n",
       "        text-align: right;\n",
       "    }\n",
       "</style>\n",
       "<table border=\"1\" class=\"dataframe\">\n",
       "  <thead>\n",
       "    <tr style=\"text-align: right;\">\n",
       "      <th></th>\n",
       "      <th>C</th>\n",
       "      <th>bar</th>\n",
       "      <th>foo</th>\n",
       "    </tr>\n",
       "    <tr>\n",
       "      <th>A</th>\n",
       "      <th>B</th>\n",
       "      <th></th>\n",
       "      <th></th>\n",
       "    </tr>\n",
       "  </thead>\n",
       "  <tbody>\n",
       "    <tr>\n",
       "      <th rowspan=\"3\" valign=\"top\">one</th>\n",
       "      <th>A</th>\n",
       "      <td>-0.953106</td>\n",
       "      <td>-1.161205</td>\n",
       "    </tr>\n",
       "    <tr>\n",
       "      <th>B</th>\n",
       "      <td>-0.146288</td>\n",
       "      <td>0.840871</td>\n",
       "    </tr>\n",
       "    <tr>\n",
       "      <th>C</th>\n",
       "      <td>-0.353628</td>\n",
       "      <td>0.906174</td>\n",
       "    </tr>\n",
       "    <tr>\n",
       "      <th rowspan=\"3\" valign=\"top\">three</th>\n",
       "      <th>A</th>\n",
       "      <td>1.622199</td>\n",
       "      <td>NaN</td>\n",
       "    </tr>\n",
       "    <tr>\n",
       "      <th>B</th>\n",
       "      <td>NaN</td>\n",
       "      <td>-0.580861</td>\n",
       "    </tr>\n",
       "    <tr>\n",
       "      <th>C</th>\n",
       "      <td>0.658588</td>\n",
       "      <td>NaN</td>\n",
       "    </tr>\n",
       "    <tr>\n",
       "      <th rowspan=\"3\" valign=\"top\">two</th>\n",
       "      <th>A</th>\n",
       "      <td>NaN</td>\n",
       "      <td>-1.148627</td>\n",
       "    </tr>\n",
       "    <tr>\n",
       "      <th>B</th>\n",
       "      <td>1.080043</td>\n",
       "      <td>NaN</td>\n",
       "    </tr>\n",
       "    <tr>\n",
       "      <th>C</th>\n",
       "      <td>NaN</td>\n",
       "      <td>0.417662</td>\n",
       "    </tr>\n",
       "  </tbody>\n",
       "</table>\n",
       "</div>"
      ],
      "text/plain": [
       "C             bar       foo\n",
       "A     B                    \n",
       "one   A -0.953106 -1.161205\n",
       "      B -0.146288  0.840871\n",
       "      C -0.353628  0.906174\n",
       "three A  1.622199       NaN\n",
       "      B       NaN -0.580861\n",
       "      C  0.658588       NaN\n",
       "two   A       NaN -1.148627\n",
       "      B  1.080043       NaN\n",
       "      C       NaN  0.417662"
      ]
     },
     "execution_count": 62,
     "metadata": {},
     "output_type": "execute_result"
    }
   ],
   "source": [
    "pd.pivot_table(df, values=\"D\", index=[\"A\", \"B\"], columns=[\"C\"])"
   ]
  },
  {
   "cell_type": "markdown",
   "id": "34e16504",
   "metadata": {},
   "source": [
    "---\n",
    ">Подробнее см. [Pivot tables](https://pandas.pydata.org/pandas-docs/stable/user_guide/reshaping.html#pivot-tables)\n",
    "\n",
    "---"
   ]
  },
  {
   "cell_type": "markdown",
   "id": "e80c70a1",
   "metadata": {},
   "source": [
    "## Временные ряды\n",
    "---\n",
    "\n",
    "pandas имеет простые, мощные и эффективные функции для выполнения операций преобразования частоты (например, преобразования секундных данных в 5-минутные данные)."
   ]
  },
  {
   "cell_type": "code",
   "execution_count": 66,
   "id": "73c55fed",
   "metadata": {},
   "outputs": [],
   "source": [
    "import pandas as pd"
   ]
  },
  {
   "cell_type": "code",
   "execution_count": 67,
   "id": "31b6f5ca",
   "metadata": {},
   "outputs": [],
   "source": [
    "rng = pd.date_range(\"1/1/2012\", periods=100, freq=\"S\")"
   ]
  },
  {
   "cell_type": "code",
   "execution_count": 68,
   "id": "755f8ddc",
   "metadata": {},
   "outputs": [],
   "source": [
    "ts = pd.Series(np.random.randint(0, 500, len(rng)), index=rng)"
   ]
  },
  {
   "cell_type": "code",
   "execution_count": 69,
   "id": "4dd0705c",
   "metadata": {},
   "outputs": [
    {
     "data": {
      "text/plain": [
       "2012-01-01 00:00:00    385\n",
       "2012-01-01 00:00:01    424\n",
       "2012-01-01 00:00:02    444\n",
       "2012-01-01 00:00:03    474\n",
       "2012-01-01 00:00:04    280\n",
       "                      ... \n",
       "2012-01-01 00:01:35    292\n",
       "2012-01-01 00:01:36    276\n",
       "2012-01-01 00:01:37    192\n",
       "2012-01-01 00:01:38     38\n",
       "2012-01-01 00:01:39    408\n",
       "Freq: S, Length: 100, dtype: int32"
      ]
     },
     "execution_count": 69,
     "metadata": {},
     "output_type": "execute_result"
    }
   ],
   "source": [
    "ts"
   ]
  },
  {
   "cell_type": "code",
   "execution_count": 78,
   "id": "7b2245ab",
   "metadata": {},
   "outputs": [
    {
     "data": {
      "text/plain": [
       "2012-01-01    24899\n",
       "Freq: 5T, dtype: int32"
      ]
     },
     "execution_count": 78,
     "metadata": {},
     "output_type": "execute_result"
    }
   ],
   "source": [
    "ts.resample(\"5Min\").sum()"
   ]
  },
  {
   "cell_type": "markdown",
   "id": "601dfd0a",
   "metadata": {},
   "source": [
    "---\n",
    "Представление часового пояса:"
   ]
  },
  {
   "cell_type": "code",
   "execution_count": 79,
   "id": "9a62a44d",
   "metadata": {},
   "outputs": [],
   "source": [
    "rng = pd.date_range(\"3/6/2012 00:00\", periods=5, freq=\"D\")"
   ]
  },
  {
   "cell_type": "code",
   "execution_count": 80,
   "id": "9b4ad697",
   "metadata": {},
   "outputs": [],
   "source": [
    "ts = pd.Series(np.random.randn(len(rng)), rng)"
   ]
  },
  {
   "cell_type": "code",
   "execution_count": 81,
   "id": "48ada4b4",
   "metadata": {},
   "outputs": [
    {
     "data": {
      "text/plain": [
       "2012-03-06    1.348062\n",
       "2012-03-07   -0.227532\n",
       "2012-03-08    0.808740\n",
       "2012-03-09    0.237065\n",
       "2012-03-10    1.032418\n",
       "Freq: D, dtype: float64"
      ]
     },
     "execution_count": 81,
     "metadata": {},
     "output_type": "execute_result"
    }
   ],
   "source": [
    "ts"
   ]
  },
  {
   "cell_type": "code",
   "execution_count": 82,
   "id": "7057a263",
   "metadata": {},
   "outputs": [],
   "source": [
    "ts_utc = ts.tz_localize(\"UTC\")"
   ]
  },
  {
   "cell_type": "code",
   "execution_count": 83,
   "id": "d482142f",
   "metadata": {},
   "outputs": [
    {
     "data": {
      "text/plain": [
       "2012-03-06 00:00:00+00:00    1.348062\n",
       "2012-03-07 00:00:00+00:00   -0.227532\n",
       "2012-03-08 00:00:00+00:00    0.808740\n",
       "2012-03-09 00:00:00+00:00    0.237065\n",
       "2012-03-10 00:00:00+00:00    1.032418\n",
       "Freq: D, dtype: float64"
      ]
     },
     "execution_count": 83,
     "metadata": {},
     "output_type": "execute_result"
    }
   ],
   "source": [
    "ts_utc"
   ]
  },
  {
   "cell_type": "markdown",
   "id": "63766c7e",
   "metadata": {},
   "source": [
    "---\n",
    "Преобразование в другой часовой пояс:"
   ]
  },
  {
   "cell_type": "code",
   "execution_count": 84,
   "id": "13056eff",
   "metadata": {},
   "outputs": [
    {
     "data": {
      "text/plain": [
       "2012-03-05 19:00:00-05:00    1.348062\n",
       "2012-03-06 19:00:00-05:00   -0.227532\n",
       "2012-03-07 19:00:00-05:00    0.808740\n",
       "2012-03-08 19:00:00-05:00    0.237065\n",
       "2012-03-09 19:00:00-05:00    1.032418\n",
       "Freq: D, dtype: float64"
      ]
     },
     "execution_count": 84,
     "metadata": {},
     "output_type": "execute_result"
    }
   ],
   "source": [
    "ts_utc.tz_convert(\"US/Eastern\")"
   ]
  },
  {
   "cell_type": "markdown",
   "id": "fcbadb0f",
   "metadata": {},
   "source": [
    "---\n",
    "Преобразование между представлениями промежутка времени:"
   ]
  },
  {
   "cell_type": "code",
   "execution_count": 85,
   "id": "07126c2f",
   "metadata": {},
   "outputs": [],
   "source": [
    "rng = pd.date_range(\"1/1/2012\", periods=5, freq=\"M\")"
   ]
  },
  {
   "cell_type": "code",
   "execution_count": 86,
   "id": "ccba12a0",
   "metadata": {},
   "outputs": [],
   "source": [
    "ts = pd.Series(np.random.randn(len(rng)), index=rng)"
   ]
  },
  {
   "cell_type": "code",
   "execution_count": 87,
   "id": "673eabad",
   "metadata": {},
   "outputs": [
    {
     "data": {
      "text/plain": [
       "2012-01-31    1.049135\n",
       "2012-02-29    0.017304\n",
       "2012-03-31   -0.313999\n",
       "2012-04-30    0.294358\n",
       "2012-05-31    1.919606\n",
       "Freq: M, dtype: float64"
      ]
     },
     "execution_count": 87,
     "metadata": {},
     "output_type": "execute_result"
    }
   ],
   "source": [
    "ts"
   ]
  },
  {
   "cell_type": "code",
   "execution_count": 88,
   "id": "936e6202",
   "metadata": {},
   "outputs": [],
   "source": [
    "ps = ts.to_period()"
   ]
  },
  {
   "cell_type": "code",
   "execution_count": 89,
   "id": "1feca5a1",
   "metadata": {},
   "outputs": [
    {
     "data": {
      "text/plain": [
       "2012-01    1.049135\n",
       "2012-02    0.017304\n",
       "2012-03   -0.313999\n",
       "2012-04    0.294358\n",
       "2012-05    1.919606\n",
       "Freq: M, dtype: float64"
      ]
     },
     "execution_count": 89,
     "metadata": {},
     "output_type": "execute_result"
    }
   ],
   "source": [
    "ps"
   ]
  },
  {
   "cell_type": "code",
   "execution_count": 90,
   "id": "71240356",
   "metadata": {},
   "outputs": [
    {
     "data": {
      "text/plain": [
       "2012-01-01    1.049135\n",
       "2012-02-01    0.017304\n",
       "2012-03-01   -0.313999\n",
       "2012-04-01    0.294358\n",
       "2012-05-01    1.919606\n",
       "Freq: MS, dtype: float64"
      ]
     },
     "execution_count": 90,
     "metadata": {},
     "output_type": "execute_result"
    }
   ],
   "source": [
    "ps.to_timestamp()"
   ]
  },
  {
   "cell_type": "markdown",
   "id": "d7639711",
   "metadata": {},
   "source": [
    "---\n",
    ">Подробнее см. [Time Series section](https://pandas.pydata.org/pandas-docs/stable/user_guide/timeseries.html#time-series-date-functionality)\n",
    "\n",
    "---"
   ]
  },
  {
   "cell_type": "markdown",
   "id": "e68c139b",
   "metadata": {},
   "source": [
    "## Категории\n",
    "---\n",
    "\n",
    "pandas может включать категориальные данные в DataFrame."
   ]
  },
  {
   "cell_type": "code",
   "execution_count": 123,
   "id": "d4bf4213",
   "metadata": {},
   "outputs": [],
   "source": [
    "import pandas as pd"
   ]
  },
  {
   "cell_type": "code",
   "execution_count": 142,
   "id": "d1ecc29c",
   "metadata": {},
   "outputs": [],
   "source": [
    "df = pd.DataFrame(\n",
    "    {\"id\": [1, 2, 3, 4, 5, 6], \"raw_grade\": [\"a\", \"b\", \"b\", \"a\", \"a\", \"e\"]}\n",
    ")"
   ]
  },
  {
   "cell_type": "code",
   "execution_count": 143,
   "id": "93819f33",
   "metadata": {},
   "outputs": [
    {
     "data": {
      "text/html": [
       "<div>\n",
       "<style scoped>\n",
       "    .dataframe tbody tr th:only-of-type {\n",
       "        vertical-align: middle;\n",
       "    }\n",
       "\n",
       "    .dataframe tbody tr th {\n",
       "        vertical-align: top;\n",
       "    }\n",
       "\n",
       "    .dataframe thead th {\n",
       "        text-align: right;\n",
       "    }\n",
       "</style>\n",
       "<table border=\"1\" class=\"dataframe\">\n",
       "  <thead>\n",
       "    <tr style=\"text-align: right;\">\n",
       "      <th></th>\n",
       "      <th>id</th>\n",
       "      <th>raw_grade</th>\n",
       "    </tr>\n",
       "  </thead>\n",
       "  <tbody>\n",
       "    <tr>\n",
       "      <th>0</th>\n",
       "      <td>1</td>\n",
       "      <td>a</td>\n",
       "    </tr>\n",
       "    <tr>\n",
       "      <th>1</th>\n",
       "      <td>2</td>\n",
       "      <td>b</td>\n",
       "    </tr>\n",
       "    <tr>\n",
       "      <th>2</th>\n",
       "      <td>3</td>\n",
       "      <td>b</td>\n",
       "    </tr>\n",
       "    <tr>\n",
       "      <th>3</th>\n",
       "      <td>4</td>\n",
       "      <td>a</td>\n",
       "    </tr>\n",
       "    <tr>\n",
       "      <th>4</th>\n",
       "      <td>5</td>\n",
       "      <td>a</td>\n",
       "    </tr>\n",
       "    <tr>\n",
       "      <th>5</th>\n",
       "      <td>6</td>\n",
       "      <td>e</td>\n",
       "    </tr>\n",
       "  </tbody>\n",
       "</table>\n",
       "</div>"
      ],
      "text/plain": [
       "   id raw_grade\n",
       "0   1         a\n",
       "1   2         b\n",
       "2   3         b\n",
       "3   4         a\n",
       "4   5         a\n",
       "5   6         e"
      ]
     },
     "execution_count": 143,
     "metadata": {},
     "output_type": "execute_result"
    }
   ],
   "source": [
    "df"
   ]
  },
  {
   "cell_type": "code",
   "execution_count": 144,
   "id": "92dcc873",
   "metadata": {},
   "outputs": [],
   "source": [
    "df[\"grade\"] = df[\"raw_grade\"].astype(\"category\")"
   ]
  },
  {
   "cell_type": "code",
   "execution_count": 145,
   "id": "eaf3d8f1",
   "metadata": {},
   "outputs": [
    {
     "data": {
      "text/html": [
       "<div>\n",
       "<style scoped>\n",
       "    .dataframe tbody tr th:only-of-type {\n",
       "        vertical-align: middle;\n",
       "    }\n",
       "\n",
       "    .dataframe tbody tr th {\n",
       "        vertical-align: top;\n",
       "    }\n",
       "\n",
       "    .dataframe thead th {\n",
       "        text-align: right;\n",
       "    }\n",
       "</style>\n",
       "<table border=\"1\" class=\"dataframe\">\n",
       "  <thead>\n",
       "    <tr style=\"text-align: right;\">\n",
       "      <th></th>\n",
       "      <th>id</th>\n",
       "      <th>raw_grade</th>\n",
       "      <th>grade</th>\n",
       "    </tr>\n",
       "  </thead>\n",
       "  <tbody>\n",
       "    <tr>\n",
       "      <th>0</th>\n",
       "      <td>1</td>\n",
       "      <td>a</td>\n",
       "      <td>a</td>\n",
       "    </tr>\n",
       "    <tr>\n",
       "      <th>1</th>\n",
       "      <td>2</td>\n",
       "      <td>b</td>\n",
       "      <td>b</td>\n",
       "    </tr>\n",
       "    <tr>\n",
       "      <th>2</th>\n",
       "      <td>3</td>\n",
       "      <td>b</td>\n",
       "      <td>b</td>\n",
       "    </tr>\n",
       "    <tr>\n",
       "      <th>3</th>\n",
       "      <td>4</td>\n",
       "      <td>a</td>\n",
       "      <td>a</td>\n",
       "    </tr>\n",
       "    <tr>\n",
       "      <th>4</th>\n",
       "      <td>5</td>\n",
       "      <td>a</td>\n",
       "      <td>a</td>\n",
       "    </tr>\n",
       "    <tr>\n",
       "      <th>5</th>\n",
       "      <td>6</td>\n",
       "      <td>e</td>\n",
       "      <td>e</td>\n",
       "    </tr>\n",
       "  </tbody>\n",
       "</table>\n",
       "</div>"
      ],
      "text/plain": [
       "   id raw_grade grade\n",
       "0   1         a     a\n",
       "1   2         b     b\n",
       "2   3         b     b\n",
       "3   4         a     a\n",
       "4   5         a     a\n",
       "5   6         e     e"
      ]
     },
     "execution_count": 145,
     "metadata": {},
     "output_type": "execute_result"
    }
   ],
   "source": [
    "df"
   ]
  },
  {
   "cell_type": "code",
   "execution_count": 146,
   "id": "2423e870",
   "metadata": {},
   "outputs": [
    {
     "data": {
      "text/plain": [
       "0    a\n",
       "1    b\n",
       "2    b\n",
       "3    a\n",
       "4    a\n",
       "5    e\n",
       "Name: grade, dtype: category\n",
       "Categories (3, object): ['a', 'b', 'e']"
      ]
     },
     "execution_count": 146,
     "metadata": {},
     "output_type": "execute_result"
    }
   ],
   "source": [
    "df[\"grade\"]"
   ]
  },
  {
   "cell_type": "markdown",
   "id": "d650c891",
   "metadata": {},
   "source": [
    "---\n",
    "Переименование категорий в более значимые имена (присвоение [Series.cat.categories()](https://pandas.pydata.org/pandas-docs/stable/reference/api/pandas.Series.cat.categories.html#pandas-series-cat-categories) на месте)."
   ]
  },
  {
   "cell_type": "code",
   "execution_count": 147,
   "id": "e23ce76d",
   "metadata": {},
   "outputs": [
    {
     "data": {
      "text/plain": [
       "Index(['a', 'b', 'e'], dtype='object')"
      ]
     },
     "execution_count": 147,
     "metadata": {},
     "output_type": "execute_result"
    }
   ],
   "source": [
    "df[\"grade\"].cat.categories"
   ]
  },
  {
   "cell_type": "code",
   "execution_count": 148,
   "id": "2ab15438",
   "metadata": {},
   "outputs": [],
   "source": [
    "df[\"grade\"].cat.categories = [\"very good\", \"good\", \"very bad\"]"
   ]
  },
  {
   "cell_type": "code",
   "execution_count": 149,
   "id": "8cbd902b",
   "metadata": {},
   "outputs": [
    {
     "data": {
      "text/html": [
       "<div>\n",
       "<style scoped>\n",
       "    .dataframe tbody tr th:only-of-type {\n",
       "        vertical-align: middle;\n",
       "    }\n",
       "\n",
       "    .dataframe tbody tr th {\n",
       "        vertical-align: top;\n",
       "    }\n",
       "\n",
       "    .dataframe thead th {\n",
       "        text-align: right;\n",
       "    }\n",
       "</style>\n",
       "<table border=\"1\" class=\"dataframe\">\n",
       "  <thead>\n",
       "    <tr style=\"text-align: right;\">\n",
       "      <th></th>\n",
       "      <th>id</th>\n",
       "      <th>raw_grade</th>\n",
       "      <th>grade</th>\n",
       "    </tr>\n",
       "  </thead>\n",
       "  <tbody>\n",
       "    <tr>\n",
       "      <th>0</th>\n",
       "      <td>1</td>\n",
       "      <td>a</td>\n",
       "      <td>very good</td>\n",
       "    </tr>\n",
       "    <tr>\n",
       "      <th>1</th>\n",
       "      <td>2</td>\n",
       "      <td>b</td>\n",
       "      <td>good</td>\n",
       "    </tr>\n",
       "    <tr>\n",
       "      <th>2</th>\n",
       "      <td>3</td>\n",
       "      <td>b</td>\n",
       "      <td>good</td>\n",
       "    </tr>\n",
       "    <tr>\n",
       "      <th>3</th>\n",
       "      <td>4</td>\n",
       "      <td>a</td>\n",
       "      <td>very good</td>\n",
       "    </tr>\n",
       "    <tr>\n",
       "      <th>4</th>\n",
       "      <td>5</td>\n",
       "      <td>a</td>\n",
       "      <td>very good</td>\n",
       "    </tr>\n",
       "    <tr>\n",
       "      <th>5</th>\n",
       "      <td>6</td>\n",
       "      <td>e</td>\n",
       "      <td>very bad</td>\n",
       "    </tr>\n",
       "  </tbody>\n",
       "</table>\n",
       "</div>"
      ],
      "text/plain": [
       "   id raw_grade      grade\n",
       "0   1         a  very good\n",
       "1   2         b       good\n",
       "2   3         b       good\n",
       "3   4         a  very good\n",
       "4   5         a  very good\n",
       "5   6         e   very bad"
      ]
     },
     "execution_count": 149,
     "metadata": {},
     "output_type": "execute_result"
    }
   ],
   "source": [
    "df"
   ]
  },
  {
   "cell_type": "markdown",
   "id": "6e19d7f0",
   "metadata": {},
   "source": [
    "---\n",
    "Измение порядка категорий и одновременно добавление недостающих категорий (методы в разделе [Series.cat()](https://pandas.pydata.org/pandas-docs/stable/reference/api/pandas.Series.cat.html#pandas-series-cat) по умолчанию возвращают новую серию)."
   ]
  },
  {
   "cell_type": "code",
   "execution_count": 150,
   "id": "a776cc67",
   "metadata": {},
   "outputs": [],
   "source": [
    "df[\"grade\"] = df[\"grade\"].cat.set_categories(\n",
    "    [\"very bad\", \"bad\", \"medium\", \"good\", \"very good\"]\n",
    ")"
   ]
  },
  {
   "cell_type": "code",
   "execution_count": 151,
   "id": "2a366b7a",
   "metadata": {},
   "outputs": [
    {
     "data": {
      "text/plain": [
       "0    very good\n",
       "1         good\n",
       "2         good\n",
       "3    very good\n",
       "4    very good\n",
       "5     very bad\n",
       "Name: grade, dtype: category\n",
       "Categories (5, object): ['very bad', 'bad', 'medium', 'good', 'very good']"
      ]
     },
     "execution_count": 151,
     "metadata": {},
     "output_type": "execute_result"
    }
   ],
   "source": [
    "df[\"grade\"]"
   ]
  },
  {
   "cell_type": "markdown",
   "id": "93be6098",
   "metadata": {},
   "source": [
    "---\n",
    "Сортировка осуществляется по категориям, а не в лексикографическом порядке."
   ]
  },
  {
   "cell_type": "code",
   "execution_count": 152,
   "id": "21de7f3c",
   "metadata": {},
   "outputs": [
    {
     "data": {
      "text/html": [
       "<div>\n",
       "<style scoped>\n",
       "    .dataframe tbody tr th:only-of-type {\n",
       "        vertical-align: middle;\n",
       "    }\n",
       "\n",
       "    .dataframe tbody tr th {\n",
       "        vertical-align: top;\n",
       "    }\n",
       "\n",
       "    .dataframe thead th {\n",
       "        text-align: right;\n",
       "    }\n",
       "</style>\n",
       "<table border=\"1\" class=\"dataframe\">\n",
       "  <thead>\n",
       "    <tr style=\"text-align: right;\">\n",
       "      <th></th>\n",
       "      <th>id</th>\n",
       "      <th>raw_grade</th>\n",
       "      <th>grade</th>\n",
       "    </tr>\n",
       "  </thead>\n",
       "  <tbody>\n",
       "    <tr>\n",
       "      <th>5</th>\n",
       "      <td>6</td>\n",
       "      <td>e</td>\n",
       "      <td>very bad</td>\n",
       "    </tr>\n",
       "    <tr>\n",
       "      <th>1</th>\n",
       "      <td>2</td>\n",
       "      <td>b</td>\n",
       "      <td>good</td>\n",
       "    </tr>\n",
       "    <tr>\n",
       "      <th>2</th>\n",
       "      <td>3</td>\n",
       "      <td>b</td>\n",
       "      <td>good</td>\n",
       "    </tr>\n",
       "    <tr>\n",
       "      <th>0</th>\n",
       "      <td>1</td>\n",
       "      <td>a</td>\n",
       "      <td>very good</td>\n",
       "    </tr>\n",
       "    <tr>\n",
       "      <th>3</th>\n",
       "      <td>4</td>\n",
       "      <td>a</td>\n",
       "      <td>very good</td>\n",
       "    </tr>\n",
       "    <tr>\n",
       "      <th>4</th>\n",
       "      <td>5</td>\n",
       "      <td>a</td>\n",
       "      <td>very good</td>\n",
       "    </tr>\n",
       "  </tbody>\n",
       "</table>\n",
       "</div>"
      ],
      "text/plain": [
       "   id raw_grade      grade\n",
       "5   6         e   very bad\n",
       "1   2         b       good\n",
       "2   3         b       good\n",
       "0   1         a  very good\n",
       "3   4         a  very good\n",
       "4   5         a  very good"
      ]
     },
     "execution_count": 152,
     "metadata": {},
     "output_type": "execute_result"
    }
   ],
   "source": [
    "df.sort_values(by=\"grade\")"
   ]
  },
  {
   "cell_type": "markdown",
   "id": "5e55c079",
   "metadata": {},
   "source": [
    "---\n",
    "При группировке по столбцу категорий также отображаются пустые категории."
   ]
  },
  {
   "cell_type": "code",
   "execution_count": 153,
   "id": "0a9eb078",
   "metadata": {},
   "outputs": [
    {
     "data": {
      "text/plain": [
       "grade\n",
       "very bad     1\n",
       "bad          0\n",
       "medium       0\n",
       "good         2\n",
       "very good    3\n",
       "dtype: int64"
      ]
     },
     "execution_count": 153,
     "metadata": {},
     "output_type": "execute_result"
    }
   ],
   "source": [
    "df.groupby(\"grade\").size()"
   ]
  },
  {
   "cell_type": "markdown",
   "id": "2c6b238c",
   "metadata": {},
   "source": [
    "---\n",
    ">Подробнее см. [categorical introduction](https://pandas.pydata.org/pandas-docs/stable/user_guide/categorical.html#categorical-data) и [API documentation](https://pandas.pydata.org/pandas-docs/stable/reference/arrays.html#api-arrays-categorical)\n",
    "\n",
    "---"
   ]
  },
  {
   "cell_type": "markdown",
   "id": "4d63294a",
   "metadata": {},
   "source": [
    "## Построение графиков\n",
    "---\n",
    "\n",
    "pandas использует стандартное соглашение для ссылки на API matplotlib:"
   ]
  },
  {
   "cell_type": "code",
   "execution_count": 182,
   "id": "337982f2",
   "metadata": {},
   "outputs": [],
   "source": [
    "import matplotlib.pyplot as plt\n",
    "import matplotlib\n",
    "\n",
    "\n",
    "plt.rcParams[\"figure.figsize\"] = (10, 8)  # изменение размера графика"
   ]
  },
  {
   "cell_type": "code",
   "execution_count": 183,
   "id": "9a992365",
   "metadata": {},
   "outputs": [],
   "source": [
    "ts = pd.Series(np.random.randn(1000), index=pd.date_range(\"1/1/2000\", periods=1000))"
   ]
  },
  {
   "cell_type": "code",
   "execution_count": 184,
   "id": "9bae5d22",
   "metadata": {},
   "outputs": [],
   "source": [
    "ts = ts.cumsum()"
   ]
  },
  {
   "cell_type": "code",
   "execution_count": 185,
   "id": "c8c441b2",
   "metadata": {},
   "outputs": [
    {
     "data": {
      "text/plain": [
       "<AxesSubplot:>"
      ]
     },
     "execution_count": 185,
     "metadata": {},
     "output_type": "execute_result"
    },
    {
     "data": {
      "image/png": "[encoded data removed]",
      "text/plain": [
       "<Figure size 720x576 with 1 Axes>"
      ]
     },
     "metadata": {
      "needs_background": "light"
     },
     "output_type": "display_data"
    }
   ],
   "source": [
    "ts.plot()"
   ]
  },
  {
   "cell_type": "markdown",
   "id": "70dcfa48",
   "metadata": {},
   "source": [
    "---\n",
    "Метод [plot()](https://pandas.pydata.org/pandas-docs/stable/reference/api/pandas.DataFrame.plot.html#pandas.DataFrame.plot) удобен для построения всех столбцов с метками:"
   ]
  },
  {
   "cell_type": "code",
   "execution_count": 198,
   "id": "c7c5b5d1",
   "metadata": {},
   "outputs": [],
   "source": [
    "df = pd.DataFrame(\n",
    "    np.random.randn(1000, 4), index=ts.index, columns=[\"A\", \"B\", \"C\", \"D\"]\n",
    ")"
   ]
  },
  {
   "cell_type": "code",
   "execution_count": 199,
   "id": "0fda23ed",
   "metadata": {},
   "outputs": [
    {
     "data": {
      "text/html": [
       "<div>\n",
       "<style scoped>\n",
       "    .dataframe tbody tr th:only-of-type {\n",
       "        vertical-align: middle;\n",
       "    }\n",
       "\n",
       "    .dataframe tbody tr th {\n",
       "        vertical-align: top;\n",
       "    }\n",
       "\n",
       "    .dataframe thead th {\n",
       "        text-align: right;\n",
       "    }\n",
       "</style>\n",
       "<table border=\"1\" class=\"dataframe\">\n",
       "  <thead>\n",
       "    <tr style=\"text-align: right;\">\n",
       "      <th></th>\n",
       "      <th>A</th>\n",
       "      <th>B</th>\n",
       "      <th>C</th>\n",
       "      <th>D</th>\n",
       "    </tr>\n",
       "  </thead>\n",
       "  <tbody>\n",
       "    <tr>\n",
       "      <th>2000-01-01</th>\n",
       "      <td>0.451426</td>\n",
       "      <td>-0.752268</td>\n",
       "      <td>0.493068</td>\n",
       "      <td>0.261545</td>\n",
       "    </tr>\n",
       "    <tr>\n",
       "      <th>2000-01-02</th>\n",
       "      <td>0.536377</td>\n",
       "      <td>-0.360030</td>\n",
       "      <td>0.139628</td>\n",
       "      <td>0.282377</td>\n",
       "    </tr>\n",
       "    <tr>\n",
       "      <th>2000-01-03</th>\n",
       "      <td>0.309418</td>\n",
       "      <td>0.143976</td>\n",
       "      <td>-1.198920</td>\n",
       "      <td>-0.082014</td>\n",
       "    </tr>\n",
       "    <tr>\n",
       "      <th>2000-01-04</th>\n",
       "      <td>-1.618722</td>\n",
       "      <td>0.841400</td>\n",
       "      <td>1.064535</td>\n",
       "      <td>0.122196</td>\n",
       "    </tr>\n",
       "    <tr>\n",
       "      <th>2000-01-05</th>\n",
       "      <td>0.028089</td>\n",
       "      <td>-0.073193</td>\n",
       "      <td>1.242626</td>\n",
       "      <td>-1.422817</td>\n",
       "    </tr>\n",
       "  </tbody>\n",
       "</table>\n",
       "</div>"
      ],
      "text/plain": [
       "                   A         B         C         D\n",
       "2000-01-01  0.451426 -0.752268  0.493068  0.261545\n",
       "2000-01-02  0.536377 -0.360030  0.139628  0.282377\n",
       "2000-01-03  0.309418  0.143976 -1.198920 -0.082014\n",
       "2000-01-04 -1.618722  0.841400  1.064535  0.122196\n",
       "2000-01-05  0.028089 -0.073193  1.242626 -1.422817"
      ]
     },
     "execution_count": 199,
     "metadata": {},
     "output_type": "execute_result"
    }
   ],
   "source": [
    "df.head()"
   ]
  },
  {
   "cell_type": "code",
   "execution_count": 200,
   "id": "c9256fa1",
   "metadata": {},
   "outputs": [],
   "source": [
    "df = df.cumsum()"
   ]
  },
  {
   "cell_type": "code",
   "execution_count": 201,
   "id": "c5a3aeec",
   "metadata": {},
   "outputs": [
    {
     "data": {
      "text/html": [
       "<div>\n",
       "<style scoped>\n",
       "    .dataframe tbody tr th:only-of-type {\n",
       "        vertical-align: middle;\n",
       "    }\n",
       "\n",
       "    .dataframe tbody tr th {\n",
       "        vertical-align: top;\n",
       "    }\n",
       "\n",
       "    .dataframe thead th {\n",
       "        text-align: right;\n",
       "    }\n",
       "</style>\n",
       "<table border=\"1\" class=\"dataframe\">\n",
       "  <thead>\n",
       "    <tr style=\"text-align: right;\">\n",
       "      <th></th>\n",
       "      <th>A</th>\n",
       "      <th>B</th>\n",
       "      <th>C</th>\n",
       "      <th>D</th>\n",
       "    </tr>\n",
       "  </thead>\n",
       "  <tbody>\n",
       "    <tr>\n",
       "      <th>2000-01-01</th>\n",
       "      <td>0.451426</td>\n",
       "      <td>-0.752268</td>\n",
       "      <td>0.493068</td>\n",
       "      <td>0.261545</td>\n",
       "    </tr>\n",
       "    <tr>\n",
       "      <th>2000-01-02</th>\n",
       "      <td>0.987803</td>\n",
       "      <td>-1.112298</td>\n",
       "      <td>0.632696</td>\n",
       "      <td>0.543922</td>\n",
       "    </tr>\n",
       "    <tr>\n",
       "      <th>2000-01-03</th>\n",
       "      <td>1.297221</td>\n",
       "      <td>-0.968322</td>\n",
       "      <td>-0.566224</td>\n",
       "      <td>0.461907</td>\n",
       "    </tr>\n",
       "    <tr>\n",
       "      <th>2000-01-04</th>\n",
       "      <td>-0.321502</td>\n",
       "      <td>-0.126922</td>\n",
       "      <td>0.498311</td>\n",
       "      <td>0.584103</td>\n",
       "    </tr>\n",
       "    <tr>\n",
       "      <th>2000-01-05</th>\n",
       "      <td>-0.293413</td>\n",
       "      <td>-0.200115</td>\n",
       "      <td>1.740937</td>\n",
       "      <td>-0.838713</td>\n",
       "    </tr>\n",
       "  </tbody>\n",
       "</table>\n",
       "</div>"
      ],
      "text/plain": [
       "                   A         B         C         D\n",
       "2000-01-01  0.451426 -0.752268  0.493068  0.261545\n",
       "2000-01-02  0.987803 -1.112298  0.632696  0.543922\n",
       "2000-01-03  1.297221 -0.968322 -0.566224  0.461907\n",
       "2000-01-04 -0.321502 -0.126922  0.498311  0.584103\n",
       "2000-01-05 -0.293413 -0.200115  1.740937 -0.838713"
      ]
     },
     "execution_count": 201,
     "metadata": {},
     "output_type": "execute_result"
    }
   ],
   "source": [
    "df.head()"
   ]
  },
  {
   "cell_type": "code",
   "execution_count": 202,
   "id": "25f091ce",
   "metadata": {},
   "outputs": [
    {
     "data": {
      "text/plain": [
       "<matplotlib.legend.Legend at 0x1abc26ebfd0>"
      ]
     },
     "execution_count": 202,
     "metadata": {},
     "output_type": "execute_result"
    },
    {
     "data": {
      "text/plain": [
       "<Figure size 720x576 with 0 Axes>"
      ]
     },
     "metadata": {},
     "output_type": "display_data"
    },
    {
     "data": {
      "image/png": "[encoded data removed]",
      "text/plain": [
       "<Figure size 720x576 with 1 Axes>"
      ]
     },
     "metadata": {
      "needs_background": "light"
     },
     "output_type": "display_data"
    }
   ],
   "source": [
    "plt.figure()\n",
    "\n",
    "df.plot()\n",
    "\n",
    "plt.legend(loc='best')"
   ]
  },
  {
   "cell_type": "markdown",
   "id": "2f51a5d0",
   "metadata": {},
   "source": [
    "---\n",
    ">Подробнее см. [Plotting](https://pandas.pydata.org/pandas-docs/stable/user_guide/visualization.html#visualization)\n",
    "\n",
    "---"
   ]
  },
  {
   "cell_type": "markdown",
   "id": "c7891f45",
   "metadata": {},
   "source": [
    "## Запись в файл / чтение из файла\n",
    "---\n"
   ]
  },
  {
   "cell_type": "code",
   "execution_count": 203,
   "id": "8b3a0bce",
   "metadata": {},
   "outputs": [],
   "source": [
    "import pandas as pd"
   ]
  },
  {
   "cell_type": "markdown",
   "id": "4cccbecf",
   "metadata": {},
   "source": [
    "---\n",
    "### CSV\n",
    "---\n",
    "\n",
    "[Запись в csv файл](https://pandas.pydata.org/pandas-docs/stable/user_guide/io.html#io-store-in-csv):"
   ]
  },
  {
   "cell_type": "code",
   "execution_count": 204,
   "id": "10391d24",
   "metadata": {},
   "outputs": [],
   "source": [
    "df = pd.DataFrame(\n",
    "    np.random.randn(1000, 4), index=ts.index, columns=[\"A\", \"B\", \"C\", \"D\"]\n",
    ")"
   ]
  },
  {
   "cell_type": "code",
   "execution_count": 207,
   "id": "ac8cc66f",
   "metadata": {},
   "outputs": [
    {
     "data": {
      "text/html": [
       "<div>\n",
       "<style scoped>\n",
       "    .dataframe tbody tr th:only-of-type {\n",
       "        vertical-align: middle;\n",
       "    }\n",
       "\n",
       "    .dataframe tbody tr th {\n",
       "        vertical-align: top;\n",
       "    }\n",
       "\n",
       "    .dataframe thead th {\n",
       "        text-align: right;\n",
       "    }\n",
       "</style>\n",
       "<table border=\"1\" class=\"dataframe\">\n",
       "  <thead>\n",
       "    <tr style=\"text-align: right;\">\n",
       "      <th></th>\n",
       "      <th>A</th>\n",
       "      <th>B</th>\n",
       "      <th>C</th>\n",
       "      <th>D</th>\n",
       "    </tr>\n",
       "  </thead>\n",
       "  <tbody>\n",
       "    <tr>\n",
       "      <th>2000-01-01</th>\n",
       "      <td>0.565075</td>\n",
       "      <td>-0.098418</td>\n",
       "      <td>0.904171</td>\n",
       "      <td>0.871197</td>\n",
       "    </tr>\n",
       "    <tr>\n",
       "      <th>2000-01-02</th>\n",
       "      <td>-0.958005</td>\n",
       "      <td>1.248514</td>\n",
       "      <td>0.949375</td>\n",
       "      <td>0.337624</td>\n",
       "    </tr>\n",
       "    <tr>\n",
       "      <th>2000-01-03</th>\n",
       "      <td>-0.794615</td>\n",
       "      <td>0.568403</td>\n",
       "      <td>0.355923</td>\n",
       "      <td>0.924305</td>\n",
       "    </tr>\n",
       "    <tr>\n",
       "      <th>2000-01-04</th>\n",
       "      <td>0.046233</td>\n",
       "      <td>1.683782</td>\n",
       "      <td>-1.460071</td>\n",
       "      <td>-1.426726</td>\n",
       "    </tr>\n",
       "    <tr>\n",
       "      <th>2000-01-05</th>\n",
       "      <td>-0.277970</td>\n",
       "      <td>0.969919</td>\n",
       "      <td>0.555096</td>\n",
       "      <td>1.804755</td>\n",
       "    </tr>\n",
       "    <tr>\n",
       "      <th>...</th>\n",
       "      <td>...</td>\n",
       "      <td>...</td>\n",
       "      <td>...</td>\n",
       "      <td>...</td>\n",
       "    </tr>\n",
       "    <tr>\n",
       "      <th>2002-09-22</th>\n",
       "      <td>-2.438422</td>\n",
       "      <td>-0.934992</td>\n",
       "      <td>-1.818734</td>\n",
       "      <td>-1.332493</td>\n",
       "    </tr>\n",
       "    <tr>\n",
       "      <th>2002-09-23</th>\n",
       "      <td>-0.752713</td>\n",
       "      <td>-0.607148</td>\n",
       "      <td>0.394980</td>\n",
       "      <td>-2.171243</td>\n",
       "    </tr>\n",
       "    <tr>\n",
       "      <th>2002-09-24</th>\n",
       "      <td>0.370472</td>\n",
       "      <td>0.199367</td>\n",
       "      <td>-1.075277</td>\n",
       "      <td>0.206021</td>\n",
       "    </tr>\n",
       "    <tr>\n",
       "      <th>2002-09-25</th>\n",
       "      <td>-0.329802</td>\n",
       "      <td>0.241016</td>\n",
       "      <td>-1.916048</td>\n",
       "      <td>-0.131596</td>\n",
       "    </tr>\n",
       "    <tr>\n",
       "      <th>2002-09-26</th>\n",
       "      <td>-0.394459</td>\n",
       "      <td>0.430043</td>\n",
       "      <td>0.918630</td>\n",
       "      <td>-0.249860</td>\n",
       "    </tr>\n",
       "  </tbody>\n",
       "</table>\n",
       "<p>1000 rows × 4 columns</p>\n",
       "</div>"
      ],
      "text/plain": [
       "                   A         B         C         D\n",
       "2000-01-01  0.565075 -0.098418  0.904171  0.871197\n",
       "2000-01-02 -0.958005  1.248514  0.949375  0.337624\n",
       "2000-01-03 -0.794615  0.568403  0.355923  0.924305\n",
       "2000-01-04  0.046233  1.683782 -1.460071 -1.426726\n",
       "2000-01-05 -0.277970  0.969919  0.555096  1.804755\n",
       "...              ...       ...       ...       ...\n",
       "2002-09-22 -2.438422 -0.934992 -1.818734 -1.332493\n",
       "2002-09-23 -0.752713 -0.607148  0.394980 -2.171243\n",
       "2002-09-24  0.370472  0.199367 -1.075277  0.206021\n",
       "2002-09-25 -0.329802  0.241016 -1.916048 -0.131596\n",
       "2002-09-26 -0.394459  0.430043  0.918630 -0.249860\n",
       "\n",
       "[1000 rows x 4 columns]"
      ]
     },
     "execution_count": 207,
     "metadata": {},
     "output_type": "execute_result"
    }
   ],
   "source": [
    "df"
   ]
  },
  {
   "cell_type": "code",
   "execution_count": 205,
   "id": "59581db9",
   "metadata": {},
   "outputs": [],
   "source": [
    "df.to_csv(\"foo.csv\")"
   ]
  },
  {
   "cell_type": "markdown",
   "id": "ed15783a",
   "metadata": {},
   "source": [
    "---\n",
    "[Чтение из csv файла](https://pandas.pydata.org/pandas-docs/stable/user_guide/io.html#io-read-csv-table)"
   ]
  },
  {
   "cell_type": "code",
   "execution_count": 206,
   "id": "727038c0",
   "metadata": {},
   "outputs": [
    {
     "data": {
      "text/html": [
       "<div>\n",
       "<style scoped>\n",
       "    .dataframe tbody tr th:only-of-type {\n",
       "        vertical-align: middle;\n",
       "    }\n",
       "\n",
       "    .dataframe tbody tr th {\n",
       "        vertical-align: top;\n",
       "    }\n",
       "\n",
       "    .dataframe thead th {\n",
       "        text-align: right;\n",
       "    }\n",
       "</style>\n",
       "<table border=\"1\" class=\"dataframe\">\n",
       "  <thead>\n",
       "    <tr style=\"text-align: right;\">\n",
       "      <th></th>\n",
       "      <th>Unnamed: 0</th>\n",
       "      <th>A</th>\n",
       "      <th>B</th>\n",
       "      <th>C</th>\n",
       "      <th>D</th>\n",
       "    </tr>\n",
       "  </thead>\n",
       "  <tbody>\n",
       "    <tr>\n",
       "      <th>0</th>\n",
       "      <td>2000-01-01</td>\n",
       "      <td>0.565075</td>\n",
       "      <td>-0.098418</td>\n",
       "      <td>0.904171</td>\n",
       "      <td>0.871197</td>\n",
       "    </tr>\n",
       "    <tr>\n",
       "      <th>1</th>\n",
       "      <td>2000-01-02</td>\n",
       "      <td>-0.958005</td>\n",
       "      <td>1.248514</td>\n",
       "      <td>0.949375</td>\n",
       "      <td>0.337624</td>\n",
       "    </tr>\n",
       "    <tr>\n",
       "      <th>2</th>\n",
       "      <td>2000-01-03</td>\n",
       "      <td>-0.794615</td>\n",
       "      <td>0.568403</td>\n",
       "      <td>0.355923</td>\n",
       "      <td>0.924305</td>\n",
       "    </tr>\n",
       "    <tr>\n",
       "      <th>3</th>\n",
       "      <td>2000-01-04</td>\n",
       "      <td>0.046233</td>\n",
       "      <td>1.683782</td>\n",
       "      <td>-1.460071</td>\n",
       "      <td>-1.426726</td>\n",
       "    </tr>\n",
       "    <tr>\n",
       "      <th>4</th>\n",
       "      <td>2000-01-05</td>\n",
       "      <td>-0.277970</td>\n",
       "      <td>0.969919</td>\n",
       "      <td>0.555096</td>\n",
       "      <td>1.804755</td>\n",
       "    </tr>\n",
       "    <tr>\n",
       "      <th>...</th>\n",
       "      <td>...</td>\n",
       "      <td>...</td>\n",
       "      <td>...</td>\n",
       "      <td>...</td>\n",
       "      <td>...</td>\n",
       "    </tr>\n",
       "    <tr>\n",
       "      <th>995</th>\n",
       "      <td>2002-09-22</td>\n",
       "      <td>-2.438422</td>\n",
       "      <td>-0.934992</td>\n",
       "      <td>-1.818734</td>\n",
       "      <td>-1.332493</td>\n",
       "    </tr>\n",
       "    <tr>\n",
       "      <th>996</th>\n",
       "      <td>2002-09-23</td>\n",
       "      <td>-0.752713</td>\n",
       "      <td>-0.607148</td>\n",
       "      <td>0.394980</td>\n",
       "      <td>-2.171243</td>\n",
       "    </tr>\n",
       "    <tr>\n",
       "      <th>997</th>\n",
       "      <td>2002-09-24</td>\n",
       "      <td>0.370472</td>\n",
       "      <td>0.199367</td>\n",
       "      <td>-1.075277</td>\n",
       "      <td>0.206021</td>\n",
       "    </tr>\n",
       "    <tr>\n",
       "      <th>998</th>\n",
       "      <td>2002-09-25</td>\n",
       "      <td>-0.329802</td>\n",
       "      <td>0.241016</td>\n",
       "      <td>-1.916048</td>\n",
       "      <td>-0.131596</td>\n",
       "    </tr>\n",
       "    <tr>\n",
       "      <th>999</th>\n",
       "      <td>2002-09-26</td>\n",
       "      <td>-0.394459</td>\n",
       "      <td>0.430043</td>\n",
       "      <td>0.918630</td>\n",
       "      <td>-0.249860</td>\n",
       "    </tr>\n",
       "  </tbody>\n",
       "</table>\n",
       "<p>1000 rows × 5 columns</p>\n",
       "</div>"
      ],
      "text/plain": [
       "     Unnamed: 0         A         B         C         D\n",
       "0    2000-01-01  0.565075 -0.098418  0.904171  0.871197\n",
       "1    2000-01-02 -0.958005  1.248514  0.949375  0.337624\n",
       "2    2000-01-03 -0.794615  0.568403  0.355923  0.924305\n",
       "3    2000-01-04  0.046233  1.683782 -1.460071 -1.426726\n",
       "4    2000-01-05 -0.277970  0.969919  0.555096  1.804755\n",
       "..          ...       ...       ...       ...       ...\n",
       "995  2002-09-22 -2.438422 -0.934992 -1.818734 -1.332493\n",
       "996  2002-09-23 -0.752713 -0.607148  0.394980 -2.171243\n",
       "997  2002-09-24  0.370472  0.199367 -1.075277  0.206021\n",
       "998  2002-09-25 -0.329802  0.241016 -1.916048 -0.131596\n",
       "999  2002-09-26 -0.394459  0.430043  0.918630 -0.249860\n",
       "\n",
       "[1000 rows x 5 columns]"
      ]
     },
     "execution_count": 206,
     "metadata": {},
     "output_type": "execute_result"
    }
   ],
   "source": [
    "pd.read_csv(\"foo.csv\")"
   ]
  },
  {
   "cell_type": "markdown",
   "id": "34e9c2ee",
   "metadata": {},
   "source": [
    "---\n",
    "Сохранение индекса:"
   ]
  },
  {
   "cell_type": "code",
   "execution_count": 221,
   "id": "7cf62506",
   "metadata": {},
   "outputs": [],
   "source": [
    "df.to_csv(\"foo.csv\")"
   ]
  },
  {
   "cell_type": "code",
   "execution_count": 222,
   "id": "c6340ce8",
   "metadata": {},
   "outputs": [
    {
     "data": {
      "text/html": [
       "<div>\n",
       "<style scoped>\n",
       "    .dataframe tbody tr th:only-of-type {\n",
       "        vertical-align: middle;\n",
       "    }\n",
       "\n",
       "    .dataframe tbody tr th {\n",
       "        vertical-align: top;\n",
       "    }\n",
       "\n",
       "    .dataframe thead th {\n",
       "        text-align: right;\n",
       "    }\n",
       "</style>\n",
       "<table border=\"1\" class=\"dataframe\">\n",
       "  <thead>\n",
       "    <tr style=\"text-align: right;\">\n",
       "      <th></th>\n",
       "      <th>A</th>\n",
       "      <th>B</th>\n",
       "      <th>C</th>\n",
       "      <th>D</th>\n",
       "    </tr>\n",
       "  </thead>\n",
       "  <tbody>\n",
       "    <tr>\n",
       "      <th>2000-01-01</th>\n",
       "      <td>0.565075</td>\n",
       "      <td>-0.098418</td>\n",
       "      <td>0.904171</td>\n",
       "      <td>0.871197</td>\n",
       "    </tr>\n",
       "    <tr>\n",
       "      <th>2000-01-02</th>\n",
       "      <td>-0.958005</td>\n",
       "      <td>1.248514</td>\n",
       "      <td>0.949375</td>\n",
       "      <td>0.337624</td>\n",
       "    </tr>\n",
       "    <tr>\n",
       "      <th>2000-01-03</th>\n",
       "      <td>-0.794615</td>\n",
       "      <td>0.568403</td>\n",
       "      <td>0.355923</td>\n",
       "      <td>0.924305</td>\n",
       "    </tr>\n",
       "    <tr>\n",
       "      <th>2000-01-04</th>\n",
       "      <td>0.046233</td>\n",
       "      <td>1.683782</td>\n",
       "      <td>-1.460071</td>\n",
       "      <td>-1.426726</td>\n",
       "    </tr>\n",
       "    <tr>\n",
       "      <th>2000-01-05</th>\n",
       "      <td>-0.277970</td>\n",
       "      <td>0.969919</td>\n",
       "      <td>0.555096</td>\n",
       "      <td>1.804755</td>\n",
       "    </tr>\n",
       "    <tr>\n",
       "      <th>...</th>\n",
       "      <td>...</td>\n",
       "      <td>...</td>\n",
       "      <td>...</td>\n",
       "      <td>...</td>\n",
       "    </tr>\n",
       "    <tr>\n",
       "      <th>2002-09-22</th>\n",
       "      <td>-2.438422</td>\n",
       "      <td>-0.934992</td>\n",
       "      <td>-1.818734</td>\n",
       "      <td>-1.332493</td>\n",
       "    </tr>\n",
       "    <tr>\n",
       "      <th>2002-09-23</th>\n",
       "      <td>-0.752713</td>\n",
       "      <td>-0.607148</td>\n",
       "      <td>0.394980</td>\n",
       "      <td>-2.171243</td>\n",
       "    </tr>\n",
       "    <tr>\n",
       "      <th>2002-09-24</th>\n",
       "      <td>0.370472</td>\n",
       "      <td>0.199367</td>\n",
       "      <td>-1.075277</td>\n",
       "      <td>0.206021</td>\n",
       "    </tr>\n",
       "    <tr>\n",
       "      <th>2002-09-25</th>\n",
       "      <td>-0.329802</td>\n",
       "      <td>0.241016</td>\n",
       "      <td>-1.916048</td>\n",
       "      <td>-0.131596</td>\n",
       "    </tr>\n",
       "    <tr>\n",
       "      <th>2002-09-26</th>\n",
       "      <td>-0.394459</td>\n",
       "      <td>0.430043</td>\n",
       "      <td>0.918630</td>\n",
       "      <td>-0.249860</td>\n",
       "    </tr>\n",
       "  </tbody>\n",
       "</table>\n",
       "<p>1000 rows × 4 columns</p>\n",
       "</div>"
      ],
      "text/plain": [
       "                   A         B         C         D\n",
       "2000-01-01  0.565075 -0.098418  0.904171  0.871197\n",
       "2000-01-02 -0.958005  1.248514  0.949375  0.337624\n",
       "2000-01-03 -0.794615  0.568403  0.355923  0.924305\n",
       "2000-01-04  0.046233  1.683782 -1.460071 -1.426726\n",
       "2000-01-05 -0.277970  0.969919  0.555096  1.804755\n",
       "...              ...       ...       ...       ...\n",
       "2002-09-22 -2.438422 -0.934992 -1.818734 -1.332493\n",
       "2002-09-23 -0.752713 -0.607148  0.394980 -2.171243\n",
       "2002-09-24  0.370472  0.199367 -1.075277  0.206021\n",
       "2002-09-25 -0.329802  0.241016 -1.916048 -0.131596\n",
       "2002-09-26 -0.394459  0.430043  0.918630 -0.249860\n",
       "\n",
       "[1000 rows x 4 columns]"
      ]
     },
     "execution_count": 222,
     "metadata": {},
     "output_type": "execute_result"
    }
   ],
   "source": [
    "pd.read_csv(\"foo.csv\", index_col=[0])"
   ]
  },
  {
   "cell_type": "markdown",
   "id": "f3287b50",
   "metadata": {},
   "source": [
    "---\n",
    "### HDF5\n",
    "---\n",
    "\n",
    "Чтение и запись в [HDFStores](https://pandas.pydata.org/pandas-docs/stable/user_guide/io.html#io-hdf5)"
   ]
  },
  {
   "cell_type": "markdown",
   "id": "e1e4ffaf",
   "metadata": {},
   "source": [
    "---\n",
    "Запись в HDF5 Store:"
   ]
  },
  {
   "cell_type": "code",
   "execution_count": 223,
   "id": "d329d112",
   "metadata": {},
   "outputs": [],
   "source": [
    "df.to_hdf(\"foo.h5\", \"df\")"
   ]
  },
  {
   "cell_type": "markdown",
   "id": "4b919788",
   "metadata": {},
   "source": [
    "---\n",
    "Чтение из HDF5 Store:"
   ]
  },
  {
   "cell_type": "code",
   "execution_count": 224,
   "id": "753e3e55",
   "metadata": {},
   "outputs": [
    {
     "data": {
      "text/html": [
       "<div>\n",
       "<style scoped>\n",
       "    .dataframe tbody tr th:only-of-type {\n",
       "        vertical-align: middle;\n",
       "    }\n",
       "\n",
       "    .dataframe tbody tr th {\n",
       "        vertical-align: top;\n",
       "    }\n",
       "\n",
       "    .dataframe thead th {\n",
       "        text-align: right;\n",
       "    }\n",
       "</style>\n",
       "<table border=\"1\" class=\"dataframe\">\n",
       "  <thead>\n",
       "    <tr style=\"text-align: right;\">\n",
       "      <th></th>\n",
       "      <th>A</th>\n",
       "      <th>B</th>\n",
       "      <th>C</th>\n",
       "      <th>D</th>\n",
       "    </tr>\n",
       "  </thead>\n",
       "  <tbody>\n",
       "    <tr>\n",
       "      <th>2000-01-01</th>\n",
       "      <td>0.565075</td>\n",
       "      <td>-0.098418</td>\n",
       "      <td>0.904171</td>\n",
       "      <td>0.871197</td>\n",
       "    </tr>\n",
       "    <tr>\n",
       "      <th>2000-01-02</th>\n",
       "      <td>-0.958005</td>\n",
       "      <td>1.248514</td>\n",
       "      <td>0.949375</td>\n",
       "      <td>0.337624</td>\n",
       "    </tr>\n",
       "    <tr>\n",
       "      <th>2000-01-03</th>\n",
       "      <td>-0.794615</td>\n",
       "      <td>0.568403</td>\n",
       "      <td>0.355923</td>\n",
       "      <td>0.924305</td>\n",
       "    </tr>\n",
       "    <tr>\n",
       "      <th>2000-01-04</th>\n",
       "      <td>0.046233</td>\n",
       "      <td>1.683782</td>\n",
       "      <td>-1.460071</td>\n",
       "      <td>-1.426726</td>\n",
       "    </tr>\n",
       "    <tr>\n",
       "      <th>2000-01-05</th>\n",
       "      <td>-0.277970</td>\n",
       "      <td>0.969919</td>\n",
       "      <td>0.555096</td>\n",
       "      <td>1.804755</td>\n",
       "    </tr>\n",
       "    <tr>\n",
       "      <th>...</th>\n",
       "      <td>...</td>\n",
       "      <td>...</td>\n",
       "      <td>...</td>\n",
       "      <td>...</td>\n",
       "    </tr>\n",
       "    <tr>\n",
       "      <th>2002-09-22</th>\n",
       "      <td>-2.438422</td>\n",
       "      <td>-0.934992</td>\n",
       "      <td>-1.818734</td>\n",
       "      <td>-1.332493</td>\n",
       "    </tr>\n",
       "    <tr>\n",
       "      <th>2002-09-23</th>\n",
       "      <td>-0.752713</td>\n",
       "      <td>-0.607148</td>\n",
       "      <td>0.394980</td>\n",
       "      <td>-2.171243</td>\n",
       "    </tr>\n",
       "    <tr>\n",
       "      <th>2002-09-24</th>\n",
       "      <td>0.370472</td>\n",
       "      <td>0.199367</td>\n",
       "      <td>-1.075277</td>\n",
       "      <td>0.206021</td>\n",
       "    </tr>\n",
       "    <tr>\n",
       "      <th>2002-09-25</th>\n",
       "      <td>-0.329802</td>\n",
       "      <td>0.241016</td>\n",
       "      <td>-1.916048</td>\n",
       "      <td>-0.131596</td>\n",
       "    </tr>\n",
       "    <tr>\n",
       "      <th>2002-09-26</th>\n",
       "      <td>-0.394459</td>\n",
       "      <td>0.430043</td>\n",
       "      <td>0.918630</td>\n",
       "      <td>-0.249860</td>\n",
       "    </tr>\n",
       "  </tbody>\n",
       "</table>\n",
       "<p>1000 rows × 4 columns</p>\n",
       "</div>"
      ],
      "text/plain": [
       "                   A         B         C         D\n",
       "2000-01-01  0.565075 -0.098418  0.904171  0.871197\n",
       "2000-01-02 -0.958005  1.248514  0.949375  0.337624\n",
       "2000-01-03 -0.794615  0.568403  0.355923  0.924305\n",
       "2000-01-04  0.046233  1.683782 -1.460071 -1.426726\n",
       "2000-01-05 -0.277970  0.969919  0.555096  1.804755\n",
       "...              ...       ...       ...       ...\n",
       "2002-09-22 -2.438422 -0.934992 -1.818734 -1.332493\n",
       "2002-09-23 -0.752713 -0.607148  0.394980 -2.171243\n",
       "2002-09-24  0.370472  0.199367 -1.075277  0.206021\n",
       "2002-09-25 -0.329802  0.241016 -1.916048 -0.131596\n",
       "2002-09-26 -0.394459  0.430043  0.918630 -0.249860\n",
       "\n",
       "[1000 rows x 4 columns]"
      ]
     },
     "execution_count": 224,
     "metadata": {},
     "output_type": "execute_result"
    }
   ],
   "source": [
    "pd.read_hdf(\"foo.h5\", \"df\")"
   ]
  },
  {
   "cell_type": "markdown",
   "id": "822529ce",
   "metadata": {},
   "source": [
    "---\n",
    "### Excel\n",
    "---\n",
    "\n",
    "Чтение и запись в [MS Excel](https://pandas.pydata.org/pandas-docs/stable/user_guide/io.html#io-excel)"
   ]
  },
  {
   "cell_type": "markdown",
   "id": "c3f791a1",
   "metadata": {},
   "source": [
    "---\n",
    "Запись в excel файл:"
   ]
  },
  {
   "cell_type": "code",
   "execution_count": 227,
   "id": "df75a1ab",
   "metadata": {},
   "outputs": [],
   "source": [
    "df.to_excel(\"foo.xlsx\", sheet_name=\"Sheet1\")"
   ]
  },
  {
   "cell_type": "markdown",
   "id": "2a0d0578",
   "metadata": {},
   "source": [
    "---\n",
    "Чтение из excel файла:"
   ]
  },
  {
   "cell_type": "code",
   "execution_count": 228,
   "id": "7782e0f2",
   "metadata": {},
   "outputs": [
    {
     "data": {
      "text/html": [
       "<div>\n",
       "<style scoped>\n",
       "    .dataframe tbody tr th:only-of-type {\n",
       "        vertical-align: middle;\n",
       "    }\n",
       "\n",
       "    .dataframe tbody tr th {\n",
       "        vertical-align: top;\n",
       "    }\n",
       "\n",
       "    .dataframe thead th {\n",
       "        text-align: right;\n",
       "    }\n",
       "</style>\n",
       "<table border=\"1\" class=\"dataframe\">\n",
       "  <thead>\n",
       "    <tr style=\"text-align: right;\">\n",
       "      <th></th>\n",
       "      <th>Unnamed: 0</th>\n",
       "      <th>A</th>\n",
       "      <th>B</th>\n",
       "      <th>C</th>\n",
       "      <th>D</th>\n",
       "    </tr>\n",
       "  </thead>\n",
       "  <tbody>\n",
       "    <tr>\n",
       "      <th>0</th>\n",
       "      <td>2000-01-01</td>\n",
       "      <td>0.565075</td>\n",
       "      <td>-0.098418</td>\n",
       "      <td>0.904171</td>\n",
       "      <td>0.871197</td>\n",
       "    </tr>\n",
       "    <tr>\n",
       "      <th>1</th>\n",
       "      <td>2000-01-02</td>\n",
       "      <td>-0.958005</td>\n",
       "      <td>1.248514</td>\n",
       "      <td>0.949375</td>\n",
       "      <td>0.337624</td>\n",
       "    </tr>\n",
       "    <tr>\n",
       "      <th>2</th>\n",
       "      <td>2000-01-03</td>\n",
       "      <td>-0.794615</td>\n",
       "      <td>0.568403</td>\n",
       "      <td>0.355923</td>\n",
       "      <td>0.924305</td>\n",
       "    </tr>\n",
       "    <tr>\n",
       "      <th>3</th>\n",
       "      <td>2000-01-04</td>\n",
       "      <td>0.046233</td>\n",
       "      <td>1.683782</td>\n",
       "      <td>-1.460071</td>\n",
       "      <td>-1.426726</td>\n",
       "    </tr>\n",
       "    <tr>\n",
       "      <th>4</th>\n",
       "      <td>2000-01-05</td>\n",
       "      <td>-0.277970</td>\n",
       "      <td>0.969919</td>\n",
       "      <td>0.555096</td>\n",
       "      <td>1.804755</td>\n",
       "    </tr>\n",
       "    <tr>\n",
       "      <th>...</th>\n",
       "      <td>...</td>\n",
       "      <td>...</td>\n",
       "      <td>...</td>\n",
       "      <td>...</td>\n",
       "      <td>...</td>\n",
       "    </tr>\n",
       "    <tr>\n",
       "      <th>995</th>\n",
       "      <td>2002-09-22</td>\n",
       "      <td>-2.438422</td>\n",
       "      <td>-0.934992</td>\n",
       "      <td>-1.818734</td>\n",
       "      <td>-1.332493</td>\n",
       "    </tr>\n",
       "    <tr>\n",
       "      <th>996</th>\n",
       "      <td>2002-09-23</td>\n",
       "      <td>-0.752713</td>\n",
       "      <td>-0.607148</td>\n",
       "      <td>0.394980</td>\n",
       "      <td>-2.171243</td>\n",
       "    </tr>\n",
       "    <tr>\n",
       "      <th>997</th>\n",
       "      <td>2002-09-24</td>\n",
       "      <td>0.370472</td>\n",
       "      <td>0.199367</td>\n",
       "      <td>-1.075277</td>\n",
       "      <td>0.206021</td>\n",
       "    </tr>\n",
       "    <tr>\n",
       "      <th>998</th>\n",
       "      <td>2002-09-25</td>\n",
       "      <td>-0.329802</td>\n",
       "      <td>0.241016</td>\n",
       "      <td>-1.916048</td>\n",
       "      <td>-0.131596</td>\n",
       "    </tr>\n",
       "    <tr>\n",
       "      <th>999</th>\n",
       "      <td>2002-09-26</td>\n",
       "      <td>-0.394459</td>\n",
       "      <td>0.430043</td>\n",
       "      <td>0.918630</td>\n",
       "      <td>-0.249860</td>\n",
       "    </tr>\n",
       "  </tbody>\n",
       "</table>\n",
       "<p>1000 rows × 5 columns</p>\n",
       "</div>"
      ],
      "text/plain": [
       "    Unnamed: 0         A         B         C         D\n",
       "0   2000-01-01  0.565075 -0.098418  0.904171  0.871197\n",
       "1   2000-01-02 -0.958005  1.248514  0.949375  0.337624\n",
       "2   2000-01-03 -0.794615  0.568403  0.355923  0.924305\n",
       "3   2000-01-04  0.046233  1.683782 -1.460071 -1.426726\n",
       "4   2000-01-05 -0.277970  0.969919  0.555096  1.804755\n",
       "..         ...       ...       ...       ...       ...\n",
       "995 2002-09-22 -2.438422 -0.934992 -1.818734 -1.332493\n",
       "996 2002-09-23 -0.752713 -0.607148  0.394980 -2.171243\n",
       "997 2002-09-24  0.370472  0.199367 -1.075277  0.206021\n",
       "998 2002-09-25 -0.329802  0.241016 -1.916048 -0.131596\n",
       "999 2002-09-26 -0.394459  0.430043  0.918630 -0.249860\n",
       "\n",
       "[1000 rows x 5 columns]"
      ]
     },
     "execution_count": 228,
     "metadata": {},
     "output_type": "execute_result"
    }
   ],
   "source": [
    "pd.read_excel(\"foo.xlsx\", \"Sheet1\", index_col=None, na_values=[\"NA\"])"
   ]
  }
 ],
 "metadata": {
  "kernelspec": {
   "display_name": "Python 3",
   "language": "python",
   "name": "python3"
  },
  "language_info": {
   "codemirror_mode": {
    "name": "ipython",
    "version": 3
   },
   "file_extension": ".py",
   "mimetype": "text/x-python",
   "name": "python",
   "nbconvert_exporter": "python",
   "pygments_lexer": "ipython3",
   "version": "3.8.8"
  }
 },
 "nbformat": 4,
 "nbformat_minor": 5
}
