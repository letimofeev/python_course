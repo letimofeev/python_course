{
 "cells": [
  {
   "cell_type": "markdown",
   "id": "96fee933",
   "metadata": {},
   "source": [
    "# NumPy\n",
    "---\n",
    "\n",
    "# Содержание\n",
    "\n",
    "* [Библиотека NumPy](#Библиотека-NumPy)\n",
    "\n",
    "* [Массивы](#Массивы)\n",
    "\n",
    "* [Создание массивов](#Создание-массивов)\n",
    "\n",
    "* [Создание последовательностей](#Создание-последовательностей)\n",
    "\n",
    "* [Изменение размера / формы массива](#Изменение-размера-/-формы-массива)\n",
    "\n",
    "* [Срезы](#Срезы)\n",
    "\n",
    "* [Перебор элементов массива](#Перебор-элементов-массива)\n",
    "\n",
    "* [Арифметические операции](#Арифметические-операции)\n",
    "\n",
    "* [Операции сравнения](#Операции-сравнения)\n",
    "\n",
    "* [Поэлементные функции](#Поэлементные-функции)\n",
    "\n",
    "* [Функции массивов](#Функции-массивов)\n",
    "\n",
    "* [Broadcasting](#Broadcasting)\n",
    "\n",
    "* [Матричные операции](#Матричные-операции)\n",
    "\n",
    "* [Математика многочленов](#Математика-многочленов)\n",
    "\n",
    "* [Дополнительно](#Дополнительно)\n",
    "    * [SciPy](#SciPy)\n",
    "\n",
    "---"
   ]
  },
  {
   "cell_type": "markdown",
   "id": "4f466ba5",
   "metadata": {},
   "source": [
    "# Библиотека NumPy\n",
    "---\n",
    "\n",
    "Библиотека **NumPy** (Numerical Python) - это пакет высокоуровневых математических и числовых функций и инструментов, предназначенных для работы с **массивами numpy**. **Массив numpy** - это высокопроизводительная многомерная структура данных, более эффективная и удобная, чем список Python.\n",
    "\n",
    "Программа Python, использующая библиотеку **numpy**, может потребовать установки пакета. "
   ]
  },
  {
   "cell_type": "code",
   "execution_count": 2,
   "id": "6cd9ef08",
   "metadata": {
    "scrolled": true
   },
   "outputs": [
    {
     "name": "stdout",
     "output_type": "stream",
     "text": [
      "Requirement already satisfied: numpy in d:\\anac2\\lib\\site-packages (1.20.1)\n"
     ]
    }
   ],
   "source": [
    "!pip install numpy   # в jupyter notebook numpy уже есть по умолчанию"
   ]
  },
  {
   "cell_type": "markdown",
   "id": "8eb909d1",
   "metadata": {},
   "source": [
    ">Про установку модулей можно посмотреть в 4 файле основного курса\n",
    "\n",
    "---"
   ]
  },
  {
   "cell_type": "markdown",
   "id": "8f200e3b",
   "metadata": {},
   "source": [
    "Кроме того, программа, использующая пакет, должна включать в себя импорт библиотеки:"
   ]
  },
  {
   "cell_type": "code",
   "execution_count": 1,
   "id": "b30ce56c",
   "metadata": {},
   "outputs": [],
   "source": [
    "import numpy"
   ]
  },
  {
   "cell_type": "markdown",
   "id": "65329ca1",
   "metadata": {},
   "source": [
    "Тем не менее, для большого количества вызовов функций numpy, становиться утомительно писать numpy.X снова и снова. Вместо этого намного проще использовать alias:"
   ]
  },
  {
   "cell_type": "code",
   "execution_count": 3,
   "id": "758ead0d",
   "metadata": {},
   "outputs": [],
   "source": [
    "import numpy as np"
   ]
  },
  {
   "cell_type": "markdown",
   "id": "403c81eb",
   "metadata": {},
   "source": [
    "---\n",
    "## Массивы\n",
    "---\n",
    "\n",
    "Python имеет дело в основном со списками и не имеет собственной структуры массива, поэтому для понимания **массива numpy** важно иметь базовое представление о массивах.  \n",
    "Одномерный массив можно напрямую сравнить со списком Python, потому что они оба хранят список чисел. Точно так же данные в массиве называются элементами, и доступ к ним осуществляется с помощью скобок **[ ]** .  \n",
    "Двумерный массив имеет сеточную структуру со строками и столбцами.  \n",
    "А трехмерный массив можно рассматривать как стек двумерных массивов.  \n",
    "\n",
    "Массивы Numpy имеют фиксированный размер, индексируются, начиная с 0, и содержат элементы одного типа. Они являются объектами **ndarray** и создаются с помощью функции **np.array()**."
   ]
  },
  {
   "cell_type": "code",
   "execution_count": 4,
   "id": "e64f5de7",
   "metadata": {},
   "outputs": [],
   "source": [
    "import numpy as np"
   ]
  },
  {
   "cell_type": "code",
   "execution_count": 21,
   "id": "176ee762",
   "metadata": {},
   "outputs": [
    {
     "name": "stdout",
     "output_type": "stream",
     "text": [
      "<class 'numpy.ndarray'>\n"
     ]
    }
   ],
   "source": [
    "b = np.array([1, 2, 3, 4])\n",
    "\n",
    "print(type(b))"
   ]
  },
  {
   "cell_type": "markdown",
   "id": "632bd7e1",
   "metadata": {},
   "source": [
    "Приведенный выше код создает одномерный массив с четырьмя константами.  \n",
    "Массивы Numpy относятся к измерениям как осям, а количество осей - к рангу. Следовательно, **b - это массив ранга 1**.\n",
    "\n",
    "---\n",
    "Существует несколько функций numpy для описания массива и его элементов:"
   ]
  },
  {
   "cell_type": "code",
   "execution_count": 7,
   "id": "120fef70",
   "metadata": {},
   "outputs": [],
   "source": [
    "# массив ранга 2\n",
    "my_arr = np.array([\n",
    "    [1, 2, 3, 4],\n",
    "    [5, 6, 7, 8],\n",
    "])"
   ]
  },
  {
   "cell_type": "code",
   "execution_count": 8,
   "id": "85ff6013",
   "metadata": {},
   "outputs": [
    {
     "name": "stdout",
     "output_type": "stream",
     "text": [
      "[[1 2 3 4]\n",
      " [5 6 7 8]]\n"
     ]
    }
   ],
   "source": [
    "print(my_arr)"
   ]
  },
  {
   "cell_type": "code",
   "execution_count": 14,
   "id": "2fae424c",
   "metadata": {},
   "outputs": [
    {
     "name": "stdout",
     "output_type": "stream",
     "text": [
      "7\n"
     ]
    }
   ],
   "source": [
    "# обращение к 1 элементу\n",
    "print(my_arr[1][2])"
   ]
  },
  {
   "cell_type": "code",
   "execution_count": 15,
   "id": "0f7caa54",
   "metadata": {},
   "outputs": [
    {
     "name": "stdout",
     "output_type": "stream",
     "text": [
      "7\n"
     ]
    }
   ],
   "source": [
    "# то же самое, что my_arr[1][2] \n",
    "print(my_arr[1, 2])"
   ]
  },
  {
   "cell_type": "code",
   "execution_count": 16,
   "id": "e444f8ff",
   "metadata": {},
   "outputs": [
    {
     "name": "stdout",
     "output_type": "stream",
     "text": [
      "2\n"
     ]
    }
   ],
   "source": [
    "# ранг массива\n",
    "print(my_arr.ndim)"
   ]
  },
  {
   "cell_type": "code",
   "execution_count": 17,
   "id": "d47a7292",
   "metadata": {},
   "outputs": [
    {
     "name": "stdout",
     "output_type": "stream",
     "text": [
      "(2, 4)\n"
     ]
    }
   ],
   "source": [
    "# n строк, m столбцов\n",
    "print(my_arr.shape)"
   ]
  },
  {
   "cell_type": "code",
   "execution_count": 18,
   "id": "af4b2d42",
   "metadata": {},
   "outputs": [
    {
     "name": "stdout",
     "output_type": "stream",
     "text": [
      "8\n"
     ]
    }
   ],
   "source": [
    "# количество элементов\n",
    "print(my_arr.size)"
   ]
  },
  {
   "cell_type": "markdown",
   "id": "6c221a6c",
   "metadata": {},
   "source": [
    "---\n",
    "## Создание массивов\n",
    "---\n",
    "\n",
    "NumPy включает несколько функций для создания массивов. Вы можете инициализировать массивы единицами или нулями, а также создавать массивы, заполненные постоянными или случайными значениями."
   ]
  },
  {
   "cell_type": "code",
   "execution_count": 22,
   "id": "a2b06cc8",
   "metadata": {},
   "outputs": [
    {
     "data": {
      "text/plain": [
       "array([[1., 1.],\n",
       "       [1., 1.],\n",
       "       [1., 1.]])"
      ]
     },
     "execution_count": 22,
     "metadata": {},
     "output_type": "execute_result"
    }
   ],
   "source": [
    "# массив из единиц\n",
    "np.ones((3, 2))"
   ]
  },
  {
   "cell_type": "code",
   "execution_count": 42,
   "id": "42df4d89",
   "metadata": {},
   "outputs": [
    {
     "data": {
      "text/plain": [
       "array([0., 0., 0., 0.])"
      ]
     },
     "execution_count": 42,
     "metadata": {},
     "output_type": "execute_result"
    }
   ],
   "source": [
    "# массив из нулей\n",
    "np.zeros(4)"
   ]
  },
  {
   "cell_type": "code",
   "execution_count": 31,
   "id": "a6dac5af",
   "metadata": {},
   "outputs": [
    {
     "data": {
      "text/plain": [
       "array([[0.26841512, 0.28634363, 0.76126739],\n",
       "       [0.00486321, 0.16736692, 0.80449024]])"
      ]
     },
     "execution_count": 31,
     "metadata": {},
     "output_type": "execute_result"
    }
   ],
   "source": [
    "# массив из случайных значений на полуинтервале [0; 1)\n",
    "np.random.random((2, 3))"
   ]
  },
  {
   "cell_type": "code",
   "execution_count": 37,
   "id": "f98f5e3f",
   "metadata": {},
   "outputs": [
    {
     "data": {
      "text/plain": [
       "array([[10, 10],\n",
       "       [10, 10]])"
      ]
     },
     "execution_count": 37,
     "metadata": {},
     "output_type": "execute_result"
    }
   ],
   "source": [
    "# массив заполненный заданным значением\n",
    "np.full((2, 2), 10)"
   ]
  },
  {
   "cell_type": "code",
   "execution_count": 47,
   "id": "9166c4e7",
   "metadata": {},
   "outputs": [
    {
     "data": {
      "text/plain": [
       "array([[6.99596955e-321, 1.37962320e-306],\n",
       "       [2.22522596e-306, 2.56765117e-312]])"
      ]
     },
     "execution_count": 47,
     "metadata": {},
     "output_type": "execute_result"
    }
   ],
   "source": [
    "# массив из неинициализированных элементов\n",
    "np.empty((2, 2))"
   ]
  },
  {
   "cell_type": "code",
   "execution_count": 59,
   "id": "842483f6",
   "metadata": {},
   "outputs": [
    {
     "data": {
      "text/plain": [
       "array([[0., 0., 1., 0., 0.],\n",
       "       [0., 0., 0., 1., 0.],\n",
       "       [0., 0., 0., 0., 1.]])"
      ]
     },
     "execution_count": 59,
     "metadata": {},
     "output_type": "execute_result"
    }
   ],
   "source": [
    "# единицы на главной диагонали со смещением k\n",
    "np.eye(3, 5, k=2)"
   ]
  },
  {
   "cell_type": "code",
   "execution_count": 60,
   "id": "d4677d06",
   "metadata": {},
   "outputs": [
    {
     "data": {
      "text/plain": [
       "array([[1., 0., 0., 0., 0.],\n",
       "       [0., 1., 0., 0., 0.],\n",
       "       [0., 0., 1., 0., 0.]])"
      ]
     },
     "execution_count": 60,
     "metadata": {},
     "output_type": "execute_result"
    }
   ],
   "source": [
    "np.eye(3, 5)"
   ]
  },
  {
   "cell_type": "code",
   "execution_count": 61,
   "id": "dc8c794e",
   "metadata": {},
   "outputs": [
    {
     "data": {
      "text/plain": [
       "array([[1., 0., 0.],\n",
       "       [0., 1., 0.],\n",
       "       [0., 0., 1.]])"
      ]
     },
     "execution_count": 61,
     "metadata": {},
     "output_type": "execute_result"
    }
   ],
   "source": [
    "# единичная матрица\n",
    "np.identity(3)"
   ]
  },
  {
   "cell_type": "markdown",
   "id": "a44d167d",
   "metadata": {},
   "source": [
    "---\n",
    "Вы можете дополнительно указать тип данных для элементов массива во время создания."
   ]
  },
  {
   "cell_type": "code",
   "execution_count": 63,
   "id": "1f231b76",
   "metadata": {},
   "outputs": [
    {
     "data": {
      "text/plain": [
       "array([1., 2., 3.], dtype=float32)"
      ]
     },
     "execution_count": 63,
     "metadata": {},
     "output_type": "execute_result"
    }
   ],
   "source": [
    "np.array([1, 2, 3], dtype=np.float32)"
   ]
  },
  {
   "cell_type": "markdown",
   "id": "abc85d35",
   "metadata": {},
   "source": [
    "---\n",
    "Функция **copy()** создает копию массива"
   ]
  },
  {
   "cell_type": "code",
   "execution_count": 73,
   "id": "1895ef70",
   "metadata": {},
   "outputs": [
    {
     "data": {
      "text/plain": [
       "array([1., 1., 1.])"
      ]
     },
     "execution_count": 73,
     "metadata": {},
     "output_type": "execute_result"
    }
   ],
   "source": [
    "a = np.ones(3)\n",
    "b = a.copy()\n",
    "\n",
    "a"
   ]
  },
  {
   "cell_type": "code",
   "execution_count": 74,
   "id": "b156a54f",
   "metadata": {},
   "outputs": [
    {
     "data": {
      "text/plain": [
       "array([1., 1., 1.])"
      ]
     },
     "execution_count": 74,
     "metadata": {},
     "output_type": "execute_result"
    }
   ],
   "source": [
    "b"
   ]
  },
  {
   "cell_type": "markdown",
   "id": "7f89a9f4",
   "metadata": {},
   "source": [
    "---\n",
    "Функция **loadtxt()** может быть использована для загрузки данных из файла в массив.  \n",
    "Функиця **save()** используется для сохранения массива в файл формата **.npy** .   \n",
    "**savetxt()** - для сохранения в текстовый файл."
   ]
  },
  {
   "cell_type": "code",
   "execution_count": 86,
   "id": "851919be",
   "metadata": {},
   "outputs": [],
   "source": [
    "x = np.array([\n",
    "    [ 1,  2,  3],\n",
    "    [-1, -2, -3],\n",
    "])\n",
    "\n",
    "np.savetxt('test.txt', x)"
   ]
  },
  {
   "cell_type": "code",
   "execution_count": 87,
   "id": "9e0f56b7",
   "metadata": {},
   "outputs": [
    {
     "data": {
      "text/plain": [
       "array([[ 1.,  2.,  3.],\n",
       "       [-1., -2., -3.]])"
      ]
     },
     "execution_count": 87,
     "metadata": {},
     "output_type": "execute_result"
    }
   ],
   "source": [
    "y = np.loadtxt('test.txt')\n",
    "\n",
    "y"
   ]
  },
  {
   "cell_type": "markdown",
   "id": "4ee28707",
   "metadata": {},
   "source": [
    "---\n",
    "## Создание последовательностей\n",
    "---\n",
    "\n",
    "Две полезные функции numpy для создания списка чисел, заполняющих диапазон:  \n",
    "**np.arange(start, stop, step)** Создает массив numpy с элементами в диапазоне значений от **start** до **stop**, с шагом **step**. Обязательным параметром является только **stop**. Отсутствие начала и шага создает равномерно распределенный диапазон от 0 до **stop**. По сути аналогичен функции **range**.\n",
    "\n",
    "**np.linspace(start, stop, numvalues)** Создает массив numpy со количеством значений **numvalues**, равномерно распределенными от **start** до **stop**."
   ]
  },
  {
   "cell_type": "code",
   "execution_count": 88,
   "id": "d7e22925",
   "metadata": {},
   "outputs": [],
   "source": [
    "import numpy as np"
   ]
  },
  {
   "cell_type": "code",
   "execution_count": 89,
   "id": "a854f3fd",
   "metadata": {},
   "outputs": [
    {
     "data": {
      "text/plain": [
       "array([0, 2, 4, 6, 8])"
      ]
     },
     "execution_count": 89,
     "metadata": {},
     "output_type": "execute_result"
    }
   ],
   "source": [
    "np.arange(0, 10, 2)"
   ]
  },
  {
   "cell_type": "code",
   "execution_count": 90,
   "id": "ca7cd4d1",
   "metadata": {},
   "outputs": [
    {
     "data": {
      "text/plain": [
       "array([0, 1, 2, 3, 4, 5])"
      ]
     },
     "execution_count": 90,
     "metadata": {},
     "output_type": "execute_result"
    }
   ],
   "source": [
    "np.arange(6)"
   ]
  },
  {
   "cell_type": "code",
   "execution_count": 91,
   "id": "68db7aeb",
   "metadata": {},
   "outputs": [
    {
     "data": {
      "text/plain": [
       "array([ 0.,  2.,  4.,  6.,  8., 10.])"
      ]
     },
     "execution_count": 91,
     "metadata": {},
     "output_type": "execute_result"
    }
   ],
   "source": [
    "np.linspace(0, 10, 6)"
   ]
  },
  {
   "cell_type": "code",
   "execution_count": 94,
   "id": "1e6f6fad",
   "metadata": {},
   "outputs": [
    {
     "data": {
      "text/plain": [
       "array([0. , 0.1, 0.2, 0.3, 0.4, 0.5, 0.6, 0.7, 0.8, 0.9, 1. ])"
      ]
     },
     "execution_count": 94,
     "metadata": {},
     "output_type": "execute_result"
    }
   ],
   "source": [
    "np.linspace(0, 1, 11)"
   ]
  },
  {
   "cell_type": "markdown",
   "id": "8a50474f",
   "metadata": {},
   "source": [
    "---\n",
    "## Изменение размера / формы массива\n",
    "---\n",
    "\n",
    "Массив numpy может быть изменен по форме и размеру.  \n",
    "Изменение формы с помощью **np.reshape** возвращает новый массив с измененной формой, а изменение размера с помощью **np.resize** изменяет исходный массив.  \n",
    "Третья функция **np.ravel** возвращает \"плоский\" массив, не меняя при этом исходный."
   ]
  },
  {
   "cell_type": "code",
   "execution_count": 1,
   "id": "13179153",
   "metadata": {},
   "outputs": [],
   "source": [
    "import numpy as np"
   ]
  },
  {
   "cell_type": "markdown",
   "id": "6ee88fe9",
   "metadata": {},
   "source": [
    "---"
   ]
  },
  {
   "cell_type": "code",
   "execution_count": 2,
   "id": "9965c129",
   "metadata": {},
   "outputs": [],
   "source": [
    "a = np.arange(10)"
   ]
  },
  {
   "cell_type": "code",
   "execution_count": 3,
   "id": "ff2f2831",
   "metadata": {},
   "outputs": [
    {
     "data": {
      "text/plain": [
       "array([0, 1, 2, 3, 4, 5, 6, 7, 8, 9])"
      ]
     },
     "execution_count": 3,
     "metadata": {},
     "output_type": "execute_result"
    }
   ],
   "source": [
    "a"
   ]
  },
  {
   "cell_type": "code",
   "execution_count": 12,
   "id": "b8cd931c",
   "metadata": {},
   "outputs": [
    {
     "data": {
      "text/plain": [
       "(2, 5)"
      ]
     },
     "execution_count": 12,
     "metadata": {},
     "output_type": "execute_result"
    }
   ],
   "source": [
    "a.shape"
   ]
  },
  {
   "cell_type": "code",
   "execution_count": 7,
   "id": "1dbbaabd",
   "metadata": {},
   "outputs": [
    {
     "data": {
      "text/plain": [
       "array([[0, 1, 2, 3, 4],\n",
       "       [5, 6, 7, 8, 9]])"
      ]
     },
     "execution_count": 7,
     "metadata": {},
     "output_type": "execute_result"
    }
   ],
   "source": [
    "a.resize(2, 5)\n",
    "\n",
    "a"
   ]
  },
  {
   "cell_type": "markdown",
   "id": "4b717898",
   "metadata": {},
   "source": [
    "---"
   ]
  },
  {
   "cell_type": "code",
   "execution_count": 58,
   "id": "61bcc344",
   "metadata": {},
   "outputs": [],
   "source": [
    "b = np.array([\n",
    "    [1, 2, 3],\n",
    "    [4, 5, 6],\n",
    "])"
   ]
  },
  {
   "cell_type": "code",
   "execution_count": 59,
   "id": "980b5704",
   "metadata": {},
   "outputs": [
    {
     "data": {
      "text/plain": [
       "(2, 3)"
      ]
     },
     "execution_count": 59,
     "metadata": {},
     "output_type": "execute_result"
    }
   ],
   "source": [
    "b.shape"
   ]
  },
  {
   "cell_type": "code",
   "execution_count": 60,
   "id": "2f8f600d",
   "metadata": {},
   "outputs": [
    {
     "data": {
      "text/plain": [
       "array([[1, 2],\n",
       "       [3, 4],\n",
       "       [5, 6]])"
      ]
     },
     "execution_count": 60,
     "metadata": {},
     "output_type": "execute_result"
    }
   ],
   "source": [
    "b.reshape(3, 2)"
   ]
  },
  {
   "cell_type": "code",
   "execution_count": 61,
   "id": "429ddf51",
   "metadata": {},
   "outputs": [
    {
     "data": {
      "text/plain": [
       "array([[1, 2, 3],\n",
       "       [4, 5, 6]])"
      ]
     },
     "execution_count": 61,
     "metadata": {},
     "output_type": "execute_result"
    }
   ],
   "source": [
    "b"
   ]
  },
  {
   "cell_type": "markdown",
   "id": "ca9c8922",
   "metadata": {},
   "source": [
    "---"
   ]
  },
  {
   "cell_type": "code",
   "execution_count": 62,
   "id": "3f9c0689",
   "metadata": {},
   "outputs": [
    {
     "data": {
      "text/plain": [
       "array([1, 2, 3, 4, 5, 6])"
      ]
     },
     "execution_count": 62,
     "metadata": {},
     "output_type": "execute_result"
    }
   ],
   "source": [
    "b.ravel()"
   ]
  },
  {
   "cell_type": "code",
   "execution_count": 63,
   "id": "673ad450",
   "metadata": {},
   "outputs": [
    {
     "data": {
      "text/plain": [
       "array([[1, 2, 3],\n",
       "       [4, 5, 6]])"
      ]
     },
     "execution_count": 63,
     "metadata": {},
     "output_type": "execute_result"
    }
   ],
   "source": [
    "b"
   ]
  },
  {
   "cell_type": "markdown",
   "id": "5c848ca3",
   "metadata": {},
   "source": [
    "---\n",
    "**np.transpose** возвращает транспонированную копию массива, не меняя оригинал"
   ]
  },
  {
   "cell_type": "code",
   "execution_count": 64,
   "id": "73e7a377",
   "metadata": {},
   "outputs": [
    {
     "data": {
      "text/plain": [
       "array([[1, 4],\n",
       "       [2, 5],\n",
       "       [3, 6]])"
      ]
     },
     "execution_count": 64,
     "metadata": {},
     "output_type": "execute_result"
    }
   ],
   "source": [
    "b.transpose()  # или b.T"
   ]
  },
  {
   "cell_type": "markdown",
   "id": "7038b551",
   "metadata": {},
   "source": [
    "---\n",
    "## Срезы\n",
    "---\n",
    "\n",
    "Срез может применяться к массивам numpy, как и к спискам Python, для извлечения подмножества массива.    \n",
    "\n",
    "Чтобы сделать срез, нужно указать **start:stop:step** подмножества в квадратных скобках.  \n",
    "Например, **[1: 5: 2]** возвращает элементы 1 и 3.      "
   ]
  },
  {
   "cell_type": "code",
   "execution_count": 22,
   "id": "6fee4cbe",
   "metadata": {},
   "outputs": [],
   "source": [
    "import numpy as np"
   ]
  },
  {
   "cell_type": "code",
   "execution_count": 23,
   "id": "2d0cb2f0",
   "metadata": {},
   "outputs": [],
   "source": [
    "x = np.arange(8)"
   ]
  },
  {
   "cell_type": "code",
   "execution_count": 24,
   "id": "2f923516",
   "metadata": {},
   "outputs": [
    {
     "data": {
      "text/plain": [
       "array([0, 1, 2, 3])"
      ]
     },
     "execution_count": 24,
     "metadata": {},
     "output_type": "execute_result"
    }
   ],
   "source": [
    "x[0:4]"
   ]
  },
  {
   "cell_type": "code",
   "execution_count": 25,
   "id": "d0672257",
   "metadata": {},
   "outputs": [
    {
     "data": {
      "text/plain": [
       "array([6, 7])"
      ]
     },
     "execution_count": 25,
     "metadata": {},
     "output_type": "execute_result"
    }
   ],
   "source": [
    "x[6:]"
   ]
  },
  {
   "cell_type": "code",
   "execution_count": 26,
   "id": "a2bb22fa",
   "metadata": {},
   "outputs": [
    {
     "data": {
      "text/plain": [
       "array([0, 1, 2, 3, 4])"
      ]
     },
     "execution_count": 26,
     "metadata": {},
     "output_type": "execute_result"
    }
   ],
   "source": [
    "x[:5]"
   ]
  },
  {
   "cell_type": "markdown",
   "id": "a8f76432",
   "metadata": {},
   "source": [
    "---\n",
    "Срез массива фактически ссылается на элементы массива, поэтому изменение значения в срезе изменяет значение в массиве."
   ]
  },
  {
   "cell_type": "code",
   "execution_count": 28,
   "id": "33cccd70",
   "metadata": {},
   "outputs": [
    {
     "data": {
      "text/plain": [
       "array([  0,   1,   2,   3,   4,   5,   6, 100])"
      ]
     },
     "execution_count": 28,
     "metadata": {},
     "output_type": "execute_result"
    }
   ],
   "source": [
    "z = x[6:]\n",
    "z[1] = 100\n",
    "\n",
    "x"
   ]
  },
  {
   "cell_type": "markdown",
   "id": "62d71868",
   "metadata": {},
   "source": [
    "---\n",
    "Для многомерного массива укажите элементы для каждого измерения, разделенные запятыми.  \n",
    "Например, **array[0: 2, 1]** возвращает второй элемент в первых двух строках.\n",
    "\n",
    "Многоточие **...** используется для обозначения выделения по всему измерению.  \n",
    "Например, **array[…, 2]** возвращает третий элемент каждой строки."
   ]
  },
  {
   "cell_type": "code",
   "execution_count": 29,
   "id": "9705254f",
   "metadata": {},
   "outputs": [],
   "source": [
    "a = np.array([\n",
    "    [10, 11, 12, 13],\n",
    "    [20, 22, 23, 25],\n",
    "])"
   ]
  },
  {
   "cell_type": "code",
   "execution_count": 37,
   "id": "28638b4e",
   "metadata": {},
   "outputs": [
    {
     "data": {
      "text/plain": [
       "array([11])"
      ]
     },
     "execution_count": 37,
     "metadata": {},
     "output_type": "execute_result"
    }
   ],
   "source": [
    "a[0:1, 1]"
   ]
  },
  {
   "cell_type": "code",
   "execution_count": 38,
   "id": "5455ee50",
   "metadata": {},
   "outputs": [
    {
     "data": {
      "text/plain": [
       "array([11, 22])"
      ]
     },
     "execution_count": 38,
     "metadata": {},
     "output_type": "execute_result"
    }
   ],
   "source": [
    "a[..., 1]"
   ]
  },
  {
   "cell_type": "code",
   "execution_count": 39,
   "id": "e00240bb",
   "metadata": {},
   "outputs": [
    {
     "data": {
      "text/plain": [
       "array([13, 25])"
      ]
     },
     "execution_count": 39,
     "metadata": {},
     "output_type": "execute_result"
    }
   ],
   "source": [
    "a[:, 3]"
   ]
  },
  {
   "cell_type": "markdown",
   "id": "db981415",
   "metadata": {},
   "source": [
    "---\n",
    "## Перебор элементов массива\n",
    "---\n",
    "\n",
    "Проводить итерацию массивов можно аналогично спискам:"
   ]
  },
  {
   "cell_type": "code",
   "execution_count": 113,
   "id": "ed9374b2",
   "metadata": {},
   "outputs": [
    {
     "name": "stdout",
     "output_type": "stream",
     "text": [
      "1\n",
      "4\n",
      "5\n"
     ]
    }
   ],
   "source": [
    "a = np.array([1, 4, 5])\n",
    "\n",
    "for x in a:\n",
    "    print(x)"
   ]
  },
  {
   "cell_type": "markdown",
   "id": "227457d8",
   "metadata": {},
   "source": [
    "---\n",
    "Для многомерных массивов итерация будет проводиться по первой оси, так, что каждый проход цикла будет возвращать «строку» массива:"
   ]
  },
  {
   "cell_type": "code",
   "execution_count": 114,
   "id": "6a908ee6",
   "metadata": {},
   "outputs": [
    {
     "name": "stdout",
     "output_type": "stream",
     "text": [
      "[1 2]\n",
      "[3 4]\n",
      "[5 6]\n"
     ]
    }
   ],
   "source": [
    "a = np.array([\n",
    "    [1, 2], \n",
    "    [3, 4], \n",
    "    [5, 6],\n",
    "])\n",
    "\n",
    "for x in a:\n",
    "    print(x)"
   ]
  },
  {
   "cell_type": "markdown",
   "id": "5da5ca24",
   "metadata": {},
   "source": [
    "---\n",
    "Множественное присваивание также доступно при итерации:"
   ]
  },
  {
   "cell_type": "code",
   "execution_count": 115,
   "id": "1070947c",
   "metadata": {},
   "outputs": [
    {
     "name": "stdout",
     "output_type": "stream",
     "text": [
      "2\n",
      "12\n",
      "30\n"
     ]
    }
   ],
   "source": [
    "a = np.array([\n",
    "    [1, 2], \n",
    "    [3, 4], \n",
    "    [5, 6],\n",
    "])\n",
    "\n",
    "for x, y in a:\n",
    "    print(x * y)"
   ]
  },
  {
   "cell_type": "markdown",
   "id": "60f21244",
   "metadata": {},
   "source": [
    "---\n",
    "## Арифметические операции\n",
    "---\n",
    "\n",
    "Арифметические операции могут применяться к двум массивам numpy.  \n",
    "Основные операции используют функции с тем же именем и включают в себя сложение, вычитание, умножение, деление, остаток (деление) и степень.  \n",
    "\n",
    "Арифметические операторы **+, -, <b>*</b>, /** и <b>**</b> также могут использоваться для выполнения операций с массивами.   "
   ]
  },
  {
   "cell_type": "code",
   "execution_count": 40,
   "id": "8cbbd8b8",
   "metadata": {},
   "outputs": [],
   "source": [
    "import numpy as np"
   ]
  },
  {
   "cell_type": "code",
   "execution_count": 41,
   "id": "e48576ea",
   "metadata": {},
   "outputs": [],
   "source": [
    "x = np.array([\n",
    "    [1, 2, 3, 4],\n",
    "    [5, 6, 7, 8],\n",
    "])\n",
    "\n",
    "y = np.array([\n",
    "    [ 9, 10, 11, 12],\n",
    "    [13, 14, 15, 16],\n",
    "])"
   ]
  },
  {
   "cell_type": "code",
   "execution_count": 70,
   "id": "9d3d0533",
   "metadata": {},
   "outputs": [
    {
     "data": {
      "text/plain": [
       "array([[11, 12, 13, 14],\n",
       "       [15, 16, 17, 18]])"
      ]
     },
     "execution_count": 70,
     "metadata": {},
     "output_type": "execute_result"
    }
   ],
   "source": [
    "x + 10"
   ]
  },
  {
   "cell_type": "code",
   "execution_count": 44,
   "id": "e7ef4f74",
   "metadata": {},
   "outputs": [
    {
     "data": {
      "text/plain": [
       "array([[10, 12, 14, 16],\n",
       "       [18, 20, 22, 24]])"
      ]
     },
     "execution_count": 44,
     "metadata": {},
     "output_type": "execute_result"
    }
   ],
   "source": [
    "np.add(x, y)   # или x + y"
   ]
  },
  {
   "cell_type": "code",
   "execution_count": 49,
   "id": "e09b3ff7",
   "metadata": {},
   "outputs": [
    {
     "data": {
      "text/plain": [
       "array([[0, 0, 2, 0],\n",
       "       [3, 2, 1, 0]], dtype=int32)"
      ]
     },
     "execution_count": 49,
     "metadata": {},
     "output_type": "execute_result"
    }
   ],
   "source": [
    "np.remainder(y, x)    # или y % x"
   ]
  },
  {
   "cell_type": "code",
   "execution_count": 50,
   "id": "b7fffded",
   "metadata": {},
   "outputs": [
    {
     "data": {
      "text/plain": [
       "array([[ 1,  4,  9, 16],\n",
       "       [25, 36, 49, 64]], dtype=int32)"
      ]
     },
     "execution_count": 50,
     "metadata": {},
     "output_type": "execute_result"
    }
   ],
   "source": [
    "x ** 2"
   ]
  },
  {
   "cell_type": "code",
   "execution_count": 51,
   "id": "1b771f8a",
   "metadata": {},
   "outputs": [
    {
     "data": {
      "text/plain": [
       "array([[8, 8, 8, 8],\n",
       "       [8, 8, 8, 8]])"
      ]
     },
     "execution_count": 51,
     "metadata": {},
     "output_type": "execute_result"
    }
   ],
   "source": [
    "y - x"
   ]
  },
  {
   "cell_type": "code",
   "execution_count": 53,
   "id": "d16eefad",
   "metadata": {},
   "outputs": [
    {
     "data": {
      "text/plain": [
       "array([[  9,  20,  33,  48],\n",
       "       [ 65,  84, 105, 128]])"
      ]
     },
     "execution_count": 53,
     "metadata": {},
     "output_type": "execute_result"
    }
   ],
   "source": [
    "x * y   # поэлементное умножение"
   ]
  },
  {
   "cell_type": "markdown",
   "id": "638701f4",
   "metadata": {},
   "source": [
    "---\n",
    "## Операции сравнения\n",
    "---\n",
    "\n",
    "Логические сравнения выполняются с использованием <, == и > .  \n",
    "Например, print(x < y). Логическое сравнение возвращает массив логических значений (True или False).  "
   ]
  },
  {
   "cell_type": "code",
   "execution_count": 71,
   "id": "235624a6",
   "metadata": {},
   "outputs": [],
   "source": [
    "import numpy as np"
   ]
  },
  {
   "cell_type": "code",
   "execution_count": 75,
   "id": "5de01558",
   "metadata": {},
   "outputs": [],
   "source": [
    "x = np.array([\n",
    "    [ 1,  2, 93,  4],\n",
    "    [15, 10,  1, 28],\n",
    "])\n",
    "\n",
    "y = np.array([\n",
    "    [ 9, 10, 11, 12],\n",
    "    [15, 14, 15, 16],\n",
    "])"
   ]
  },
  {
   "cell_type": "code",
   "execution_count": 76,
   "id": "dff3a35c",
   "metadata": {},
   "outputs": [
    {
     "data": {
      "text/plain": [
       "array([[ True,  True, False,  True],\n",
       "       [False,  True,  True, False]])"
      ]
     },
     "execution_count": 76,
     "metadata": {},
     "output_type": "execute_result"
    }
   ],
   "source": [
    "x < y"
   ]
  },
  {
   "cell_type": "code",
   "execution_count": 77,
   "id": "6485ca2f",
   "metadata": {},
   "outputs": [
    {
     "data": {
      "text/plain": [
       "array([[False, False,  True, False],\n",
       "       [ True,  True, False,  True]])"
      ]
     },
     "execution_count": 77,
     "metadata": {},
     "output_type": "execute_result"
    }
   ],
   "source": [
    "x > 4"
   ]
  },
  {
   "cell_type": "code",
   "execution_count": 78,
   "id": "8602a281",
   "metadata": {},
   "outputs": [
    {
     "data": {
      "text/plain": [
       "array([[False, False, False, False],\n",
       "       [ True, False, False, False]])"
      ]
     },
     "execution_count": 78,
     "metadata": {},
     "output_type": "execute_result"
    }
   ],
   "source": [
    "x == y"
   ]
  },
  {
   "cell_type": "markdown",
   "id": "0e600092",
   "metadata": {},
   "source": [
    "---\n",
    "## Поэлементные функции\n",
    "---\n",
    "\n",
    "Некоторые математические функции работают с каждым элементом одного массива numpy.  \n",
    "Например, вы можете вычислить экспоненту и квадратный корней для элементов в массиве, используя **np.exp()** и **np.sqrt()**."
   ]
  },
  {
   "cell_type": "code",
   "execution_count": 80,
   "id": "6c207530",
   "metadata": {},
   "outputs": [],
   "source": [
    "import numpy as np"
   ]
  },
  {
   "cell_type": "code",
   "execution_count": 81,
   "id": "1638d538",
   "metadata": {},
   "outputs": [],
   "source": [
    "x = np.array([\n",
    "    [1, 2],\n",
    "    [3, 4],\n",
    "])"
   ]
  },
  {
   "cell_type": "code",
   "execution_count": 82,
   "id": "14ae5409",
   "metadata": {},
   "outputs": [
    {
     "data": {
      "text/plain": [
       "array([[ 2.71828183,  7.3890561 ],\n",
       "       [20.08553692, 54.59815003]])"
      ]
     },
     "execution_count": 82,
     "metadata": {},
     "output_type": "execute_result"
    }
   ],
   "source": [
    "np.exp(x)"
   ]
  },
  {
   "cell_type": "code",
   "execution_count": 85,
   "id": "c1d3c248",
   "metadata": {},
   "outputs": [
    {
     "data": {
      "text/plain": [
       "array([[1.        , 1.41421356],\n",
       "       [1.73205081, 2.        ]])"
      ]
     },
     "execution_count": 85,
     "metadata": {},
     "output_type": "execute_result"
    }
   ],
   "source": [
    "np.sqrt(x)"
   ]
  },
  {
   "cell_type": "markdown",
   "id": "59ac508f",
   "metadata": {},
   "source": [
    "---\n",
    "Другие часто используемые поэлементные функции numpy:  \n",
    "**np.around()** возвращает массив, округленный до необязательно указанного числа десятичных знаков.  \n",
    "**np.trunc()** возвращает массив с усеченными элементами.  \n",
    "**np.floor()** возвращает наибольшее целое число, меньшее или равное значению.  \n",
    "**np.ceil()** возвращает наименьшее целое число, большее или равное значению.  \n",
    "**np.log()** возвращает натуральный логарифм для каждого элемента.  \n",
    "\n",
    ">Библиотека numpy также включает множество тригонометрических, гиперболических и других специальных функций, которые работают поэлементно.  \n",
    "Полный список поддерживаемых функций можно найти на официальном сайте документации: https://numpy.org/doc/stable/reference/routines.math.html#mathematical-functions\n",
    "\n",
    "---"
   ]
  },
  {
   "cell_type": "markdown",
   "id": "05960237",
   "metadata": {},
   "source": [
    "## Функции массивов\n",
    "---\n",
    "\n",
    "Некоторые функции NumPy, которые работают с массивом:  \n",
    "**np.sum()** возвращает сумму всех элементов.  \n",
    "**np.prod()** возвращает произведение всех элементов.   \n",
    "**np.min(), np.max()** возвращает минимальное и максимальное значение в массиве соответственно.   \n",
    "**np.argmin() и np.argmax()** возвращают индекс минимального или максимального элемента.\n",
    "**np.cumsum()** возвращает совокупную сумму элементов.  \n",
    "**np.mean(), np.median()** возвращает среднее и медианное значение для массива соответственно.  \n",
    "\n",
    "Все упомянутые выше функции имеют необязательный параметр **axis = 1** для значения в каждой строке, **axis = 0** для столбцов.\n",
    "\n",
    "**np.corrcoef()** возвращает коэффициент корреляции для массива.  \n",
    "**np.std()** возвращает стандартное отклонение для массива.  "
   ]
  },
  {
   "cell_type": "code",
   "execution_count": 86,
   "id": "749ef2f5",
   "metadata": {},
   "outputs": [],
   "source": [
    "import numpy as np"
   ]
  },
  {
   "cell_type": "code",
   "execution_count": 89,
   "id": "2c42a964",
   "metadata": {},
   "outputs": [],
   "source": [
    "x = np.array([\n",
    "    [1, 2, 3, 4],\n",
    "    [5, 6, 7, 8],\n",
    "])\n",
    "\n",
    "y = np.array([\n",
    "    [ 9, 10, 11, 12],\n",
    "    [13, 14, 15, 16],\n",
    "])"
   ]
  },
  {
   "cell_type": "code",
   "execution_count": 90,
   "id": "b6a2012f",
   "metadata": {},
   "outputs": [
    {
     "data": {
      "text/plain": [
       "array([ 6,  8, 10, 12])"
      ]
     },
     "execution_count": 90,
     "metadata": {},
     "output_type": "execute_result"
    }
   ],
   "source": [
    "x.sum(axis=0)"
   ]
  },
  {
   "cell_type": "code",
   "execution_count": 91,
   "id": "2687107c",
   "metadata": {},
   "outputs": [
    {
     "data": {
      "text/plain": [
       "36"
      ]
     },
     "execution_count": 91,
     "metadata": {},
     "output_type": "execute_result"
    }
   ],
   "source": [
    "x.sum()"
   ]
  },
  {
   "cell_type": "code",
   "execution_count": 92,
   "id": "58b076a0",
   "metadata": {},
   "outputs": [
    {
     "data": {
      "text/plain": [
       "array([10, 26])"
      ]
     },
     "execution_count": 92,
     "metadata": {},
     "output_type": "execute_result"
    }
   ],
   "source": [
    "x.sum(axis=1)"
   ]
  },
  {
   "cell_type": "code",
   "execution_count": 93,
   "id": "d7c8e0b3",
   "metadata": {},
   "outputs": [
    {
     "data": {
      "text/plain": [
       "array([4, 8])"
      ]
     },
     "execution_count": 93,
     "metadata": {},
     "output_type": "execute_result"
    }
   ],
   "source": [
    "x.max(axis=1)"
   ]
  },
  {
   "cell_type": "code",
   "execution_count": 94,
   "id": "20db60e2",
   "metadata": {},
   "outputs": [
    {
     "data": {
      "text/plain": [
       "array([  9,  19,  30,  42,  55,  69,  84, 100], dtype=int32)"
      ]
     },
     "execution_count": 94,
     "metadata": {},
     "output_type": "execute_result"
    }
   ],
   "source": [
    "np.cumsum(y)"
   ]
  },
  {
   "cell_type": "code",
   "execution_count": 95,
   "id": "d3e7d414",
   "metadata": {},
   "outputs": [
    {
     "data": {
      "text/plain": [
       "array([[1., 1.],\n",
       "       [1., 1.]])"
      ]
     },
     "execution_count": 95,
     "metadata": {},
     "output_type": "execute_result"
    }
   ],
   "source": [
    "np.corrcoef(y)"
   ]
  },
  {
   "cell_type": "code",
   "execution_count": 96,
   "id": "218aec2c",
   "metadata": {},
   "outputs": [
    {
     "data": {
      "text/plain": [
       "2.29128784747792"
      ]
     },
     "execution_count": 96,
     "metadata": {},
     "output_type": "execute_result"
    }
   ],
   "source": [
    "y.std()"
   ]
  },
  {
   "cell_type": "markdown",
   "id": "af7e681f",
   "metadata": {},
   "source": [
    "---\n",
    "## Broadcasting \n",
    "---\n",
    "\n",
    "Когда выполняются арифметические операции с массивами разного размера, выполняется операция, называемая **бродкастинг**, для расширения меньшего массива для соответствия большему массиву.  \n",
    "Бродкастинг, чтобы массивы имели одинаковые размеры или чтобы соответствующий размер был равен 1, чтобы их можно было растянуть. Кроме того, размеры, которые не совпадают, не могут быть растянуты, если один из них не равен 1."
   ]
  },
  {
   "cell_type": "code",
   "execution_count": 97,
   "id": "3d0458f9",
   "metadata": {},
   "outputs": [],
   "source": [
    "import numpy as np"
   ]
  },
  {
   "cell_type": "code",
   "execution_count": 102,
   "id": "54ca1dc1",
   "metadata": {},
   "outputs": [],
   "source": [
    "one_d = np.array([[10]])\n",
    "\n",
    "two_d = np.array([\n",
    "    [1, 2, 3, 4],\n",
    "    [5, 6, 7, 8],\n",
    "])\n",
    "\n",
    "three_d = np.ones((3, 2))"
   ]
  },
  {
   "cell_type": "code",
   "execution_count": 103,
   "id": "f09c9c78",
   "metadata": {},
   "outputs": [
    {
     "data": {
      "text/plain": [
       "array([[11, 12, 13, 14],\n",
       "       [15, 16, 17, 18]])"
      ]
     },
     "execution_count": 103,
     "metadata": {},
     "output_type": "execute_result"
    }
   ],
   "source": [
    "two_d + one_d"
   ]
  },
  {
   "cell_type": "code",
   "execution_count": 104,
   "id": "8ef80260",
   "metadata": {},
   "outputs": [
    {
     "data": {
      "text/plain": [
       "array([[11., 11.],\n",
       "       [11., 11.],\n",
       "       [11., 11.]])"
      ]
     },
     "execution_count": 104,
     "metadata": {},
     "output_type": "execute_result"
    }
   ],
   "source": [
    "one_d + three_d"
   ]
  },
  {
   "cell_type": "code",
   "execution_count": 105,
   "id": "023b4569",
   "metadata": {},
   "outputs": [
    {
     "ename": "ValueError",
     "evalue": "operands could not be broadcast together with shapes (2,4) (3,2) ",
     "output_type": "error",
     "traceback": [
      "\u001b[1;31m---------------------------------------------------------------------------\u001b[0m",
      "\u001b[1;31mValueError\u001b[0m                                Traceback (most recent call last)",
      "\u001b[1;32m<ipython-input-105-0fa9006a755b>\u001b[0m in \u001b[0;36m<module>\u001b[1;34m\u001b[0m\n\u001b[0;32m      1\u001b[0m \u001b[1;31m# ValueError\u001b[0m\u001b[1;33m\u001b[0m\u001b[1;33m\u001b[0m\u001b[1;33m\u001b[0m\u001b[0m\n\u001b[1;32m----> 2\u001b[1;33m \u001b[0mtwo_d\u001b[0m \u001b[1;33m+\u001b[0m \u001b[0mthree_d\u001b[0m\u001b[1;33m\u001b[0m\u001b[1;33m\u001b[0m\u001b[0m\n\u001b[0m",
      "\u001b[1;31mValueError\u001b[0m: operands could not be broadcast together with shapes (2,4) (3,2) "
     ]
    }
   ],
   "source": [
    "# ValueError\n",
    "two_d + three_d"
   ]
  },
  {
   "cell_type": "markdown",
   "id": "203c9c42",
   "metadata": {},
   "source": [
    ">Больше про бродкастинг в numpy: https://numpy.org/doc/stable/user/basics.broadcasting.html#broadcasting\n",
    "\n",
    "---"
   ]
  },
  {
   "cell_type": "markdown",
   "id": "0e2c7077",
   "metadata": {},
   "source": [
    "## Матричные операции\n",
    "---\n",
    "\n",
    "NumPy обеспечивает много функций для работы с векторами и матрицами. Функция **np.dot()** возвращает скалярное произведение векторов:"
   ]
  },
  {
   "cell_type": "code",
   "execution_count": 117,
   "id": "5bdbb72a",
   "metadata": {},
   "outputs": [],
   "source": [
    "import numpy as np"
   ]
  },
  {
   "cell_type": "code",
   "execution_count": 118,
   "id": "a42d748e",
   "metadata": {
    "scrolled": true
   },
   "outputs": [
    {
     "data": {
      "text/plain": [
       "5.0"
      ]
     },
     "execution_count": 118,
     "metadata": {},
     "output_type": "execute_result"
    }
   ],
   "source": [
    "a = np.array([1, 2, 3], float)\n",
    "b = np.array([0, 1, 1], float)\n",
    "\n",
    "np.dot(a, b)"
   ]
  },
  {
   "cell_type": "markdown",
   "id": "d4d61823",
   "metadata": {},
   "source": [
    "---\n",
    "Функция dot также может умножать матрицы:"
   ]
  },
  {
   "cell_type": "code",
   "execution_count": 120,
   "id": "4e5db08b",
   "metadata": {},
   "outputs": [
    {
     "data": {
      "text/plain": [
       "array([[110, 150],\n",
       "       [278, 382]])"
      ]
     },
     "execution_count": 120,
     "metadata": {},
     "output_type": "execute_result"
    }
   ],
   "source": [
    "x = np.array([\n",
    "    [1, 2, 3, 4],\n",
    "    [5, 6, 7, 8],\n",
    "])\n",
    "\n",
    "y = np.array([\n",
    "    [ 9, 10, 11, 12],\n",
    "    [13, 14, 15, 16],\n",
    "])\n",
    "\n",
    "x.dot(y.T)"
   ]
  },
  {
   "cell_type": "markdown",
   "id": "eafda5a1",
   "metadata": {},
   "source": [
    "---\n",
    "Оператор **@** делает то же самое, что и **np.dot**"
   ]
  },
  {
   "cell_type": "code",
   "execution_count": 119,
   "id": "82394515",
   "metadata": {},
   "outputs": [
    {
     "data": {
      "text/plain": [
       "5.0"
      ]
     },
     "execution_count": 119,
     "metadata": {},
     "output_type": "execute_result"
    }
   ],
   "source": [
    "a @ b"
   ]
  },
  {
   "cell_type": "code",
   "execution_count": 121,
   "id": "2f685546",
   "metadata": {},
   "outputs": [
    {
     "data": {
      "text/plain": [
       "array([[110, 150],\n",
       "       [278, 382]])"
      ]
     },
     "execution_count": 121,
     "metadata": {},
     "output_type": "execute_result"
    }
   ],
   "source": [
    "x @ y.T"
   ]
  },
  {
   "cell_type": "markdown",
   "id": "868cea4d",
   "metadata": {},
   "source": [
    "---\n",
    "Также можно получить скалярное, тензорное и внешнее произведение матриц и векторов."
   ]
  },
  {
   "cell_type": "code",
   "execution_count": 123,
   "id": "ea2c3b92",
   "metadata": {},
   "outputs": [],
   "source": [
    "a = np.array([1, 4, 0])\n",
    "b = np.array([2, 2, 1])"
   ]
  },
  {
   "cell_type": "code",
   "execution_count": 124,
   "id": "c3e2fc9c",
   "metadata": {},
   "outputs": [
    {
     "data": {
      "text/plain": [
       "array([[2, 2, 1],\n",
       "       [8, 8, 4],\n",
       "       [0, 0, 0]])"
      ]
     },
     "execution_count": 124,
     "metadata": {},
     "output_type": "execute_result"
    }
   ],
   "source": [
    "np.outer(a, b)"
   ]
  },
  {
   "cell_type": "code",
   "execution_count": 125,
   "id": "e5bf3550",
   "metadata": {},
   "outputs": [
    {
     "data": {
      "text/plain": [
       "10"
      ]
     },
     "execution_count": 125,
     "metadata": {},
     "output_type": "execute_result"
    }
   ],
   "source": [
    "np.inner(a, b)"
   ]
  },
  {
   "cell_type": "code",
   "execution_count": 126,
   "id": "058955c0",
   "metadata": {},
   "outputs": [
    {
     "data": {
      "text/plain": [
       "array([ 4, -1, -6])"
      ]
     },
     "execution_count": 126,
     "metadata": {},
     "output_type": "execute_result"
    }
   ],
   "source": [
    "np.cross(a, b)"
   ]
  },
  {
   "cell_type": "markdown",
   "id": "019061f0",
   "metadata": {},
   "source": [
    ">Для векторов внутреннее и скалярное произведение совпадает.\n",
    "\n",
    "---"
   ]
  },
  {
   "cell_type": "markdown",
   "id": "c3908e6e",
   "metadata": {},
   "source": [
    "NumPy также предоставляет набор встроенных функций и методов для работы с линейной алгеброй. Это всё можно найти в под-модуле **linalg**. Этими модулями также можно оперировать с вырожденными и невырожденными матрицами.  \n",
    "Определитель матрицы:"
   ]
  },
  {
   "cell_type": "code",
   "execution_count": 144,
   "id": "0026dbfc",
   "metadata": {},
   "outputs": [],
   "source": [
    "x = np.array([\n",
    "    [1, 2],\n",
    "    [3, 4],\n",
    "])"
   ]
  },
  {
   "cell_type": "code",
   "execution_count": 145,
   "id": "c712d970",
   "metadata": {},
   "outputs": [
    {
     "data": {
      "text/plain": [
       "-2.0000000000000004"
      ]
     },
     "execution_count": 145,
     "metadata": {},
     "output_type": "execute_result"
    }
   ],
   "source": [
    "np.linalg.det(x)"
   ]
  },
  {
   "cell_type": "markdown",
   "id": "09d35343",
   "metadata": {},
   "source": [
    "---\n",
    "Также можно найти собственный вектор и собственное значение матрицы:"
   ]
  },
  {
   "cell_type": "code",
   "execution_count": 148,
   "id": "25e5d212",
   "metadata": {},
   "outputs": [],
   "source": [
    "vals, vecs = np.linalg.eig(x)"
   ]
  },
  {
   "cell_type": "code",
   "execution_count": 149,
   "id": "27aaa9d7",
   "metadata": {},
   "outputs": [
    {
     "data": {
      "text/plain": [
       "array([-0.37228132,  5.37228132])"
      ]
     },
     "execution_count": 149,
     "metadata": {},
     "output_type": "execute_result"
    }
   ],
   "source": [
    "vals"
   ]
  },
  {
   "cell_type": "code",
   "execution_count": 150,
   "id": "d3c2942f",
   "metadata": {},
   "outputs": [
    {
     "data": {
      "text/plain": [
       "array([[-0.82456484, -0.41597356],\n",
       "       [ 0.56576746, -0.90937671]])"
      ]
     },
     "execution_count": 150,
     "metadata": {},
     "output_type": "execute_result"
    }
   ],
   "source": [
    "vecs"
   ]
  },
  {
   "cell_type": "markdown",
   "id": "36e96652",
   "metadata": {},
   "source": [
    "---\n",
    "Нахождение обратной матрицы:"
   ]
  },
  {
   "cell_type": "code",
   "execution_count": 151,
   "id": "f1ca02f2",
   "metadata": {},
   "outputs": [],
   "source": [
    "y = np.linalg.inv(x)"
   ]
  },
  {
   "cell_type": "code",
   "execution_count": 152,
   "id": "4763f70c",
   "metadata": {},
   "outputs": [
    {
     "data": {
      "text/plain": [
       "array([[1.00000000e+00, 1.11022302e-16],\n",
       "       [0.00000000e+00, 1.00000000e+00]])"
      ]
     },
     "execution_count": 152,
     "metadata": {},
     "output_type": "execute_result"
    }
   ],
   "source": [
    "x @ y"
   ]
  },
  {
   "cell_type": "markdown",
   "id": "b55053c5",
   "metadata": {},
   "source": [
    "---\n",
    "Одиночное разложение (аналог диагонализации не квадратной матрицы):"
   ]
  },
  {
   "cell_type": "code",
   "execution_count": 153,
   "id": "81f1a12e",
   "metadata": {},
   "outputs": [],
   "source": [
    "x = np.array([\n",
    "    [1, 2, 3, 4],\n",
    "    [5, 6, 7, 8],\n",
    "])"
   ]
  },
  {
   "cell_type": "code",
   "execution_count": 154,
   "id": "02d90bf2",
   "metadata": {},
   "outputs": [],
   "source": [
    "U, s, Vh = np.linalg.svd(x)"
   ]
  },
  {
   "cell_type": "code",
   "execution_count": 155,
   "id": "7f5cf1e5",
   "metadata": {},
   "outputs": [
    {
     "data": {
      "text/plain": [
       "array([[-0.37616823,  0.92655138],\n",
       "       [-0.92655138, -0.37616823]])"
      ]
     },
     "execution_count": 155,
     "metadata": {},
     "output_type": "execute_result"
    }
   ],
   "source": [
    "U"
   ]
  },
  {
   "cell_type": "code",
   "execution_count": 156,
   "id": "de855a15",
   "metadata": {},
   "outputs": [
    {
     "data": {
      "text/plain": [
       "array([14.22740741,  1.25732984])"
      ]
     },
     "execution_count": 156,
     "metadata": {},
     "output_type": "execute_result"
    }
   ],
   "source": [
    "s"
   ]
  },
  {
   "cell_type": "code",
   "execution_count": 157,
   "id": "62e72566",
   "metadata": {},
   "outputs": [
    {
     "data": {
      "text/plain": [
       "array([[-0.35206169, -0.44362578, -0.53518987, -0.62675396],\n",
       "       [-0.75898127, -0.3212416 ,  0.11649807,  0.55423774],\n",
       "       [-0.40008743,  0.25463292,  0.69099646, -0.54554195],\n",
       "       [-0.37407225,  0.79697056, -0.47172438,  0.04882607]])"
      ]
     },
     "execution_count": 157,
     "metadata": {},
     "output_type": "execute_result"
    }
   ],
   "source": [
    "Vh"
   ]
  },
  {
   "cell_type": "markdown",
   "id": "48a9e16d",
   "metadata": {},
   "source": [
    "---\n",
    "## Математика многочленов\n",
    "---\n",
    "\n",
    "NumPy предоставляет методы для работы с полиномами. Передавая список корней, можно получить коэффициенты уравнения:"
   ]
  },
  {
   "cell_type": "code",
   "execution_count": 158,
   "id": "b81eed7b",
   "metadata": {},
   "outputs": [
    {
     "data": {
      "text/plain": [
       "array([  1., -11.,   9.,  11., -10.])"
      ]
     },
     "execution_count": 158,
     "metadata": {},
     "output_type": "execute_result"
    }
   ],
   "source": [
    "np.poly([-1, 1, 1, 10])"
   ]
  },
  {
   "cell_type": "markdown",
   "id": "a731e2a0",
   "metadata": {},
   "source": [
    ">Здесь, массив возвращает коэффициенты соответствующие уравнению: $x^4 - 11x^3 + 9x^2 + 11x - 10$.\n",
    "\n",
    "---"
   ]
  },
  {
   "cell_type": "markdown",
   "id": "bab899be",
   "metadata": {},
   "source": [
    "Может быть произведена и обратная операция: передавая список коэффициентов, функция **root** вернет все корни многочлена:"
   ]
  },
  {
   "cell_type": "code",
   "execution_count": 160,
   "id": "2f42738a",
   "metadata": {},
   "outputs": [
    {
     "data": {
      "text/plain": [
       "array([-4.5797401 +0.j        ,  0.28987005+0.75566815j,\n",
       "        0.28987005-0.75566815j])"
      ]
     },
     "execution_count": 160,
     "metadata": {},
     "output_type": "execute_result"
    }
   ],
   "source": [
    "np.roots([1, 4, -2, 3])"
   ]
  },
  {
   "cell_type": "markdown",
   "id": "8fedac89",
   "metadata": {},
   "source": [
    "---\n",
    "Коэффициенты многочлена могут быть интегрированы. Рассмотрим интегрирование $x^3 + x^2 + x + 1$ в $x^4/4 + x^3/3 + x^2/2 + x + C$. Обычно константа C равна нулю:"
   ]
  },
  {
   "cell_type": "code",
   "execution_count": 161,
   "id": "b9ebd4f6",
   "metadata": {},
   "outputs": [
    {
     "data": {
      "text/plain": [
       "array([0.25      , 0.33333333, 0.5       , 1.        , 0.        ])"
      ]
     },
     "execution_count": 161,
     "metadata": {},
     "output_type": "execute_result"
    }
   ],
   "source": [
    "np.polyint([1, 1, 1, 1])"
   ]
  },
  {
   "cell_type": "markdown",
   "id": "a74e791f",
   "metadata": {},
   "source": [
    "---\n",
    "Аналогично, могут быть взяты производные:"
   ]
  },
  {
   "cell_type": "code",
   "execution_count": 162,
   "id": "41ccc4d9",
   "metadata": {},
   "outputs": [
    {
     "data": {
      "text/plain": [
       "array([1., 1., 1., 1.])"
      ]
     },
     "execution_count": 162,
     "metadata": {},
     "output_type": "execute_result"
    }
   ],
   "source": [
    "np.polyder([1./4., 1./3., 1./2., 1., 0.])"
   ]
  },
  {
   "cell_type": "markdown",
   "id": "ce962f62",
   "metadata": {},
   "source": [
    "---\n",
    "Функции **polyadd, polysub, polymul и polydiv** также поддерживают суммирование, вычитание, умножение и деление коэффициентов многочлена, соответственно.  \n",
    "Функция **polyval** подставляет в многочлен заданное значение. Рассмотрим многочлен $ x^3 - 2x^2 + 2$ при $x = 4$:"
   ]
  },
  {
   "cell_type": "code",
   "execution_count": 163,
   "id": "5a4ec48f",
   "metadata": {},
   "outputs": [
    {
     "data": {
      "text/plain": [
       "34"
      ]
     },
     "execution_count": 163,
     "metadata": {},
     "output_type": "execute_result"
    }
   ],
   "source": [
    "np.polyval([1, -2, 0, 2], 4)"
   ]
  },
  {
   "cell_type": "markdown",
   "id": "414ff543",
   "metadata": {},
   "source": [
    "---\n",
    "Функция **polyfit** может быть использована для аппроксимации набора значений многочленом заданного порядка по МНК.  \n",
    "Возвращаемый массив это список коэффициентов многочлена."
   ]
  },
  {
   "cell_type": "code",
   "execution_count": 165,
   "id": "01321099",
   "metadata": {},
   "outputs": [
    {
     "data": {
      "text/plain": [
       "array([ 0.375     , -0.88690476,  1.05357143])"
      ]
     },
     "execution_count": 165,
     "metadata": {},
     "output_type": "execute_result"
    }
   ],
   "source": [
    "x = [1, 2, 3, 4, 5, 6, 7, 8]\n",
    "y = [0, 2, 1, 3, 7, 10, 11, 19]\n",
    "\n",
    "np.polyfit(x, y, 2)"
   ]
  },
  {
   "cell_type": "markdown",
   "id": "a2f2de46",
   "metadata": {},
   "source": [
    "---\n",
    "## Дополнительно\n",
    "---\n",
    "\n",
    "NumPy включает еще много других функций о которых мы не упоминали здесь. В частности это функции для работы с дискретным преобразованием Фурье, более сложными операциями в линейной алгебре, тестированием массивов на размер / размерность / тип, разделением и соединением массивов, гистограммами, создания массивов из каких-либо данных разными путями, созданием и оперированием grid-массивов, специальными значениями (NaN, Inf), set-операции, созданием разных видов специальных матриц и вычислением специальных математических функций (Например: функции Бесселя). Также вы можете посмотреть документацию NumPy для более точных деталей. \n",
    "\n",
    "https://docs.scipy.org/doc/  \n",
    "https://numpy.org/doc/stable/index.html\n"
   ]
  },
  {
   "cell_type": "markdown",
   "id": "05b4001c",
   "metadata": {},
   "source": [
    "---\n",
    "### SciPy\n",
    "---\n",
    "\n",
    "SciPy очень хорошо расширяет функционал NumPy.   \n",
    "Функции в каждом модуле хорошо задокументированы во внутренних docstring'ах и в официальной документации. Большинство из них непосредственно предоставляет функции для работы с числовыми алгоритмами и они очень просты в использовании. Таким образом, SciPy может сохранять гигантское количество времени в научных вычислениях, т.к. он обеспечивает уже написанные и тестированные функции.\n",
    "Мы не будем рассматривать SciPy детально, но таблица ниже покроет некоторые его возможности:\n",
    "\n",
    "![](https://raw.githubusercontent.com/letimofeev/python_course/main/numpy/images/scipy.png)"
   ]
  }
 ],
 "metadata": {
  "kernelspec": {
   "display_name": "Python 3",
   "language": "python",
   "name": "python3"
  },
  "language_info": {
   "codemirror_mode": {
    "name": "ipython",
    "version": 3
   },
   "file_extension": ".py",
   "mimetype": "text/x-python",
   "name": "python",
   "nbconvert_exporter": "python",
   "pygments_lexer": "ipython3",
   "version": "3.8.8"
  }
 },
 "nbformat": 4,
 "nbformat_minor": 5
}
